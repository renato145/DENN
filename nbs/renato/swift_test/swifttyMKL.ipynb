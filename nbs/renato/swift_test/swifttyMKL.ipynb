{
 "cells": [
  {
   "cell_type": "code",
   "execution_count": 1,
   "metadata": {},
   "outputs": [],
   "source": [
    "import Python\n",
    "import Dispatch\n",
    "let pd = Python.import(\"pandas\")\n",
    "let np = Python.import(\"numpy\")"
   ]
  },
  {
   "cell_type": "markdown",
   "metadata": {},
   "source": [
    "# Library"
   ]
  },
  {
   "cell_type": "markdown",
   "metadata": {},
   "source": [
    "## Utils"
   ]
  },
  {
   "cell_type": "code",
   "execution_count": 2,
   "metadata": {},
   "outputs": [],
   "source": [
    "extension String {\n",
    "    func strip() -> Substring {\n",
    "        return self.drop{$0==\" \"}\n",
    "    }\n",
    "}\n",
    "\n",
    "// Time how long it takes to run the specified function, optionally taking\n",
    "// the average across a number of repetitions.\n",
    "public func time(repeating: Int = 1, _ function: () -> ()) {\n",
    "    guard repeating > 0 else { return }\n",
    "    \n",
    "    // Warmup\n",
    "    if repeating>1 {function()}\n",
    "    \n",
    "    var times = [Double]()\n",
    "    for _ in 1...repeating {\n",
    "        let start = DispatchTime.now()\n",
    "        function()\n",
    "        let end = DispatchTime.now()\n",
    "        let nanoseconds = Double(end.uptimeNanoseconds - start.uptimeNanoseconds)\n",
    "        let milliseconds = nanoseconds / 1e6\n",
    "        times.append(milliseconds)\n",
    "    }\n",
    "    print(\"average: \\(times.reduce(0.0, +)/Double(times.count)) ms,   \" +\n",
    "          \"min: \\(times.reduce(times[0], min)) ms,   \" +\n",
    "          \"max: \\(times.reduce(times[0], max)) ms\")\n",
    "}\n"
   ]
  },
  {
   "cell_type": "markdown",
   "metadata": {},
   "source": [
    "## Common types"
   ]
  },
  {
   "cell_type": "code",
   "execution_count": null,
   "metadata": {},
   "outputs": [],
   "source": []
  },
  {
   "cell_type": "markdown",
   "metadata": {},
   "source": [
    "## DataStorage"
   ]
  },
  {
   "cell_type": "code",
   "execution_count": 10,
   "metadata": {},
   "outputs": [
    {
     "ename": "",
     "evalue": "",
     "output_type": "error",
     "traceback": [
      "error: <Cell 10>:1:7: error: use of undeclared type 'Vector'\nlet a:Vector<Float> = [1.0, 2, 4]\n      ^~~~~~\n\n"
     ]
    }
   ],
   "source": [
    "let a:Vector<Float> = [1.0, 2, 4]"
   ]
  },
  {
   "cell_type": "code",
   "execution_count": 3,
   "metadata": {},
   "outputs": [
    {
     "data": {
      "text/plain": [
       "▿ 3 elements\n",
       "  - 0 : 1.0\n",
       "  - 1 : 2.0\n",
       "  - 2 : 3.0\n"
      ]
     },
     "execution_count": 3,
     "metadata": {},
     "output_type": "execute_result"
    }
   ],
   "source": [
    "var x: [Float] = [1,2,3]\n",
    "x"
   ]
  },
  {
   "cell_type": "code",
   "execution_count": 4,
   "metadata": {},
   "outputs": [
    {
     "ename": "",
     "evalue": "",
     "output_type": "error",
     "traceback": [
      "error: <Cell 4>:1:1: error: value of type '[Float]' has no member 'asum'\nx.asum\n^ ~~~~\n\n"
     ]
    }
   ],
   "source": [
    "x.asum"
   ]
  },
  {
   "cell_type": "code",
   "execution_count": 4,
   "metadata": {},
   "outputs": [],
   "source": [
    "public protocol DataStorage {\n",
    "    associatedtype Data\n",
    "    var data: Data { get set }\n",
    "    var dims: Int { get }\n",
    "    static func new(random d: Int, lowerLimit l: Float, upperLimit u: Float) -> Self\n",
    "    func sum() -> Float\n",
    "}"
   ]
  },
  {
   "cell_type": "markdown",
   "metadata": {},
   "source": [
    "### Plain swift implementation"
   ]
  },
  {
   "cell_type": "code",
   "execution_count": 5,
   "metadata": {},
   "outputs": [],
   "source": [
    "public struct NativeDataStorage: DataStorage{\n",
    "    public var data: [Float]\n",
    "    \n",
    "    public var dims: Int {\n",
    "        return data.count\n",
    "    }\n",
    "    \n",
    "    static public func new(random d: Int, lowerLimit l: Float, upperLimit u: Float) -> NativeDataStorage {\n",
    "        return NativeDataStorage(data: (0..<d).map{ _ in Float.random(in: l...u) })\n",
    "    }\n",
    "    \n",
    "    public func sum() -> Float {\n",
    "        return data.reduce(0, +)\n",
    "    }\n",
    "}"
   ]
  },
  {
   "cell_type": "markdown",
   "metadata": {},
   "source": [
    "### TensorFlow implementation"
   ]
  },
  {
   "cell_type": "code",
   "execution_count": 6,
   "metadata": {},
   "outputs": [],
   "source": [
    "public struct TensorDataStorage: DataStorage {\n",
    "    public var data: TF\n",
    "    \n",
    "    public var dims: Int {\n",
    "        return data.shape[0]\n",
    "    }\n",
    "    \n",
    "    static public func new(random d: Int, lowerLimit l: Float, upperLimit u: Float) -> TensorDataStorage {\n",
    "        return TensorDataStorage(data: TF(randomUniform: [d]) * (u-l) + l)\n",
    "    }\n",
    "    \n",
    "    public func sum() -> Float {\n",
    "        return Float(data.sum())!\n",
    "    }\n",
    "    \n",
    "}"
   ]
  },
  {
   "cell_type": "markdown",
   "metadata": {
    "heading_collapsed": true
   },
   "source": [
    "### BaseMath implementation"
   ]
  },
  {
   "cell_type": "code",
   "execution_count": 7,
   "metadata": {
    "hidden": true
   },
   "outputs": [],
   "source": [
    "// TODO"
   ]
  },
  {
   "cell_type": "markdown",
   "metadata": {
    "heading_collapsed": true
   },
   "source": [
    "### SwiftyMKL implementation"
   ]
  },
  {
   "cell_type": "code",
   "execution_count": 8,
   "metadata": {
    "hidden": true
   },
   "outputs": [],
   "source": [
    "// TODO"
   ]
  },
  {
   "cell_type": "markdown",
   "metadata": {},
   "source": [
    "## ContraintParams"
   ]
  },
  {
   "cell_type": "code",
   "execution_count": 9,
   "metadata": {},
   "outputs": [],
   "source": [
    "public protocol ConstraintParams {\n",
    "    associatedtype Data\n",
    "    var data: [Data] { get set }\n",
    "    var maxTime: Int { get }\n",
    "}"
   ]
  },
  {
   "cell_type": "markdown",
   "metadata": {},
   "source": [
    "### Plain swift implementation"
   ]
  },
  {
   "cell_type": "code",
   "execution_count": 10,
   "metadata": {},
   "outputs": [],
   "source": [
    "public struct NativeConstraintParams: ConstraintParams {\n",
    "    public var data: [[Float]]\n",
    "    \n",
    "    public var maxTime: Int {\n",
    "        return data[0].count\n",
    "    }\n",
    "    \n",
    "    public init(data: [[Float]]) {\n",
    "        assert(Set(data.map{ $0.count }).count == 1) // All params have same lenght\n",
    "        self.data = data\n",
    "    }\n",
    "    \n",
    "    public init(data: [Float]) {\n",
    "        self.init(data: [data])\n",
    "    }\n",
    "}"
   ]
  },
  {
   "cell_type": "code",
   "execution_count": 11,
   "metadata": {},
   "outputs": [
    {
     "data": {
      "text/plain": [
       "3\n"
      ]
     },
     "execution_count": 11,
     "metadata": {},
     "output_type": "execute_result"
    }
   ],
   "source": [
    "var x = NativeConstraintParams(data: [1,2,3])\n",
    "x.maxTime"
   ]
  },
  {
   "cell_type": "code",
   "execution_count": 12,
   "metadata": {},
   "outputs": [
    {
     "data": {
      "text/plain": [
       "3\n"
      ]
     },
     "execution_count": 12,
     "metadata": {},
     "output_type": "execute_result"
    }
   ],
   "source": [
    "var x = NativeConstraintParams(data: [[1,2,3],[4,5,3]])\n",
    "x.maxTime"
   ]
  },
  {
   "cell_type": "markdown",
   "metadata": {
    "heading_collapsed": true
   },
   "source": [
    "### TensorFlow implementation"
   ]
  },
  {
   "cell_type": "code",
   "execution_count": 13,
   "metadata": {
    "hidden": true
   },
   "outputs": [],
   "source": [
    "public struct TensorConstraintParams: ConstraintParams {\n",
    "    public var data: [TF]\n",
    "    \n",
    "    public var maxTime: Int {\n",
    "        return data[0].shape[0]\n",
    "    }\n",
    "    \n",
    "    public init(data: [TF]) {\n",
    "        assert(data.allSatisfy{ $0.rank == 1 }) // All have rank 1\n",
    "        assert(Set(data.map{ $0.shape[0] }).count == 1) // All params have same lenght\n",
    "        self.data = data            \n",
    "    }\n",
    "    \n",
    "    public init(data: TF) {\n",
    "        self.init(data: [data])\n",
    "    }\n",
    "    \n",
    "    public init(data: [Float]) {\n",
    "        self.init(data: TF(data))\n",
    "    }\n",
    "}"
   ]
  },
  {
   "cell_type": "code",
   "execution_count": 14,
   "metadata": {
    "hidden": true
   },
   "outputs": [
    {
     "data": {
      "text/plain": [
       "3\n"
      ]
     },
     "execution_count": 14,
     "metadata": {},
     "output_type": "execute_result"
    }
   ],
   "source": [
    "var x = TensorConstraintParams(data: TF([1,2,3]))\n",
    "x.maxTime"
   ]
  },
  {
   "cell_type": "code",
   "execution_count": 15,
   "metadata": {
    "hidden": true
   },
   "outputs": [
    {
     "data": {
      "text/plain": [
       "3\n"
      ]
     },
     "execution_count": 15,
     "metadata": {},
     "output_type": "execute_result"
    }
   ],
   "source": [
    "var x = TensorConstraintParams(data: [TF([1,2,3]),TF([2,3,4])])\n",
    "x.maxTime"
   ]
  },
  {
   "cell_type": "markdown",
   "metadata": {
    "heading_collapsed": true
   },
   "source": [
    "### BaseMath implementation"
   ]
  },
  {
   "cell_type": "code",
   "execution_count": 16,
   "metadata": {
    "hidden": true
   },
   "outputs": [],
   "source": [
    "// TODO"
   ]
  },
  {
   "cell_type": "markdown",
   "metadata": {
    "heading_collapsed": true
   },
   "source": [
    "### SwiftyMKL implementation"
   ]
  },
  {
   "cell_type": "code",
   "execution_count": 17,
   "metadata": {
    "hidden": true
   },
   "outputs": [],
   "source": [
    "// TODO"
   ]
  },
  {
   "cell_type": "markdown",
   "metadata": {
    "heading_collapsed": true
   },
   "source": [
    "## Individual"
   ]
  },
  {
   "cell_type": "code",
   "execution_count": 18,
   "metadata": {
    "hidden": true
   },
   "outputs": [],
   "source": [
    "public struct Individual<DS: DataStorage> {\n",
    "    public typealias Indiv=Individual<DS>\n",
    "    public typealias Indivs=[Indiv]\n",
    "    \n",
    "    public var storage: DS {\n",
    "        didSet {\n",
    "            isFeasible = false\n",
    "            fitnessValue = nil\n",
    "            constraints = nil\n",
    "        }\n",
    "    }\n",
    "    public var fitnessValue: Float?=nil\n",
    "    public var constraints: DS? = nil {\n",
    "        didSet { \n",
    "            if let c = constraints { constraintsSum = c.sum() }\n",
    "        }\n",
    "    }\n",
    "    public var constraintsSum: Float? = nil\n",
    "    public var isFeasible: Bool = false\n",
    "    public let lowerLimit: Float\n",
    "    public let upperLimit: Float\n",
    "    \n",
    "    public init(storage: DS, lowerLimit: Float, upperLimit: Float) {\n",
    "        self.storage = storage\n",
    "        self.lowerLimit = lowerLimit\n",
    "        self.upperLimit = upperLimit\n",
    "    }\n",
    "    \n",
    "    public init(random d: Int, lowerLimit l: Float = -5, upperLimit u: Float = 5) {\n",
    "        self.init(storage: DS.new(random: d, lowerLimit: l, upperLimit: u), lowerLimit: l, upperLimit: u)\n",
    "    }   \n",
    "}"
   ]
  },
  {
   "cell_type": "code",
   "execution_count": 19,
   "metadata": {
    "hidden": true
   },
   "outputs": [
    {
     "data": {
      "text/plain": [
       "[ 2.0134687,  4.2453203, -4.2955008,   4.522361,  1.8680453]\n"
      ]
     },
     "execution_count": 19,
     "metadata": {},
     "output_type": "execute_result"
    }
   ],
   "source": [
    "Individual<TensorDataStorage>(random: 5).storage.data"
   ]
  },
  {
   "cell_type": "code",
   "execution_count": 20,
   "metadata": {
    "hidden": true
   },
   "outputs": [
    {
     "data": {
      "text/plain": [
       "▿ 5 elements\n",
       "  - 0 : 0.5130062\n",
       "  - 1 : -4.981606\n",
       "  - 2 : -2.891615\n",
       "  - 3 : 2.2364187\n",
       "  - 4 : 3.0722132\n"
      ]
     },
     "execution_count": 20,
     "metadata": {},
     "output_type": "execute_result"
    }
   ],
   "source": [
    "Individual<NativeDataStorage>(random: 5).storage.data"
   ]
  },
  {
   "cell_type": "markdown",
   "metadata": {
    "heading_collapsed": true
   },
   "source": [
    "## Population"
   ]
  },
  {
   "cell_type": "code",
   "execution_count": 21,
   "metadata": {
    "hidden": true
   },
   "outputs": [],
   "source": [
    "public struct Population<DS: DataStorage> {\n",
    "    public typealias Indiv=Individual<DS>\n",
    "    public typealias Indivs=[Indiv]\n",
    "    public typealias Pop=Population<DS>\n",
    "    \n",
    "    public var individuals: Indivs\n",
    "    \n",
    "    public init(individuals: Indivs) {\n",
    "        self.individuals = individuals\n",
    "    }\n",
    "\n",
    "    public init(random n: Int, dimensions d: Int, lowerLimit l: Float = -5, upperLimit u: Float = 5) {\n",
    "        var res: Indivs = []\n",
    "        for _ in 0..<n { res.append(Indiv(random: d, lowerLimit: l, upperLimit: u)) }        \n",
    "        self.init(individuals: res)\n",
    "    }\n",
    "}"
   ]
  },
  {
   "cell_type": "code",
   "execution_count": 22,
   "metadata": {
    "hidden": true
   },
   "outputs": [
    {
     "data": {
      "text/plain": [
       "▿ 2 elements\n",
       "  - 0 : [-3.9655697, -2.1292508,  2.1890879, -4.6493616, 0.51372623]\n",
       "  - 1 : [  0.9031143,  -3.0808496,   2.5267959, -0.90955734,  -1.5661442]\n"
      ]
     },
     "execution_count": 22,
     "metadata": {},
     "output_type": "execute_result"
    }
   ],
   "source": [
    "var x = Population<TensorDataStorage>(random: 2, dimensions: 5)\n",
    "x.individuals.map{ $0.storage.data }"
   ]
  },
  {
   "cell_type": "code",
   "execution_count": 23,
   "metadata": {
    "hidden": true
   },
   "outputs": [
    {
     "data": {
      "text/plain": [
       "▿ 2 elements\n",
       "  ▿ 0 : 3 elements\n",
       "    - 0 : 4.741678\n",
       "    - 1 : 1.0449672\n",
       "    - 2 : 0.10813999\n",
       "  ▿ 1 : 3 elements\n",
       "    - 0 : 2.4675188\n",
       "    - 1 : 3.4346504\n",
       "    - 2 : 0.9351883\n"
      ]
     },
     "execution_count": 23,
     "metadata": {},
     "output_type": "execute_result"
    }
   ],
   "source": [
    "var x = Population<NativeDataStorage>(random: 2, dimensions: 3)\n",
    "x.individuals.map{ $0.storage.data }"
   ]
  },
  {
   "cell_type": "code",
   "execution_count": 24,
   "metadata": {
    "hidden": true
   },
   "outputs": [
    {
     "name": "stdout",
     "output_type": "stream",
     "text": [
      "average: 61.237189799999996 ms,   min: 45.680111 ms,   max: 195.171014 ms\r\n"
     ]
    }
   ],
   "source": [
    "time(repeating: 10, { var x = Population<NativeDataStorage>(random: 100, dimensions: 1000) } )"
   ]
  },
  {
   "cell_type": "code",
   "execution_count": 25,
   "metadata": {
    "hidden": true
   },
   "outputs": [
    {
     "name": "stdout",
     "output_type": "stream",
     "text": [
      "average: 13.4846283 ms,   min: 11.827623 ms,   max: 15.304748 ms\r\n"
     ]
    }
   ],
   "source": [
    "time(repeating: 10, { var x = Population<TensorDataStorage>(random: 100, dimensions: 1000) } )"
   ]
  },
  {
   "cell_type": "markdown",
   "metadata": {
    "heading_collapsed": true
   },
   "source": [
    "## Optimization"
   ]
  },
  {
   "cell_type": "markdown",
   "metadata": {
    "heading_collapsed": true,
    "hidden": true
   },
   "source": [
    "### Error handling"
   ]
  },
  {
   "cell_type": "code",
   "execution_count": 26,
   "metadata": {
    "hidden": true
   },
   "outputs": [],
   "source": [
    "public enum OptAction: Error {\n",
    "    case stopEvolve\n",
    "    case stopIndividual\n",
    "    case stopGeneration\n",
    "    case stopRun\n",
    "}"
   ]
  },
  {
   "cell_type": "markdown",
   "metadata": {
    "heading_collapsed": true,
    "hidden": true
   },
   "source": [
    "### Evolution mechanism"
   ]
  },
  {
   "cell_type": "code",
   "execution_count": 27,
   "metadata": {
    "hidden": true
   },
   "outputs": [],
   "source": [
    "extension Population {\n",
    "    public func pick(but: Int) -> [DS.Data] {\n",
    "        var picked: [DS.Data] = []\n",
    "        while picked.count < 3 {\n",
    "            let i = Int.random(in: 0..<individuals.count)\n",
    "            if i != but { picked.append(individuals[i].storage.data) }\n",
    "        }\n",
    "        return picked\n",
    "    }\n",
    "}"
   ]
  },
  {
   "cell_type": "code",
   "execution_count": 28,
   "metadata": {
    "hidden": true
   },
   "outputs": [],
   "source": [
    "extension Individual where DS==NativeDataStorage {\n",
    "    public func evolve(picked: [[Float]], CR: Float, betaMin: Float, betaMax: Float) -> [Float] {\n",
    "        var res: [Float] = storage.data\n",
    "        var dims: [Int] = []\n",
    "        dims.append(Int.random(in: 0..<storage.dims))\n",
    "        (0..<storage.dims).enumerated().filter{ _ in Float.random(in: 0...1)<CR }.map{\n",
    "            dims.append($1)\n",
    "        }\n",
    "        let selectedDims = Set(dims)\n",
    "        let factors: [Float] = (0..<selectedDims.count).map{ _ in Float.random(in: betaMin...betaMax) }\n",
    "        for (d,f) in zip(selectedDims, factors) {\n",
    "            res[d] = max(min(picked[0][d] + f*picked[1][d] - picked[2][d], lowerLimit), upperLimit)\n",
    "        }\n",
    "        return res\n",
    "    }\n",
    "}"
   ]
  },
  {
   "cell_type": "code",
   "execution_count": 30,
   "metadata": {
    "hidden": true
   },
   "outputs": [
    {
     "ename": "",
     "evalue": "",
     "output_type": "error",
     "traceback": [
      "error: <Cell 30>:13:38: error: 'EvolveMechanism<DS>.Indiv' (aka 'Individual<DS>') is not convertible to 'Individual<NativeDataStorage>'\n        newIndividual.storage.data = newIndividual.evolve(picked: picked, CR: CR, betaMin: betaMin, betaMax: betaMax)\n                                     ^~~~~~~~~~~~~\n\n"
     ]
    }
   ],
   "source": [
    "public struct EvolveMechanism<DS: DataStorage> {\n",
    "    public typealias Indiv=Individual<DS>\n",
    "    public typealias Indivs=[Indiv]\n",
    "    public typealias Pop=Population<DS>\n",
    "    public var n: Int = 3\n",
    "    public var CR: Float = 0.3\n",
    "    public var betaMin: Float = 0.2\n",
    "    public var betaMax: Float = 0.8\n",
    "    \n",
    "    func call(_ population: Pop, _ idx: Int) -> Indiv {\n",
    "        var newIndividual: Indiv = population.individuals[idx]\n",
    "        var picked: [DS.Data] = population.pick(but: idx)\n",
    "        newIndividual.storage.data = newIndividual.evolve(picked: picked, CR: CR, betaMin: betaMin, betaMax: betaMax)\n",
    "        return newIndividual\n",
    "    }\n",
    "}"
   ]
  },
  {
   "cell_type": "markdown",
   "metadata": {
    "hidden": true
   },
   "source": [
    "### Main class"
   ]
  },
  {
   "cell_type": "code",
   "execution_count": 49,
   "metadata": {
    "hidden": true
   },
   "outputs": [],
   "source": [
    "final public class Optimization<DS: DataStorage, CP: ConstraintParams> where DS.Data==CP.Data {\n",
    "    // Common types\n",
    "    public typealias Indiv=Individual<DS>\n",
    "    public typealias Indivs=[Individual<DS>]\n",
    "    public typealias Pop=Population<DS>\n",
    "    public typealias FitnessFn=((Indiv) -> Float)\n",
    "    public typealias ConstraintFun=((Indiv,Float) -> Float)\n",
    "    \n",
    "    // Main properties\n",
    "    public var population: Pop\n",
    "    public var getFitness: FitnessFn\n",
    "    public var getConstraints: ConstraintFun\n",
    "    public let constraintParams: CP\n",
    "    public let frequency: Int\n",
    "    public let maxTime: Int\n",
    "    public let maxEvals: Int? = nil\n",
    "    \n",
    "    // Editable functions\n",
    "    public var evolveMechanism: EvolveMechanism<DS> = EvolveMechanism()\n",
    "    \n",
    "    // Main entities on the loop\n",
    "    public var currentIndividual: Indiv? = nil\n",
    "    public var currentIndividualBkup: Indiv? = nil\n",
    "    public var currentIndividualIdx: Int? = nil\n",
    "    // Record properties\n",
    "    public private(set) var currentGeneration: Int = .zero\n",
    "    public private(set) var currentEvaluation: Int = .zero\n",
    "    public private(set) var currentTime: Int = .zero\n",
    "    public private(set) var currentBest: Indiv? = nil\n",
    "    \n",
    "    open class Delegate {\n",
    "        open var order: Int { return 0 }\n",
    "        public init () {}\n",
    "        \n",
    "        open func onRunBegin(opt: Optimization) throws {}\n",
    "        open func onGenerationBegin(opt: Optimization) throws {}\n",
    "        open func onIndividualBegin(opt: Optimization) throws {}\n",
    "        open func onEvolveBegin(opt: Optimization) throws {}\n",
    "        open func onEvolveEnd(opt: Optimization) throws {}\n",
    "        open func onIndividualEnd(opt: Optimization) throws {}\n",
    "        open func onGenerationEnd(opt: Optimization) throws {}\n",
    "        open func onRunEnd(opt: Optimization) throws {}\n",
    "    }\n",
    "\n",
    "    public var delegates: [Delegate] = [] {\n",
    "        didSet { delegates.sort { $0.order < $1.order } }\n",
    "    }\n",
    "    \n",
    "    public func addDelegate(_ delegate: Optimization.Delegate) {\n",
    "        delegates.append(delegate)\n",
    "    }\n",
    "    \n",
    "    public func addDelegates(_ delegates: [Optimization.Delegate]) {\n",
    "        self.delegates += delegates\n",
    "    }\n",
    "    \n",
    "    // Initialization\n",
    "    public init(population: Pop, getFitness: @escaping FitnessFn, getConstraints: @escaping ConstraintFun,\n",
    "                constraintParams: CP, frequency: Int) {\n",
    "        self.population = population\n",
    "        self.getFitness = getFitness\n",
    "        self.getConstraints = getConstraints\n",
    "        self.constraintParams = constraintParams\n",
    "        self.frequency = frequency\n",
    "        self.maxTime = constraintParams.maxTime\n",
    "    }\n",
    "}"
   ]
  },
  {
   "cell_type": "markdown",
   "metadata": {
    "hidden": true
   },
   "source": [
    "### Run logic"
   ]
  },
  {
   "cell_type": "code",
   "execution_count": 50,
   "metadata": {
    "hidden": true
   },
   "outputs": [],
   "source": [
    "extension Optimization {\n",
    "    public func run(_ generations: Int) throws {\n",
    "        do{\n",
    "            try delegates.forEach { try $0.onRunBegin(opt: self) }\n",
    "            for i in 0..<generations {\n",
    "                try runGeneration(i)\n",
    "            }\n",
    "        } catch OptAction.stopRun {}\n",
    "        try delegates.forEach { try $0.onRunEnd(opt: self) }\n",
    "    }\n",
    "    \n",
    "    public func runGeneration(_ i: Int) throws {\n",
    "        do{\n",
    "            currentGeneration += 1\n",
    "            try delegates.forEach { try $0.onGenerationBegin(opt: self) }\n",
    "            try population.individuals.enumerated().forEach { try processIndividual($0,$1) }\n",
    "            try delegates.forEach { try $0.onGenerationEnd(opt: self) }\n",
    "        } catch OptAction.stopGeneration {}\n",
    "    }\n",
    "    \n",
    "    public func processIndividual(_ i: Int, _ individual: Indiv) throws {\n",
    "        do{\n",
    "            try delegates.forEach { try $0.onIndividualBegin(opt: self) }\n",
    "            currentIndividual = individual\n",
    "            currentIndividualBkup = individual\n",
    "            currentIndividualIdx = i\n",
    "            try evolve()\n",
    "//             eval_fitness(x)\n",
    "//             eval_constraints(x)\n",
    "        } catch OptAction.stopIndividual {}\n",
    "        try delegates.forEach { try $0.onIndividualEnd(opt: self) }\n",
    "    }\n",
    "    \n",
    "    public func evolve() throws {\n",
    "        do{\n",
    "            try delegates.forEach { try $0.onEvolveBegin(opt: self) }\n",
    "            currentIndividual = evolveMechanism(population, currentIndividualIdx!)\n",
    "            population.individuals[currentIndividualIdx!] = currentIndividual!\n",
    "        } catch OptAction.stopEvolve {}\n",
    "        try delegates.forEach { try $0.onEvolveEnd(opt: self) }\n",
    "    }\n",
    "    \n",
    "}"
   ]
  },
  {
   "cell_type": "markdown",
   "metadata": {
    "hidden": true
   },
   "source": [
    "### Delegates"
   ]
  },
  {
   "cell_type": "markdown",
   "metadata": {
    "hidden": true
   },
   "source": [
    "#### Recorder"
   ]
  },
  {
   "cell_type": "code",
   "execution_count": 51,
   "metadata": {
    "hidden": true
   },
   "outputs": [],
   "source": [
    "extension Optimization {\n",
    "    public class RecorderDelegate: Delegate {\n",
    "        public override func onRunBegin(opt: Optimization) {\n",
    "            print(\"Starting run...\")\n",
    "        }\n",
    "        \n",
    "        public override func onGenerationBegin(opt: Optimization) {\n",
    "            print(\"Generation \\(opt.currentGeneration)...\")\n",
    "        }\n",
    "        \n",
    "        public override func onRunEnd(opt: Optimization) {\n",
    "            print(\"Ending run...\")\n",
    "        }\n",
    "    }\n",
    "    \n",
    "    public func makeRecorderDelegate() -> RecorderDelegate { return RecorderDelegate() }\n",
    "}"
   ]
  },
  {
   "cell_type": "markdown",
   "metadata": {
    "heading_collapsed": true
   },
   "source": [
    "# Use"
   ]
  },
  {
   "cell_type": "code",
   "execution_count": 63,
   "metadata": {
    "hidden": true
   },
   "outputs": [],
   "source": [
    "var df = pd.read_csv(\"/home/renato/github/DENN/data/medium/dC_01.csv\")\n",
    "let abSource = df.columns.map{Float(String($0)!.strip())!}\n",
    "let abNative = NativeConstraintParams(data: abSource)\n",
    "let abTF = TensorConstraintParams(data: abSource)"
   ]
  },
  {
   "cell_type": "code",
   "execution_count": 64,
   "metadata": {
    "hidden": true
   },
   "outputs": [],
   "source": [
    "let D = 30\n",
    "let frequency = 1_000\n",
    "let totalGenerations = abNative.maxTime * frequency + 1000"
   ]
  },
  {
   "cell_type": "code",
   "execution_count": 65,
   "metadata": {
    "hidden": true
   },
   "outputs": [],
   "source": [
    "func getFitness(_ indv: Individual<TensorDataStorage>) -> Float {\n",
    "    return Float(pow(indv.storage.data, 2).sum())!\n",
    "}\n",
    "\n",
    "func getConstraint(_ indiv: Individual<TensorDataStorage>, _ b: Float) -> Float {\n",
    "    return Float((sqrt(Float(D)) * indiv.storage.data).sum() - b)!\n",
    "}"
   ]
  },
  {
   "cell_type": "code",
   "execution_count": 66,
   "metadata": {
    "hidden": true
   },
   "outputs": [],
   "source": [
    "var population = Population<TensorDataStorage>(random: 20, dimensions: D)"
   ]
  },
  {
   "cell_type": "code",
   "execution_count": 83,
   "metadata": {
    "hidden": true
   },
   "outputs": [],
   "source": [
    "var opt = Optimization(population: population, getFitness: getFitness, getConstraints: getConstraint,\n",
    "                       constraintParams: abTF, frequency: frequency)"
   ]
  },
  {
   "cell_type": "code",
   "execution_count": 84,
   "metadata": {
    "hidden": true
   },
   "outputs": [],
   "source": [
    "opt.addDelegate(opt.makeRecorderDelegate())"
   ]
  },
  {
   "cell_type": "code",
   "execution_count": 96,
   "metadata": {
    "hidden": true
   },
   "outputs": [
    {
     "name": "stdout",
     "output_type": "stream",
     "text": [
      "Starting run...\r\n",
      "Generation 56...\r\n",
      "Generation 57...\r\n",
      "Generation 58...\r\n",
      "Generation 59...\r\n",
      "Generation 60...\r\n",
      "Ending run...\r\n"
     ]
    }
   ],
   "source": [
    "opt.run(5)"
   ]
  },
  {
   "cell_type": "code",
   "execution_count": 97,
   "metadata": {
    "hidden": true
   },
   "outputs": [
    {
     "data": {
      "text/plain": [
       "60\n"
      ]
     },
     "execution_count": 97,
     "metadata": {},
     "output_type": "execute_result"
    }
   ],
   "source": [
    "opt.currentGeneration"
   ]
  },
  {
   "cell_type": "markdown",
   "metadata": {},
   "source": [
    "# ----"
   ]
  },
  {
   "cell_type": "code",
   "execution_count": null,
   "metadata": {},
   "outputs": [],
   "source": []
  }
 ],
 "metadata": {
  "kernelspec": {
   "display_name": "Swift [conda env:root]",
   "language": "swift",
   "name": "conda-root-swift"
  },
  "language_info": {
   "file_extension": ".swift",
   "mimetype": "text/x-swift",
   "name": "swift",
   "version": ""
  },
  "toc": {
   "base_numbering": 1,
   "nav_menu": {},
   "number_sections": true,
   "sideBar": true,
   "skip_h1_title": false,
   "title_cell": "Table of Contents",
   "title_sidebar": "Contents",
   "toc_cell": false,
   "toc_position": {},
   "toc_section_display": true,
   "toc_window_display": false
  }
 },
 "nbformat": 4,
 "nbformat_minor": 2
}
