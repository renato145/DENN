{
 "cells": [
  {
   "cell_type": "code",
   "execution_count": 1,
   "metadata": {},
   "outputs": [],
   "source": [
    "import Python\n",
    "import Dispatch\n",
    "import TensorFlow\n",
    "let pd = Python.import(\"pandas\")\n",
    "let np = Python.import(\"numpy\")"
   ]
  },
  {
   "cell_type": "markdown",
   "metadata": {},
   "source": [
    "# Library"
   ]
  },
  {
   "cell_type": "code",
   "execution_count": 2,
   "metadata": {},
   "outputs": [],
   "source": [
    "extension String {\n",
    "    func strip() -> Substring {\n",
    "        return self.drop{$0==\" \"}\n",
    "    }\n",
    "}\n",
    "\n",
    "// Time how long it takes to run the specified function, optionally taking\n",
    "// the average across a number of repetitions.\n",
    "public func time(repeating: Int = 1, _ function: () -> ()) {\n",
    "    guard repeating > 0 else { return }\n",
    "    \n",
    "    // Warmup\n",
    "    if repeating>1 {function()}\n",
    "    \n",
    "    var times = [Double]()\n",
    "    for _ in 1...repeating {\n",
    "        let start = DispatchTime.now()\n",
    "        function()\n",
    "        let end = DispatchTime.now()\n",
    "        let nanoseconds = Double(end.uptimeNanoseconds - start.uptimeNanoseconds)\n",
    "        let milliseconds = nanoseconds / 1e6\n",
    "        times.append(milliseconds)\n",
    "    }\n",
    "    print(\"average: \\(times.reduce(0.0, +)/Double(times.count)) ms,   \" +\n",
    "          \"min: \\(times.reduce(times[0], min)) ms,   \" +\n",
    "          \"max: \\(times.reduce(times[0], max)) ms\")\n",
    "}\n"
   ]
  },
  {
   "cell_type": "code",
   "execution_count": 22,
   "metadata": {},
   "outputs": [],
   "source": [
    "public typealias TF=Tensor<Float>\n",
    "\n",
    "public struct Individual{\n",
    "    public var data: TF\n",
    "    public var fitnessValue: Float?=nil\n",
    "    public var constraints: TF? = nil\n",
    "    public var constraintsSum: Float? = nil\n",
    "    public var isFeasible: Bool? = nil\n",
    "    \n",
    "    public init(data: TF) {\n",
    "        self.data = data\n",
    "    }\n",
    "    \n",
    "    public init(random d: Int, lowerLimit l: Float = -5, upperLimit u: Float = 5) {\n",
    "        self.init(data: Tensor<Float>(randomUniform: [d]) * (u-l) + l)\n",
    "    }   \n",
    "}\n",
    "\n",
    "public struct Population {\n",
    "    public var individuals: [Individual]\n",
    "    \n",
    "    public init(individuals: [Individual]) {\n",
    "        self.individuals = individuals\n",
    "    }\n",
    "\n",
    "    public init(random n: Int, dimensions d: Int, lowerLimit l: Float = -5, upperLimit u: Float = 5) {\n",
    "        var res: [Individual] = []\n",
    "        for _ in 0..<n { res.append(Individual(random: d, lowerLimit: l, upperLimit: u)) }        \n",
    "        self.init(individuals: res)\n",
    "    }\n",
    "}\n",
    "\n",
    "public protocol ConstraintParam {\n",
    "    associatedtype T\n",
    "    var data: T { get }\n",
    "    var maxTime: Int { get }\n",
    "}\n",
    "\n",
    "extension ConstraintParam where T==TF {\n",
    "    public var maxTime: Int {\n",
    "        return data.shape[0]\n",
    "    }\n",
    "}\n",
    "\n",
    "public struct SingleContraintParam: ConstraintParam {\n",
    "    public var data: TF\n",
    "    \n",
    "    public init(_ data: TF) {\n",
    "        assert(data.shape.count == 1)\n",
    "        self.data = data\n",
    "    }\n",
    "    public init(_ data: [Float]) {\n",
    "        self.init(TF(data))\n",
    "    }\n",
    "}\n",
    "\n",
    "public struct MultiContraintParams: ConstraintParam {\n",
    "    public var data: TF\n",
    "    \n",
    "    public init(_ data: TF) {\n",
    "        self.data = data\n",
    "    }\n",
    "}\n",
    "\n",
    "final public class Optimization<C: ConstraintParam> {\n",
    "    public typealias FitnessFn=((Individual) -> TF)\n",
    "    public typealias ConstraintFun=((Individual,Float) -> TF)\n",
    "    \n",
    "    public var population: Population\n",
    "    public var getFitness: FitnessFn\n",
    "    public var getConstraints: ConstraintFun\n",
    "    public let constraintParams: C\n",
    "    public let frequency: Int\n",
    "    public let maxTime: Int\n",
    "    public let CR: Float = 0.3\n",
    "    public let betaMin: Float = 0.2\n",
    "    public let betaMax: Float = 0.8\n",
    "    public let maxEvals: Int? = nil\n",
    "    \n",
    "    public init(population: Population, getFitness: @escaping FitnessFn, getConstraints: @escaping ConstraintFun,\n",
    "                constraintParams: C, frequency: Int) {\n",
    "        self.population = population\n",
    "        self.getFitness = getFitness\n",
    "        self.getConstraints = getConstraints\n",
    "        self.constraintParams = constraintParams\n",
    "        self.frequency = frequency\n",
    "        self.maxTime = constraintParams.maxTime\n",
    "    }\n",
    "    \n",
    "}\n",
    "\n",
    "extension Optimization {\n",
    "    public func run(_ generations: Int) {\n",
    "        do{\n",
    "            for i in 0..<generations {\n",
    "                print(i)\n",
    "            }\n",
    "        }\n",
    "    }\n",
    "}"
   ]
  },
  {
   "cell_type": "code",
   "execution_count": 23,
   "metadata": {},
   "outputs": [
    {
     "name": "stdout",
     "output_type": "stream",
     "text": [
      "average: 12.400186809999996 ms,   min: 9.922771 ms,   max: 17.788368 ms\r\n"
     ]
    }
   ],
   "source": [
    "time(repeating: 100, { Population(random: 100, dimensions: 1_000) })"
   ]
  },
  {
   "cell_type": "markdown",
   "metadata": {},
   "source": [
    "# Use"
   ]
  },
  {
   "cell_type": "code",
   "execution_count": 24,
   "metadata": {},
   "outputs": [],
   "source": [
    "var df = pd.read_csv(\"/home/renato/github/DENN/data/medium/dC_01.csv\")\n",
    "let ab = SingleContraintParam(df.columns.map{Float(String($0)!.strip())!})"
   ]
  },
  {
   "cell_type": "code",
   "execution_count": 25,
   "metadata": {},
   "outputs": [],
   "source": [
    "let D = 30\n",
    "let frequency = 1_000\n",
    "let totalGenerations = ab.maxTime * frequency + 1000"
   ]
  },
  {
   "cell_type": "code",
   "execution_count": 26,
   "metadata": {},
   "outputs": [],
   "source": [
    "func getFitness(_ indv: Individual) -> TF {\n",
    "    return pow(indv.data, 2).sum()\n",
    "}\n",
    "\n",
    "func getConstraint(_ indiv: Individual, _ b: Float) -> TF {\n",
    "    return (sqrt(Float(D)) * indiv.data).sum() - b\n",
    "}"
   ]
  },
  {
   "cell_type": "code",
   "execution_count": 27,
   "metadata": {},
   "outputs": [],
   "source": [
    "var population = Population(random: 20, dimensions: D)"
   ]
  },
  {
   "cell_type": "code",
   "execution_count": 28,
   "metadata": {},
   "outputs": [],
   "source": [
    "var opt = Optimization(population: population, getFitness: getFitness, getConstraints: getConstraint,\n",
    "                       constraintParams: ab, frequency: frequency)"
   ]
  },
  {
   "cell_type": "code",
   "execution_count": 29,
   "metadata": {},
   "outputs": [
    {
     "data": {
      "text/plain": [
       "100\n"
      ]
     },
     "execution_count": 29,
     "metadata": {},
     "output_type": "execute_result"
    }
   ],
   "source": [
    "opt.maxTime"
   ]
  },
  {
   "cell_type": "code",
   "execution_count": 32,
   "metadata": {},
   "outputs": [
    {
     "name": "stdout",
     "output_type": "stream",
     "text": [
      "0\r\n",
      "1\r\n",
      "2\r\n",
      "3\r\n",
      "4\r\n",
      "5\r\n",
      "6\r\n",
      "7\r\n",
      "8\r\n",
      "9\r\n"
     ]
    }
   ],
   "source": [
    "opt.run(10)"
   ]
  },
  {
   "cell_type": "code",
   "execution_count": null,
   "metadata": {},
   "outputs": [],
   "source": []
  }
 ],
 "metadata": {
  "kernelspec": {
   "display_name": "Swift [conda env:root]",
   "language": "swift",
   "name": "conda-root-swift"
  },
  "language_info": {
   "file_extension": ".swift",
   "mimetype": "text/x-swift",
   "name": "swift",
   "version": ""
  },
  "toc": {
   "base_numbering": 1,
   "nav_menu": {},
   "number_sections": true,
   "sideBar": true,
   "skip_h1_title": false,
   "title_cell": "Table of Contents",
   "title_sidebar": "Contents",
   "toc_cell": false,
   "toc_position": {},
   "toc_section_display": true,
   "toc_window_display": false
  }
 },
 "nbformat": 4,
 "nbformat_minor": 2
}
