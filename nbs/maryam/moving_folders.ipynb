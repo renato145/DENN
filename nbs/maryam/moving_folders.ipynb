{
 "cells": [
  {
   "cell_type": "code",
   "execution_count": 1,
   "metadata": {},
   "outputs": [],
   "source": [
    "import shutil\n",
    "from fastprogress.fastprogress import progress_bar\n",
    "from pathlib import Path"
   ]
  },
  {
   "cell_type": "markdown",
   "metadata": {},
   "source": [
    "# moving gheny runs"
   ]
  },
  {
   "cell_type": "code",
   "execution_count": 34,
   "metadata": {},
   "outputs": [],
   "source": [
    "path = Path('../../save_runs')\n",
    "out_path = Path('../../data/cluster_results')"
   ]
  },
  {
   "cell_type": "code",
   "execution_count": 35,
   "metadata": {},
   "outputs": [],
   "source": [
    "origins = list((path).glob('*/*/*/*'))"
   ]
  },
  {
   "cell_type": "code",
   "execution_count": 62,
   "metadata": {},
   "outputs": [],
   "source": [
    "for p in origins[1:]:\n",
    "    new_p = p.relative_to(path)\n",
    "    new_new_p = out_path / new_p\n",
    "    if new_new_p.exists(): print(f'This exists: {new_new_p}')\n",
    "    shutil.move(str(new_p), str(new_new_p.parent))"
   ]
  },
  {
   "cell_type": "code",
   "execution_count": 61,
   "metadata": {},
   "outputs": [
    {
     "data": {
      "text/plain": [
       "PosixPath('../../data/cluster_results/exp1/sphere/nn/freq30nn_w10nn_p5nn_s3nn_tw1nn_bs4nn_epoch4divRI')"
      ]
     },
     "execution_count": 61,
     "metadata": {},
     "output_type": "execute_result"
    }
   ],
   "source": [
    "new_new_p"
   ]
  },
  {
   "cell_type": "code",
   "execution_count": 56,
   "metadata": {},
   "outputs": [
    {
     "data": {
      "text/plain": [
       "PosixPath('exp2/rastrigin/nn/freq30nn_w10nn_p5nn_s3nn_tw1nn_bs4nn_epoch4divRst')"
      ]
     },
     "execution_count": 56,
     "metadata": {},
     "output_type": "execute_result"
    }
   ],
   "source": [
    "new_p"
   ]
  },
  {
   "cell_type": "code",
   "execution_count": 57,
   "metadata": {},
   "outputs": [
    {
     "data": {
      "text/plain": [
       "PosixPath('../../data/cluster_results/exp2/rastrigin/nn/freq30nn_w10nn_p5nn_s3nn_tw1nn_bs4nn_epoch4divRst')"
      ]
     },
     "execution_count": 57,
     "metadata": {},
     "output_type": "execute_result"
    }
   ],
   "source": [
    "out_path / new_p"
   ]
  },
  {
   "cell_type": "code",
   "execution_count": null,
   "metadata": {},
   "outputs": [],
   "source": []
  },
  {
   "cell_type": "code",
   "execution_count": 53,
   "metadata": {},
   "outputs": [
    {
     "data": {
      "text/plain": [
       "PosixPath('exp2/rastrigin/nn/freq30nn_w10nn_p5nn_s3nn_tw1nn_bs4nn_epoch4divRst')"
      ]
     },
     "execution_count": 53,
     "metadata": {},
     "output_type": "execute_result"
    }
   ],
   "source": [
    "new_p"
   ]
  },
  {
   "cell_type": "code",
   "execution_count": 54,
   "metadata": {},
   "outputs": [
    {
     "data": {
      "text/plain": [
       "PosixPath('exp2/rastrigin/nn/freq30nn_w10nn_p5nn_s3nn_tw1nn_bs4nn_epoch4divRst')"
      ]
     },
     "execution_count": 54,
     "metadata": {},
     "output_type": "execute_result"
    }
   ],
   "source": [
    "new_p"
   ]
  },
  {
   "cell_type": "code",
   "execution_count": 52,
   "metadata": {},
   "outputs": [
    {
     "data": {
      "text/plain": [
       "[PosixPath('../../save_runs/exp1/sphere/nn/freq30nn_w10nn_p5nn_s3nn_tw1nn_bs4nn_epoch4divRI'),\n",
       " PosixPath('../../save_runs/exp1/sphere/nn/freq30nn_w10nn_p5nn_s3nn_tw1nn_bs4nn_epoch4divNo'),\n",
       " PosixPath('../../save_runs/exp1/sphere/nn/freq30nn_w10nn_p5nn_s3nn_tw1nn_bs4nn_epoch4divRst'),\n",
       " PosixPath('../../save_runs/exp1/sphere/nn/freq30nn_w10nn_p5nn_s3nn_tw1nn_bs4nn_epoch4divHMu'),\n",
       " PosixPath('../../save_runs/exp1/rosenbrock/nn/freq30nn_w10nn_p5nn_s3nn_tw1nn_bs4nn_epoch4divNo'),\n",
       " PosixPath('../../save_runs/exp1/rosenbrock/nn/freq30nn_w10nn_p5nn_s3nn_tw1nn_bs4nn_epoch4divRst'),\n",
       " PosixPath('../../save_runs/exp1/rastrigin/nn/freq30nn_w10nn_p5nn_s3nn_tw1nn_bs4nn_epoch4divNo'),\n",
       " PosixPath('../../save_runs/exp1/rastrigin/nn/freq30nn_w10nn_p5nn_s3nn_tw1nn_bs4nn_epoch4divRst'),\n",
       " PosixPath('../../save_runs/exp3/sphere/nn/freq30nn_w10nn_p5nn_s3nn_tw1nn_bs4nn_epoch4divNo'),\n",
       " PosixPath('../../save_runs/exp3/sphere/nn/freq30nn_w10nn_p5nn_s3nn_tw1nn_bs4nn_epoch4divRst'),\n",
       " PosixPath('../../save_runs/exp3/rosenbrock/nn/freq30nn_w10nn_p5nn_s3nn_tw1nn_bs4nn_epoch4divNo'),\n",
       " PosixPath('../../save_runs/exp3/rosenbrock/nn/freq30nn_w10nn_p5nn_s3nn_tw1nn_bs4nn_epoch4divRst'),\n",
       " PosixPath('../../save_runs/exp3/rastrigin/nn/freq30nn_w10nn_p5nn_s3nn_tw1nn_bs4nn_epoch4divNo'),\n",
       " PosixPath('../../save_runs/exp3/rastrigin/nn/freq30nn_w10nn_p5nn_s3nn_tw1nn_bs4nn_epoch4divRst'),\n",
       " PosixPath('../../save_runs/exp4/sphere/nn/freq30nn_w10nn_p5nn_s3nn_tw1nn_bs4nn_epoch4divNo'),\n",
       " PosixPath('../../save_runs/exp4/sphere/nn/freq30nn_w10nn_p5nn_s3nn_tw1nn_bs4nn_epoch4divRst'),\n",
       " PosixPath('../../save_runs/exp4/rosenbrock/nn/freq30nn_w10nn_p5nn_s3nn_tw1nn_bs4nn_epoch4divRI'),\n",
       " PosixPath('../../save_runs/exp4/rosenbrock/nn/freq30nn_w10nn_p5nn_s3nn_tw1nn_bs4nn_epoch4divNo'),\n",
       " PosixPath('../../save_runs/exp4/rosenbrock/nn/freq30nn_w10nn_p5nn_s3nn_tw1nn_bs4nn_epoch4divRst'),\n",
       " PosixPath('../../save_runs/exp4/rastrigin/nn/freq30nn_w10nn_p5nn_s3nn_tw1nn_bs4nn_epoch4divRI'),\n",
       " PosixPath('../../save_runs/exp4/rastrigin/nn/freq30nn_w10nn_p5nn_s3nn_tw1nn_bs4nn_epoch4divNo'),\n",
       " PosixPath('../../save_runs/exp4/rastrigin/nn/freq30nn_w10nn_p5nn_s3nn_tw1nn_bs4nn_epoch4divRst'),\n",
       " PosixPath('../../save_runs/exp2/sphere/nn/freq30nn_w10nn_p5nn_s3nn_tw1nn_bs4nn_epoch4divNo'),\n",
       " PosixPath('../../save_runs/exp2/sphere/nn/freq30nn_w10nn_p5nn_s3nn_tw1nn_bs4nn_epoch4divRst'),\n",
       " PosixPath('../../save_runs/exp2/rosenbrock/nn/freq30nn_w10nn_p5nn_s3nn_tw1nn_bs4nn_epoch4divNo'),\n",
       " PosixPath('../../save_runs/exp2/rosenbrock/nn/freq30nn_w10nn_p5nn_s3nn_tw1nn_bs4nn_epoch4divRst'),\n",
       " PosixPath('../../save_runs/exp2/rastrigin/nn/freq30nn_w10nn_p5nn_s3nn_tw1nn_bs4nn_epoch4divRI'),\n",
       " PosixPath('../../save_runs/exp2/rastrigin/nn/freq30nn_w10nn_p5nn_s3nn_tw1nn_bs4nn_epoch4divNo'),\n",
       " PosixPath('../../save_runs/exp2/rastrigin/nn/freq30nn_w10nn_p5nn_s3nn_tw1nn_bs4nn_epoch4divRst')]"
      ]
     },
     "execution_count": 52,
     "metadata": {},
     "output_type": "execute_result"
    }
   ],
   "source": [
    "origins"
   ]
  },
  {
   "cell_type": "code",
   "execution_count": null,
   "metadata": {},
   "outputs": [],
   "source": []
  },
  {
   "cell_type": "markdown",
   "metadata": {
    "heading_collapsed": true
   },
   "source": [
    "# ----"
   ]
  },
  {
   "cell_type": "code",
   "execution_count": 3,
   "metadata": {
    "hidden": true
   },
   "outputs": [],
   "source": [
    "path = Path(f'../../data/cluster_results')"
   ]
  },
  {
   "cell_type": "code",
   "execution_count": 3,
   "metadata": {
    "hidden": true
   },
   "outputs": [
    {
     "name": "stdout",
     "output_type": "stream",
     "text": [
      "\u001b[34mnn\u001b[m\u001b[m   \u001b[34mnonn\u001b[m\u001b[m\r\n"
     ]
    }
   ],
   "source": [
    "!ls {path}/exp3/sphere"
   ]
  },
  {
   "cell_type": "code",
   "execution_count": 12,
   "metadata": {
    "hidden": true
   },
   "outputs": [
    {
     "data": {
      "text/plain": [
       "[]"
      ]
     },
     "execution_count": 12,
     "metadata": {},
     "output_type": "execute_result"
    }
   ],
   "source": [
    "folders_to_remove = list(path.glob('exp*'))\n",
    "#folders_to_remove = list(path.glob('exp*/*/nonn/freq*'))\n",
    "\n",
    "folders_to_remove"
   ]
  },
  {
   "cell_type": "code",
   "execution_count": 11,
   "metadata": {
    "hidden": true
   },
   "outputs": [],
   "source": [
    "# To remove a folder we use shutil.rmtree()\n",
    "for folder in folders_to_remove: shutil.rmtree(folder)"
   ]
  },
  {
   "cell_type": "code",
   "execution_count": 9,
   "metadata": {
    "hidden": true
   },
   "outputs": [
    {
     "data": {
      "text/plain": [
       "[]"
      ]
     },
     "execution_count": 9,
     "metadata": {},
     "output_type": "execute_result"
    }
   ],
   "source": [
    "list(path.glob('exp*/*/nn/freq*nn_w5nn_p3nn_s3nn_tw4nn_bs4nn_epoch5*'))"
   ]
  },
  {
   "cell_type": "markdown",
   "metadata": {
    "heading_collapsed": true
   },
   "source": [
    "# Rename folders"
   ]
  },
  {
   "cell_type": "code",
   "execution_count": 44,
   "metadata": {
    "hidden": true
   },
   "outputs": [],
   "source": [
    "path = Path(f'../../data/cluster_results')"
   ]
  },
  {
   "cell_type": "code",
   "execution_count": 48,
   "metadata": {
    "hidden": true
   },
   "outputs": [],
   "source": [
    "files2move = list(path.glob('exp*/*/nonn/*/noNNRestart*'))"
   ]
  },
  {
   "cell_type": "code",
   "execution_count": 46,
   "metadata": {
    "hidden": true
   },
   "outputs": [],
   "source": [
    "def move_file(file):\n",
    "    path = file.parent\n",
    "    path = path.parent / path.name.replace('divNo', 'divRst')\n",
    "    path.mkdir(parents=True, exist_ok=True)\n",
    "    new_file = path / file.name.replace('Restart', '')\n",
    "    file.rename(new_file)"
   ]
  },
  {
   "cell_type": "code",
   "execution_count": 47,
   "metadata": {
    "hidden": true
   },
   "outputs": [
    {
     "data": {
      "text/html": [
       "\n",
       "    <div>\n",
       "        <style>\n",
       "            /* Turns off some styling */\n",
       "            progress {\n",
       "                /* gets rid of default border in Firefox and Opera. */\n",
       "                border: none;\n",
       "                /* Needs to be in here for Safari polyfill so background images work as expected. */\n",
       "                background-size: auto;\n",
       "            }\n",
       "            .progress-bar-interrupted, .progress-bar-interrupted::-webkit-progress-bar {\n",
       "                background: #F44336;\n",
       "            }\n",
       "        </style>\n",
       "      <progress value='359' class='' max='359', style='width:300px; height:20px; vertical-align: middle;'></progress>\n",
       "      100.00% [359/359 00:00<00:00]\n",
       "    </div>\n",
       "    "
      ],
      "text/plain": [
       "<IPython.core.display.HTML object>"
      ]
     },
     "metadata": {},
     "output_type": "display_data"
    }
   ],
   "source": [
    "for file in progress_bar(files2move): move_file(file)"
   ]
  },
  {
   "cell_type": "code",
   "execution_count": null,
   "metadata": {
    "hidden": true
   },
   "outputs": [],
   "source": []
  },
  {
   "cell_type": "code",
   "execution_count": null,
   "metadata": {
    "hidden": true
   },
   "outputs": [],
   "source": []
  },
  {
   "cell_type": "code",
   "execution_count": null,
   "metadata": {
    "hidden": true
   },
   "outputs": [],
   "source": []
  },
  {
   "cell_type": "code",
   "execution_count": null,
   "metadata": {
    "hidden": true
   },
   "outputs": [],
   "source": []
  },
  {
   "cell_type": "code",
   "execution_count": null,
   "metadata": {
    "hidden": true
   },
   "outputs": [],
   "source": []
  },
  {
   "cell_type": "code",
   "execution_count": null,
   "metadata": {
    "hidden": true
   },
   "outputs": [],
   "source": []
  }
 ],
 "metadata": {
  "kernelspec": {
   "display_name": "Python 3",
   "language": "python",
   "name": "python3"
  },
  "language_info": {
   "codemirror_mode": {
    "name": "ipython",
    "version": 3
   },
   "file_extension": ".py",
   "mimetype": "text/x-python",
   "name": "python",
   "nbconvert_exporter": "python",
   "pygments_lexer": "ipython3",
   "version": "3.7.3"
  },
  "toc": {
   "base_numbering": 1,
   "nav_menu": {},
   "number_sections": true,
   "sideBar": true,
   "skip_h1_title": false,
   "title_cell": "Table of Contents",
   "title_sidebar": "Contents",
   "toc_cell": false,
   "toc_position": {},
   "toc_section_display": true,
   "toc_window_display": false
  }
 },
 "nbformat": 4,
 "nbformat_minor": 2
}
