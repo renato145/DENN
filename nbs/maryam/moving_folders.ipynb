{
 "cells": [
  {
   "cell_type": "code",
   "execution_count": 2,
   "metadata": {},
   "outputs": [],
   "source": [
    "import shutil\n",
    "from pathlib import Path"
   ]
  },
  {
   "cell_type": "code",
   "execution_count": 3,
   "metadata": {},
   "outputs": [],
   "source": [
    "path= Path(f'../../data/cluster_results')"
   ]
  },
  {
   "cell_type": "code",
   "execution_count": 4,
   "metadata": {},
   "outputs": [
    {
     "name": "stdout",
     "output_type": "stream",
     "text": [
      "\u001b[34mfreq0.5nn_w5nn_p3nn_s2nn_tw5nn_bs4nn_epoch3\u001b[m\u001b[m\r\n",
      "\u001b[34mfreq0.5nn_w5nn_p3nn_s3nn_tw5nn_bs4nn_epoch3\u001b[m\u001b[m\r\n",
      "\u001b[34mfreq1nn_w5nn_p1nn_s2nn_tw5nn_bs4nn_epoch3\u001b[m\u001b[m\r\n",
      "\u001b[34mfreq1nn_w5nn_p1nn_s3nn_tw5nn_bs4nn_epoch3\u001b[m\u001b[m\r\n",
      "\u001b[34mfreq1nn_w5nn_p2nn_s2nn_tw5nn_bs4nn_epoch3\u001b[m\u001b[m\r\n",
      "\u001b[34mfreq1nn_w5nn_p3nn_s1nn_twNonenn_bs4nn_epoch10\u001b[m\u001b[m\r\n",
      "\u001b[34mfreq1nn_w5nn_p3nn_s2nn_tw5nn_bs4nn_epoch3\u001b[m\u001b[m\r\n",
      "\u001b[34mfreq1nn_w5nn_p3nn_s3nn_tw5nn_bs4nn_epoch3\u001b[m\u001b[m\r\n",
      "\u001b[34mfreq1nn_w5nn_p3nn_s5nn_tw5nn_bs4nn_epoch3\u001b[m\u001b[m\r\n",
      "\u001b[34mfreq1nn_w5nn_p5nn_s2nn_tw5nn_bs4nn_epoch3\u001b[m\u001b[m\r\n",
      "\u001b[34mfreq1nn_w5nn_p5nn_s3nn_tw5nn_bs4nn_epoch3\u001b[m\u001b[m\r\n",
      "\u001b[34mfreq1nn_w5nn_p8nn_s3nn_tw5nn_bs4nn_epoch3\u001b[m\u001b[m\r\n",
      "\u001b[34mfreq4nn_w5nn_p3nn_s2nn_tw5nn_bs4nn_epoch3\u001b[m\u001b[m\r\n",
      "\u001b[34mfreq4nn_w5nn_p3nn_s3nn_tw5nn_bs4nn_epoch3\u001b[m\u001b[m\r\n"
     ]
    }
   ],
   "source": [
    "!ls {path}/exp1/sphere"
   ]
  },
  {
   "cell_type": "code",
   "execution_count": 5,
   "metadata": {},
   "outputs": [
    {
     "data": {
      "text/plain": [
       "[PosixPath('../../data/cluster_results/exp1/sphere/freq1nn_w5nn_p8nn_s3nn_tw5nn_bs4nn_epoch3'),\n",
       " PosixPath('../../data/cluster_results/exp1/rosenbrock/freq1nn_w5nn_p8nn_s3nn_tw5nn_bs4nn_epoch3'),\n",
       " PosixPath('../../data/cluster_results/exp1/rastrigin/freq1nn_w5nn_p8nn_s3nn_tw5nn_bs4nn_epoch3'),\n",
       " PosixPath('../../data/cluster_results/exp3/sphere/freq1nn_w5nn_p8nn_s3nn_tw5nn_bs4nn_epoch3'),\n",
       " PosixPath('../../data/cluster_results/exp3/rosenbrock/freq1nn_w5nn_p8nn_s3nn_tw5nn_bs4nn_epoch3'),\n",
       " PosixPath('../../data/cluster_results/exp3/rastrigin/freq1nn_w5nn_p8nn_s3nn_tw5nn_bs4nn_epoch3'),\n",
       " PosixPath('../../data/cluster_results/exp4/sphere/freq1nn_w5nn_p8nn_s3nn_tw5nn_bs4nn_epoch3'),\n",
       " PosixPath('../../data/cluster_results/exp4/rosenbrock/freq1nn_w5nn_p8nn_s3nn_tw5nn_bs4nn_epoch3'),\n",
       " PosixPath('../../data/cluster_results/exp4/rastrigin/freq1nn_w5nn_p8nn_s3nn_tw5nn_bs4nn_epoch3'),\n",
       " PosixPath('../../data/cluster_results/exp2/sphere/freq1nn_w5nn_p8nn_s3nn_tw5nn_bs4nn_epoch3'),\n",
       " PosixPath('../../data/cluster_results/exp2/rosenbrock/freq1nn_w5nn_p8nn_s3nn_tw5nn_bs4nn_epoch3'),\n",
       " PosixPath('../../data/cluster_results/exp2/rastrigin/freq1nn_w5nn_p8nn_s3nn_tw5nn_bs4nn_epoch3')]"
      ]
     },
     "execution_count": 5,
     "metadata": {},
     "output_type": "execute_result"
    }
   ],
   "source": [
    "folders_to_remove = list(path.glob('exp*/*/*nn_p8*'))\n",
    "folders_to_remove"
   ]
  },
  {
   "cell_type": "code",
   "execution_count": 6,
   "metadata": {},
   "outputs": [],
   "source": [
    "# To remove a folder we use shutil.rmtree()\n",
    "for folder in folders_to_remove: shutil.rmtree(folder)"
   ]
  },
  {
   "cell_type": "code",
   "execution_count": 7,
   "metadata": {},
   "outputs": [
    {
     "data": {
      "text/plain": [
       "[]"
      ]
     },
     "execution_count": 7,
     "metadata": {},
     "output_type": "execute_result"
    }
   ],
   "source": [
    "list(path.glob('exp*/*/*nn_s5nn_twNonenn_bs4*'))"
   ]
  },
  {
   "cell_type": "code",
   "execution_count": null,
   "metadata": {},
   "outputs": [],
   "source": []
  }
 ],
 "metadata": {
  "kernelspec": {
   "display_name": "Python 3",
   "language": "python",
   "name": "python3"
  },
  "language_info": {
   "codemirror_mode": {
    "name": "ipython",
    "version": 3
   },
   "file_extension": ".py",
   "mimetype": "text/x-python",
   "name": "python",
   "nbconvert_exporter": "python",
   "pygments_lexer": "ipython3",
   "version": "3.7.3"
  },
  "toc": {
   "base_numbering": 1,
   "nav_menu": {},
   "number_sections": true,
   "sideBar": true,
   "skip_h1_title": false,
   "title_cell": "Table of Contents",
   "title_sidebar": "Contents",
   "toc_cell": false,
   "toc_position": {},
   "toc_section_display": true,
   "toc_window_display": false
  }
 },
 "nbformat": 4,
 "nbformat_minor": 2
}
