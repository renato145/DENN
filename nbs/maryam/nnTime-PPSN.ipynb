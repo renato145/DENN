{
 "cells": [
  {
   "cell_type": "code",
   "execution_count": 1,
   "metadata": {},
   "outputs": [],
   "source": [
    "%reload_ext autoreload\n",
    "%autoreload 2\n",
    "%matplotlib inline\n",
    "from denn import *\n",
    "import pandas as pd\n",
    "import seaborn as sns\n",
    "import io #Used as buffer"
   ]
  },
  {
   "cell_type": "markdown",
   "metadata": {},
   "source": [
    "# Functions"
   ]
  },
  {
   "cell_type": "code",
   "execution_count": 2,
   "metadata": {
    "code_folding": []
   },
   "outputs": [],
   "source": [
    "path= Path(f'../../data/cluster_results')\n",
    "col_by_freq = True\n",
    "col_palette = 'Set3'\n",
    "pat = re.compile('.*/(exp\\d)/(\\w*)/nonn/freq([0-9\\.]+)div(\\w+)/(\\w+)_\\w+.csv')\n",
    "decode_keys = ['experiment','function','freq','div','method']\n",
    "nn_pat = re.compile('.*/(exp\\d)/(\\w*)/nn/freq([0-9\\.]+)\\w+div([A-Za-z]+)/(\\w+)_(\\w+)_\\w+.csv')\n",
    "nn_decode_keys = ['experiment','function','freq','div','method','replace_mech']\n",
    "\n",
    "def get_nn_files(m): return list(path.glob(f'**/nn/**/*{m}.csv'))\n",
    "\n",
    "\n",
    "def read_nn_csv(f,m):\n",
    "    df = pd.read_csv(f)\n",
    "    for k,v in zip(nn_decode_keys,nn_pat.search(str(f)).groups()): df[k] = v\n",
    "    df['freq'] = df['freq'].astype(float)\n",
    "    df['method'] = df['method'].str.replace('NNnorm_Worst', 'NN')\n",
    "    df['method'] = df['method'] + '_' + df['div'] #'_' + df['replace_mech'] +\n",
    "    \n",
    "    df.drop(['replace_mech','div'], axis=1, inplace=True)\n",
    "    df.rename({'0':m.upper(), m:m.upper()}, axis=1, inplace=True)\n",
    "    return df\n",
    "\n",
    "def get_data(m, normalize=False):\n",
    "    nn_files = get_nn_files(m)\n",
    "    data = pd.concat([read_nn_csv(f,m) for f in nn_files])\n",
    "    if normalize:\n",
    "        data_norm = (data.groupby(['experiment','function','freq','method'])[m.upper()].mean().reset_index()\n",
    "                         .groupby(['experiment','function'])[m.upper()].min().reset_index()\n",
    "                         .rename({m.upper():m.upper()+'_norm'}, axis=1))\n",
    "        data = data.merge(data_norm, 'left')\n",
    "        data[m.upper()+'_norm'] = data[m.upper()] / data[m.upper()+'_norm']\n",
    "    return data\n",
    "\n",
    "\n"
   ]
  },
  {
   "cell_type": "markdown",
   "metadata": {},
   "source": [
    "# Table"
   ]
  },
  {
   "cell_type": "code",
   "execution_count": 3,
   "metadata": {},
   "outputs": [
    {
     "data": {
      "text/html": [
       "<div>\n",
       "<style scoped>\n",
       "    .dataframe tbody tr th:only-of-type {\n",
       "        vertical-align: middle;\n",
       "    }\n",
       "\n",
       "    .dataframe tbody tr th {\n",
       "        vertical-align: top;\n",
       "    }\n",
       "\n",
       "    .dataframe thead th {\n",
       "        text-align: right;\n",
       "    }\n",
       "</style>\n",
       "<table border=\"1\" class=\"dataframe\">\n",
       "  <thead>\n",
       "    <tr style=\"text-align: right;\">\n",
       "      <th></th>\n",
       "      <th>NN_TIME</th>\n",
       "      <th>experiment</th>\n",
       "      <th>function</th>\n",
       "      <th>freq</th>\n",
       "      <th>method</th>\n",
       "    </tr>\n",
       "  </thead>\n",
       "  <tbody>\n",
       "    <tr>\n",
       "      <th>0</th>\n",
       "      <td>0.097175</td>\n",
       "      <td>exp1</td>\n",
       "      <td>Sphere</td>\n",
       "      <td>1.0</td>\n",
       "      <td>NN_HMu</td>\n",
       "    </tr>\n",
       "    <tr>\n",
       "      <th>1</th>\n",
       "      <td>0.096994</td>\n",
       "      <td>exp1</td>\n",
       "      <td>Sphere</td>\n",
       "      <td>1.0</td>\n",
       "      <td>NN_HMu</td>\n",
       "    </tr>\n",
       "    <tr>\n",
       "      <th>2</th>\n",
       "      <td>0.096883</td>\n",
       "      <td>exp1</td>\n",
       "      <td>Sphere</td>\n",
       "      <td>1.0</td>\n",
       "      <td>NN_HMu</td>\n",
       "    </tr>\n",
       "    <tr>\n",
       "      <th>3</th>\n",
       "      <td>0.096573</td>\n",
       "      <td>exp1</td>\n",
       "      <td>Sphere</td>\n",
       "      <td>1.0</td>\n",
       "      <td>NN_HMu</td>\n",
       "    </tr>\n",
       "    <tr>\n",
       "      <th>4</th>\n",
       "      <td>0.096567</td>\n",
       "      <td>exp1</td>\n",
       "      <td>Sphere</td>\n",
       "      <td>1.0</td>\n",
       "      <td>NN_HMu</td>\n",
       "    </tr>\n",
       "  </tbody>\n",
       "</table>\n",
       "</div>"
      ],
      "text/plain": [
       "    NN_TIME experiment function  freq  method\n",
       "0  0.097175       exp1   Sphere   1.0  NN_HMu\n",
       "1  0.096994       exp1   Sphere   1.0  NN_HMu\n",
       "2  0.096883       exp1   Sphere   1.0  NN_HMu\n",
       "3  0.096573       exp1   Sphere   1.0  NN_HMu\n",
       "4  0.096567       exp1   Sphere   1.0  NN_HMu"
      ]
     },
     "execution_count": 3,
     "metadata": {},
     "output_type": "execute_result"
    }
   ],
   "source": [
    "df=get_data('nn_time', normalize=False)\n",
    "df['function']=df['function'].str.title()\n",
    "df.head()"
   ]
  },
  {
   "cell_type": "code",
   "execution_count": 5,
   "metadata": {},
   "outputs": [],
   "source": [
    "table2=df.pivot_table(values='NN_TIME', index=['function','method'] ,columns=['experiment','freq'])"
   ]
  },
  {
   "cell_type": "code",
   "execution_count": 6,
   "metadata": {},
   "outputs": [
    {
     "name": "stdout",
     "output_type": "stream",
     "text": [
      "experiment,,exp1,exp1,exp1,exp1,exp1,exp2,exp2,exp2,exp2,exp2,exp3,exp3,exp3,exp3,exp3,exp4,exp4,exp4,exp4,exp4\n",
      "freq,,0.5,1.0,4.0,10.0,20.0,0.5,1.0,4.0,10.0,20.0,0.5,1.0,4.0,10.0,20.0,0.5,1.0,4.0,10.0,20.0\n",
      "function,method,,,,,,,,,,,,,,,,,,,,\n",
      "Rastrigin,NN_CwN,0.194,0.097,0.024,0.010,0.005,0.197,0.099,0.025,0.010,0.005,0.200,0.099,0.025,0.010,0.005,0.189,0.094,0.023,0.010,0.005\n",
      "Rastrigin,NN_HMu,0.192,0.098,0.024,0.010,0.007,0.194,0.097,0.025,0.010,0.005,0.201,0.136,0.025,0.010,0.007,0.192,0.099,0.024,0.010,0.005\n",
      "Rastrigin,NN_No,0.197,0.099,0.024,0.010,0.005,0.196,0.098,0.025,0.010,0.005,0.201,0.101,0.024,0.010,0.005,0.196,0.095,0.024,0.010,0.005\n",
      "Rastrigin,NN_RI,0.198,0.098,0.025,0.010,0.005,0.197,0.099,0.024,0.010,0.005,0.203,0.138,0.025,0.010,0.005,0.194,0.098,0.025,0.010,0.005\n",
      "Rosenbrock,NN_CwN,0.196,0.098,0.024,0.010,0.005,0.192,0.097,0.024,0.010,0.005,0.200,0.100,0.025,0.010,0.005,0.193,0.095,0.023,0.009,0.005\n",
      "Rosenbrock,NN_HMu,0.193,0.097,0.024,0.010,0.005,0.195,0.097,0.025,0.010,0.005,0.197,0.098,0.025,0.010,0.005,0.192,0.096,0.024,0.010,0.005\n",
      "Rosenbrock,NN_No,0.197,0.096,0.024,0.010,0.005,0.194,0.099,0.024,0.010,0.005,0.202,0.101,0.025,0.010,0.005,0.193,0.095,0.024,0.010,0.005\n",
      "Rosenbrock,NN_RI,0.195,0.099,0.025,0.010,0.005,0.194,0.097,0.024,0.010,0.005,0.203,0.100,0.025,0.010,0.005,0.194,0.096,0.025,0.010,0.005\n",
      "Sphere,NN_CwN,0.191,0.098,0.025,0.010,0.005,0.195,0.096,0.025,0.010,0.005,0.272,0.100,0.025,0.010,0.005,0.188,0.095,0.024,0.009,0.005\n",
      "Sphere,NN_HMu,0.196,0.097,0.025,0.010,0.005,0.193,0.097,0.024,0.010,0.005,0.198,0.098,0.025,0.010,0.005,0.191,0.097,0.025,0.010,0.005\n",
      "Sphere,NN_No,0.200,0.097,0.024,0.010,0.005,0.194,0.098,0.034,0.010,0.005,0.201,0.100,0.025,0.010,0.005,0.195,0.098,0.024,0.010,0.005\n",
      "Sphere,NN_RI,0.268,0.100,0.025,0.010,0.005,0.200,0.099,0.024,0.010,0.005,0.200,0.101,0.025,0.010,0.005,0.188,0.097,0.025,0.013,0.005\n",
      "\n"
     ]
    }
   ],
   "source": [
    "print(table2.to_csv(float_format='%.3f'))"
   ]
  },
  {
   "cell_type": "code",
   "execution_count": null,
   "metadata": {},
   "outputs": [],
   "source": []
  }
 ],
 "metadata": {
  "kernelspec": {
   "display_name": "Python 3",
   "language": "python",
   "name": "python3"
  },
  "language_info": {
   "codemirror_mode": {
    "name": "ipython",
    "version": 3
   },
   "file_extension": ".py",
   "mimetype": "text/x-python",
   "name": "python",
   "nbconvert_exporter": "python",
   "pygments_lexer": "ipython3",
   "version": "3.7.3"
  },
  "toc": {
   "base_numbering": 1,
   "nav_menu": {},
   "number_sections": true,
   "sideBar": true,
   "skip_h1_title": false,
   "title_cell": "Table of Contents",
   "title_sidebar": "Contents",
   "toc_cell": false,
   "toc_position": {
    "height": "calc(100% - 180px)",
    "left": "10px",
    "top": "150px",
    "width": "165px"
   },
   "toc_section_display": true,
   "toc_window_display": false
  }
 },
 "nbformat": 4,
 "nbformat_minor": 2
}
