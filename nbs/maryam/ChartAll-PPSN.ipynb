{
 "cells": [
  {
   "cell_type": "code",
   "execution_count": 1,
   "metadata": {},
   "outputs": [],
   "source": [
    "%reload_ext autoreload\n",
    "%autoreload 2\n",
    "%matplotlib inline\n",
    "from denn import *\n",
    "import pandas as pd, seaborn as sns, io, altair as alt\n",
    "alt.renderers.enable('notebook');"
   ]
  },
  {
   "cell_type": "code",
   "execution_count": 2,
   "metadata": {
    "code_folding": [
     21,
     31,
     43,
     71,
     88
    ]
   },
   "outputs": [],
   "source": [
    "# Functions\n",
    "path= Path(f'../../data/cluster_results')\n",
    "col_by_freq = True\n",
    "col_palette = 'Set3'\n",
    "pat = re.compile('.*/(exp\\d)/(\\w*)/nonn/freq([0-9\\.]+)div(\\w+)/(\\w+)_\\w+.csv')\n",
    "decode_keys = ['experiment','function','freq','div','method']\n",
    "nn_pat = re.compile('.*/(exp\\d)/(\\w*)/nn/freq([0-9\\.]+)\\w+div([A-Za-z]+)/(\\w+)_(\\w+)_\\w+.csv')\n",
    "nn_decode_keys = ['experiment','function','freq','div','method','replace_mech']\n",
    "\n",
    "def get_files(m): return list(path.glob(f'**/nonn/**/*{m}.csv'))\n",
    "def get_nn_files(m): return list(path.glob(f'**/nn/**/*{m}.csv'))\n",
    "\n",
    "def read_csv(f,m):\n",
    "    df = pd.read_csv(f)\n",
    "    for k,v in zip(decode_keys,pat.search(str(f)).groups()): df[k] = v\n",
    "    df['freq'] = df['freq'].astype(float)\n",
    "    df['method'] = df['method'] + '_' + df['div']\n",
    "    df['method'] = df['method'].str.replace('noNNRestart', 'noNNRst')\n",
    "    df.drop('div', axis=1, inplace=True)\n",
    "    df.rename({'0':m.upper(), m:m.upper()}, axis=1, inplace=True)\n",
    "    return df\n",
    "\n",
    "def read_nn_csv(f,m):\n",
    "    df = pd.read_csv(f)\n",
    "    for k,v in zip(nn_decode_keys,nn_pat.search(str(f)).groups()): df[k] = v\n",
    "    df['freq'] = df['freq'].astype(float)\n",
    "    df['method'] = df['method'] + '_' + df['replace_mech'] + '_' + df['div']\n",
    "    df['method'] = df['method'].str.replace('NNnorm_Worst', 'NN')\n",
    "    df.drop(['replace_mech','div'], axis=1, inplace=True)\n",
    "    df.rename({'0':m.upper(), m:m.upper()}, axis=1, inplace=True)\n",
    "    return df\n",
    "\n",
    "def get_data(m, normalize=False):\n",
    "    files = get_files(m)\n",
    "    nn_files = get_nn_files(m)\n",
    "    data = pd.concat([read_csv(f,m) for f in files] + [read_nn_csv(f,m) for f in nn_files])\n",
    "    if normalize:\n",
    "        data_norm = (data.groupby(['experiment','function','freq','method'])[m.upper()].mean().reset_index()\n",
    "                         .groupby(['experiment','function'])[m.upper()].min().reset_index()\n",
    "                         .rename({m.upper():m.upper()+'_norm'}, axis=1))\n",
    "        data = data.merge(data_norm, 'left')\n",
    "        data[m.upper()+'_norm'] = data[m.upper()] / data[m.upper()+'_norm']\n",
    "    return data\n",
    "\n",
    "def plot_one(data, m, normalize=False, title='', title_size=14, col_by_freq=col_by_freq, col_palette=col_palette,\n",
    "             legend=False, hide_x=True, hide_y=True, ax=None, do_lim=True, ll=0.2, ul=0.8):\n",
    "    m = m.upper()\n",
    "    if normalize: m = m + '_norm' \n",
    "    if ax is None: fig,ax = plt.subplots(1,1,figsize=(6,4))\n",
    "    sns.boxplot('method' if col_by_freq else 'freq', m, hue='freq' if col_by_freq else 'method',\n",
    "                data=data, palette=col_palette,\n",
    "                # width=2.5,\n",
    "                linewidth=0.5, fliersize=0, ax=ax)\n",
    "    if not legend: ax.get_legend().remove()\n",
    "    if do_lim:\n",
    "        ax.set_ylim(-0.05,1.05)\n",
    "    else:\n",
    "        g = data.groupby(['method','freq'])[m]\n",
    "        q1,q3 = g.quantile(ll),g.quantile(ul)\n",
    "        iqr = q3-q1\n",
    "        lower_lim = (q1 - 1.5*iqr).min()\n",
    "        upper_lim = (q3 + 1.5*iqr).max()\n",
    "        lower_lim = data[m][data[m]>=lower_lim].min()\n",
    "        upper_lim = data[m][data[m]<=upper_lim].max()\n",
    "        ax.set_ylim(lower_lim,upper_lim)\n",
    "        \n",
    "    ax.set_xlabel('')\n",
    "    if hide_x: ax.set_xticklabels([])\n",
    "    if hide_y: ax.set_ylabel('')\n",
    "    ax.set_title(title, size=title_size)\n",
    "    return ax\n",
    "\n",
    "def plot_all_vertical(m, normalize=False, title_size=14, col_by_freq=col_by_freq, col_palette=col_palette, do_lim=True,\n",
    "                      ll=0.2, ul=0.8):\n",
    "    data = get_data(m, normalize=normalize)\n",
    "#     fig,axss = plt.subplots(4, 3, figsize=(14,16), sharex=do_lim, sharey=do_lim)\n",
    "    fig,axss = plt.subplots(4, 3, figsize=(20,16), sharex=False, sharey=False)\n",
    "    for i,(axs,exp) in enumerate(zip(axss,['exp1','exp2','exp3','exp4'])):\n",
    "        first_exp = i==0\n",
    "        for j,(ax,func) in enumerate(zip(axs,['sphere', 'rosenbrock', 'rastrigin'])):\n",
    "            first_func = j==0\n",
    "            test = data.query(f'experiment=={exp!r} and function=={func!r}').sort_values('method', ascending=False)\n",
    "            plot_one(test, m, normalize=normalize, title=f'{exp}-{func.title()}', title_size=title_size, hide_x=False,\n",
    "                     hide_y=not first_func, col_by_freq=col_by_freq, col_palette=col_palette, ax=ax,\n",
    "                     do_lim=do_lim, ll=ll, ul=ul)\n",
    "        ax.legend(loc='upper left', ncol=3)\n",
    "    plt.tight_layout()\n",
    "    return fig,axss\n",
    "\n",
    "def plot_all_horizontal(m, normalize=False, title_size=14, col_by_freq=col_by_freq, col_palette=col_palette, do_lim=True,\n",
    "                        ll=0.2, ul=0.8):\n",
    "    data = get_data(m, normalize=normalize)\n",
    "#     fig,axss = plt.subplots(4, 3, figsize=(14,16), sharex=do_lim, sharey=do_lim)\n",
    "    fig,axss = plt.subplots(3, 4, figsize=(20,12), sharex=False, sharey=False)#20,12\n",
    "    for i,exp in enumerate(['exp1','exp2','exp3','exp4']):\n",
    "        first_exp = i==0\n",
    "        axs = axss[:,i]\n",
    "        for j,(ax,func) in enumerate(zip(axs,['sphere', 'rosenbrock', 'rastrigin'])):\n",
    "            first_func = i==0\n",
    "            test = data.query(f'experiment=={exp!r} and function=={func!r}').sort_values('method', ascending=False)\n",
    "            plot_one(test, m, normalize=normalize, title=f'{exp}-{func.title()}', title_size=title_size, hide_x=False,\n",
    "                     hide_y=not first_func, col_by_freq=col_by_freq, col_palette=col_palette, ax=ax,\n",
    "                     do_lim=do_lim, ll=ll, ul=ul)\n",
    "        \n",
    "    for axs in axss: axs[-1].legend(loc='upper right', ncol=3)\n",
    "    plt.tight_layout()\n",
    "    return fig,axss\n"
   ]
  },
  {
   "cell_type": "code",
   "execution_count": 3,
   "metadata": {},
   "outputs": [
    {
     "data": {
      "text/html": [
       "<div>\n",
       "<style scoped>\n",
       "    .dataframe tbody tr th:only-of-type {\n",
       "        vertical-align: middle;\n",
       "    }\n",
       "\n",
       "    .dataframe tbody tr th {\n",
       "        vertical-align: top;\n",
       "    }\n",
       "\n",
       "    .dataframe thead th {\n",
       "        text-align: right;\n",
       "    }\n",
       "</style>\n",
       "<table border=\"1\" class=\"dataframe\">\n",
       "  <thead>\n",
       "    <tr style=\"text-align: right;\">\n",
       "      <th></th>\n",
       "      <th>MOF</th>\n",
       "      <th>experiment</th>\n",
       "      <th>function</th>\n",
       "      <th>freq</th>\n",
       "      <th>method</th>\n",
       "      <th>MOF_norm</th>\n",
       "    </tr>\n",
       "  </thead>\n",
       "  <tbody>\n",
       "    <tr>\n",
       "      <th>0</th>\n",
       "      <td>0.975234</td>\n",
       "      <td>exp1</td>\n",
       "      <td>sphere</td>\n",
       "      <td>1.0</td>\n",
       "      <td>noNN_RI</td>\n",
       "      <td>2.486365</td>\n",
       "    </tr>\n",
       "    <tr>\n",
       "      <th>1</th>\n",
       "      <td>1.005953</td>\n",
       "      <td>exp1</td>\n",
       "      <td>sphere</td>\n",
       "      <td>1.0</td>\n",
       "      <td>noNN_RI</td>\n",
       "      <td>2.564684</td>\n",
       "    </tr>\n",
       "    <tr>\n",
       "      <th>2</th>\n",
       "      <td>1.115148</td>\n",
       "      <td>exp1</td>\n",
       "      <td>sphere</td>\n",
       "      <td>1.0</td>\n",
       "      <td>noNN_RI</td>\n",
       "      <td>2.843077</td>\n",
       "    </tr>\n",
       "    <tr>\n",
       "      <th>3</th>\n",
       "      <td>1.023319</td>\n",
       "      <td>exp1</td>\n",
       "      <td>sphere</td>\n",
       "      <td>1.0</td>\n",
       "      <td>noNN_RI</td>\n",
       "      <td>2.608960</td>\n",
       "    </tr>\n",
       "    <tr>\n",
       "      <th>4</th>\n",
       "      <td>1.101484</td>\n",
       "      <td>exp1</td>\n",
       "      <td>sphere</td>\n",
       "      <td>1.0</td>\n",
       "      <td>noNN_RI</td>\n",
       "      <td>2.808241</td>\n",
       "    </tr>\n",
       "  </tbody>\n",
       "</table>\n",
       "</div>"
      ],
      "text/plain": [
       "        MOF experiment function  freq   method  MOF_norm\n",
       "0  0.975234       exp1   sphere   1.0  noNN_RI  2.486365\n",
       "1  1.005953       exp1   sphere   1.0  noNN_RI  2.564684\n",
       "2  1.115148       exp1   sphere   1.0  noNN_RI  2.843077\n",
       "3  1.023319       exp1   sphere   1.0  noNN_RI  2.608960\n",
       "4  1.101484       exp1   sphere   1.0  noNN_RI  2.808241"
      ]
     },
     "execution_count": 3,
     "metadata": {},
     "output_type": "execute_result"
    }
   ],
   "source": [
    "data = get_data('mof', normalize=True)\n",
    "data.head()"
   ]
  },
  {
   "cell_type": "code",
   "execution_count": 4,
   "metadata": {
    "scrolled": true
   },
   "outputs": [],
   "source": [
    "mean_data = (data.groupby(['experiment','function','method'])[['MOF_norm']]\n",
    "                 .mean().reset_index())"
   ]
  },
  {
   "cell_type": "code",
   "execution_count": 6,
   "metadata": {
    "scrolled": false
   },
   "outputs": [
    {
     "data": {
      "application/javascript": [
       "const spec = {\"config\": {\"view\": {\"width\": 400, \"height\": 300}, \"mark\": {\"tooltip\": null}}, \"data\": {\"name\": \"data-1ace60a270749e77479a354266198bef\"}, \"mark\": {\"type\": \"bar\", \"clip\": true}, \"encoding\": {\"color\": {\"type\": \"nominal\", \"field\": \"function\", \"title\": \"\"}, \"column\": {\"type\": \"nominal\", \"field\": \"experiment\", \"title\": \"\"}, \"tooltip\": [{\"type\": \"nominal\", \"field\": \"method\"}, {\"type\": \"quantitative\", \"field\": \"MOF_norm\"}, {\"type\": \"nominal\", \"field\": \"experiment\"}, {\"type\": \"nominal\", \"field\": \"function\"}], \"x\": {\"type\": \"nominal\", \"field\": \"method\", \"title\": \"\"}, \"y\": {\"type\": \"quantitative\", \"field\": \"MOF_norm\", \"scale\": {\"domain\": [0, 450]}}}, \"height\": 200, \"width\": 100, \"$schema\": \"https://vega.github.io/schema/vega-lite/v3.4.0.json\", \"datasets\": {\"data-1ace60a270749e77479a354266198bef\": [{\"experiment\": \"exp1\", \"function\": \"rastrigin\", \"method\": \"NN_CwN\", \"MOF_norm\": 6.075353131656666}, {\"experiment\": \"exp1\", \"function\": \"rastrigin\", \"method\": \"NN_HMu\", \"MOF_norm\": 8.005629062482937}, {\"experiment\": \"exp1\", \"function\": \"rastrigin\", \"method\": \"NN_No\", \"MOF_norm\": 7.896484748271214}, {\"experiment\": \"exp1\", \"function\": \"rastrigin\", \"method\": \"NN_RI\", \"MOF_norm\": 2.2883890690662034}, {\"experiment\": \"exp1\", \"function\": \"rastrigin\", \"method\": \"noNNRst_No\", \"MOF_norm\": 3.8484268998716846}, {\"experiment\": \"exp1\", \"function\": \"rastrigin\", \"method\": \"noNN_CwN\", \"MOF_norm\": 4.775830670197007}, {\"experiment\": \"exp1\", \"function\": \"rastrigin\", \"method\": \"noNN_HMu\", \"MOF_norm\": 10.828360757374016}, {\"experiment\": \"exp1\", \"function\": \"rastrigin\", \"method\": \"noNN_No\", \"MOF_norm\": 10.82040939254989}, {\"experiment\": \"exp1\", \"function\": \"rastrigin\", \"method\": \"noNN_RI\", \"MOF_norm\": 1.8844116250189702}, {\"experiment\": \"exp1\", \"function\": \"rosenbrock\", \"method\": \"NN_CwN\", \"MOF_norm\": 15.909241215635635}, {\"experiment\": \"exp1\", \"function\": \"rosenbrock\", \"method\": \"NN_HMu\", \"MOF_norm\": 3.5273360682727724}, {\"experiment\": \"exp1\", \"function\": \"rosenbrock\", \"method\": \"NN_No\", \"MOF_norm\": 4.387777123555737}, {\"experiment\": \"exp1\", \"function\": \"rosenbrock\", \"method\": \"NN_RI\", \"MOF_norm\": 3.409570290456097}, {\"experiment\": \"exp1\", \"function\": \"rosenbrock\", \"method\": \"noNNRst_No\", \"MOF_norm\": 7.949919300200455}, {\"experiment\": \"exp1\", \"function\": \"rosenbrock\", \"method\": \"noNN_CwN\", \"MOF_norm\": 23.38314675417847}, {\"experiment\": \"exp1\", \"function\": \"rosenbrock\", \"method\": \"noNN_HMu\", \"MOF_norm\": 64.7715991908521}, {\"experiment\": \"exp1\", \"function\": \"rosenbrock\", \"method\": \"noNN_No\", \"MOF_norm\": 65.84403630085004}, {\"experiment\": \"exp1\", \"function\": \"rosenbrock\", \"method\": \"noNN_RI\", \"MOF_norm\": 2.886415991232061}, {\"experiment\": \"exp1\", \"function\": \"sphere\", \"method\": \"NN_CwN\", \"MOF_norm\": 15.106375111225558}, {\"experiment\": \"exp1\", \"function\": \"sphere\", \"method\": \"NN_HMu\", \"MOF_norm\": 3.706639215759364}, {\"experiment\": \"exp1\", \"function\": \"sphere\", \"method\": \"NN_No\", \"MOF_norm\": 4.42169947003096}, {\"experiment\": \"exp1\", \"function\": \"sphere\", \"method\": \"NN_RI\", \"MOF_norm\": 3.422141825097175}, {\"experiment\": \"exp1\", \"function\": \"sphere\", \"method\": \"noNNRst_No\", \"MOF_norm\": 7.597808755767135}, {\"experiment\": \"exp1\", \"function\": \"sphere\", \"method\": \"noNN_CwN\", \"MOF_norm\": 21.197520686893547}, {\"experiment\": \"exp1\", \"function\": \"sphere\", \"method\": \"noNN_HMu\", \"MOF_norm\": 56.93976471177952}, {\"experiment\": \"exp1\", \"function\": \"sphere\", \"method\": \"noNN_No\", \"MOF_norm\": 58.32343237965507}, {\"experiment\": \"exp1\", \"function\": \"sphere\", \"method\": \"noNN_RI\", \"MOF_norm\": 2.4149004187218224}, {\"experiment\": \"exp2\", \"function\": \"rastrigin\", \"method\": \"NN_CwN\", \"MOF_norm\": 4.090265241083395}, {\"experiment\": \"exp2\", \"function\": \"rastrigin\", \"method\": \"NN_HMu\", \"MOF_norm\": 3.0991624414066976}, {\"experiment\": \"exp2\", \"function\": \"rastrigin\", \"method\": \"NN_No\", \"MOF_norm\": 2.1512501833878734}, {\"experiment\": \"exp2\", \"function\": \"rastrigin\", \"method\": \"NN_RI\", \"MOF_norm\": 3.6744722201486884}, {\"experiment\": \"exp2\", \"function\": \"rastrigin\", \"method\": \"noNNRst_No\", \"MOF_norm\": 9.940930402637818}, {\"experiment\": \"exp2\", \"function\": \"rastrigin\", \"method\": \"noNN_CwN\", \"MOF_norm\": 9.160299079687109}, {\"experiment\": \"exp2\", \"function\": \"rastrigin\", \"method\": \"noNN_HMu\", \"MOF_norm\": 2.3773249553772837}, {\"experiment\": \"exp2\", \"function\": \"rastrigin\", \"method\": \"noNN_No\", \"MOF_norm\": 2.0095877179977437}, {\"experiment\": \"exp2\", \"function\": \"rastrigin\", \"method\": \"noNN_RI\", \"MOF_norm\": 2.697893413862727}, {\"experiment\": \"exp2\", \"function\": \"rosenbrock\", \"method\": \"NN_CwN\", \"MOF_norm\": 47.59717836906942}, {\"experiment\": \"exp2\", \"function\": \"rosenbrock\", \"method\": \"NN_HMu\", \"MOF_norm\": 8.38454405243573}, {\"experiment\": \"exp2\", \"function\": \"rosenbrock\", \"method\": \"NN_No\", \"MOF_norm\": 5.932252228430624}, {\"experiment\": \"exp2\", \"function\": \"rosenbrock\", \"method\": \"NN_RI\", \"MOF_norm\": 14.31646221934728}, {\"experiment\": \"exp2\", \"function\": \"rosenbrock\", \"method\": \"noNNRst_No\", \"MOF_norm\": 214.5283719857177}, {\"experiment\": \"exp2\", \"function\": \"rosenbrock\", \"method\": \"noNN_CwN\", \"MOF_norm\": 258.6523242764269}, {\"experiment\": \"exp2\", \"function\": \"rosenbrock\", \"method\": \"noNN_HMu\", \"MOF_norm\": 9.341279963777094}, {\"experiment\": \"exp2\", \"function\": \"rosenbrock\", \"method\": \"noNN_No\", \"MOF_norm\": 15.78116341981611}, {\"experiment\": \"exp2\", \"function\": \"rosenbrock\", \"method\": \"noNN_RI\", \"MOF_norm\": 8.855752158267613}, {\"experiment\": \"exp2\", \"function\": \"sphere\", \"method\": \"NN_CwN\", \"MOF_norm\": 22.831647610143673}, {\"experiment\": \"exp2\", \"function\": \"sphere\", \"method\": \"NN_HMu\", \"MOF_norm\": 5.165091277256378}, {\"experiment\": \"exp2\", \"function\": \"sphere\", \"method\": \"NN_No\", \"MOF_norm\": 3.915806315126183}, {\"experiment\": \"exp2\", \"function\": \"sphere\", \"method\": \"NN_RI\", \"MOF_norm\": 8.230813354175671}, {\"experiment\": \"exp2\", \"function\": \"sphere\", \"method\": \"noNNRst_No\", \"MOF_norm\": 78.26347208584531}, {\"experiment\": \"exp2\", \"function\": \"sphere\", \"method\": \"noNN_CwN\", \"MOF_norm\": 121.33298499302413}, {\"experiment\": \"exp2\", \"function\": \"sphere\", \"method\": \"noNN_HMu\", \"MOF_norm\": 16.351764248555813}, {\"experiment\": \"exp2\", \"function\": \"sphere\", \"method\": \"noNN_No\", \"MOF_norm\": 18.876097264845285}, {\"experiment\": \"exp2\", \"function\": \"sphere\", \"method\": \"noNN_RI\", \"MOF_norm\": 5.059692406335253}, {\"experiment\": \"exp3\", \"function\": \"rastrigin\", \"method\": \"NN_CwN\", \"MOF_norm\": 9.303608360250898}, {\"experiment\": \"exp3\", \"function\": \"rastrigin\", \"method\": \"NN_HMu\", \"MOF_norm\": 10.837699155952087}, {\"experiment\": \"exp3\", \"function\": \"rastrigin\", \"method\": \"NN_No\", \"MOF_norm\": 12.54857884587984}, {\"experiment\": \"exp3\", \"function\": \"rastrigin\", \"method\": \"NN_RI\", \"MOF_norm\": 1.4621707673671003}, {\"experiment\": \"exp3\", \"function\": \"rastrigin\", \"method\": \"noNNRst_No\", \"MOF_norm\": 7.684927227396818}, {\"experiment\": \"exp3\", \"function\": \"rastrigin\", \"method\": \"noNN_CwN\", \"MOF_norm\": 8.245543166753366}, {\"experiment\": \"exp3\", \"function\": \"rastrigin\", \"method\": \"noNN_HMu\", \"MOF_norm\": 12.104610111626794}, {\"experiment\": \"exp3\", \"function\": \"rastrigin\", \"method\": \"noNN_No\", \"MOF_norm\": 14.711660614194525}, {\"experiment\": \"exp3\", \"function\": \"rastrigin\", \"method\": \"noNN_RI\", \"MOF_norm\": 1.2993149578704675}, {\"experiment\": \"exp3\", \"function\": \"rosenbrock\", \"method\": \"NN_CwN\", \"MOF_norm\": 68.25075044527561}, {\"experiment\": \"exp3\", \"function\": \"rosenbrock\", \"method\": \"NN_HMu\", \"MOF_norm\": 6.1909501632020465}, {\"experiment\": \"exp3\", \"function\": \"rosenbrock\", \"method\": \"NN_No\", \"MOF_norm\": 15.285403786330784}, {\"experiment\": \"exp3\", \"function\": \"rosenbrock\", \"method\": \"NN_RI\", \"MOF_norm\": 7.369310671789032}, {\"experiment\": \"exp3\", \"function\": \"rosenbrock\", \"method\": \"noNNRst_No\", \"MOF_norm\": 4953.875427492007}, {\"experiment\": \"exp3\", \"function\": \"rosenbrock\", \"method\": \"noNN_CwN\", \"MOF_norm\": 5129.921677479593}, {\"experiment\": \"exp3\", \"function\": \"rosenbrock\", \"method\": \"noNN_HMu\", \"MOF_norm\": 5.72917180292699}, {\"experiment\": \"exp3\", \"function\": \"rosenbrock\", \"method\": \"noNN_No\", \"MOF_norm\": 15.406321175603138}, {\"experiment\": \"exp3\", \"function\": \"rosenbrock\", \"method\": \"noNN_RI\", \"MOF_norm\": 10.457063042234966}, {\"experiment\": \"exp3\", \"function\": \"sphere\", \"method\": \"NN_CwN\", \"MOF_norm\": 94.09586481064942}, {\"experiment\": \"exp3\", \"function\": \"sphere\", \"method\": \"NN_HMu\", \"MOF_norm\": 6.186952933389031}, {\"experiment\": \"exp3\", \"function\": \"sphere\", \"method\": \"NN_No\", \"MOF_norm\": 5.808031622087579}, {\"experiment\": \"exp3\", \"function\": \"sphere\", \"method\": \"NN_RI\", \"MOF_norm\": 7.605231401877749}, {\"experiment\": \"exp3\", \"function\": \"sphere\", \"method\": \"noNNRst_No\", \"MOF_norm\": 872.5846985364689}, {\"experiment\": \"exp3\", \"function\": \"sphere\", \"method\": \"noNN_CwN\", \"MOF_norm\": 1055.7740497215286}, {\"experiment\": \"exp3\", \"function\": \"sphere\", \"method\": \"noNN_HMu\", \"MOF_norm\": 4.18592744516235}, {\"experiment\": \"exp3\", \"function\": \"sphere\", \"method\": \"noNN_No\", \"MOF_norm\": 7.595763020871406}, {\"experiment\": \"exp3\", \"function\": \"sphere\", \"method\": \"noNN_RI\", \"MOF_norm\": 9.236717309479019}, {\"experiment\": \"exp4\", \"function\": \"rastrigin\", \"method\": \"NN_CwN\", \"MOF_norm\": 14.578109545980539}, {\"experiment\": \"exp4\", \"function\": \"rastrigin\", \"method\": \"NN_HMu\", \"MOF_norm\": 6.871882479147588}, {\"experiment\": \"exp4\", \"function\": \"rastrigin\", \"method\": \"NN_No\", \"MOF_norm\": 9.111952766409766}, {\"experiment\": \"exp4\", \"function\": \"rastrigin\", \"method\": \"NN_RI\", \"MOF_norm\": 4.941660903388154}, {\"experiment\": \"exp4\", \"function\": \"rastrigin\", \"method\": \"noNNRst_No\", \"MOF_norm\": 3.1756865248866974}, {\"experiment\": \"exp4\", \"function\": \"rastrigin\", \"method\": \"noNN_CwN\", \"MOF_norm\": 8.916165047908818}, {\"experiment\": \"exp4\", \"function\": \"rastrigin\", \"method\": \"noNN_HMu\", \"MOF_norm\": 21.43560069503242}, {\"experiment\": \"exp4\", \"function\": \"rastrigin\", \"method\": \"noNN_No\", \"MOF_norm\": 19.812179115344183}, {\"experiment\": \"exp4\", \"function\": \"rastrigin\", \"method\": \"noNN_RI\", \"MOF_norm\": 4.663062098398273}, {\"experiment\": \"exp4\", \"function\": \"rosenbrock\", \"method\": \"NN_CwN\", \"MOF_norm\": 23.93211123241685}, {\"experiment\": \"exp4\", \"function\": \"rosenbrock\", \"method\": \"NN_HMu\", \"MOF_norm\": 8.417095401779294}, {\"experiment\": \"exp4\", \"function\": \"rosenbrock\", \"method\": \"NN_No\", \"MOF_norm\": 13.097845323372852}, {\"experiment\": \"exp4\", \"function\": \"rosenbrock\", \"method\": \"NN_RI\", \"MOF_norm\": 5.449050207921555}, {\"experiment\": \"exp4\", \"function\": \"rosenbrock\", \"method\": \"noNNRst_No\", \"MOF_norm\": 4.194858360275032}, {\"experiment\": \"exp4\", \"function\": \"rosenbrock\", \"method\": \"noNN_CwN\", \"MOF_norm\": 13.40941567462002}, {\"experiment\": \"exp4\", \"function\": \"rosenbrock\", \"method\": \"noNN_HMu\", \"MOF_norm\": 28.873746766958583}, {\"experiment\": \"exp4\", \"function\": \"rosenbrock\", \"method\": \"noNN_No\", \"MOF_norm\": 31.08369211993437}, {\"experiment\": \"exp4\", \"function\": \"rosenbrock\", \"method\": \"noNN_RI\", \"MOF_norm\": 8.922171292859689}, {\"experiment\": \"exp4\", \"function\": \"sphere\", \"method\": \"NN_CwN\", \"MOF_norm\": 23.62642273977204}, {\"experiment\": \"exp4\", \"function\": \"sphere\", \"method\": \"NN_HMu\", \"MOF_norm\": 9.764314936933008}, {\"experiment\": \"exp4\", \"function\": \"sphere\", \"method\": \"NN_No\", \"MOF_norm\": 14.495612366430878}, {\"experiment\": \"exp4\", \"function\": \"sphere\", \"method\": \"NN_RI\", \"MOF_norm\": 6.985828553662187}, {\"experiment\": \"exp4\", \"function\": \"sphere\", \"method\": \"noNNRst_No\", \"MOF_norm\": 4.362116114037033}, {\"experiment\": \"exp4\", \"function\": \"sphere\", \"method\": \"noNN_CwN\", \"MOF_norm\": 13.821866329766245}, {\"experiment\": \"exp4\", \"function\": \"sphere\", \"method\": \"noNN_HMu\", \"MOF_norm\": 28.892124874940585}, {\"experiment\": \"exp4\", \"function\": \"sphere\", \"method\": \"noNN_No\", \"MOF_norm\": 32.72435540028324}, {\"experiment\": \"exp4\", \"function\": \"sphere\", \"method\": \"noNN_RI\", \"MOF_norm\": 10.364617534122308}]}};\n",
       "const opt = {};\n",
       "const type = \"vega-lite\";\n",
       "const id = \"e661594c-733d-45cc-b102-e17b638c2319\";\n",
       "\n",
       "const output_area = this;\n",
       "\n",
       "require([\"nbextensions/jupyter-vega/index\"], function(vega) {\n",
       "  const target = document.createElement(\"div\");\n",
       "  target.id = id;\n",
       "  target.className = \"vega-embed\";\n",
       "\n",
       "  const style = document.createElement(\"style\");\n",
       "  style.textContent = [\n",
       "    \".vega-embed .error p {\",\n",
       "    \"  color: firebrick;\",\n",
       "    \"  font-size: 14px;\",\n",
       "    \"}\",\n",
       "  ].join(\"\\\\n\");\n",
       "\n",
       "  // element is a jQuery wrapped DOM element inside the output area\n",
       "  // see http://ipython.readthedocs.io/en/stable/api/generated/\\\n",
       "  // IPython.display.html#IPython.display.Javascript.__init__\n",
       "  element[0].appendChild(target);\n",
       "  element[0].appendChild(style);\n",
       "\n",
       "  vega.render(\"#\" + id, spec, type, opt, output_area);\n",
       "}, function (err) {\n",
       "  if (err.requireType !== \"scripterror\") {\n",
       "    throw(err);\n",
       "  }\n",
       "});\n"
      ],
      "text/plain": [
       "<vega.vegalite.VegaLite at 0x1a2e62fa58>"
      ]
     },
     "metadata": {
      "jupyter-vega": "#e661594c-733d-45cc-b102-e17b638c2319"
     },
     "output_type": "display_data"
    },
    {
     "data": {
      "text/plain": []
     },
     "execution_count": 6,
     "metadata": {},
     "output_type": "execute_result"
    },
    {
     "data": {
      "image/png": "[encoded data removed]"
     },
     "metadata": {
      "jupyter-vega": "#e661594c-733d-45cc-b102-e17b638c2319"
     },
     "output_type": "display_data"
    }
   ],
   "source": [
    "alt.Chart(mean_data).mark_bar(clip=True).encode(\n",
    "    alt.X('method', title=''),\n",
    "    alt.Y('MOF_norm', scale=alt.Scale(domain=(0,450))),\n",
    "    alt.Column('experiment', title=''),\n",
    "    alt.Color('function', title=''),\n",
    "    alt.Tooltip(['method','MOF_norm','experiment','function'])\n",
    ").properties(\n",
    "    width=100,\n",
    "    height=200\n",
    ")"
   ]
  },
  {
   "cell_type": "code",
   "execution_count": null,
   "metadata": {},
   "outputs": [],
   "source": []
  },
  {
   "cell_type": "code",
   "execution_count": null,
   "metadata": {},
   "outputs": [],
   "source": []
  },
  {
   "cell_type": "code",
   "execution_count": null,
   "metadata": {},
   "outputs": [],
   "source": []
  },
  {
   "cell_type": "code",
   "execution_count": null,
   "metadata": {},
   "outputs": [],
   "source": []
  }
 ],
 "metadata": {
  "kernelspec": {
   "display_name": "Python 3",
   "language": "python",
   "name": "python3"
  },
  "language_info": {
   "codemirror_mode": {
    "name": "ipython",
    "version": 3
   },
   "file_extension": ".py",
   "mimetype": "text/x-python",
   "name": "python",
   "nbconvert_exporter": "python",
   "pygments_lexer": "ipython3",
   "version": "3.7.3"
  },
  "toc": {
   "base_numbering": 1,
   "nav_menu": {},
   "number_sections": true,
   "sideBar": true,
   "skip_h1_title": false,
   "title_cell": "Table of Contents",
   "title_sidebar": "Contents",
   "toc_cell": false,
   "toc_position": {
    "height": "calc(100% - 180px)",
    "left": "10px",
    "top": "150px",
    "width": "165px"
   },
   "toc_section_display": true,
   "toc_window_display": false
  }
 },
 "nbformat": 4,
 "nbformat_minor": 2
}
