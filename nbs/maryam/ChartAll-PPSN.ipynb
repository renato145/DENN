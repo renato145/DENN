{
 "cells": [
  {
   "cell_type": "code",
   "execution_count": 1,
   "metadata": {},
   "outputs": [],
   "source": [
    "%reload_ext autoreload\n",
    "%autoreload 2\n",
    "%matplotlib inline\n",
    "from denn import *\n",
    "import pandas as pd, seaborn as sns, io, altair as alt\n",
    "alt.renderers.enable('notebook');"
   ]
  },
  {
   "cell_type": "code",
   "execution_count": 2,
   "metadata": {
    "code_folding": [
     21,
     31,
     43,
     71,
     88
    ]
   },
   "outputs": [],
   "source": [
    "# Functions\n",
    "path= Path(f'../../data/cluster_results')\n",
    "col_by_freq = True\n",
    "col_palette = 'Set3'\n",
    "pat = re.compile('.*/(exp\\d)/(\\w*)/nonn/freq([0-9\\.]+)div(\\w+)/(\\w+)_\\w+.csv')\n",
    "decode_keys = ['experiment','function','freq','div','method']\n",
    "nn_pat = re.compile('.*/(exp\\d)/(\\w*)/nn/freq([0-9\\.]+)\\w+div([A-Za-z]+)/(\\w+)_(\\w+)_\\w+.csv')\n",
    "nn_decode_keys = ['experiment','function','freq','div','method','replace_mech']\n",
    "\n",
    "def get_files(m): return list(path.glob(f'**/nonn/**/*{m}.csv'))\n",
    "def get_nn_files(m): return list(path.glob(f'**/nn/**/*{m}.csv'))\n",
    "\n",
    "def read_csv(f,m):\n",
    "    df = pd.read_csv(f)\n",
    "    for k,v in zip(decode_keys,pat.search(str(f)).groups()): df[k] = v\n",
    "    df['freq'] = df['freq'].astype(float)\n",
    "    df['method'] = df['method'] + '_' + df['div']\n",
    "    df['method'] = df['method'].str.replace('noNNRestart', 'noNNSt')\n",
    "    df.drop('div', axis=1, inplace=True)\n",
    "    df.rename({'0':m.upper(), m:m.upper()}, axis=1, inplace=True)\n",
    "    return df\n",
    "\n",
    "def read_nn_csv(f,m):\n",
    "    df = pd.read_csv(f)\n",
    "    for k,v in zip(nn_decode_keys,nn_pat.search(str(f)).groups()): df[k] = v\n",
    "    df['freq'] = df['freq'].astype(float)\n",
    "    df['method'] = df['method'] + '_' + df['replace_mech'] + '_' + df['div']\n",
    "    df['method'] = df['method'].str.replace('NNnorm_Worst', 'NN')\n",
    "    df.drop(['replace_mech','div'], axis=1, inplace=True)\n",
    "    df.rename({'0':m.upper(), m:m.upper()}, axis=1, inplace=True)\n",
    "    return df\n",
    "\n",
    "def get_data(m, normalize=False):\n",
    "    files = get_files(m)\n",
    "    nn_files = get_nn_files(m)\n",
    "    data = pd.concat([read_csv(f,m) for f in files] + [read_nn_csv(f,m) for f in nn_files])\n",
    "    if normalize:\n",
    "        data_norm = (data.groupby(['experiment','function','freq','method'])[m.upper()].mean().reset_index()\n",
    "                         .groupby(['experiment','function'])[m.upper()].min().reset_index()\n",
    "                         .rename({m.upper():m.upper()+'_norm'}, axis=1))\n",
    "        data = data.merge(data_norm, 'left')\n",
    "        data[m.upper()+'_norm'] = data[m.upper()] / data[m.upper()+'_norm']\n",
    "    return data\n",
    "\n",
    "def plot_one(data, m, normalize=False, title='', title_size=14, col_by_freq=col_by_freq, col_palette=col_palette,\n",
    "             legend=False, hide_x=True, hide_y=True, ax=None, do_lim=True, ll=0.2, ul=0.8):\n",
    "    m = m.upper()\n",
    "    if normalize: m = m + '_norm' \n",
    "    if ax is None: fig,ax = plt.subplots(1,1,figsize=(6,4))\n",
    "    sns.boxplot('method' if col_by_freq else 'freq', m, hue='freq' if col_by_freq else 'method',\n",
    "                data=data, palette=col_palette,\n",
    "                # width=2.5,\n",
    "                linewidth=0.5, fliersize=0, ax=ax)\n",
    "    if not legend: ax.get_legend().remove()\n",
    "    if do_lim:\n",
    "        ax.set_ylim(-0.05,1.05)\n",
    "    else:\n",
    "        g = data.groupby(['method','freq'])[m]\n",
    "        q1,q3 = g.quantile(ll),g.quantile(ul)\n",
    "        iqr = q3-q1\n",
    "        lower_lim = (q1 - 1.5*iqr).min()\n",
    "        upper_lim = (q3 + 1.5*iqr).max()\n",
    "        lower_lim = data[m][data[m]>=lower_lim].min()\n",
    "        upper_lim = data[m][data[m]<=upper_lim].max()\n",
    "        ax.set_ylim(lower_lim,upper_lim)\n",
    "        \n",
    "    ax.set_xlabel('')\n",
    "    if hide_x: ax.set_xticklabels([])\n",
    "    if hide_y: ax.set_ylabel('')\n",
    "    ax.set_title(title, size=title_size)\n",
    "    return ax\n",
    "\n",
    "def plot_all_vertical(m, normalize=False, title_size=14, col_by_freq=col_by_freq, col_palette=col_palette, do_lim=True,\n",
    "                      ll=0.2, ul=0.8):\n",
    "    data = get_data(m, normalize=normalize)\n",
    "#     fig,axss = plt.subplots(4, 3, figsize=(14,16), sharex=do_lim, sharey=do_lim)\n",
    "    fig,axss = plt.subplots(4, 3, figsize=(20,16), sharex=False, sharey=False)\n",
    "    for i,(axs,exp) in enumerate(zip(axss,['exp1','exp2','exp3','exp4'])):\n",
    "        first_exp = i==0\n",
    "        for j,(ax,func) in enumerate(zip(axs,['sphere', 'rosenbrock', 'rastrigin'])):\n",
    "            first_func = j==0\n",
    "            test = data.query(f'experiment=={exp!r} and function=={func!r}').sort_values('method', ascending=False)\n",
    "            plot_one(test, m, normalize=normalize, title=f'{exp}-{func.title()}', title_size=title_size, hide_x=False,\n",
    "                     hide_y=not first_func, col_by_freq=col_by_freq, col_palette=col_palette, ax=ax,\n",
    "                     do_lim=do_lim, ll=ll, ul=ul)\n",
    "        ax.legend(loc='upper left', ncol=3)\n",
    "    plt.tight_layout()\n",
    "    return fig,axss\n",
    "\n",
    "def plot_all_horizontal(m, normalize=False, title_size=14, col_by_freq=col_by_freq, col_palette=col_palette, do_lim=True,\n",
    "                        ll=0.2, ul=0.8):\n",
    "    data = get_data(m, normalize=normalize)\n",
    "#     fig,axss = plt.subplots(4, 3, figsize=(14,16), sharex=do_lim, sharey=do_lim)\n",
    "    fig,axss = plt.subplots(3, 4, figsize=(20,12), sharex=False, sharey=False)#20,12\n",
    "    for i,exp in enumerate(['exp1','exp2','exp3','exp4']):\n",
    "        first_exp = i==0\n",
    "        axs = axss[:,i]\n",
    "        for j,(ax,func) in enumerate(zip(axs,['sphere', 'rosenbrock', 'rastrigin'])):\n",
    "            first_func = i==0\n",
    "            test = data.query(f'experiment=={exp!r} and function=={func!r}').sort_values('method', ascending=False)\n",
    "            plot_one(test, m, normalize=normalize, title=f'{exp}-{func.title()}', title_size=title_size, hide_x=False,\n",
    "                     hide_y=not first_func, col_by_freq=col_by_freq, col_palette=col_palette, ax=ax,\n",
    "                     do_lim=do_lim, ll=ll, ul=ul)\n",
    "        \n",
    "    for axs in axss: axs[-1].legend(loc='upper right', ncol=3)\n",
    "    plt.tight_layout()\n",
    "    return fig,axss\n"
   ]
  },
  {
   "cell_type": "code",
   "execution_count": 3,
   "metadata": {},
   "outputs": [
    {
     "data": {
      "text/html": [
       "<div>\n",
       "<style scoped>\n",
       "    .dataframe tbody tr th:only-of-type {\n",
       "        vertical-align: middle;\n",
       "    }\n",
       "\n",
       "    .dataframe tbody tr th {\n",
       "        vertical-align: top;\n",
       "    }\n",
       "\n",
       "    .dataframe thead th {\n",
       "        text-align: right;\n",
       "    }\n",
       "</style>\n",
       "<table border=\"1\" class=\"dataframe\">\n",
       "  <thead>\n",
       "    <tr style=\"text-align: right;\">\n",
       "      <th></th>\n",
       "      <th>MOF</th>\n",
       "      <th>experiment</th>\n",
       "      <th>function</th>\n",
       "      <th>freq</th>\n",
       "      <th>method</th>\n",
       "      <th>MOF_norm</th>\n",
       "    </tr>\n",
       "  </thead>\n",
       "  <tbody>\n",
       "    <tr>\n",
       "      <th>0</th>\n",
       "      <td>1.055493</td>\n",
       "      <td>exp1</td>\n",
       "      <td>sphere</td>\n",
       "      <td>1.0</td>\n",
       "      <td>noNN_RI</td>\n",
       "      <td>2.788714</td>\n",
       "    </tr>\n",
       "    <tr>\n",
       "      <th>1</th>\n",
       "      <td>1.023329</td>\n",
       "      <td>exp1</td>\n",
       "      <td>sphere</td>\n",
       "      <td>1.0</td>\n",
       "      <td>noNN_RI</td>\n",
       "      <td>2.703732</td>\n",
       "    </tr>\n",
       "    <tr>\n",
       "      <th>2</th>\n",
       "      <td>0.987371</td>\n",
       "      <td>exp1</td>\n",
       "      <td>sphere</td>\n",
       "      <td>1.0</td>\n",
       "      <td>noNN_RI</td>\n",
       "      <td>2.608730</td>\n",
       "    </tr>\n",
       "    <tr>\n",
       "      <th>3</th>\n",
       "      <td>1.037375</td>\n",
       "      <td>exp1</td>\n",
       "      <td>sphere</td>\n",
       "      <td>1.0</td>\n",
       "      <td>noNN_RI</td>\n",
       "      <td>2.740844</td>\n",
       "    </tr>\n",
       "    <tr>\n",
       "      <th>4</th>\n",
       "      <td>1.048782</td>\n",
       "      <td>exp1</td>\n",
       "      <td>sphere</td>\n",
       "      <td>1.0</td>\n",
       "      <td>noNN_RI</td>\n",
       "      <td>2.770983</td>\n",
       "    </tr>\n",
       "  </tbody>\n",
       "</table>\n",
       "</div>"
      ],
      "text/plain": [
       "        MOF experiment function  freq   method  MOF_norm\n",
       "0  1.055493       exp1   sphere   1.0  noNN_RI  2.788714\n",
       "1  1.023329       exp1   sphere   1.0  noNN_RI  2.703732\n",
       "2  0.987371       exp1   sphere   1.0  noNN_RI  2.608730\n",
       "3  1.037375       exp1   sphere   1.0  noNN_RI  2.740844\n",
       "4  1.048782       exp1   sphere   1.0  noNN_RI  2.770983"
      ]
     },
     "execution_count": 3,
     "metadata": {},
     "output_type": "execute_result"
    }
   ],
   "source": [
    "data = get_data('mof', normalize=True)\n",
    "data.head()"
   ]
  },
  {
   "cell_type": "code",
   "execution_count": 4,
   "metadata": {
    "scrolled": true
   },
   "outputs": [],
   "source": [
    "mean_data = (data.groupby(['experiment','function','method'])[['MOF_norm']]\n",
    "                 .mean().reset_index())"
   ]
  },
  {
   "cell_type": "code",
   "execution_count": 7,
   "metadata": {
    "scrolled": false
   },
   "outputs": [
    {
     "data": {
      "application/javascript": [
       "const spec = {\"config\": {\"view\": {\"width\": 400, \"height\": 300}, \"mark\": {\"tooltip\": null}}, \"data\": {\"name\": \"data-dfe5ccff9f0ceb9ebe10f3b9f5fb7c27\"}, \"mark\": {\"type\": \"bar\", \"clip\": true}, \"encoding\": {\"color\": {\"type\": \"nominal\", \"field\": \"function\"}, \"column\": {\"type\": \"nominal\", \"field\": \"experiment\"}, \"tooltip\": [{\"type\": \"nominal\", \"field\": \"method\"}, {\"type\": \"quantitative\", \"field\": \"MOF_norm\"}, {\"type\": \"nominal\", \"field\": \"experiment\"}, {\"type\": \"nominal\", \"field\": \"function\"}], \"x\": {\"type\": \"nominal\", \"field\": \"method\"}, \"y\": {\"type\": \"quantitative\", \"field\": \"MOF_norm\", \"scale\": {\"domain\": [0, 450]}}}, \"height\": 200, \"width\": 100, \"$schema\": \"https://vega.github.io/schema/vega-lite/v3.4.0.json\", \"datasets\": {\"data-dfe5ccff9f0ceb9ebe10f3b9f5fb7c27\": [{\"experiment\": \"exp1\", \"function\": \"rastrigin\", \"method\": \"NN_CwN\", \"MOF_norm\": 5.48002969691621}, {\"experiment\": \"exp1\", \"function\": \"rastrigin\", \"method\": \"NN_HypMu\", \"MOF_norm\": 6.806106457943461}, {\"experiment\": \"exp1\", \"function\": \"rastrigin\", \"method\": \"NN_No\", \"MOF_norm\": 6.7296381022583285}, {\"experiment\": \"exp1\", \"function\": \"rastrigin\", \"method\": \"NN_RI\", \"MOF_norm\": 1.8445710855444815}, {\"experiment\": \"exp1\", \"function\": \"rastrigin\", \"method\": \"noNNRestart_No\", \"MOF_norm\": 3.2928535298132013}, {\"experiment\": \"exp1\", \"function\": \"rastrigin\", \"method\": \"noNN_CwN\", \"MOF_norm\": 4.049396063692083}, {\"experiment\": \"exp1\", \"function\": \"rastrigin\", \"method\": \"noNN_HypMu\", \"MOF_norm\": 9.26244738504339}, {\"experiment\": \"exp1\", \"function\": \"rastrigin\", \"method\": \"noNN_No\", \"MOF_norm\": 9.193679076266017}, {\"experiment\": \"exp1\", \"function\": \"rastrigin\", \"method\": \"noNN_RI\", \"MOF_norm\": 1.8114956768225616}, {\"experiment\": \"exp1\", \"function\": \"rosenbrock\", \"method\": \"NN_CwN\", \"MOF_norm\": 12.457138789675822}, {\"experiment\": \"exp1\", \"function\": \"rosenbrock\", \"method\": \"NN_HypMu\", \"MOF_norm\": 2.73993230724691}, {\"experiment\": \"exp1\", \"function\": \"rosenbrock\", \"method\": \"NN_No\", \"MOF_norm\": 2.9226819805304705}, {\"experiment\": \"exp1\", \"function\": \"rosenbrock\", \"method\": \"NN_RI\", \"MOF_norm\": 2.99930259509886}, {\"experiment\": \"exp1\", \"function\": \"rosenbrock\", \"method\": \"noNNRestart_No\", \"MOF_norm\": 6.268943850564696}, {\"experiment\": \"exp1\", \"function\": \"rosenbrock\", \"method\": \"noNN_CwN\", \"MOF_norm\": 18.39098065569416}, {\"experiment\": \"exp1\", \"function\": \"rosenbrock\", \"method\": \"noNN_HypMu\", \"MOF_norm\": 51.2287106464731}, {\"experiment\": \"exp1\", \"function\": \"rosenbrock\", \"method\": \"noNN_No\", \"MOF_norm\": 53.3458011166159}, {\"experiment\": \"exp1\", \"function\": \"rosenbrock\", \"method\": \"noNN_RI\", \"MOF_norm\": 2.380635614413085}, {\"experiment\": \"exp1\", \"function\": \"sphere\", \"method\": \"NN_CwN\", \"MOF_norm\": 14.67883142761562}, {\"experiment\": \"exp1\", \"function\": \"sphere\", \"method\": \"NN_HypMu\", \"MOF_norm\": 3.509665520864819}, {\"experiment\": \"exp1\", \"function\": \"sphere\", \"method\": \"NN_No\", \"MOF_norm\": 3.8455404257004613}, {\"experiment\": \"exp1\", \"function\": \"sphere\", \"method\": \"NN_RI\", \"MOF_norm\": 3.6012059753754215}, {\"experiment\": \"exp1\", \"function\": \"sphere\", \"method\": \"noNNRestart_No\", \"MOF_norm\": 7.873735775666632}, {\"experiment\": \"exp1\", \"function\": \"sphere\", \"method\": \"noNN_CwN\", \"MOF_norm\": 21.24428664829947}, {\"experiment\": \"exp1\", \"function\": \"sphere\", \"method\": \"noNN_HypMu\", \"MOF_norm\": 59.515993846587826}, {\"experiment\": \"exp1\", \"function\": \"sphere\", \"method\": \"noNN_No\", \"MOF_norm\": 58.29271131596676}, {\"experiment\": \"exp1\", \"function\": \"sphere\", \"method\": \"noNN_RI\", \"MOF_norm\": 3.815062605286956}, {\"experiment\": \"exp2\", \"function\": \"rastrigin\", \"method\": \"NN_CwN\", \"MOF_norm\": 4.01744166945005}, {\"experiment\": \"exp2\", \"function\": \"rastrigin\", \"method\": \"NN_HypMu\", \"MOF_norm\": 2.9900477228809628}, {\"experiment\": \"exp2\", \"function\": \"rastrigin\", \"method\": \"NN_No\", \"MOF_norm\": 2.1996136653341485}, {\"experiment\": \"exp2\", \"function\": \"rastrigin\", \"method\": \"NN_RI\", \"MOF_norm\": 3.8586126867393}, {\"experiment\": \"exp2\", \"function\": \"rastrigin\", \"method\": \"noNNRestart_No\", \"MOF_norm\": 10.335377772983346}, {\"experiment\": \"exp2\", \"function\": \"rastrigin\", \"method\": \"noNN_CwN\", \"MOF_norm\": 9.336565728768326}, {\"experiment\": \"exp2\", \"function\": \"rastrigin\", \"method\": \"noNN_HypMu\", \"MOF_norm\": 2.212794555869604}, {\"experiment\": \"exp2\", \"function\": \"rastrigin\", \"method\": \"noNN_No\", \"MOF_norm\": 1.9735447208620718}, {\"experiment\": \"exp2\", \"function\": \"rastrigin\", \"method\": \"noNN_RI\", \"MOF_norm\": 2.9505394290627627}, {\"experiment\": \"exp2\", \"function\": \"rosenbrock\", \"method\": \"NN_CwN\", \"MOF_norm\": 33.35292360505344}, {\"experiment\": \"exp2\", \"function\": \"rosenbrock\", \"method\": \"NN_HypMu\", \"MOF_norm\": 7.105021516144991}, {\"experiment\": \"exp2\", \"function\": \"rosenbrock\", \"method\": \"NN_No\", \"MOF_norm\": 5.014984604863315}, {\"experiment\": \"exp2\", \"function\": \"rosenbrock\", \"method\": \"NN_RI\", \"MOF_norm\": 14.251509196902715}, {\"experiment\": \"exp2\", \"function\": \"rosenbrock\", \"method\": \"noNNRestart_No\", \"MOF_norm\": 203.1841585462483}, {\"experiment\": \"exp2\", \"function\": \"rosenbrock\", \"method\": \"noNN_CwN\", \"MOF_norm\": 236.59179075352478}, {\"experiment\": \"exp2\", \"function\": \"rosenbrock\", \"method\": \"noNN_HypMu\", \"MOF_norm\": 6.334441253903626}, {\"experiment\": \"exp2\", \"function\": \"rosenbrock\", \"method\": \"noNN_No\", \"MOF_norm\": 13.72660904936092}, {\"experiment\": \"exp2\", \"function\": \"rosenbrock\", \"method\": \"noNN_RI\", \"MOF_norm\": 9.487196451141644}, {\"experiment\": \"exp2\", \"function\": \"sphere\", \"method\": \"NN_CwN\", \"MOF_norm\": 27.965616579114016}, {\"experiment\": \"exp2\", \"function\": \"sphere\", \"method\": \"NN_HypMu\", \"MOF_norm\": 6.076618245794565}, {\"experiment\": \"exp2\", \"function\": \"sphere\", \"method\": \"NN_No\", \"MOF_norm\": 4.2758448503277044}, {\"experiment\": \"exp2\", \"function\": \"sphere\", \"method\": \"NN_RI\", \"MOF_norm\": 10.711921156153874}, {\"experiment\": \"exp2\", \"function\": \"sphere\", \"method\": \"noNNRestart_No\", \"MOF_norm\": 101.29238563246854}, {\"experiment\": \"exp2\", \"function\": \"sphere\", \"method\": \"noNN_CwN\", \"MOF_norm\": 150.23721959947778}, {\"experiment\": \"exp2\", \"function\": \"sphere\", \"method\": \"noNN_HypMu\", \"MOF_norm\": 21.943000747340903}, {\"experiment\": \"exp2\", \"function\": \"sphere\", \"method\": \"noNN_No\", \"MOF_norm\": 20.59495747259822}, {\"experiment\": \"exp2\", \"function\": \"sphere\", \"method\": \"noNN_RI\", \"MOF_norm\": 7.773728735271722}, {\"experiment\": \"exp3\", \"function\": \"rastrigin\", \"method\": \"NN_CwN\", \"MOF_norm\": 10.671637570936882}, {\"experiment\": \"exp3\", \"function\": \"rastrigin\", \"method\": \"NN_HypMu\", \"MOF_norm\": 12.543852355929683}, {\"experiment\": \"exp3\", \"function\": \"rastrigin\", \"method\": \"NN_No\", \"MOF_norm\": 15.655227726427634}, {\"experiment\": \"exp3\", \"function\": \"rastrigin\", \"method\": \"NN_RI\", \"MOF_norm\": 1.7134279810200537}, {\"experiment\": \"exp3\", \"function\": \"rastrigin\", \"method\": \"noNNRestart_No\", \"MOF_norm\": 9.129508701277397}, {\"experiment\": \"exp3\", \"function\": \"rastrigin\", \"method\": \"noNN_CwN\", \"MOF_norm\": 10.31439107264896}, {\"experiment\": \"exp3\", \"function\": \"rastrigin\", \"method\": \"noNN_HypMu\", \"MOF_norm\": 19.539089801378893}, {\"experiment\": \"exp3\", \"function\": \"rastrigin\", \"method\": \"noNN_No\", \"MOF_norm\": 18.90400175537677}, {\"experiment\": \"exp3\", \"function\": \"rastrigin\", \"method\": \"noNN_RI\", \"MOF_norm\": 1.3305547319101585}, {\"experiment\": \"exp3\", \"function\": \"rosenbrock\", \"method\": \"NN_CwN\", \"MOF_norm\": 70.13449561633279}, {\"experiment\": \"exp3\", \"function\": \"rosenbrock\", \"method\": \"NN_HypMu\", \"MOF_norm\": 10.284376955312013}, {\"experiment\": \"exp3\", \"function\": \"rosenbrock\", \"method\": \"NN_No\", \"MOF_norm\": 6.011684066266457}, {\"experiment\": \"exp3\", \"function\": \"rosenbrock\", \"method\": \"NN_RI\", \"MOF_norm\": 6.246457031742758}, {\"experiment\": \"exp3\", \"function\": \"rosenbrock\", \"method\": \"noNNRestart_No\", \"MOF_norm\": 5247.339010875705}, {\"experiment\": \"exp3\", \"function\": \"rosenbrock\", \"method\": \"noNN_CwN\", \"MOF_norm\": 5353.833521474765}, {\"experiment\": \"exp3\", \"function\": \"rosenbrock\", \"method\": \"noNN_HypMu\", \"MOF_norm\": 5.544559996027268}, {\"experiment\": \"exp3\", \"function\": \"rosenbrock\", \"method\": \"noNN_No\", \"MOF_norm\": 9.916276825179489}, {\"experiment\": \"exp3\", \"function\": \"rosenbrock\", \"method\": \"noNN_RI\", \"MOF_norm\": 3.948734953351911}, {\"experiment\": \"exp3\", \"function\": \"sphere\", \"method\": \"NN_CwN\", \"MOF_norm\": 98.9330439647813}, {\"experiment\": \"exp3\", \"function\": \"sphere\", \"method\": \"NN_HypMu\", \"MOF_norm\": 6.278555903074248}, {\"experiment\": \"exp3\", \"function\": \"sphere\", \"method\": \"NN_No\", \"MOF_norm\": 6.025546568214706}, {\"experiment\": \"exp3\", \"function\": \"sphere\", \"method\": \"NN_RI\", \"MOF_norm\": 6.76660536171909}, {\"experiment\": \"exp3\", \"function\": \"sphere\", \"method\": \"noNNRestart_No\", \"MOF_norm\": 948.6655186433023}, {\"experiment\": \"exp3\", \"function\": \"sphere\", \"method\": \"noNN_CwN\", \"MOF_norm\": 1198.562326139239}, {\"experiment\": \"exp3\", \"function\": \"sphere\", \"method\": \"noNN_HypMu\", \"MOF_norm\": 3.5800559971350854}, {\"experiment\": \"exp3\", \"function\": \"sphere\", \"method\": \"noNN_No\", \"MOF_norm\": 3.4439055807807786}, {\"experiment\": \"exp3\", \"function\": \"sphere\", \"method\": \"noNN_RI\", \"MOF_norm\": 3.8803106873377047}, {\"experiment\": \"exp4\", \"function\": \"rastrigin\", \"method\": \"NN_CwN\", \"MOF_norm\": 12.783406075687438}, {\"experiment\": \"exp4\", \"function\": \"rastrigin\", \"method\": \"NN_HypMu\", \"MOF_norm\": 9.172006194838556}, {\"experiment\": \"exp4\", \"function\": \"rastrigin\", \"method\": \"NN_No\", \"MOF_norm\": 6.034376515031193}, {\"experiment\": \"exp4\", \"function\": \"rastrigin\", \"method\": \"NN_RI\", \"MOF_norm\": 4.180294861460528}, {\"experiment\": \"exp4\", \"function\": \"rastrigin\", \"method\": \"noNNRestart_No\", \"MOF_norm\": 3.1756865248866974}, {\"experiment\": \"exp4\", \"function\": \"rastrigin\", \"method\": \"noNN_CwN\", \"MOF_norm\": 9.398905048830809}, {\"experiment\": \"exp4\", \"function\": \"rastrigin\", \"method\": \"noNN_HypMu\", \"MOF_norm\": 21.441029696583396}, {\"experiment\": \"exp4\", \"function\": \"rastrigin\", \"method\": \"noNN_No\", \"MOF_norm\": 21.272845454455343}, {\"experiment\": \"exp4\", \"function\": \"rastrigin\", \"method\": \"noNN_RI\", \"MOF_norm\": 4.15903307643488}, {\"experiment\": \"exp4\", \"function\": \"rosenbrock\", \"method\": \"NN_CwN\", \"MOF_norm\": 22.908722222628754}, {\"experiment\": \"exp4\", \"function\": \"rosenbrock\", \"method\": \"NN_HypMu\", \"MOF_norm\": 8.02060327277451}, {\"experiment\": \"exp4\", \"function\": \"rosenbrock\", \"method\": \"NN_No\", \"MOF_norm\": 6.805555533981375}, {\"experiment\": \"exp4\", \"function\": \"rosenbrock\", \"method\": \"NN_RI\", \"MOF_norm\": 4.659331204346783}, {\"experiment\": \"exp4\", \"function\": \"rosenbrock\", \"method\": \"noNNRestart_No\", \"MOF_norm\": 4.321771491282429}, {\"experiment\": \"exp4\", \"function\": \"rosenbrock\", \"method\": \"noNN_CwN\", \"MOF_norm\": 14.75544405236758}, {\"experiment\": \"exp4\", \"function\": \"rosenbrock\", \"method\": \"noNN_HypMu\", \"MOF_norm\": 35.40379918149889}, {\"experiment\": \"exp4\", \"function\": \"rosenbrock\", \"method\": \"noNN_No\", \"MOF_norm\": 31.315324150878652}, {\"experiment\": \"exp4\", \"function\": \"rosenbrock\", \"method\": \"noNN_RI\", \"MOF_norm\": 6.812325573075483}, {\"experiment\": \"exp4\", \"function\": \"sphere\", \"method\": \"NN_CwN\", \"MOF_norm\": 21.668425386732483}, {\"experiment\": \"exp4\", \"function\": \"sphere\", \"method\": \"NN_HypMu\", \"MOF_norm\": 8.995666900505253}, {\"experiment\": \"exp4\", \"function\": \"sphere\", \"method\": \"NN_No\", \"MOF_norm\": 8.334258791136127}, {\"experiment\": \"exp4\", \"function\": \"sphere\", \"method\": \"NN_RI\", \"MOF_norm\": 6.37737524174455}, {\"experiment\": \"exp4\", \"function\": \"sphere\", \"method\": \"noNNRestart_No\", \"MOF_norm\": 4.362116114037033}, {\"experiment\": \"exp4\", \"function\": \"sphere\", \"method\": \"noNN_CwN\", \"MOF_norm\": 14.012144579121127}, {\"experiment\": \"exp4\", \"function\": \"sphere\", \"method\": \"noNN_HypMu\", \"MOF_norm\": 34.58273446964465}, {\"experiment\": \"exp4\", \"function\": \"sphere\", \"method\": \"noNN_No\", \"MOF_norm\": 32.392968791369626}, {\"experiment\": \"exp4\", \"function\": \"sphere\", \"method\": \"noNN_RI\", \"MOF_norm\": 7.481101511240845}]}};\n",
       "const opt = {};\n",
       "const type = \"vega-lite\";\n",
       "const id = \"9a082b77-e412-4af4-b4d4-15ae9af570c8\";\n",
       "\n",
       "const output_area = this;\n",
       "\n",
       "require([\"nbextensions/jupyter-vega/index\"], function(vega) {\n",
       "  const target = document.createElement(\"div\");\n",
       "  target.id = id;\n",
       "  target.className = \"vega-embed\";\n",
       "\n",
       "  const style = document.createElement(\"style\");\n",
       "  style.textContent = [\n",
       "    \".vega-embed .error p {\",\n",
       "    \"  color: firebrick;\",\n",
       "    \"  font-size: 14px;\",\n",
       "    \"}\",\n",
       "  ].join(\"\\\\n\");\n",
       "\n",
       "  // element is a jQuery wrapped DOM element inside the output area\n",
       "  // see http://ipython.readthedocs.io/en/stable/api/generated/\\\n",
       "  // IPython.display.html#IPython.display.Javascript.__init__\n",
       "  element[0].appendChild(target);\n",
       "  element[0].appendChild(style);\n",
       "\n",
       "  vega.render(\"#\" + id, spec, type, opt, output_area);\n",
       "}, function (err) {\n",
       "  if (err.requireType !== \"scripterror\") {\n",
       "    throw(err);\n",
       "  }\n",
       "});\n"
      ],
      "text/plain": [
       "<vega.vegalite.VegaLite at 0x1a2af39f28>"
      ]
     },
     "metadata": {
      "jupyter-vega": "#9a082b77-e412-4af4-b4d4-15ae9af570c8"
     },
     "output_type": "display_data"
    },
    {
     "data": {
      "text/plain": []
     },
     "execution_count": 7,
     "metadata": {},
     "output_type": "execute_result"
    },
    {
     "data": {
      "image/png": "[encoded data removed]"
     },
     "metadata": {
      "jupyter-vega": "#9a082b77-e412-4af4-b4d4-15ae9af570c8"
     },
     "output_type": "display_data"
    }
   ],
   "source": [
    "alt.Chart(mean_data).mark_bar(clip=True).encode(\n",
    "    alt.X('method'),\n",
    "    alt.Y('MOF_norm', scale=alt.Scale(domain=(0,450))),\n",
    "    alt.Column('experiment'),\n",
    "    alt.Color('function'),\n",
    "    alt.Tooltip(['method','MOF_norm','experiment','function'])\n",
    ").properties(\n",
    "    width=100,\n",
    "    height=200\n",
    ")"
   ]
  },
  {
   "cell_type": "code",
   "execution_count": null,
   "metadata": {},
   "outputs": [],
   "source": []
  },
  {
   "cell_type": "code",
   "execution_count": null,
   "metadata": {},
   "outputs": [],
   "source": []
  },
  {
   "cell_type": "code",
   "execution_count": null,
   "metadata": {},
   "outputs": [],
   "source": []
  }
 ],
 "metadata": {
  "kernelspec": {
   "display_name": "Python 3",
   "language": "python",
   "name": "python3"
  },
  "language_info": {
   "codemirror_mode": {
    "name": "ipython",
    "version": 3
   },
   "file_extension": ".py",
   "mimetype": "text/x-python",
   "name": "python",
   "nbconvert_exporter": "python",
   "pygments_lexer": "ipython3",
   "version": "3.7.3"
  },
  "toc": {
   "base_numbering": 1,
   "nav_menu": {},
   "number_sections": true,
   "sideBar": true,
   "skip_h1_title": false,
   "title_cell": "Table of Contents",
   "title_sidebar": "Contents",
   "toc_cell": false,
   "toc_position": {
    "height": "calc(100% - 180px)",
    "left": "10px",
    "top": "150px",
    "width": "165px"
   },
   "toc_section_display": true,
   "toc_window_display": false
  }
 },
 "nbformat": 4,
 "nbformat_minor": 2
}
