{
 "cells": [
  {
   "cell_type": "code",
   "execution_count": null,
   "metadata": {},
   "outputs": [],
   "source": [
    "%reload_ext autoreload\n",
    "%autoreload 2\n",
    "%matplotlib inline\n",
    "from denn import *\n",
    "import pandas as pd, seaborn as sns, io, altair as alt\n",
    "alt.renderers.enable('notebook');"
   ]
  },
  {
   "cell_type": "code",
   "execution_count": null,
   "metadata": {
    "code_folding": [
     12,
     21,
     31,
     43,
     71,
     88
    ]
   },
   "outputs": [],
   "source": [
    "# Functions\n",
    "path= Path(f'../../data/cluster_results')\n",
    "col_by_freq = True\n",
    "col_palette = 'Set3'\n",
    "pat = re.compile('.*/(exp\\d)/(\\w*)/nonn/freq([0-9\\.]+)div(\\w+)/(\\w+)_\\w+.csv')\n",
    "decode_keys = ['experiment','function','freq','div','method']\n",
    "nn_pat = re.compile('.*/(exp\\d)/(\\w*)/nn/freq([0-9\\.]+)\\w+div([A-Za-z]+)/(\\w+)_(\\w+)_\\w+.csv')\n",
    "nn_decode_keys = ['experiment','function','freq','div','method','replace_mech']\n",
    "\n",
    "def get_files(m): return list(path.glob(f'**/nonn/**/*{m}.csv'))\n",
    "def get_nn_files(m): return list(path.glob(f'**/nn/**/*{m}.csv'))\n",
    "\n",
    "def read_csv(f,m):\n",
    "    df = pd.read_csv(f)\n",
    "    for k,v in zip(decode_keys,pat.search(str(f)).groups()): df[k] = v\n",
    "    df['freq'] = df['freq'].astype(float)\n",
    "    df['method'] = df['method'] + '_' + df['div']\n",
    "    df.drop('div', axis=1, inplace=True)\n",
    "    df.rename({'0':m.upper(), m:m.upper()}, axis=1, inplace=True)\n",
    "    return df\n",
    "\n",
    "def read_nn_csv(f,m):\n",
    "    df = pd.read_csv(f)\n",
    "    for k,v in zip(nn_decode_keys,nn_pat.search(str(f)).groups()): df[k] = v\n",
    "    df['freq'] = df['freq'].astype(float)\n",
    "    df['method'] = df['method'] + '_' + df['replace_mech'] + '_' + df['div']\n",
    "    df['method'] = df['method'].str.replace('NNnorm_Worst', 'NN')\n",
    "    df.drop(['replace_mech','div'], axis=1, inplace=True)\n",
    "    df.rename({'0':m.upper(), m:m.upper()}, axis=1, inplace=True)\n",
    "    return df\n",
    "\n",
    "def get_data(m, normalize=False):\n",
    "    files = get_files(m)\n",
    "    nn_files = get_nn_files(m)\n",
    "    data = pd.concat([read_csv(f,m) for f in files] + [read_nn_csv(f,m) for f in nn_files])\n",
    "    if normalize:\n",
    "        data_norm = (data.groupby(['experiment','function','freq','method'])[m.upper()].mean().reset_index()\n",
    "                         .groupby(['experiment','function'])[m.upper()].min().reset_index()\n",
    "                         .rename({m.upper():m.upper()+'_norm'}, axis=1))\n",
    "        data = data.merge(data_norm, 'left')\n",
    "        data[m.upper()+'_norm'] = data[m.upper()] / data[m.upper()+'_norm']\n",
    "    return data\n",
    "\n",
    "def plot_one(data, m, normalize=False, title='', title_size=14, col_by_freq=col_by_freq, col_palette=col_palette,\n",
    "             legend=False, hide_x=True, hide_y=True, ax=None, do_lim=True, ll=0.2, ul=0.8):\n",
    "    m = m.upper()\n",
    "    if normalize: m = m + '_norm' \n",
    "    if ax is None: fig,ax = plt.subplots(1,1,figsize=(6,4))\n",
    "    sns.boxplot('method' if col_by_freq else 'freq', m, hue='freq' if col_by_freq else 'method',\n",
    "                data=data, palette=col_palette,\n",
    "                # width=2.5,\n",
    "                linewidth=0.5, fliersize=0, ax=ax)\n",
    "    if not legend: ax.get_legend().remove()\n",
    "    if do_lim:\n",
    "        ax.set_ylim(-0.05,1.05)\n",
    "    else:\n",
    "        g = data.groupby(['method','freq'])[m]\n",
    "        q1,q3 = g.quantile(ll),g.quantile(ul)\n",
    "        iqr = q3-q1\n",
    "        lower_lim = (q1 - 1.5*iqr).min()\n",
    "        upper_lim = (q3 + 1.5*iqr).max()\n",
    "        lower_lim = data[m][data[m]>=lower_lim].min()\n",
    "        upper_lim = data[m][data[m]<=upper_lim].max()\n",
    "        ax.set_ylim(lower_lim,upper_lim)\n",
    "        \n",
    "    ax.set_xlabel('')\n",
    "    if hide_x: ax.set_xticklabels([])\n",
    "    if hide_y: ax.set_ylabel('')\n",
    "    ax.set_title(title, size=title_size)\n",
    "    return ax\n",
    "\n",
    "def plot_all_vertical(m, normalize=False, title_size=14, col_by_freq=col_by_freq, col_palette=col_palette, do_lim=True,\n",
    "                      ll=0.2, ul=0.8):\n",
    "    data = get_data(m, normalize=normalize)\n",
    "#     fig,axss = plt.subplots(4, 3, figsize=(14,16), sharex=do_lim, sharey=do_lim)\n",
    "    fig,axss = plt.subplots(4, 3, figsize=(20,16), sharex=False, sharey=False)\n",
    "    for i,(axs,exp) in enumerate(zip(axss,['exp1','exp2','exp3','exp4'])):\n",
    "        first_exp = i==0\n",
    "        for j,(ax,func) in enumerate(zip(axs,['sphere', 'rosenbrock', 'rastrigin'])):\n",
    "            first_func = j==0\n",
    "            test = data.query(f'experiment=={exp!r} and function=={func!r}').sort_values('method', ascending=False)\n",
    "            plot_one(test, m, normalize=normalize, title=f'{exp}-{func.title()}', title_size=title_size, hide_x=False,\n",
    "                     hide_y=not first_func, col_by_freq=col_by_freq, col_palette=col_palette, ax=ax,\n",
    "                     do_lim=do_lim, ll=ll, ul=ul)\n",
    "        ax.legend(loc='upper left', ncol=3)\n",
    "    plt.tight_layout()\n",
    "    return fig,axss\n",
    "\n",
    "def plot_all_horizontal(m, normalize=False, title_size=14, col_by_freq=col_by_freq, col_palette=col_palette, do_lim=True,\n",
    "                        ll=0.2, ul=0.8):\n",
    "    data = get_data(m, normalize=normalize)\n",
    "#     fig,axss = plt.subplots(4, 3, figsize=(14,16), sharex=do_lim, sharey=do_lim)\n",
    "    fig,axss = plt.subplots(3, 4, figsize=(20,12), sharex=False, sharey=False)#20,12\n",
    "    for i,exp in enumerate(['exp1','exp2','exp3','exp4']):\n",
    "        first_exp = i==0\n",
    "        axs = axss[:,i]\n",
    "        for j,(ax,func) in enumerate(zip(axs,['sphere', 'rosenbrock', 'rastrigin'])):\n",
    "            first_func = i==0\n",
    "            test = data.query(f'experiment=={exp!r} and function=={func!r}').sort_values('method', ascending=False)\n",
    "            plot_one(test, m, normalize=normalize, title=f'{exp}-{func.title()}', title_size=title_size, hide_x=False,\n",
    "                     hide_y=not first_func, col_by_freq=col_by_freq, col_palette=col_palette, ax=ax,\n",
    "                     do_lim=do_lim, ll=ll, ul=ul)\n",
    "        \n",
    "    for axs in axss: axs[-1].legend(loc='upper right', ncol=3)\n",
    "    plt.tight_layout()\n",
    "    return fig,axss\n"
   ]
  },
  {
   "cell_type": "code",
   "execution_count": null,
   "metadata": {},
   "outputs": [],
   "source": [
    "data = get_data('mof', normalize=True)\n",
    "data.head()"
   ]
  },
  {
   "cell_type": "code",
   "execution_count": null,
   "metadata": {
    "scrolled": true
   },
   "outputs": [],
   "source": [
    "mean_data = (data.groupby(['experiment','function','method'])[['MOF_norm']]\n",
    "                 .mean().reset_index())"
   ]
  },
  {
   "cell_type": "code",
   "execution_count": null,
   "metadata": {},
   "outputs": [],
   "source": [
    "alt.Chart(mean_data).mark_bar().encode(\n",
    "    alt.X('method'),\n",
    "    alt.Y('MOF_norm'),\n",
    "    alt.Column('experiment'),\n",
    "    alt.Color('function'),\n",
    "    alt.Tooltip(['method','MOF_norm','experiment','function'])\n",
    ").properties(\n",
    "    width=100,\n",
    "    height=200\n",
    ")"
   ]
  },
  {
   "cell_type": "code",
   "execution_count": null,
   "metadata": {},
   "outputs": [],
   "source": []
  },
  {
   "cell_type": "code",
   "execution_count": null,
   "metadata": {},
   "outputs": [],
   "source": []
  },
  {
   "cell_type": "code",
   "execution_count": null,
   "metadata": {},
   "outputs": [],
   "source": []
  }
 ],
 "metadata": {
  "kernelspec": {
   "display_name": "Python 3",
   "language": "python",
   "name": "python3"
  },
  "language_info": {
   "codemirror_mode": {
    "name": "ipython",
    "version": 3
   },
   "file_extension": ".py",
   "mimetype": "text/x-python",
   "name": "python",
   "nbconvert_exporter": "python",
   "pygments_lexer": "ipython3",
   "version": "3.7.3"
  },
  "toc": {
   "base_numbering": 1,
   "nav_menu": {},
   "number_sections": true,
   "sideBar": true,
   "skip_h1_title": false,
   "title_cell": "Table of Contents",
   "title_sidebar": "Contents",
   "toc_cell": false,
   "toc_position": {
    "height": "calc(100% - 180px)",
    "left": "10px",
    "top": "150px",
    "width": "165px"
   },
   "toc_section_display": true,
   "toc_window_display": false
  }
 },
 "nbformat": 4,
 "nbformat_minor": 2
}
