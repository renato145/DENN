{
 "cells": [
  {
   "cell_type": "code",
   "execution_count": 1,
   "metadata": {},
   "outputs": [],
   "source": [
    "%reload_ext autoreload\n",
    "%autoreload 2\n",
    "%matplotlib inline\n",
    "from denn import *\n",
    "import pandas as pd, seaborn as sns, io, altair as alt\n",
    "alt.renderers.enable('notebook');"
   ]
  },
  {
   "cell_type": "code",
   "execution_count": 2,
   "metadata": {
    "code_folding": [
     21,
     31,
     43,
     71,
     88
    ]
   },
   "outputs": [],
   "source": [
    "# Functions\n",
    "path= Path(f'../../data/cluster_results')\n",
    "col_by_freq = True\n",
    "col_palette = 'Set3'\n",
    "pat = re.compile('.*/(exp\\d)/(\\w*)/nonn/freq([0-9\\.]+)div(\\w+)/(\\w+)_\\w+.csv')\n",
    "decode_keys = ['experiment','function','freq','div','method']\n",
    "nn_pat = re.compile('.*/(exp\\d)/(\\w*)/nn/freq([0-9\\.]+)\\w+div([A-Za-z]+)/(\\w+)_(\\w+)_\\w+.csv')\n",
    "nn_decode_keys = ['experiment','function','freq','div','method','replace_mech']\n",
    "\n",
    "def get_files(m): return list(path.glob(f'**/nonn/**/*{m}.csv'))\n",
    "def get_nn_files(m): return list(path.glob(f'**/nn/**/*{m}.csv'))\n",
    "\n",
    "def read_csv(f,m):\n",
    "    df = pd.read_csv(f)\n",
    "    for k,v in zip(decode_keys,pat.search(str(f)).groups()): df[k] = v\n",
    "    df['freq'] = df['freq'].astype(float)\n",
    "    df['method'] = df['method'] + '_' + df['div']\n",
    "    df['method'] = df['method'].str.replace('noNNRestart', 'noNNSt')\n",
    "    df.drop('div', axis=1, inplace=True)\n",
    "    df.rename({'0':m.upper(), m:m.upper()}, axis=1, inplace=True)\n",
    "    return df\n",
    "\n",
    "def read_nn_csv(f,m):\n",
    "    df = pd.read_csv(f)\n",
    "    for k,v in zip(nn_decode_keys,nn_pat.search(str(f)).groups()): df[k] = v\n",
    "    df['freq'] = df['freq'].astype(float)\n",
    "    df['method'] = df['method'] + '_' + df['replace_mech'] + '_' + df['div']\n",
    "    df['method'] = df['method'].str.replace('NNnorm_Worst', 'NN')\n",
    "    df.drop(['replace_mech','div'], axis=1, inplace=True)\n",
    "    df.rename({'0':m.upper(), m:m.upper()}, axis=1, inplace=True)\n",
    "    return df\n",
    "\n",
    "def get_data(m, normalize=False):\n",
    "    files = get_files(m)\n",
    "    nn_files = get_nn_files(m)\n",
    "    data = pd.concat([read_csv(f,m) for f in files] + [read_nn_csv(f,m) for f in nn_files])\n",
    "    if normalize:\n",
    "        data_norm = (data.groupby(['experiment','function','freq','method'])[m.upper()].mean().reset_index()\n",
    "                         .groupby(['experiment','function'])[m.upper()].min().reset_index()\n",
    "                         .rename({m.upper():m.upper()+'_norm'}, axis=1))\n",
    "        data = data.merge(data_norm, 'left')\n",
    "        data[m.upper()+'_norm'] = data[m.upper()] / data[m.upper()+'_norm']\n",
    "    return data\n",
    "\n",
    "def plot_one(data, m, normalize=False, title='', title_size=14, col_by_freq=col_by_freq, col_palette=col_palette,\n",
    "             legend=False, hide_x=True, hide_y=True, ax=None, do_lim=True, ll=0.2, ul=0.8):\n",
    "    m = m.upper()\n",
    "    if normalize: m = m + '_norm' \n",
    "    if ax is None: fig,ax = plt.subplots(1,1,figsize=(6,4))\n",
    "    sns.boxplot('method' if col_by_freq else 'freq', m, hue='freq' if col_by_freq else 'method',\n",
    "                data=data, palette=col_palette,\n",
    "                # width=2.5,\n",
    "                linewidth=0.5, fliersize=0, ax=ax)\n",
    "    if not legend: ax.get_legend().remove()\n",
    "    if do_lim:\n",
    "        ax.set_ylim(-0.05,1.05)\n",
    "    else:\n",
    "        g = data.groupby(['method','freq'])[m]\n",
    "        q1,q3 = g.quantile(ll),g.quantile(ul)\n",
    "        iqr = q3-q1\n",
    "        lower_lim = (q1 - 1.5*iqr).min()\n",
    "        upper_lim = (q3 + 1.5*iqr).max()\n",
    "        lower_lim = data[m][data[m]>=lower_lim].min()\n",
    "        upper_lim = data[m][data[m]<=upper_lim].max()\n",
    "        ax.set_ylim(lower_lim,upper_lim)\n",
    "        \n",
    "    ax.set_xlabel('')\n",
    "    if hide_x: ax.set_xticklabels([])\n",
    "    if hide_y: ax.set_ylabel('')\n",
    "    ax.set_title(title, size=title_size)\n",
    "    return ax\n",
    "\n",
    "def plot_all_vertical(m, normalize=False, title_size=14, col_by_freq=col_by_freq, col_palette=col_palette, do_lim=True,\n",
    "                      ll=0.2, ul=0.8):\n",
    "    data = get_data(m, normalize=normalize)\n",
    "#     fig,axss = plt.subplots(4, 3, figsize=(14,16), sharex=do_lim, sharey=do_lim)\n",
    "    fig,axss = plt.subplots(4, 3, figsize=(20,16), sharex=False, sharey=False)\n",
    "    for i,(axs,exp) in enumerate(zip(axss,['exp1','exp2','exp3','exp4'])):\n",
    "        first_exp = i==0\n",
    "        for j,(ax,func) in enumerate(zip(axs,['sphere', 'rosenbrock', 'rastrigin'])):\n",
    "            first_func = j==0\n",
    "            test = data.query(f'experiment=={exp!r} and function=={func!r}').sort_values('method', ascending=False)\n",
    "            plot_one(test, m, normalize=normalize, title=f'{exp}-{func.title()}', title_size=title_size, hide_x=False,\n",
    "                     hide_y=not first_func, col_by_freq=col_by_freq, col_palette=col_palette, ax=ax,\n",
    "                     do_lim=do_lim, ll=ll, ul=ul)\n",
    "        ax.legend(loc='upper left', ncol=3)\n",
    "    plt.tight_layout()\n",
    "    return fig,axss\n",
    "\n",
    "def plot_all_horizontal(m, normalize=False, title_size=14, col_by_freq=col_by_freq, col_palette=col_palette, do_lim=True,\n",
    "                        ll=0.2, ul=0.8):\n",
    "    data = get_data(m, normalize=normalize)\n",
    "#     fig,axss = plt.subplots(4, 3, figsize=(14,16), sharex=do_lim, sharey=do_lim)\n",
    "    fig,axss = plt.subplots(3, 4, figsize=(20,12), sharex=False, sharey=False)#20,12\n",
    "    for i,exp in enumerate(['exp1','exp2','exp3','exp4']):\n",
    "        first_exp = i==0\n",
    "        axs = axss[:,i]\n",
    "        for j,(ax,func) in enumerate(zip(axs,['sphere', 'rosenbrock', 'rastrigin'])):\n",
    "            first_func = i==0\n",
    "            test = data.query(f'experiment=={exp!r} and function=={func!r}').sort_values('method', ascending=False)\n",
    "            plot_one(test, m, normalize=normalize, title=f'{exp}-{func.title()}', title_size=title_size, hide_x=False,\n",
    "                     hide_y=not first_func, col_by_freq=col_by_freq, col_palette=col_palette, ax=ax,\n",
    "                     do_lim=do_lim, ll=ll, ul=ul)\n",
    "        \n",
    "    for axs in axss: axs[-1].legend(loc='upper right', ncol=3)\n",
    "    plt.tight_layout()\n",
    "    return fig,axss\n"
   ]
  },
  {
   "cell_type": "code",
   "execution_count": 3,
   "metadata": {},
   "outputs": [
    {
     "data": {
      "text/html": [
       "<div>\n",
       "<style scoped>\n",
       "    .dataframe tbody tr th:only-of-type {\n",
       "        vertical-align: middle;\n",
       "    }\n",
       "\n",
       "    .dataframe tbody tr th {\n",
       "        vertical-align: top;\n",
       "    }\n",
       "\n",
       "    .dataframe thead th {\n",
       "        text-align: right;\n",
       "    }\n",
       "</style>\n",
       "<table border=\"1\" class=\"dataframe\">\n",
       "  <thead>\n",
       "    <tr style=\"text-align: right;\">\n",
       "      <th></th>\n",
       "      <th>MOF</th>\n",
       "      <th>experiment</th>\n",
       "      <th>function</th>\n",
       "      <th>freq</th>\n",
       "      <th>method</th>\n",
       "      <th>MOF_norm</th>\n",
       "    </tr>\n",
       "  </thead>\n",
       "  <tbody>\n",
       "    <tr>\n",
       "      <th>0</th>\n",
       "      <td>1.520321</td>\n",
       "      <td>exp1</td>\n",
       "      <td>sphere</td>\n",
       "      <td>1.0</td>\n",
       "      <td>noNN_RI</td>\n",
       "      <td>3.434611</td>\n",
       "    </tr>\n",
       "    <tr>\n",
       "      <th>1</th>\n",
       "      <td>1.503188</td>\n",
       "      <td>exp1</td>\n",
       "      <td>sphere</td>\n",
       "      <td>1.0</td>\n",
       "      <td>noNN_RI</td>\n",
       "      <td>3.395905</td>\n",
       "    </tr>\n",
       "    <tr>\n",
       "      <th>2</th>\n",
       "      <td>1.628856</td>\n",
       "      <td>exp1</td>\n",
       "      <td>sphere</td>\n",
       "      <td>1.0</td>\n",
       "      <td>noNN_RI</td>\n",
       "      <td>3.679805</td>\n",
       "    </tr>\n",
       "    <tr>\n",
       "      <th>3</th>\n",
       "      <td>1.669343</td>\n",
       "      <td>exp1</td>\n",
       "      <td>sphere</td>\n",
       "      <td>1.0</td>\n",
       "      <td>noNN_RI</td>\n",
       "      <td>3.771271</td>\n",
       "    </tr>\n",
       "    <tr>\n",
       "      <th>4</th>\n",
       "      <td>1.720752</td>\n",
       "      <td>exp1</td>\n",
       "      <td>sphere</td>\n",
       "      <td>1.0</td>\n",
       "      <td>noNN_RI</td>\n",
       "      <td>3.887410</td>\n",
       "    </tr>\n",
       "  </tbody>\n",
       "</table>\n",
       "</div>"
      ],
      "text/plain": [
       "        MOF experiment function  freq   method  MOF_norm\n",
       "0  1.520321       exp1   sphere   1.0  noNN_RI  3.434611\n",
       "1  1.503188       exp1   sphere   1.0  noNN_RI  3.395905\n",
       "2  1.628856       exp1   sphere   1.0  noNN_RI  3.679805\n",
       "3  1.669343       exp1   sphere   1.0  noNN_RI  3.771271\n",
       "4  1.720752       exp1   sphere   1.0  noNN_RI  3.887410"
      ]
     },
     "execution_count": 3,
     "metadata": {},
     "output_type": "execute_result"
    }
   ],
   "source": [
    "data = get_data('mof', normalize=True)\n",
    "data.head()"
   ]
  },
  {
   "cell_type": "code",
   "execution_count": 4,
   "metadata": {
    "scrolled": true
   },
   "outputs": [],
   "source": [
    "mean_data = (data.groupby(['experiment','function','method'])[['MOF_norm']]\n",
    "                 .mean().reset_index())"
   ]
  },
  {
   "cell_type": "code",
   "execution_count": 5,
   "metadata": {
    "scrolled": false
   },
   "outputs": [
    {
     "data": {
      "application/javascript": [
       "const spec = {\"config\": {\"view\": {\"width\": 400, \"height\": 300}, \"mark\": {\"tooltip\": null}}, \"data\": {\"name\": \"data-ffe2e120f8956f4f71fb3c51c5ab7dc1\"}, \"mark\": {\"type\": \"bar\", \"clip\": true}, \"encoding\": {\"color\": {\"type\": \"nominal\", \"field\": \"function\"}, \"column\": {\"type\": \"nominal\", \"field\": \"experiment\"}, \"tooltip\": [{\"type\": \"nominal\", \"field\": \"method\"}, {\"type\": \"quantitative\", \"field\": \"MOF_norm\"}, {\"type\": \"nominal\", \"field\": \"experiment\"}, {\"type\": \"nominal\", \"field\": \"function\"}], \"x\": {\"type\": \"nominal\", \"field\": \"method\"}, \"y\": {\"type\": \"quantitative\", \"field\": \"MOF_norm\", \"scale\": {\"domain\": [0, 450]}}}, \"height\": 200, \"width\": 100, \"$schema\": \"https://vega.github.io/schema/vega-lite/v3.4.0.json\", \"datasets\": {\"data-ffe2e120f8956f4f71fb3c51c5ab7dc1\": [{\"experiment\": \"exp1\", \"function\": \"rastrigin\", \"method\": \"NN_CwN\", \"MOF_norm\": 2.8016520039494957}, {\"experiment\": \"exp1\", \"function\": \"rastrigin\", \"method\": \"NN_HMu\", \"MOF_norm\": 4.321525552307753}, {\"experiment\": \"exp1\", \"function\": \"rastrigin\", \"method\": \"NN_No\", \"MOF_norm\": 4.35964589017013}, {\"experiment\": \"exp1\", \"function\": \"rastrigin\", \"method\": \"NN_RI\", \"MOF_norm\": 1.483026133679656}, {\"experiment\": \"exp1\", \"function\": \"rastrigin\", \"method\": \"noNNSt_No\", \"MOF_norm\": 2.0272672178031894}, {\"experiment\": \"exp1\", \"function\": \"rastrigin\", \"method\": \"noNN_CwN\", \"MOF_norm\": 3.0828592939809836}, {\"experiment\": \"exp1\", \"function\": \"rastrigin\", \"method\": \"noNN_HMu\", \"MOF_norm\": 5.716417865410299}, {\"experiment\": \"exp1\", \"function\": \"rastrigin\", \"method\": \"noNN_No\", \"MOF_norm\": 5.715773307675456}, {\"experiment\": \"exp1\", \"function\": \"rastrigin\", \"method\": \"noNN_RI\", \"MOF_norm\": 1.4685125139250441}, {\"experiment\": \"exp1\", \"function\": \"rosenbrock\", \"method\": \"NN_CwN\", \"MOF_norm\": 8.616831439766397}, {\"experiment\": \"exp1\", \"function\": \"rosenbrock\", \"method\": \"NN_HMu\", \"MOF_norm\": 1.8453140932966323}, {\"experiment\": \"exp1\", \"function\": \"rosenbrock\", \"method\": \"NN_No\", \"MOF_norm\": 2.1781667039542345}, {\"experiment\": \"exp1\", \"function\": \"rosenbrock\", \"method\": \"NN_RI\", \"MOF_norm\": 1.47005582701139}, {\"experiment\": \"exp1\", \"function\": \"rosenbrock\", \"method\": \"noNNSt_No\", \"MOF_norm\": 4.44494173879594}, {\"experiment\": \"exp1\", \"function\": \"rosenbrock\", \"method\": \"noNN_CwN\", \"MOF_norm\": 13.262312623850564}, {\"experiment\": \"exp1\", \"function\": \"rosenbrock\", \"method\": \"noNN_HMu\", \"MOF_norm\": 33.61306025711891}, {\"experiment\": \"exp1\", \"function\": \"rosenbrock\", \"method\": \"noNN_No\", \"MOF_norm\": 34.48297630421435}, {\"experiment\": \"exp1\", \"function\": \"rosenbrock\", \"method\": \"noNN_RI\", \"MOF_norm\": 1.83676875652437}, {\"experiment\": \"exp1\", \"function\": \"sphere\", \"method\": \"NN_CwN\", \"MOF_norm\": 11.896958823113826}, {\"experiment\": \"exp1\", \"function\": \"sphere\", \"method\": \"NN_HMu\", \"MOF_norm\": 2.868391250484436}, {\"experiment\": \"exp1\", \"function\": \"sphere\", \"method\": \"NN_No\", \"MOF_norm\": 3.572475032533598}, {\"experiment\": \"exp1\", \"function\": \"sphere\", \"method\": \"NN_RI\", \"MOF_norm\": 2.2006089807894567}, {\"experiment\": \"exp1\", \"function\": \"sphere\", \"method\": \"noNNSt_No\", \"MOF_norm\": 6.732469753900383}, {\"experiment\": \"exp1\", \"function\": \"sphere\", \"method\": \"noNN_CwN\", \"MOF_norm\": 19.214221996177617}, {\"experiment\": \"exp1\", \"function\": \"sphere\", \"method\": \"noNN_HMu\", \"MOF_norm\": 46.999147622109575}, {\"experiment\": \"exp1\", \"function\": \"sphere\", \"method\": \"noNN_No\", \"MOF_norm\": 48.83926265633483}, {\"experiment\": \"exp1\", \"function\": \"sphere\", \"method\": \"noNN_RI\", \"MOF_norm\": 3.0341963212722987}, {\"experiment\": \"exp2\", \"function\": \"rastrigin\", \"method\": \"NN_CwN\", \"MOF_norm\": 7.193182454915111}, {\"experiment\": \"exp2\", \"function\": \"rastrigin\", \"method\": \"NN_HMu\", \"MOF_norm\": 4.376083628806988}, {\"experiment\": \"exp2\", \"function\": \"rastrigin\", \"method\": \"NN_No\", \"MOF_norm\": 3.1885739065824352}, {\"experiment\": \"exp2\", \"function\": \"rastrigin\", \"method\": \"NN_RI\", \"MOF_norm\": 3.4784401697036693}, {\"experiment\": \"exp2\", \"function\": \"rastrigin\", \"method\": \"noNNSt_No\", \"MOF_norm\": 8.78389294125669}, {\"experiment\": \"exp2\", \"function\": \"rastrigin\", \"method\": \"noNN_CwN\", \"MOF_norm\": 11.237086714007312}, {\"experiment\": \"exp2\", \"function\": \"rastrigin\", \"method\": \"noNN_HMu\", \"MOF_norm\": 2.895492596334166}, {\"experiment\": \"exp2\", \"function\": \"rastrigin\", \"method\": \"noNN_No\", \"MOF_norm\": 2.1474001209114073}, {\"experiment\": \"exp2\", \"function\": \"rastrigin\", \"method\": \"noNN_RI\", \"MOF_norm\": 3.3106538757850923}, {\"experiment\": \"exp2\", \"function\": \"rosenbrock\", \"method\": \"NN_CwN\", \"MOF_norm\": 77.0742828285975}, {\"experiment\": \"exp2\", \"function\": \"rosenbrock\", \"method\": \"NN_HMu\", \"MOF_norm\": 9.479348974001816}, {\"experiment\": \"exp2\", \"function\": \"rosenbrock\", \"method\": \"NN_No\", \"MOF_norm\": 5.254470960698706}, {\"experiment\": \"exp2\", \"function\": \"rosenbrock\", \"method\": \"NN_RI\", \"MOF_norm\": 13.513930680186053}, {\"experiment\": \"exp2\", \"function\": \"rosenbrock\", \"method\": \"noNNSt_No\", \"MOF_norm\": 233.19765746976495}, {\"experiment\": \"exp2\", \"function\": \"rosenbrock\", \"method\": \"noNN_CwN\", \"MOF_norm\": 402.9604385044865}, {\"experiment\": \"exp2\", \"function\": \"rosenbrock\", \"method\": \"noNN_HMu\", \"MOF_norm\": 4.698897682586754}, {\"experiment\": \"exp2\", \"function\": \"rosenbrock\", \"method\": \"noNN_No\", \"MOF_norm\": 5.973276400949707}, {\"experiment\": \"exp2\", \"function\": \"rosenbrock\", \"method\": \"noNN_RI\", \"MOF_norm\": 10.741697573401922}, {\"experiment\": \"exp2\", \"function\": \"sphere\", \"method\": \"NN_CwN\", \"MOF_norm\": 43.728584672296556}, {\"experiment\": \"exp2\", \"function\": \"sphere\", \"method\": \"NN_HMu\", \"MOF_norm\": 7.308723234679776}, {\"experiment\": \"exp2\", \"function\": \"sphere\", \"method\": \"NN_No\", \"MOF_norm\": 4.014059508665896}, {\"experiment\": \"exp2\", \"function\": \"sphere\", \"method\": \"NN_RI\", \"MOF_norm\": 8.222241364763843}, {\"experiment\": \"exp2\", \"function\": \"sphere\", \"method\": \"noNNSt_No\", \"MOF_norm\": 99.04580445808955}, {\"experiment\": \"exp2\", \"function\": \"sphere\", \"method\": \"noNN_CwN\", \"MOF_norm\": 190.75648820773972}, {\"experiment\": \"exp2\", \"function\": \"sphere\", \"method\": \"noNN_HMu\", \"MOF_norm\": 6.729101045409568}, {\"experiment\": \"exp2\", \"function\": \"sphere\", \"method\": \"noNN_No\", \"MOF_norm\": 5.779414600589045}, {\"experiment\": \"exp2\", \"function\": \"sphere\", \"method\": \"noNN_RI\", \"MOF_norm\": 7.804320508226402}, {\"experiment\": \"exp3\", \"function\": \"rastrigin\", \"method\": \"NN_CwN\", \"MOF_norm\": 2.4354558259388592}, {\"experiment\": \"exp3\", \"function\": \"rastrigin\", \"method\": \"NN_HMu\", \"MOF_norm\": 7.00567030991929}, {\"experiment\": \"exp3\", \"function\": \"rastrigin\", \"method\": \"NN_No\", \"MOF_norm\": 7.483886912158409}, {\"experiment\": \"exp3\", \"function\": \"rastrigin\", \"method\": \"NN_RI\", \"MOF_norm\": 1.468855884162846}, {\"experiment\": \"exp3\", \"function\": \"rastrigin\", \"method\": \"noNNSt_No\", \"MOF_norm\": 2.7677893374918714}, {\"experiment\": \"exp3\", \"function\": \"rastrigin\", \"method\": \"noNN_CwN\", \"MOF_norm\": 2.8968999088439205}, {\"experiment\": \"exp3\", \"function\": \"rastrigin\", \"method\": \"noNN_HMu\", \"MOF_norm\": 7.165084463876853}, {\"experiment\": \"exp3\", \"function\": \"rastrigin\", \"method\": \"noNN_No\", \"MOF_norm\": 9.648897750613232}, {\"experiment\": \"exp3\", \"function\": \"rastrigin\", \"method\": \"noNN_RI\", \"MOF_norm\": 1.2980736120880072}, {\"experiment\": \"exp3\", \"function\": \"rosenbrock\", \"method\": \"NN_CwN\", \"MOF_norm\": 105.07970610297905}, {\"experiment\": \"exp3\", \"function\": \"rosenbrock\", \"method\": \"NN_HMu\", \"MOF_norm\": 8.51372622457729}, {\"experiment\": \"exp3\", \"function\": \"rosenbrock\", \"method\": \"NN_No\", \"MOF_norm\": 12.710376090094092}, {\"experiment\": \"exp3\", \"function\": \"rosenbrock\", \"method\": \"NN_RI\", \"MOF_norm\": 14.612823787756755}, {\"experiment\": \"exp3\", \"function\": \"rosenbrock\", \"method\": \"noNNSt_No\", \"MOF_norm\": 4280.523154944268}, {\"experiment\": \"exp3\", \"function\": \"rosenbrock\", \"method\": \"noNN_CwN\", \"MOF_norm\": 3308.3937103402473}, {\"experiment\": \"exp3\", \"function\": \"rosenbrock\", \"method\": \"noNN_HMu\", \"MOF_norm\": 43.95671484005416}, {\"experiment\": \"exp3\", \"function\": \"rosenbrock\", \"method\": \"noNN_No\", \"MOF_norm\": 63.08686203211144}, {\"experiment\": \"exp3\", \"function\": \"rosenbrock\", \"method\": \"noNN_RI\", \"MOF_norm\": 3.9055289221349554}, {\"experiment\": \"exp3\", \"function\": \"sphere\", \"method\": \"NN_CwN\", \"MOF_norm\": 173.77527175001526}, {\"experiment\": \"exp3\", \"function\": \"sphere\", \"method\": \"NN_HMu\", \"MOF_norm\": 12.320653225642918}, {\"experiment\": \"exp3\", \"function\": \"sphere\", \"method\": \"NN_No\", \"MOF_norm\": 18.340117858585756}, {\"experiment\": \"exp3\", \"function\": \"sphere\", \"method\": \"NN_RI\", \"MOF_norm\": 21.301477678708846}, {\"experiment\": \"exp3\", \"function\": \"sphere\", \"method\": \"noNNSt_No\", \"MOF_norm\": 1104.424975731493}, {\"experiment\": \"exp3\", \"function\": \"sphere\", \"method\": \"noNN_CwN\", \"MOF_norm\": 923.204837018681}, {\"experiment\": \"exp3\", \"function\": \"sphere\", \"method\": \"noNN_HMu\", \"MOF_norm\": 7.121071679123544}, {\"experiment\": \"exp3\", \"function\": \"sphere\", \"method\": \"noNN_No\", \"MOF_norm\": 5.770757220623016}, {\"experiment\": \"exp3\", \"function\": \"sphere\", \"method\": \"noNN_RI\", \"MOF_norm\": 12.126586397183035}, {\"experiment\": \"exp4\", \"function\": \"rastrigin\", \"method\": \"NN_CwN\", \"MOF_norm\": 11.226359025669977}, {\"experiment\": \"exp4\", \"function\": \"rastrigin\", \"method\": \"NN_HMu\", \"MOF_norm\": 5.777219587897206}, {\"experiment\": \"exp4\", \"function\": \"rastrigin\", \"method\": \"NN_No\", \"MOF_norm\": 8.505556740313063}, {\"experiment\": \"exp4\", \"function\": \"rastrigin\", \"method\": \"NN_RI\", \"MOF_norm\": 5.115368251242921}, {\"experiment\": \"exp4\", \"function\": \"rastrigin\", \"method\": \"noNNSt_No\", \"MOF_norm\": 3.1756865248866974}, {\"experiment\": \"exp4\", \"function\": \"rastrigin\", \"method\": \"noNN_CwN\", \"MOF_norm\": 5.946891593353476}, {\"experiment\": \"exp4\", \"function\": \"rastrigin\", \"method\": \"noNN_HMu\", \"MOF_norm\": 21.564521419842727}, {\"experiment\": \"exp4\", \"function\": \"rastrigin\", \"method\": \"noNN_No\", \"MOF_norm\": 21.6566922766436}, {\"experiment\": \"exp4\", \"function\": \"rastrigin\", \"method\": \"noNN_RI\", \"MOF_norm\": 4.012082300554799}, {\"experiment\": \"exp4\", \"function\": \"rosenbrock\", \"method\": \"NN_CwN\", \"MOF_norm\": 19.335394942498166}, {\"experiment\": \"exp4\", \"function\": \"rosenbrock\", \"method\": \"NN_HMu\", \"MOF_norm\": 5.719116606396022}, {\"experiment\": \"exp4\", \"function\": \"rosenbrock\", \"method\": \"NN_No\", \"MOF_norm\": 11.774467654710191}, {\"experiment\": \"exp4\", \"function\": \"rosenbrock\", \"method\": \"NN_RI\", \"MOF_norm\": 6.190665507238209}, {\"experiment\": \"exp4\", \"function\": \"rosenbrock\", \"method\": \"noNNSt_No\", \"MOF_norm\": 4.6039973139142}, {\"experiment\": \"exp4\", \"function\": \"rosenbrock\", \"method\": \"noNN_CwN\", \"MOF_norm\": 8.77361595237511}, {\"experiment\": \"exp4\", \"function\": \"rosenbrock\", \"method\": \"noNN_HMu\", \"MOF_norm\": 34.46986848115729}, {\"experiment\": \"exp4\", \"function\": \"rosenbrock\", \"method\": \"noNN_No\", \"MOF_norm\": 38.38000032928535}, {\"experiment\": \"exp4\", \"function\": \"rosenbrock\", \"method\": \"noNN_RI\", \"MOF_norm\": 7.5511160480226165}, {\"experiment\": \"exp4\", \"function\": \"sphere\", \"method\": \"NN_CwN\", \"MOF_norm\": 18.72738197453805}, {\"experiment\": \"exp4\", \"function\": \"sphere\", \"method\": \"NN_HMu\", \"MOF_norm\": 6.840516408217746}, {\"experiment\": \"exp4\", \"function\": \"sphere\", \"method\": \"NN_No\", \"MOF_norm\": 12.308878606948687}, {\"experiment\": \"exp4\", \"function\": \"sphere\", \"method\": \"NN_RI\", \"MOF_norm\": 5.6962102283667955}, {\"experiment\": \"exp4\", \"function\": \"sphere\", \"method\": \"noNNSt_No\", \"MOF_norm\": 4.362116114037033}, {\"experiment\": \"exp4\", \"function\": \"sphere\", \"method\": \"noNN_CwN\", \"MOF_norm\": 8.804644189921925}, {\"experiment\": \"exp4\", \"function\": \"sphere\", \"method\": \"noNN_HMu\", \"MOF_norm\": 33.48870738578829}, {\"experiment\": \"exp4\", \"function\": \"sphere\", \"method\": \"noNN_No\", \"MOF_norm\": 36.098415313284185}, {\"experiment\": \"exp4\", \"function\": \"sphere\", \"method\": \"noNN_RI\", \"MOF_norm\": 7.36331523414124}]}};\n",
       "const opt = {};\n",
       "const type = \"vega-lite\";\n",
       "const id = \"19f4079a-460d-4178-b0b1-243e45e72c61\";\n",
       "\n",
       "const output_area = this;\n",
       "\n",
       "require([\"nbextensions/jupyter-vega/index\"], function(vega) {\n",
       "  const target = document.createElement(\"div\");\n",
       "  target.id = id;\n",
       "  target.className = \"vega-embed\";\n",
       "\n",
       "  const style = document.createElement(\"style\");\n",
       "  style.textContent = [\n",
       "    \".vega-embed .error p {\",\n",
       "    \"  color: firebrick;\",\n",
       "    \"  font-size: 14px;\",\n",
       "    \"}\",\n",
       "  ].join(\"\\\\n\");\n",
       "\n",
       "  // element is a jQuery wrapped DOM element inside the output area\n",
       "  // see http://ipython.readthedocs.io/en/stable/api/generated/\\\n",
       "  // IPython.display.html#IPython.display.Javascript.__init__\n",
       "  element[0].appendChild(target);\n",
       "  element[0].appendChild(style);\n",
       "\n",
       "  vega.render(\"#\" + id, spec, type, opt, output_area);\n",
       "}, function (err) {\n",
       "  if (err.requireType !== \"scripterror\") {\n",
       "    throw(err);\n",
       "  }\n",
       "});\n"
      ],
      "text/plain": [
       "<vega.vegalite.VegaLite at 0x1a2d2e4e48>"
      ]
     },
     "metadata": {
      "jupyter-vega": "#19f4079a-460d-4178-b0b1-243e45e72c61"
     },
     "output_type": "display_data"
    },
    {
     "data": {
      "text/plain": []
     },
     "execution_count": 5,
     "metadata": {},
     "output_type": "execute_result"
    },
    {
     "data": {
      "image/png": "[encoded data removed]"
     },
     "metadata": {
      "jupyter-vega": "#19f4079a-460d-4178-b0b1-243e45e72c61"
     },
     "output_type": "display_data"
    }
   ],
   "source": [
    "alt.Chart(mean_data).mark_bar(clip=True).encode(\n",
    "    alt.X('method'),\n",
    "    alt.Y('MOF_norm', scale=alt.Scale(domain=(0,450))),\n",
    "    alt.Column('experiment'),\n",
    "    alt.Color('function'),\n",
    "    alt.Tooltip(['method','MOF_norm','experiment','function'])\n",
    ").properties(\n",
    "    width=100,\n",
    "    height=200\n",
    ")"
   ]
  },
  {
   "cell_type": "code",
   "execution_count": null,
   "metadata": {},
   "outputs": [],
   "source": []
  },
  {
   "cell_type": "code",
   "execution_count": null,
   "metadata": {},
   "outputs": [],
   "source": []
  },
  {
   "cell_type": "code",
   "execution_count": null,
   "metadata": {},
   "outputs": [],
   "source": []
  }
 ],
 "metadata": {
  "kernelspec": {
   "display_name": "Python 3",
   "language": "python",
   "name": "python3"
  },
  "language_info": {
   "codemirror_mode": {
    "name": "ipython",
    "version": 3
   },
   "file_extension": ".py",
   "mimetype": "text/x-python",
   "name": "python",
   "nbconvert_exporter": "python",
   "pygments_lexer": "ipython3",
   "version": "3.7.3"
  },
  "toc": {
   "base_numbering": 1,
   "nav_menu": {},
   "number_sections": true,
   "sideBar": true,
   "skip_h1_title": false,
   "title_cell": "Table of Contents",
   "title_sidebar": "Contents",
   "toc_cell": false,
   "toc_position": {
    "height": "calc(100% - 180px)",
    "left": "10px",
    "top": "150px",
    "width": "165px"
   },
   "toc_section_display": true,
   "toc_window_display": false
  }
 },
 "nbformat": 4,
 "nbformat_minor": 2
}
