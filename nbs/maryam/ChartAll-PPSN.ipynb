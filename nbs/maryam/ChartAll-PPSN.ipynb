{
 "cells": [
  {
   "cell_type": "code",
   "execution_count": 1,
   "metadata": {},
   "outputs": [],
   "source": [
    "%reload_ext autoreload\n",
    "%autoreload 2\n",
    "%matplotlib inline\n",
    "from denn import *\n",
    "import pandas as pd, seaborn as sns, io, altair as alt\n",
    "alt.renderers.enable('notebook');"
   ]
  },
  {
   "cell_type": "code",
   "execution_count": 2,
   "metadata": {
    "code_folding": [
     21,
     31,
     43,
     71,
     88
    ]
   },
   "outputs": [],
   "source": [
    "nn_p=3\n",
    "# Functions\n",
    "path= Path(f'../../data/cluster_results')\n",
    "col_by_freq = True\n",
    "col_palette = 'Set3'\n",
    "pat = re.compile('.*/(exp\\d)/(\\w*)/nonn/freq([0-9\\.]+)div(\\w+)/(\\w+)_\\w+.csv')\n",
    "decode_keys = ['experiment','function','freq','div','method']\n",
    "nn_pat = re.compile('.*/(exp\\d)/(\\w*)/nn/freq([0-9\\.]+)\\w+nn_p(\\d+)\\w+div([A-Za-z]+)/(\\w+)_(\\w+)_\\w+.csv')\n",
    "nn_decode_keys = ['experiment','function','freq','nnp','div','method','replace_mech']\n",
    "\n",
    "def get_files(m): return list(path.glob(f'**/nonn/**/*{m}.csv'))\n",
    "def get_nn_files(m): return list(path.glob(f'**/nn/**/*{m}.csv'))\n",
    "\n",
    "def read_csv(f,m):\n",
    "    df = pd.read_csv(f)\n",
    "    for k,v in zip(decode_keys,pat.search(str(f)).groups()): df[k] = v\n",
    "    df['freq'] = df['freq'].astype(float)\n",
    "    df['method'] = df['method'] + '_' + df['div']\n",
    "    df['method'] = df['method'].str.replace('noNNRestart_No', 'noNN_Rst')\n",
    "    df.drop('div', axis=1, inplace=True)\n",
    "    df.rename({'0':m.upper(), m:m.upper()}, axis=1, inplace=True)\n",
    "    return df\n",
    "\n",
    "def read_nn_csv(f,m):\n",
    "    df = pd.read_csv(f)\n",
    "    for k,v in zip(nn_decode_keys,nn_pat.search(str(f)).groups()): df[k] = v\n",
    "    df['freq'] = df['freq'].astype(float)\n",
    "    df['method'] = df['method'] + '_' + df['replace_mech'] + '_' + df['div']\n",
    "    df['method'] = df['method'].str.replace('NNnorm_Worst', 'NN')\n",
    "    df.drop(['replace_mech','div'], axis=1, inplace=True)\n",
    "    df.rename({'0':m.upper(), m:m.upper()}, axis=1, inplace=True)\n",
    "    return df\n",
    "\n",
    "def get_data(m, normalize=False):\n",
    "    files = get_files(m)\n",
    "    nn_files = get_nn_files(m)\n",
    "    data = pd.concat([read_csv(f,m) for f in files] + [read_nn_csv(f,m) for f in nn_files])\n",
    "    #this i added for remove freq 0.5 and 1\n",
    "    data=data.query('freq>1')\n",
    "    #added this to have nn_p=10\n",
    "    data = data[data.nnp.isna() | (data.nnp == str(nn_p))].drop('nnp', axis=1)\n",
    "\n",
    "    if normalize:\n",
    "        data_norm = (data.groupby(['experiment','function','freq','method'])[m.upper()].mean().reset_index()\n",
    "                         .groupby(['experiment','function'])[m.upper()].min().reset_index()\n",
    "                         .rename({m.upper():m.upper()+'_norm'}, axis=1))\n",
    "        data = data.merge(data_norm, 'left')\n",
    "        data[m.upper()+'_norm'] = data[m.upper()] / data[m.upper()+'_norm']\n",
    "    return data\n",
    "\n",
    "def plot_one(data, m, normalize=False, title='', title_size=14, col_by_freq=col_by_freq, col_palette=col_palette,\n",
    "             legend=False, hide_x=True, hide_y=True, ax=None, do_lim=True, ll=0.2, ul=0.8):\n",
    "    m = m.upper()\n",
    "    if normalize: m = m + '_norm' \n",
    "    if ax is None: fig,ax = plt.subplots(1,1,figsize=(6,4))\n",
    "    sns.boxplot('method' if col_by_freq else 'freq', m, hue='freq' if col_by_freq else 'method',\n",
    "                data=data, palette=col_palette,\n",
    "                # width=2.5,\n",
    "                linewidth=0.5, fliersize=0, ax=ax)\n",
    "    if not legend: ax.get_legend().remove()\n",
    "    if do_lim:\n",
    "        ax.set_ylim(-0.05,1.05)\n",
    "    else:\n",
    "        g = data.groupby(['method','freq'])[m]\n",
    "        q1,q3 = g.quantile(ll),g.quantile(ul)\n",
    "        iqr = q3-q1\n",
    "        lower_lim = (q1 - 1.5*iqr).min()\n",
    "        upper_lim = (q3 + 1.5*iqr).max()\n",
    "        lower_lim = data[m][data[m]>=lower_lim].min()\n",
    "        upper_lim = data[m][data[m]<=upper_lim].max()\n",
    "        ax.set_ylim(lower_lim,upper_lim)\n",
    "        \n",
    "    ax.set_xlabel('')\n",
    "    if hide_x: ax.set_xticklabels([])\n",
    "    if hide_y: ax.set_ylabel('')\n",
    "    ax.set_title(title, size=title_size)\n",
    "    return ax\n",
    "\n",
    "def plot_all_vertical(m, normalize=False, title_size=14, col_by_freq=col_by_freq, col_palette=col_palette, do_lim=True,\n",
    "                      ll=0.2, ul=0.8):\n",
    "    data = get_data(m, normalize=normalize)\n",
    "#     fig,axss = plt.subplots(4, 3, figsize=(14,16), sharex=do_lim, sharey=do_lim)\n",
    "    fig,axss = plt.subplots(4, 3, figsize=(20,16), sharex=False, sharey=False)\n",
    "    for i,(axs,exp) in enumerate(zip(axss,['exp1','exp2','exp3','exp4'])):\n",
    "        first_exp = i==0\n",
    "        for j,(ax,func) in enumerate(zip(axs,['sphere', 'rosenbrock', 'rastrigin'])):\n",
    "            first_func = j==0\n",
    "            test = data.query(f'experiment=={exp!r} and function=={func!r}').sort_values('method', ascending=False)\n",
    "            plot_one(test, m, normalize=normalize, title=f'{exp}-{func.title()}', title_size=title_size, hide_x=False,\n",
    "                     hide_y=not first_func, col_by_freq=col_by_freq, col_palette=col_palette, ax=ax,\n",
    "                     do_lim=do_lim, ll=ll, ul=ul)\n",
    "        ax.legend(loc='upper left', ncol=3)\n",
    "    plt.tight_layout()\n",
    "    return fig,axss\n",
    "\n",
    "def plot_all_horizontal(m, normalize=False, title_size=14, col_by_freq=col_by_freq, col_palette=col_palette, do_lim=True,\n",
    "                        ll=0.2, ul=0.8):\n",
    "    data = get_data(m, normalize=normalize)\n",
    "#     fig,axss = plt.subplots(4, 3, figsize=(14,16), sharex=do_lim, sharey=do_lim)\n",
    "    fig,axss = plt.subplots(3, 4, figsize=(20,12), sharex=False, sharey=False)#20,12\n",
    "    for i,exp in enumerate(['exp1','exp2','exp3','exp4']):\n",
    "        first_exp = i==0\n",
    "        axs = axss[:,i]\n",
    "        for j,(ax,func) in enumerate(zip(axs,['sphere', 'rosenbrock', 'rastrigin'])):\n",
    "            first_func = i==0\n",
    "            test = data.query(f'experiment=={exp!r} and function=={func!r}').sort_values('method', ascending=False)\n",
    "            plot_one(test, m, normalize=normalize, title=f'{exp}-{func.title()}', title_size=title_size, hide_x=False,\n",
    "                     hide_y=not first_func, col_by_freq=col_by_freq, col_palette=col_palette, ax=ax,\n",
    "                     do_lim=do_lim, ll=ll, ul=ul)\n",
    "        \n",
    "    for axs in axss: axs[-1].legend(loc='upper right', ncol=3)\n",
    "    plt.tight_layout()\n",
    "    return fig,axss\n"
   ]
  },
  {
   "cell_type": "code",
   "execution_count": 3,
   "metadata": {},
   "outputs": [
    {
     "name": "stderr",
     "output_type": "stream",
     "text": [
      "Sorting because non-concatenation axis is not aligned. A future version\n",
      "of pandas will change to not sort by default.\n",
      "\n",
      "To accept the future behavior, pass 'sort=False'.\n",
      "\n",
      "To retain the current behavior and silence the warning, pass 'sort=True'.\n",
      "\n"
     ]
    },
    {
     "data": {
      "text/html": [
       "<div>\n",
       "<style scoped>\n",
       "    .dataframe tbody tr th:only-of-type {\n",
       "        vertical-align: middle;\n",
       "    }\n",
       "\n",
       "    .dataframe tbody tr th {\n",
       "        vertical-align: top;\n",
       "    }\n",
       "\n",
       "    .dataframe thead th {\n",
       "        text-align: right;\n",
       "    }\n",
       "</style>\n",
       "<table border=\"1\" class=\"dataframe\">\n",
       "  <thead>\n",
       "    <tr style=\"text-align: right;\">\n",
       "      <th></th>\n",
       "      <th>MOF</th>\n",
       "      <th>experiment</th>\n",
       "      <th>freq</th>\n",
       "      <th>function</th>\n",
       "      <th>method</th>\n",
       "      <th>MOF_norm</th>\n",
       "    </tr>\n",
       "  </thead>\n",
       "  <tbody>\n",
       "    <tr>\n",
       "      <th>0</th>\n",
       "      <td>0.267453</td>\n",
       "      <td>exp1</td>\n",
       "      <td>10.0</td>\n",
       "      <td>sphere</td>\n",
       "      <td>noNN_HMu</td>\n",
       "      <td>2.877659</td>\n",
       "    </tr>\n",
       "    <tr>\n",
       "      <th>1</th>\n",
       "      <td>0.252288</td>\n",
       "      <td>exp1</td>\n",
       "      <td>10.0</td>\n",
       "      <td>sphere</td>\n",
       "      <td>noNN_HMu</td>\n",
       "      <td>2.714485</td>\n",
       "    </tr>\n",
       "    <tr>\n",
       "      <th>2</th>\n",
       "      <td>0.303714</td>\n",
       "      <td>exp1</td>\n",
       "      <td>10.0</td>\n",
       "      <td>sphere</td>\n",
       "      <td>noNN_HMu</td>\n",
       "      <td>3.267805</td>\n",
       "    </tr>\n",
       "    <tr>\n",
       "      <th>3</th>\n",
       "      <td>0.373354</td>\n",
       "      <td>exp1</td>\n",
       "      <td>10.0</td>\n",
       "      <td>sphere</td>\n",
       "      <td>noNN_HMu</td>\n",
       "      <td>4.017103</td>\n",
       "    </tr>\n",
       "    <tr>\n",
       "      <th>4</th>\n",
       "      <td>0.177752</td>\n",
       "      <td>exp1</td>\n",
       "      <td>10.0</td>\n",
       "      <td>sphere</td>\n",
       "      <td>noNN_HMu</td>\n",
       "      <td>1.912524</td>\n",
       "    </tr>\n",
       "  </tbody>\n",
       "</table>\n",
       "</div>"
      ],
      "text/plain": [
       "        MOF experiment  freq function    method  MOF_norm\n",
       "0  0.267453       exp1  10.0   sphere  noNN_HMu  2.877659\n",
       "1  0.252288       exp1  10.0   sphere  noNN_HMu  2.714485\n",
       "2  0.303714       exp1  10.0   sphere  noNN_HMu  3.267805\n",
       "3  0.373354       exp1  10.0   sphere  noNN_HMu  4.017103\n",
       "4  0.177752       exp1  10.0   sphere  noNN_HMu  1.912524"
      ]
     },
     "execution_count": 3,
     "metadata": {},
     "output_type": "execute_result"
    }
   ],
   "source": [
    "data = get_data('mof', normalize=True)\n",
    "\n",
    "data.head()"
   ]
  },
  {
   "cell_type": "code",
   "execution_count": 4,
   "metadata": {
    "scrolled": true
   },
   "outputs": [],
   "source": [
    "mean_data = (data.groupby(['experiment','function','method'])[['MOF_norm']]\n",
    "                 .mean().reset_index())"
   ]
  },
  {
   "cell_type": "code",
   "execution_count": 5,
   "metadata": {},
   "outputs": [],
   "source": [
    "mean_data.function=mean_data.function.str.title()"
   ]
  },
  {
   "cell_type": "code",
   "execution_count": 6,
   "metadata": {
    "scrolled": true
   },
   "outputs": [
    {
     "data": {
      "application/javascript": [
       "const spec = {\"config\": {\"view\": {\"width\": 400, \"height\": 300}, \"mark\": {\"tooltip\": null}, \"axisX\": {\"labelAngle\": -45}}, \"data\": {\"name\": \"data-2d2c05b5a0de6dfef59f7d132a87fc3d\"}, \"mark\": {\"type\": \"bar\", \"clip\": true}, \"encoding\": {\"color\": {\"type\": \"nominal\", \"field\": \"function\", \"legend\": {\"legendX\": 550, \"legendY\": 4, \"orient\": \"none\"}, \"title\": \"\"}, \"column\": {\"type\": \"nominal\", \"field\": \"experiment\", \"title\": \"\"}, \"tooltip\": [{\"type\": \"nominal\", \"field\": \"method\"}, {\"type\": \"quantitative\", \"field\": \"MOF_norm\"}, {\"type\": \"nominal\", \"field\": \"experiment\"}, {\"type\": \"nominal\", \"field\": \"function\"}], \"x\": {\"type\": \"nominal\", \"field\": \"method\", \"title\": \"\"}, \"y\": {\"type\": \"quantitative\", \"field\": \"MOF_norm\", \"scale\": {\"domain\": [0, 200]}}}, \"height\": 250, \"width\": 150, \"$schema\": \"https://vega.github.io/schema/vega-lite/v3.4.0.json\", \"datasets\": {\"data-2d2c05b5a0de6dfef59f7d132a87fc3d\": [{\"experiment\": \"exp1\", \"function\": \"Rastrigin\", \"method\": \"NN_CwN\", \"MOF_norm\": 7.477495867406749}, {\"experiment\": \"exp1\", \"function\": \"Rastrigin\", \"method\": \"NN_HMu\", \"MOF_norm\": 1.9539396701405063}, {\"experiment\": \"exp1\", \"function\": \"Rastrigin\", \"method\": \"NN_No\", \"MOF_norm\": 14.858313923239058}, {\"experiment\": \"exp1\", \"function\": \"Rastrigin\", \"method\": \"NN_RI\", \"MOF_norm\": 1.6098077017013208}, {\"experiment\": \"exp1\", \"function\": \"Rastrigin\", \"method\": \"noNN_CwN\", \"MOF_norm\": 7.109361107827317}, {\"experiment\": \"exp1\", \"function\": \"Rastrigin\", \"method\": \"noNN_HMu\", \"MOF_norm\": 2.099987223489138}, {\"experiment\": \"exp1\", \"function\": \"Rastrigin\", \"method\": \"noNN_No\", \"MOF_norm\": 21.487142601293115}, {\"experiment\": \"exp1\", \"function\": \"Rastrigin\", \"method\": \"noNN_RI\", \"MOF_norm\": 1.8672186547514156}, {\"experiment\": \"exp1\", \"function\": \"Rastrigin\", \"method\": \"noNN_Rst\", \"MOF_norm\": 3.551004152115292}, {\"experiment\": \"exp1\", \"function\": \"Rosenbrock\", \"method\": \"NN_CwN\", \"MOF_norm\": 48.17700937458357}, {\"experiment\": \"exp1\", \"function\": \"Rosenbrock\", \"method\": \"NN_HMu\", \"MOF_norm\": 2.6913171404069347}, {\"experiment\": \"exp1\", \"function\": \"Rosenbrock\", \"method\": \"NN_No\", \"MOF_norm\": 7.737786123716128}, {\"experiment\": \"exp1\", \"function\": \"Rosenbrock\", \"method\": \"NN_RI\", \"MOF_norm\": 2.304704924173301}, {\"experiment\": \"exp1\", \"function\": \"Rosenbrock\", \"method\": \"noNN_CwN\", \"MOF_norm\": 94.38564721969178}, {\"experiment\": \"exp1\", \"function\": \"Rosenbrock\", \"method\": \"noNN_HMu\", \"MOF_norm\": 3.753902731659432}, {\"experiment\": \"exp1\", \"function\": \"Rosenbrock\", \"method\": \"noNN_No\", \"MOF_norm\": 302.15326825146917}, {\"experiment\": \"exp1\", \"function\": \"Rosenbrock\", \"method\": \"noNN_RI\", \"MOF_norm\": 2.359069562657233}, {\"experiment\": \"exp1\", \"function\": \"Rosenbrock\", \"method\": \"noNN_Rst\", \"MOF_norm\": 4.895177700624596}, {\"experiment\": \"exp1\", \"function\": \"Sphere\", \"method\": \"NN_CwN\", \"MOF_norm\": 37.376949672418846}, {\"experiment\": \"exp1\", \"function\": \"Sphere\", \"method\": \"NN_HMu\", \"MOF_norm\": 2.33510616467233}, {\"experiment\": \"exp1\", \"function\": \"Sphere\", \"method\": \"NN_No\", \"MOF_norm\": 7.110295038925866}, {\"experiment\": \"exp1\", \"function\": \"Sphere\", \"method\": \"NN_RI\", \"MOF_norm\": 2.157204972440975}, {\"experiment\": \"exp1\", \"function\": \"Sphere\", \"method\": \"noNN_CwN\", \"MOF_norm\": 72.60040879366616}, {\"experiment\": \"exp1\", \"function\": \"Sphere\", \"method\": \"noNN_HMu\", \"MOF_norm\": 3.0876454488248677}, {\"experiment\": \"exp1\", \"function\": \"Sphere\", \"method\": \"noNN_No\", \"MOF_norm\": 255.5772328735789}, {\"experiment\": \"exp1\", \"function\": \"Sphere\", \"method\": \"noNN_RI\", \"MOF_norm\": 2.039278103197273}, {\"experiment\": \"exp1\", \"function\": \"Sphere\", \"method\": \"noNN_Rst\", \"MOF_norm\": 4.550461525297351}, {\"experiment\": \"exp2\", \"function\": \"Rastrigin\", \"method\": \"NN_CwN\", \"MOF_norm\": 1.965887939767501}, {\"experiment\": \"exp2\", \"function\": \"Rastrigin\", \"method\": \"NN_HMu\", \"MOF_norm\": 1.3286610655932694}, {\"experiment\": \"exp2\", \"function\": \"Rastrigin\", \"method\": \"NN_No\", \"MOF_norm\": 1.1398922172754489}, {\"experiment\": \"exp2\", \"function\": \"Rastrigin\", \"method\": \"NN_RI\", \"MOF_norm\": 1.072401175798974}, {\"experiment\": \"exp2\", \"function\": \"Rastrigin\", \"method\": \"noNN_CwN\", \"MOF_norm\": 6.231073971244463}, {\"experiment\": \"exp2\", \"function\": \"Rastrigin\", \"method\": \"noNN_HMu\", \"MOF_norm\": 1.1367249650423383}, {\"experiment\": \"exp2\", \"function\": \"Rastrigin\", \"method\": \"noNN_No\", \"MOF_norm\": 1.7380667430689232}, {\"experiment\": \"exp2\", \"function\": \"Rastrigin\", \"method\": \"noNN_RI\", \"MOF_norm\": 1.3193650143436322}, {\"experiment\": \"exp2\", \"function\": \"Rastrigin\", \"method\": \"noNN_Rst\", \"MOF_norm\": 4.864859112834259}, {\"experiment\": \"exp2\", \"function\": \"Rosenbrock\", \"method\": \"NN_CwN\", \"MOF_norm\": 53.1561539356745}, {\"experiment\": \"exp2\", \"function\": \"Rosenbrock\", \"method\": \"NN_HMu\", \"MOF_norm\": 12.05780676111817}, {\"experiment\": \"exp2\", \"function\": \"Rosenbrock\", \"method\": \"NN_No\", \"MOF_norm\": 2.3728318247007114}, {\"experiment\": \"exp2\", \"function\": \"Rosenbrock\", \"method\": \"NN_RI\", \"MOF_norm\": 6.0887943083678415}, {\"experiment\": \"exp2\", \"function\": \"Rosenbrock\", \"method\": \"noNN_CwN\", \"MOF_norm\": 383.1496946916617}, {\"experiment\": \"exp2\", \"function\": \"Rosenbrock\", \"method\": \"noNN_HMu\", \"MOF_norm\": 10.48628203962699}, {\"experiment\": \"exp2\", \"function\": \"Rosenbrock\", \"method\": \"noNN_No\", \"MOF_norm\": 25.394800906582184}, {\"experiment\": \"exp2\", \"function\": \"Rosenbrock\", \"method\": \"noNN_RI\", \"MOF_norm\": 9.889015784633836}, {\"experiment\": \"exp2\", \"function\": \"Rosenbrock\", \"method\": \"noNN_Rst\", \"MOF_norm\": 117.2521260042826}, {\"experiment\": \"exp2\", \"function\": \"Sphere\", \"method\": \"NN_CwN\", \"MOF_norm\": 60.041262501708935}, {\"experiment\": \"exp2\", \"function\": \"Sphere\", \"method\": \"NN_HMu\", \"MOF_norm\": 8.403163012254039}, {\"experiment\": \"exp2\", \"function\": \"Sphere\", \"method\": \"NN_No\", \"MOF_norm\": 2.41623961801953}, {\"experiment\": \"exp2\", \"function\": \"Sphere\", \"method\": \"NN_RI\", \"MOF_norm\": 4.700287363973542}, {\"experiment\": \"exp2\", \"function\": \"Sphere\", \"method\": \"noNN_CwN\", \"MOF_norm\": 346.9141986207432}, {\"experiment\": \"exp2\", \"function\": \"Sphere\", \"method\": \"noNN_HMu\", \"MOF_norm\": 7.1645592732593135}, {\"experiment\": \"exp2\", \"function\": \"Sphere\", \"method\": \"noNN_No\", \"MOF_norm\": 92.85878958704785}, {\"experiment\": \"exp2\", \"function\": \"Sphere\", \"method\": \"noNN_RI\", \"MOF_norm\": 7.522643321527658}, {\"experiment\": \"exp2\", \"function\": \"Sphere\", \"method\": \"noNN_Rst\", \"MOF_norm\": 61.24266978063921}, {\"experiment\": \"exp3\", \"function\": \"Rastrigin\", \"method\": \"NN_CwN\", \"MOF_norm\": 9.58958246473973}, {\"experiment\": \"exp3\", \"function\": \"Rastrigin\", \"method\": \"NN_HMu\", \"MOF_norm\": 2.7730559424240644}, {\"experiment\": \"exp3\", \"function\": \"Rastrigin\", \"method\": \"NN_No\", \"MOF_norm\": 28.04356422735193}, {\"experiment\": \"exp3\", \"function\": \"Rastrigin\", \"method\": \"NN_RI\", \"MOF_norm\": 1.2255624481116156}, {\"experiment\": \"exp3\", \"function\": \"Rastrigin\", \"method\": \"noNN_CwN\", \"MOF_norm\": 3.719563443637897}, {\"experiment\": \"exp3\", \"function\": \"Rastrigin\", \"method\": \"noNN_HMu\", \"MOF_norm\": 2.0811029712122884}, {\"experiment\": \"exp3\", \"function\": \"Rastrigin\", \"method\": \"noNN_No\", \"MOF_norm\": 29.720923216205826}, {\"experiment\": \"exp3\", \"function\": \"Rastrigin\", \"method\": \"noNN_RI\", \"MOF_norm\": 1.0209363163381389}, {\"experiment\": \"exp3\", \"function\": \"Rastrigin\", \"method\": \"noNN_Rst\", \"MOF_norm\": 1.8225635568557121}, {\"experiment\": \"exp3\", \"function\": \"Rosenbrock\", \"method\": \"NN_CwN\", \"MOF_norm\": 69.32509157493365}, {\"experiment\": \"exp3\", \"function\": \"Rosenbrock\", \"method\": \"NN_HMu\", \"MOF_norm\": 2.320715768326502}, {\"experiment\": \"exp3\", \"function\": \"Rosenbrock\", \"method\": \"NN_No\", \"MOF_norm\": 2.1237620659272722}, {\"experiment\": \"exp3\", \"function\": \"Rosenbrock\", \"method\": \"NN_RI\", \"MOF_norm\": 2.2340147125064957}, {\"experiment\": \"exp3\", \"function\": \"Rosenbrock\", \"method\": \"noNN_CwN\", \"MOF_norm\": 5925.897992001412}, {\"experiment\": \"exp3\", \"function\": \"Rosenbrock\", \"method\": \"noNN_HMu\", \"MOF_norm\": 2.0817692213635706}, {\"experiment\": \"exp3\", \"function\": \"Rosenbrock\", \"method\": \"noNN_No\", \"MOF_norm\": 4.274332729946037}, {\"experiment\": \"exp3\", \"function\": \"Rosenbrock\", \"method\": \"noNN_RI\", \"MOF_norm\": 4.043289927945579}, {\"experiment\": \"exp3\", \"function\": \"Rosenbrock\", \"method\": \"noNN_Rst\", \"MOF_norm\": 2212.0045763750136}, {\"experiment\": \"exp3\", \"function\": \"Sphere\", \"method\": \"NN_CwN\", \"MOF_norm\": 69.90407061539543}, {\"experiment\": \"exp3\", \"function\": \"Sphere\", \"method\": \"NN_HMu\", \"MOF_norm\": 3.2245682079905866}, {\"experiment\": \"exp3\", \"function\": \"Sphere\", \"method\": \"NN_No\", \"MOF_norm\": 2.261680680074092}, {\"experiment\": \"exp3\", \"function\": \"Sphere\", \"method\": \"NN_RI\", \"MOF_norm\": 1.839605455655494}, {\"experiment\": \"exp3\", \"function\": \"Sphere\", \"method\": \"noNN_CwN\", \"MOF_norm\": 603.9945274597411}, {\"experiment\": \"exp3\", \"function\": \"Sphere\", \"method\": \"noNN_HMu\", \"MOF_norm\": 32.32187066812846}, {\"experiment\": \"exp3\", \"function\": \"Sphere\", \"method\": \"noNN_No\", \"MOF_norm\": 4001.908010451972}, {\"experiment\": \"exp3\", \"function\": \"Sphere\", \"method\": \"noNN_RI\", \"MOF_norm\": 9.083536008371148}, {\"experiment\": \"exp3\", \"function\": \"Sphere\", \"method\": \"noNN_Rst\", \"MOF_norm\": 188.7050047924423}, {\"experiment\": \"exp4\", \"function\": \"Rastrigin\", \"method\": \"NN_CwN\", \"MOF_norm\": 23.06039127945582}, {\"experiment\": \"exp4\", \"function\": \"Rastrigin\", \"method\": \"NN_HMu\", \"MOF_norm\": 2.071897406217521}, {\"experiment\": \"exp4\", \"function\": \"Rastrigin\", \"method\": \"NN_No\", \"MOF_norm\": 9.576167242227998}, {\"experiment\": \"exp4\", \"function\": \"Rastrigin\", \"method\": \"NN_RI\", \"MOF_norm\": 2.24703489698512}, {\"experiment\": \"exp4\", \"function\": \"Rastrigin\", \"method\": \"noNN_CwN\", \"MOF_norm\": 13.705965515647408}, {\"experiment\": \"exp4\", \"function\": \"Rastrigin\", \"method\": \"noNN_HMu\", \"MOF_norm\": 2.5943038314596287}, {\"experiment\": \"exp4\", \"function\": \"Rastrigin\", \"method\": \"noNN_No\", \"MOF_norm\": 70.38736882403889}, {\"experiment\": \"exp4\", \"function\": \"Rastrigin\", \"method\": \"noNN_RI\", \"MOF_norm\": 3.2429635149337868}, {\"experiment\": \"exp4\", \"function\": \"Rastrigin\", \"method\": \"noNN_Rst\", \"MOF_norm\": 1.9706014144776418}, {\"experiment\": \"exp4\", \"function\": \"Rosenbrock\", \"method\": \"NN_CwN\", \"MOF_norm\": 83.05674554570857}, {\"experiment\": \"exp4\", \"function\": \"Rosenbrock\", \"method\": \"NN_HMu\", \"MOF_norm\": 2.726248950217103}, {\"experiment\": \"exp4\", \"function\": \"Rosenbrock\", \"method\": \"NN_No\", \"MOF_norm\": 37.56823908029427}, {\"experiment\": \"exp4\", \"function\": \"Rosenbrock\", \"method\": \"NN_RI\", \"MOF_norm\": 3.8157371995093357}, {\"experiment\": \"exp4\", \"function\": \"Rosenbrock\", \"method\": \"noNN_CwN\", \"MOF_norm\": 38.75193765249889}, {\"experiment\": \"exp4\", \"function\": \"Rosenbrock\", \"method\": \"noNN_HMu\", \"MOF_norm\": 6.364712317514682}, {\"experiment\": \"exp4\", \"function\": \"Rosenbrock\", \"method\": \"noNN_No\", \"MOF_norm\": 318.15274877095675}, {\"experiment\": \"exp4\", \"function\": \"Rosenbrock\", \"method\": \"noNN_RI\", \"MOF_norm\": 10.680255429456498}, {\"experiment\": \"exp4\", \"function\": \"Rosenbrock\", \"method\": \"noNN_Rst\", \"MOF_norm\": 4.022836021274798}, {\"experiment\": \"exp4\", \"function\": \"Sphere\", \"method\": \"NN_CwN\", \"MOF_norm\": 51.746986503587756}, {\"experiment\": \"exp4\", \"function\": \"Sphere\", \"method\": \"NN_HMu\", \"MOF_norm\": 3.012705385881674}, {\"experiment\": \"exp4\", \"function\": \"Sphere\", \"method\": \"NN_No\", \"MOF_norm\": 21.76741573794488}, {\"experiment\": \"exp4\", \"function\": \"Sphere\", \"method\": \"NN_RI\", \"MOF_norm\": 3.94800109918409}, {\"experiment\": \"exp4\", \"function\": \"Sphere\", \"method\": \"noNN_CwN\", \"MOF_norm\": 29.617606975352484}, {\"experiment\": \"exp4\", \"function\": \"Sphere\", \"method\": \"noNN_HMu\", \"MOF_norm\": 8.26643709371469}, {\"experiment\": \"exp4\", \"function\": \"Sphere\", \"method\": \"noNN_No\", \"MOF_norm\": 191.11341888986718}, {\"experiment\": \"exp4\", \"function\": \"Sphere\", \"method\": \"noNN_RI\", \"MOF_norm\": 14.981793639115933}, {\"experiment\": \"exp4\", \"function\": \"Sphere\", \"method\": \"noNN_Rst\", \"MOF_norm\": 2.571792950761814}]}};\n",
       "const opt = {};\n",
       "const type = \"vega-lite\";\n",
       "const id = \"2b8fb5a1-a393-48d8-967c-9d990bd53262\";\n",
       "\n",
       "const output_area = this;\n",
       "\n",
       "require([\"nbextensions/jupyter-vega/index\"], function(vega) {\n",
       "  const target = document.createElement(\"div\");\n",
       "  target.id = id;\n",
       "  target.className = \"vega-embed\";\n",
       "\n",
       "  const style = document.createElement(\"style\");\n",
       "  style.textContent = [\n",
       "    \".vega-embed .error p {\",\n",
       "    \"  color: firebrick;\",\n",
       "    \"  font-size: 14px;\",\n",
       "    \"}\",\n",
       "  ].join(\"\\\\n\");\n",
       "\n",
       "  // element is a jQuery wrapped DOM element inside the output area\n",
       "  // see http://ipython.readthedocs.io/en/stable/api/generated/\\\n",
       "  // IPython.display.html#IPython.display.Javascript.__init__\n",
       "  element[0].appendChild(target);\n",
       "  element[0].appendChild(style);\n",
       "\n",
       "  vega.render(\"#\" + id, spec, type, opt, output_area);\n",
       "}, function (err) {\n",
       "  if (err.requireType !== \"scripterror\") {\n",
       "    throw(err);\n",
       "  }\n",
       "});\n"
      ],
      "text/plain": [
       "<vega.vegalite.VegaLite at 0x1a2204bb70>"
      ]
     },
     "metadata": {
      "jupyter-vega": "#2b8fb5a1-a393-48d8-967c-9d990bd53262"
     },
     "output_type": "display_data"
    },
    {
     "data": {
      "text/plain": []
     },
     "execution_count": 6,
     "metadata": {},
     "output_type": "execute_result"
    },
    {
     "data": {
      "image/png": "[encoded data removed]"
     },
     "metadata": {
      "jupyter-vega": "#2b8fb5a1-a393-48d8-967c-9d990bd53262"
     },
     "output_type": "display_data"
    }
   ],
   "source": [
    "alt.Chart(mean_data).mark_bar(clip=True).encode(\n",
    "    alt.X('method', title=''),\n",
    "    alt.Y('MOF_norm', scale=alt.Scale(domain=(0,200))),\n",
    "    alt.Column('experiment', title=''),\n",
    "    alt.Color('function', title='', legend=alt.Legend(orient=\"none\", legendX=550, legendY=4)), #, bbox_to_anchor=(0,0.2, 1.4, 0.8)\n",
    "    alt.Tooltip(['method','MOF_norm','experiment','function'])\n",
    ").properties(\n",
    "    width=150,\n",
    "    height=250\n",
    ").configure_axisX(\n",
    "    labelAngle=-45\n",
    ")"
   ]
  },
  {
   "cell_type": "code",
   "execution_count": null,
   "metadata": {},
   "outputs": [],
   "source": []
  },
  {
   "cell_type": "code",
   "execution_count": null,
   "metadata": {},
   "outputs": [],
   "source": []
  },
  {
   "cell_type": "code",
   "execution_count": null,
   "metadata": {},
   "outputs": [],
   "source": []
  },
  {
   "cell_type": "code",
   "execution_count": null,
   "metadata": {},
   "outputs": [],
   "source": []
  }
 ],
 "metadata": {
  "kernelspec": {
   "display_name": "Python 3",
   "language": "python",
   "name": "python3"
  },
  "language_info": {
   "codemirror_mode": {
    "name": "ipython",
    "version": 3
   },
   "file_extension": ".py",
   "mimetype": "text/x-python",
   "name": "python",
   "nbconvert_exporter": "python",
   "pygments_lexer": "ipython3",
   "version": "3.7.3"
  },
  "toc": {
   "base_numbering": 1,
   "nav_menu": {},
   "number_sections": true,
   "sideBar": true,
   "skip_h1_title": false,
   "title_cell": "Table of Contents",
   "title_sidebar": "Contents",
   "toc_cell": false,
   "toc_position": {
    "height": "calc(100% - 180px)",
    "left": "10px",
    "top": "150px",
    "width": "165px"
   },
   "toc_section_display": true,
   "toc_window_display": false
  }
 },
 "nbformat": 4,
 "nbformat_minor": 2
}
