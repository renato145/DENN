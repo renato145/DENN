{
 "cells": [
  {
   "cell_type": "code",
   "execution_count": 3,
   "metadata": {},
   "outputs": [],
   "source": [
    "%reload_ext autoreload\n",
    "%autoreload 2\n",
    "%matplotlib inline\n",
    "from denn import *\n",
    "import pandas as pd, seaborn as sns, io, altair as alt\n",
    "alt.renderers.enable('notebook');"
   ]
  },
  {
   "cell_type": "code",
   "execution_count": 4,
   "metadata": {
    "code_folding": [
     21,
     31,
     43,
     71,
     88
    ]
   },
   "outputs": [],
   "source": [
    "# Functions\n",
    "path= Path(f'../../data/cluster_results')\n",
    "col_by_freq = True\n",
    "col_palette = 'Set3'\n",
    "pat = re.compile('.*/(exp\\d)/(\\w*)/nonn/freq([0-9\\.]+)div(\\w+)/(\\w+)_\\w+.csv')\n",
    "decode_keys = ['experiment','function','freq','div','method']\n",
    "nn_pat = re.compile('.*/(exp\\d)/(\\w*)/nn/freq([0-9\\.]+)\\w+div([A-Za-z]+)/(\\w+)_(\\w+)_\\w+.csv')\n",
    "nn_decode_keys = ['experiment','function','freq','div','method','replace_mech']\n",
    "\n",
    "def get_files(m): return list(path.glob(f'**/nonn/**/*{m}.csv'))\n",
    "def get_nn_files(m): return list(path.glob(f'**/nn/**/*{m}.csv'))\n",
    "\n",
    "def read_csv(f,m):\n",
    "    df = pd.read_csv(f)\n",
    "    for k,v in zip(decode_keys,pat.search(str(f)).groups()): df[k] = v\n",
    "    df['freq'] = df['freq'].astype(float)\n",
    "    df['method'] = df['method'] + '_' + df['div']\n",
    "    df['method'] = df['method'].str.replace('noNNRestart_No', 'noNN_Rst')\n",
    "    df.drop('div', axis=1, inplace=True)\n",
    "    df.rename({'0':m.upper(), m:m.upper()}, axis=1, inplace=True)\n",
    "    return df\n",
    "\n",
    "def read_nn_csv(f,m):\n",
    "    df = pd.read_csv(f)\n",
    "    for k,v in zip(nn_decode_keys,nn_pat.search(str(f)).groups()): df[k] = v\n",
    "    df['freq'] = df['freq'].astype(float)\n",
    "    df['method'] = df['method'] + '_' + df['replace_mech'] + '_' + df['div']\n",
    "    df['method'] = df['method'].str.replace('NNnorm_Worst', 'NN')\n",
    "    df.drop(['replace_mech','div'], axis=1, inplace=True)\n",
    "    df.rename({'0':m.upper(), m:m.upper()}, axis=1, inplace=True)\n",
    "    return df\n",
    "\n",
    "def get_data(m, normalize=False):\n",
    "    files = get_files(m)\n",
    "    nn_files = get_nn_files(m)\n",
    "    data = pd.concat([read_csv(f,m) for f in files] + [read_nn_csv(f,m) for f in nn_files])\n",
    "    if normalize:\n",
    "        data_norm = (data.groupby(['experiment','function','freq','method'])[m.upper()].mean().reset_index()\n",
    "                         .groupby(['experiment','function'])[m.upper()].min().reset_index()\n",
    "                         .rename({m.upper():m.upper()+'_norm'}, axis=1))\n",
    "        data = data.merge(data_norm, 'left')\n",
    "        data[m.upper()+'_norm'] = data[m.upper()] / data[m.upper()+'_norm']\n",
    "    return data\n",
    "\n",
    "def plot_one(data, m, normalize=False, title='', title_size=14, col_by_freq=col_by_freq, col_palette=col_palette,\n",
    "             legend=False, hide_x=True, hide_y=True, ax=None, do_lim=True, ll=0.2, ul=0.8):\n",
    "    m = m.upper()\n",
    "    if normalize: m = m + '_norm' \n",
    "    if ax is None: fig,ax = plt.subplots(1,1,figsize=(6,4))\n",
    "    sns.boxplot('method' if col_by_freq else 'freq', m, hue='freq' if col_by_freq else 'method',\n",
    "                data=data, palette=col_palette,\n",
    "                # width=2.5,\n",
    "                linewidth=0.5, fliersize=0, ax=ax)\n",
    "    if not legend: ax.get_legend().remove()\n",
    "    if do_lim:\n",
    "        ax.set_ylim(-0.05,1.05)\n",
    "    else:\n",
    "        g = data.groupby(['method','freq'])[m]\n",
    "        q1,q3 = g.quantile(ll),g.quantile(ul)\n",
    "        iqr = q3-q1\n",
    "        lower_lim = (q1 - 1.5*iqr).min()\n",
    "        upper_lim = (q3 + 1.5*iqr).max()\n",
    "        lower_lim = data[m][data[m]>=lower_lim].min()\n",
    "        upper_lim = data[m][data[m]<=upper_lim].max()\n",
    "        ax.set_ylim(lower_lim,upper_lim)\n",
    "        \n",
    "    ax.set_xlabel('')\n",
    "    if hide_x: ax.set_xticklabels([])\n",
    "    if hide_y: ax.set_ylabel('')\n",
    "    ax.set_title(title, size=title_size)\n",
    "    return ax\n",
    "\n",
    "def plot_all_vertical(m, normalize=False, title_size=14, col_by_freq=col_by_freq, col_palette=col_palette, do_lim=True,\n",
    "                      ll=0.2, ul=0.8):\n",
    "    data = get_data(m, normalize=normalize)\n",
    "#     fig,axss = plt.subplots(4, 3, figsize=(14,16), sharex=do_lim, sharey=do_lim)\n",
    "    fig,axss = plt.subplots(4, 3, figsize=(20,16), sharex=False, sharey=False)\n",
    "    for i,(axs,exp) in enumerate(zip(axss,['exp1','exp2','exp3','exp4'])):\n",
    "        first_exp = i==0\n",
    "        for j,(ax,func) in enumerate(zip(axs,['sphere', 'rosenbrock', 'rastrigin'])):\n",
    "            first_func = j==0\n",
    "            test = data.query(f'experiment=={exp!r} and function=={func!r}').sort_values('method', ascending=False)\n",
    "            plot_one(test, m, normalize=normalize, title=f'{exp}-{func.title()}', title_size=title_size, hide_x=False,\n",
    "                     hide_y=not first_func, col_by_freq=col_by_freq, col_palette=col_palette, ax=ax,\n",
    "                     do_lim=do_lim, ll=ll, ul=ul)\n",
    "        ax.legend(loc='upper left', ncol=3)\n",
    "    plt.tight_layout()\n",
    "    return fig,axss\n",
    "\n",
    "def plot_all_horizontal(m, normalize=False, title_size=14, col_by_freq=col_by_freq, col_palette=col_palette, do_lim=True,\n",
    "                        ll=0.2, ul=0.8):\n",
    "    data = get_data(m, normalize=normalize)\n",
    "#     fig,axss = plt.subplots(4, 3, figsize=(14,16), sharex=do_lim, sharey=do_lim)\n",
    "    fig,axss = plt.subplots(3, 4, figsize=(20,12), sharex=False, sharey=False)#20,12\n",
    "    for i,exp in enumerate(['exp1','exp2','exp3','exp4']):\n",
    "        first_exp = i==0\n",
    "        axs = axss[:,i]\n",
    "        for j,(ax,func) in enumerate(zip(axs,['sphere', 'rosenbrock', 'rastrigin'])):\n",
    "            first_func = i==0\n",
    "            test = data.query(f'experiment=={exp!r} and function=={func!r}').sort_values('method', ascending=False)\n",
    "            plot_one(test, m, normalize=normalize, title=f'{exp}-{func.title()}', title_size=title_size, hide_x=False,\n",
    "                     hide_y=not first_func, col_by_freq=col_by_freq, col_palette=col_palette, ax=ax,\n",
    "                     do_lim=do_lim, ll=ll, ul=ul)\n",
    "        \n",
    "    for axs in axss: axs[-1].legend(loc='upper right', ncol=3)\n",
    "    plt.tight_layout()\n",
    "    return fig,axss\n"
   ]
  },
  {
   "cell_type": "code",
   "execution_count": 5,
   "metadata": {},
   "outputs": [
    {
     "data": {
      "text/html": [
       "<div>\n",
       "<style scoped>\n",
       "    .dataframe tbody tr th:only-of-type {\n",
       "        vertical-align: middle;\n",
       "    }\n",
       "\n",
       "    .dataframe tbody tr th {\n",
       "        vertical-align: top;\n",
       "    }\n",
       "\n",
       "    .dataframe thead th {\n",
       "        text-align: right;\n",
       "    }\n",
       "</style>\n",
       "<table border=\"1\" class=\"dataframe\">\n",
       "  <thead>\n",
       "    <tr style=\"text-align: right;\">\n",
       "      <th></th>\n",
       "      <th>MOF</th>\n",
       "      <th>experiment</th>\n",
       "      <th>function</th>\n",
       "      <th>freq</th>\n",
       "      <th>method</th>\n",
       "      <th>MOF_norm</th>\n",
       "    </tr>\n",
       "  </thead>\n",
       "  <tbody>\n",
       "    <tr>\n",
       "      <th>0</th>\n",
       "      <td>0.820033</td>\n",
       "      <td>exp1</td>\n",
       "      <td>sphere</td>\n",
       "      <td>1.0</td>\n",
       "      <td>noNN_RI</td>\n",
       "      <td>2.787314</td>\n",
       "    </tr>\n",
       "    <tr>\n",
       "      <th>1</th>\n",
       "      <td>0.830370</td>\n",
       "      <td>exp1</td>\n",
       "      <td>sphere</td>\n",
       "      <td>1.0</td>\n",
       "      <td>noNN_RI</td>\n",
       "      <td>2.822452</td>\n",
       "    </tr>\n",
       "    <tr>\n",
       "      <th>2</th>\n",
       "      <td>0.845782</td>\n",
       "      <td>exp1</td>\n",
       "      <td>sphere</td>\n",
       "      <td>1.0</td>\n",
       "      <td>noNN_RI</td>\n",
       "      <td>2.874838</td>\n",
       "    </tr>\n",
       "    <tr>\n",
       "      <th>3</th>\n",
       "      <td>0.849917</td>\n",
       "      <td>exp1</td>\n",
       "      <td>sphere</td>\n",
       "      <td>1.0</td>\n",
       "      <td>noNN_RI</td>\n",
       "      <td>2.888891</td>\n",
       "    </tr>\n",
       "    <tr>\n",
       "      <th>4</th>\n",
       "      <td>0.850610</td>\n",
       "      <td>exp1</td>\n",
       "      <td>sphere</td>\n",
       "      <td>1.0</td>\n",
       "      <td>noNN_RI</td>\n",
       "      <td>2.891246</td>\n",
       "    </tr>\n",
       "  </tbody>\n",
       "</table>\n",
       "</div>"
      ],
      "text/plain": [
       "        MOF experiment function  freq   method  MOF_norm\n",
       "0  0.820033       exp1   sphere   1.0  noNN_RI  2.787314\n",
       "1  0.830370       exp1   sphere   1.0  noNN_RI  2.822452\n",
       "2  0.845782       exp1   sphere   1.0  noNN_RI  2.874838\n",
       "3  0.849917       exp1   sphere   1.0  noNN_RI  2.888891\n",
       "4  0.850610       exp1   sphere   1.0  noNN_RI  2.891246"
      ]
     },
     "execution_count": 5,
     "metadata": {},
     "output_type": "execute_result"
    }
   ],
   "source": [
    "data = get_data('mof', normalize=True)\n",
    "data.head()"
   ]
  },
  {
   "cell_type": "code",
   "execution_count": 6,
   "metadata": {
    "scrolled": true
   },
   "outputs": [],
   "source": [
    "mean_data = (data.groupby(['experiment','function','method'])[['MOF_norm']]\n",
    "                 .mean().reset_index())"
   ]
  },
  {
   "cell_type": "code",
   "execution_count": 7,
   "metadata": {},
   "outputs": [],
   "source": [
    "mean_data.function=mean_data.function.str.title()"
   ]
  },
  {
   "cell_type": "code",
   "execution_count": 9,
   "metadata": {
    "scrolled": true
   },
   "outputs": [
    {
     "data": {
      "application/javascript": [
       "const spec = {\"config\": {\"view\": {\"width\": 400, \"height\": 300}, \"mark\": {\"tooltip\": null}, \"axisX\": {\"labelAngle\": -45}}, \"data\": {\"name\": \"data-f5d2cc84b00554319b9bb1b5eda46a2f\"}, \"mark\": {\"type\": \"bar\", \"clip\": true}, \"encoding\": {\"color\": {\"type\": \"nominal\", \"field\": \"function\", \"legend\": {\"legendX\": 590, \"legendY\": 4, \"orient\": \"none\"}, \"title\": \"\"}, \"column\": {\"type\": \"nominal\", \"field\": \"experiment\", \"title\": \"\"}, \"tooltip\": [{\"type\": \"nominal\", \"field\": \"method\"}, {\"type\": \"quantitative\", \"field\": \"MOF_norm\"}, {\"type\": \"nominal\", \"field\": \"experiment\"}, {\"type\": \"nominal\", \"field\": \"function\"}], \"x\": {\"type\": \"nominal\", \"field\": \"method\", \"title\": \"\"}, \"y\": {\"type\": \"quantitative\", \"field\": \"MOF_norm\", \"scale\": {\"domain\": [0, 200]}}}, \"height\": 250, \"width\": 150, \"$schema\": \"https://vega.github.io/schema/vega-lite/v3.4.0.json\", \"datasets\": {\"data-f5d2cc84b00554319b9bb1b5eda46a2f\": [{\"experiment\": \"exp1\", \"function\": \"Rastrigin\", \"method\": \"NN_CwN\", \"MOF_norm\": 5.9943053556807335}, {\"experiment\": \"exp1\", \"function\": \"Rastrigin\", \"method\": \"NN_HMu\", \"MOF_norm\": 7.871745881855604}, {\"experiment\": \"exp1\", \"function\": \"Rastrigin\", \"method\": \"NN_No\", \"MOF_norm\": 7.749471150852811}, {\"experiment\": \"exp1\", \"function\": \"Rastrigin\", \"method\": \"NN_RI\", \"MOF_norm\": 2.0747605398002755}, {\"experiment\": \"exp1\", \"function\": \"Rastrigin\", \"method\": \"noNN_CwN\", \"MOF_norm\": 4.7953935474686915}, {\"experiment\": \"exp1\", \"function\": \"Rastrigin\", \"method\": \"noNN_HMu\", \"MOF_norm\": 10.714689761877032}, {\"experiment\": \"exp1\", \"function\": \"Rastrigin\", \"method\": \"noNN_No\", \"MOF_norm\": 10.711352282842764}, {\"experiment\": \"exp1\", \"function\": \"Rastrigin\", \"method\": \"noNN_RI\", \"MOF_norm\": 1.7552387401540004}, {\"experiment\": \"exp1\", \"function\": \"Rastrigin\", \"method\": \"noNN_Rst\", \"MOF_norm\": 3.8001680208239135}, {\"experiment\": \"exp1\", \"function\": \"Rosenbrock\", \"method\": \"NN_CwN\", \"MOF_norm\": 18.504964834105962}, {\"experiment\": \"exp1\", \"function\": \"Rosenbrock\", \"method\": \"NN_HMu\", \"MOF_norm\": 4.087301562817612}, {\"experiment\": \"exp1\", \"function\": \"Rosenbrock\", \"method\": \"NN_No\", \"MOF_norm\": 4.254361860948575}, {\"experiment\": \"exp1\", \"function\": \"Rosenbrock\", \"method\": \"NN_RI\", \"MOF_norm\": 3.5253129052580885}, {\"experiment\": \"exp1\", \"function\": \"Rosenbrock\", \"method\": \"noNN_CwN\", \"MOF_norm\": 27.914624200034307}, {\"experiment\": \"exp1\", \"function\": \"Rosenbrock\", \"method\": \"noNN_HMu\", \"MOF_norm\": 79.31234978944208}, {\"experiment\": \"exp1\", \"function\": \"Rosenbrock\", \"method\": \"noNN_No\", \"MOF_norm\": 80.73927630373176}, {\"experiment\": \"exp1\", \"function\": \"Rosenbrock\", \"method\": \"noNN_RI\", \"MOF_norm\": 2.6548030146789747}, {\"experiment\": \"exp1\", \"function\": \"Rosenbrock\", \"method\": \"noNN_Rst\", \"MOF_norm\": 9.44384943497138}, {\"experiment\": \"exp1\", \"function\": \"Sphere\", \"method\": \"NN_CwN\", \"MOF_norm\": 18.519085095921596}, {\"experiment\": \"exp1\", \"function\": \"Sphere\", \"method\": \"NN_HMu\", \"MOF_norm\": 4.417461309221158}, {\"experiment\": \"exp1\", \"function\": \"Sphere\", \"method\": \"NN_No\", \"MOF_norm\": 4.808857235372359}, {\"experiment\": \"exp1\", \"function\": \"Sphere\", \"method\": \"NN_RI\", \"MOF_norm\": 4.676012050157168}, {\"experiment\": \"exp1\", \"function\": \"Sphere\", \"method\": \"noNN_CwN\", \"MOF_norm\": 27.18790714519308}, {\"experiment\": \"exp1\", \"function\": \"Sphere\", \"method\": \"noNN_HMu\", \"MOF_norm\": 78.61431089201615}, {\"experiment\": \"exp1\", \"function\": \"Sphere\", \"method\": \"noNN_No\", \"MOF_norm\": 78.79065308471264}, {\"experiment\": \"exp1\", \"function\": \"Sphere\", \"method\": \"noNN_RI\", \"MOF_norm\": 2.7797675440946694}, {\"experiment\": \"exp1\", \"function\": \"Sphere\", \"method\": \"noNN_Rst\", \"MOF_norm\": 10.129475103731526}, {\"experiment\": \"exp2\", \"function\": \"Rastrigin\", \"method\": \"NN_CwN\", \"MOF_norm\": 4.048238653997501}, {\"experiment\": \"exp2\", \"function\": \"Rastrigin\", \"method\": \"NN_HMu\", \"MOF_norm\": 2.898236660547881}, {\"experiment\": \"exp2\", \"function\": \"Rastrigin\", \"method\": \"NN_No\", \"MOF_norm\": 2.0825058224565485}, {\"experiment\": \"exp2\", \"function\": \"Rastrigin\", \"method\": \"NN_RI\", \"MOF_norm\": 3.379724265072871}, {\"experiment\": \"exp2\", \"function\": \"Rastrigin\", \"method\": \"noNN_CwN\", \"MOF_norm\": 9.33738204581767}, {\"experiment\": \"exp2\", \"function\": \"Rastrigin\", \"method\": \"noNN_HMu\", \"MOF_norm\": 2.0762578031717047}, {\"experiment\": \"exp2\", \"function\": \"Rastrigin\", \"method\": \"noNN_No\", \"MOF_norm\": 1.8181766756367743}, {\"experiment\": \"exp2\", \"function\": \"Rastrigin\", \"method\": \"noNN_RI\", \"MOF_norm\": 2.402870072037527}, {\"experiment\": \"exp2\", \"function\": \"Rastrigin\", \"method\": \"noNN_Rst\", \"MOF_norm\": 10.22453803583744}, {\"experiment\": \"exp2\", \"function\": \"Rosenbrock\", \"method\": \"NN_CwN\", \"MOF_norm\": 32.240512607772146}, {\"experiment\": \"exp2\", \"function\": \"Rosenbrock\", \"method\": \"NN_HMu\", \"MOF_norm\": 7.079386047213136}, {\"experiment\": \"exp2\", \"function\": \"Rosenbrock\", \"method\": \"NN_No\", \"MOF_norm\": 4.408027356200081}, {\"experiment\": \"exp2\", \"function\": \"Rosenbrock\", \"method\": \"NN_RI\", \"MOF_norm\": 11.543209186675828}, {\"experiment\": \"exp2\", \"function\": \"Rosenbrock\", \"method\": \"noNN_CwN\", \"MOF_norm\": 271.8439767144381}, {\"experiment\": \"exp2\", \"function\": \"Rosenbrock\", \"method\": \"noNN_HMu\", \"MOF_norm\": 7.888318781614728}, {\"experiment\": \"exp2\", \"function\": \"Rosenbrock\", \"method\": \"noNN_No\", \"MOF_norm\": 13.816291920121897}, {\"experiment\": \"exp2\", \"function\": \"Rosenbrock\", \"method\": \"noNN_RI\", \"MOF_norm\": 7.502345910806586}, {\"experiment\": \"exp2\", \"function\": \"Rosenbrock\", \"method\": \"noNN_Rst\", \"MOF_norm\": 204.40413622068033}, {\"experiment\": \"exp2\", \"function\": \"Sphere\", \"method\": \"NN_CwN\", \"MOF_norm\": 26.761451198603073}, {\"experiment\": \"exp2\", \"function\": \"Sphere\", \"method\": \"NN_HMu\", \"MOF_norm\": 5.791158273914842}, {\"experiment\": \"exp2\", \"function\": \"Sphere\", \"method\": \"NN_No\", \"MOF_norm\": 3.872013615987835}, {\"experiment\": \"exp2\", \"function\": \"Sphere\", \"method\": \"NN_RI\", \"MOF_norm\": 8.628676813588962}, {\"experiment\": \"exp2\", \"function\": \"Sphere\", \"method\": \"noNN_CwN\", \"MOF_norm\": 155.96264342549134}, {\"experiment\": \"exp2\", \"function\": \"Sphere\", \"method\": \"noNN_HMu\", \"MOF_norm\": 18.757316262271097}, {\"experiment\": \"exp2\", \"function\": \"Sphere\", \"method\": \"noNN_No\", \"MOF_norm\": 23.086587165621314}, {\"experiment\": \"exp2\", \"function\": \"Sphere\", \"method\": \"noNN_RI\", \"MOF_norm\": 6.015336632152909}, {\"experiment\": \"exp2\", \"function\": \"Sphere\", \"method\": \"noNN_Rst\", \"MOF_norm\": 97.54646715745515}, {\"experiment\": \"exp3\", \"function\": \"Rastrigin\", \"method\": \"NN_CwN\", \"MOF_norm\": 10.333748588358684}, {\"experiment\": \"exp3\", \"function\": \"Rastrigin\", \"method\": \"NN_HMu\", \"MOF_norm\": 14.113497525128842}, {\"experiment\": \"exp3\", \"function\": \"Rastrigin\", \"method\": \"NN_No\", \"MOF_norm\": 16.07834679469504}, {\"experiment\": \"exp3\", \"function\": \"Rastrigin\", \"method\": \"NN_RI\", \"MOF_norm\": 1.5734161603566075}, {\"experiment\": \"exp3\", \"function\": \"Rastrigin\", \"method\": \"noNN_CwN\", \"MOF_norm\": 10.150495328784215}, {\"experiment\": \"exp3\", \"function\": \"Rastrigin\", \"method\": \"noNN_HMu\", \"MOF_norm\": 18.714737749525096}, {\"experiment\": \"exp3\", \"function\": \"Rastrigin\", \"method\": \"noNN_No\", \"MOF_norm\": 20.54485191985903}, {\"experiment\": \"exp3\", \"function\": \"Rastrigin\", \"method\": \"noNN_RI\", \"MOF_norm\": 1.3024900922155902}, {\"experiment\": \"exp3\", \"function\": \"Rastrigin\", \"method\": \"noNN_Rst\", \"MOF_norm\": 8.783035274197012}, {\"experiment\": \"exp3\", \"function\": \"Rosenbrock\", \"method\": \"NN_CwN\", \"MOF_norm\": 66.65551219391016}, {\"experiment\": \"exp3\", \"function\": \"Rosenbrock\", \"method\": \"NN_HMu\", \"MOF_norm\": 6.160981570027891}, {\"experiment\": \"exp3\", \"function\": \"Rosenbrock\", \"method\": \"NN_No\", \"MOF_norm\": 5.900952853320598}, {\"experiment\": \"exp3\", \"function\": \"Rosenbrock\", \"method\": \"NN_RI\", \"MOF_norm\": 6.403440388269757}, {\"experiment\": \"exp3\", \"function\": \"Rosenbrock\", \"method\": \"noNN_CwN\", \"MOF_norm\": 6163.990136351666}, {\"experiment\": \"exp3\", \"function\": \"Rosenbrock\", \"method\": \"noNN_HMu\", \"MOF_norm\": 5.79144265126985}, {\"experiment\": \"exp3\", \"function\": \"Rosenbrock\", \"method\": \"noNN_No\", \"MOF_norm\": 9.844495306752789}, {\"experiment\": \"exp3\", \"function\": \"Rosenbrock\", \"method\": \"noNN_RI\", \"MOF_norm\": 3.969824859504788}, {\"experiment\": \"exp3\", \"function\": \"Rosenbrock\", \"method\": \"noNN_Rst\", \"MOF_norm\": 5377.2044704590935}, {\"experiment\": \"exp3\", \"function\": \"Sphere\", \"method\": \"NN_CwN\", \"MOF_norm\": 101.04531009726666}, {\"experiment\": \"exp3\", \"function\": \"Sphere\", \"method\": \"NN_HMu\", \"MOF_norm\": 6.262169683199927}, {\"experiment\": \"exp3\", \"function\": \"Sphere\", \"method\": \"NN_No\", \"MOF_norm\": 5.903055425465847}, {\"experiment\": \"exp3\", \"function\": \"Sphere\", \"method\": \"NN_RI\", \"MOF_norm\": 6.466561125076202}, {\"experiment\": \"exp3\", \"function\": \"Sphere\", \"method\": \"noNN_CwN\", \"MOF_norm\": 1310.679635018642}, {\"experiment\": \"exp3\", \"function\": \"Sphere\", \"method\": \"noNN_HMu\", \"MOF_norm\": 3.6410591275919204}, {\"experiment\": \"exp3\", \"function\": \"Sphere\", \"method\": \"noNN_No\", \"MOF_norm\": 3.437555568225069}, {\"experiment\": \"exp3\", \"function\": \"Sphere\", \"method\": \"noNN_RI\", \"MOF_norm\": 3.8648534991181194}, {\"experiment\": \"exp3\", \"function\": \"Sphere\", \"method\": \"noNN_Rst\", \"MOF_norm\": 956.7799898691596}, {\"experiment\": \"exp4\", \"function\": \"Rastrigin\", \"method\": \"NN_CwN\", \"MOF_norm\": 12.586527378349585}, {\"experiment\": \"exp4\", \"function\": \"Rastrigin\", \"method\": \"NN_HMu\", \"MOF_norm\": 5.226216746487564}, {\"experiment\": \"exp4\", \"function\": \"Rastrigin\", \"method\": \"NN_No\", \"MOF_norm\": 5.905292428198843}, {\"experiment\": \"exp4\", \"function\": \"Rastrigin\", \"method\": \"NN_RI\", \"MOF_norm\": 4.066778866017491}, {\"experiment\": \"exp4\", \"function\": \"Rastrigin\", \"method\": \"noNN_CwN\", \"MOF_norm\": 8.60049706904755}, {\"experiment\": \"exp4\", \"function\": \"Rastrigin\", \"method\": \"noNN_HMu\", \"MOF_norm\": 21.451065198168813}, {\"experiment\": \"exp4\", \"function\": \"Rastrigin\", \"method\": \"noNN_No\", \"MOF_norm\": 21.31994207746112}, {\"experiment\": \"exp4\", \"function\": \"Rastrigin\", \"method\": \"noNN_RI\", \"MOF_norm\": 4.16592041990023}, {\"experiment\": \"exp4\", \"function\": \"Rastrigin\", \"method\": \"noNN_Rst\", \"MOF_norm\": 3.1756865248866974}, {\"experiment\": \"exp4\", \"function\": \"Rosenbrock\", \"method\": \"NN_CwN\", \"MOF_norm\": 23.419616564563906}, {\"experiment\": \"exp4\", \"function\": \"Rosenbrock\", \"method\": \"NN_HMu\", \"MOF_norm\": 5.984955459228359}, {\"experiment\": \"exp4\", \"function\": \"Rosenbrock\", \"method\": \"NN_No\", \"MOF_norm\": 7.0969992993510145}, {\"experiment\": \"exp4\", \"function\": \"Rosenbrock\", \"method\": \"NN_RI\", \"MOF_norm\": 4.399252776599923}, {\"experiment\": \"exp4\", \"function\": \"Rosenbrock\", \"method\": \"noNN_CwN\", \"MOF_norm\": 13.79626685967583}, {\"experiment\": \"exp4\", \"function\": \"Rosenbrock\", \"method\": \"noNN_HMu\", \"MOF_norm\": 36.41693029961072}, {\"experiment\": \"exp4\", \"function\": \"Rosenbrock\", \"method\": \"noNN_No\", \"MOF_norm\": 35.33874706835729}, {\"experiment\": \"exp4\", \"function\": \"Rosenbrock\", \"method\": \"noNN_RI\", \"MOF_norm\": 7.144002055909311}, {\"experiment\": \"exp4\", \"function\": \"Rosenbrock\", \"method\": \"noNN_Rst\", \"MOF_norm\": 4.4739071600837175}, {\"experiment\": \"exp4\", \"function\": \"Sphere\", \"method\": \"NN_CwN\", \"MOF_norm\": 21.197038021026827}, {\"experiment\": \"exp4\", \"function\": \"Sphere\", \"method\": \"NN_HMu\", \"MOF_norm\": 6.628304995322454}, {\"experiment\": \"exp4\", \"function\": \"Sphere\", \"method\": \"NN_No\", \"MOF_norm\": 8.25830787043305}, {\"experiment\": \"exp4\", \"function\": \"Sphere\", \"method\": \"NN_RI\", \"MOF_norm\": 5.784869424256908}, {\"experiment\": \"exp4\", \"function\": \"Sphere\", \"method\": \"noNN_CwN\", \"MOF_norm\": 13.523376867112455}, {\"experiment\": \"exp4\", \"function\": \"Sphere\", \"method\": \"noNN_HMu\", \"MOF_norm\": 34.49603461300387}, {\"experiment\": \"exp4\", \"function\": \"Sphere\", \"method\": \"noNN_No\", \"MOF_norm\": 34.32417820019346}, {\"experiment\": \"exp4\", \"function\": \"Sphere\", \"method\": \"noNN_RI\", \"MOF_norm\": 7.496151481138145}, {\"experiment\": \"exp4\", \"function\": \"Sphere\", \"method\": \"noNN_Rst\", \"MOF_norm\": 4.362116114037033}]}};\n",
       "const opt = {};\n",
       "const type = \"vega-lite\";\n",
       "const id = \"95bc7d41-884c-4a14-a84c-d83163caaad3\";\n",
       "\n",
       "const output_area = this;\n",
       "\n",
       "require([\"nbextensions/jupyter-vega/index\"], function(vega) {\n",
       "  const target = document.createElement(\"div\");\n",
       "  target.id = id;\n",
       "  target.className = \"vega-embed\";\n",
       "\n",
       "  const style = document.createElement(\"style\");\n",
       "  style.textContent = [\n",
       "    \".vega-embed .error p {\",\n",
       "    \"  color: firebrick;\",\n",
       "    \"  font-size: 14px;\",\n",
       "    \"}\",\n",
       "  ].join(\"\\\\n\");\n",
       "\n",
       "  // element is a jQuery wrapped DOM element inside the output area\n",
       "  // see http://ipython.readthedocs.io/en/stable/api/generated/\\\n",
       "  // IPython.display.html#IPython.display.Javascript.__init__\n",
       "  element[0].appendChild(target);\n",
       "  element[0].appendChild(style);\n",
       "\n",
       "  vega.render(\"#\" + id, spec, type, opt, output_area);\n",
       "}, function (err) {\n",
       "  if (err.requireType !== \"scripterror\") {\n",
       "    throw(err);\n",
       "  }\n",
       "});\n"
      ],
      "text/plain": [
       "<vega.vegalite.VegaLite at 0x1a25414a20>"
      ]
     },
     "metadata": {
      "jupyter-vega": "#95bc7d41-884c-4a14-a84c-d83163caaad3"
     },
     "output_type": "display_data"
    },
    {
     "data": {
      "text/plain": []
     },
     "execution_count": 9,
     "metadata": {},
     "output_type": "execute_result"
    },
    {
     "data": {
      "image/png": "[encoded data removed]"
     },
     "metadata": {
      "jupyter-vega": "#95bc7d41-884c-4a14-a84c-d83163caaad3"
     },
     "output_type": "display_data"
    }
   ],
   "source": [
    "alt.Chart(mean_data).mark_bar(clip=True).encode(\n",
    "    alt.X('method', title=''),\n",
    "    alt.Y('MOF_norm', scale=alt.Scale(domain=(0,200))),\n",
    "    alt.Column('experiment', title=''),\n",
    "    alt.Color('function', title='', legend=alt.Legend(orient=\"none\", legendX=590, legendY=4)), #, bbox_to_anchor=(0,0.2, 1.4, 0.8)\n",
    "    alt.Tooltip(['method','MOF_norm','experiment','function'])\n",
    ").properties(\n",
    "    width=150,\n",
    "    height=250\n",
    ").configure_axisX(\n",
    "    labelAngle=-45\n",
    ")"
   ]
  },
  {
   "cell_type": "code",
   "execution_count": null,
   "metadata": {},
   "outputs": [],
   "source": []
  },
  {
   "cell_type": "code",
   "execution_count": null,
   "metadata": {},
   "outputs": [],
   "source": []
  },
  {
   "cell_type": "code",
   "execution_count": null,
   "metadata": {},
   "outputs": [],
   "source": []
  },
  {
   "cell_type": "code",
   "execution_count": null,
   "metadata": {},
   "outputs": [],
   "source": []
  }
 ],
 "metadata": {
  "kernelspec": {
   "display_name": "Python 3",
   "language": "python",
   "name": "python3"
  },
  "language_info": {
   "codemirror_mode": {
    "name": "ipython",
    "version": 3
   },
   "file_extension": ".py",
   "mimetype": "text/x-python",
   "name": "python",
   "nbconvert_exporter": "python",
   "pygments_lexer": "ipython3",
   "version": "3.7.3"
  },
  "toc": {
   "base_numbering": 1,
   "nav_menu": {},
   "number_sections": true,
   "sideBar": true,
   "skip_h1_title": false,
   "title_cell": "Table of Contents",
   "title_sidebar": "Contents",
   "toc_cell": false,
   "toc_position": {
    "height": "calc(100% - 180px)",
    "left": "10px",
    "top": "150px",
    "width": "165px"
   },
   "toc_section_display": true,
   "toc_window_display": false
  }
 },
 "nbformat": 4,
 "nbformat_minor": 2
}
