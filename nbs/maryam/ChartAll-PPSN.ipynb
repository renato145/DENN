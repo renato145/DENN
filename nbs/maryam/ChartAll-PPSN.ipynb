{
 "cells": [
  {
   "cell_type": "code",
   "execution_count": 84,
   "metadata": {},
   "outputs": [],
   "source": [
    "%reload_ext autoreload\n",
    "%autoreload 2\n",
    "%matplotlib inline\n",
    "from denn import *\n",
    "import pandas as pd, seaborn as sns, io, altair as alt\n",
    "alt.renderers.enable('notebook');"
   ]
  },
  {
   "cell_type": "code",
   "execution_count": 85,
   "metadata": {
    "code_folding": [
     21,
     31,
     43,
     71,
     88
    ]
   },
   "outputs": [],
   "source": [
    "nn_p=3\n",
    "nn_w = 5\n",
    "nn_tw = 5\n",
    "labels_order = ['noNN_RI', 'NN_RI','noNN_HMu','NN_HMu', 'noNN_CwN', 'NN_CwN','noNN_No',\n",
    "                  'NN_No',  'noNN_Rst', 'NN_Rst']\n",
    "# Functions\n",
    "path= Path(f'../../data/cluster_results')\n",
    "col_by_freq = True\n",
    "col_palette = 'Set1'\n",
    "pat = re.compile('.*/(exp\\d)/(\\w*)/nonn/freq([0-9\\.]+)div(\\w+)/(\\w+)_\\w+.csv')\n",
    "decode_keys = ['experiment','function','freq','div','method']\n",
    "\n",
    "nn_pat = re.compile('.*/(exp\\d)/(\\w*)/nn/freq([0-9\\.]+)nn_w(\\d+)nn_p(\\d+)\\w+nn_tw(\\d+)\\w+div([A-Za-z]+)/(\\w+)_(\\w+)_\\w+.csv')\n",
    "nn_decode_keys = ['experiment','function','freq','nnw','nnp','nntw','div','method','replace_mech']#,\n",
    "\n",
    "\n",
    "def get_files(m): return list(path.glob(f'**/nonn/**/*{m}.csv'))\n",
    "def get_nn_files(m): return list(path.glob(f'**/nn/**/*{m}.csv'))\n",
    "\n",
    "def read_csv(f,m):\n",
    "    df = pd.read_csv(f)\n",
    "    for k,v in zip(decode_keys,pat.search(str(f)).groups()): df[k] = v\n",
    "    df['freq'] = df['freq'].astype(float)\n",
    "    df['method'] = df['method'] + '_' + df['div']\n",
    "    df.drop('div', axis=1, inplace=True)\n",
    "    df.rename({'0':m.upper(), m:m.upper()}, axis=1, inplace=True)\n",
    "    return df\n",
    "\n",
    "def read_nn_csv(f,m):\n",
    "    df = pd.read_csv(f)\n",
    "    for k,v in zip(nn_decode_keys,nn_pat.search(str(f)).groups()): df[k] = v\n",
    "    df['freq'] = df['freq'].astype(float)\n",
    "    df['method'] = df['method'] + '_' + df['replace_mech'] + '_' + df['div']\n",
    "    df['method'] = df['method'].str.replace('NNnorm_Worst', 'NN')\n",
    "    df.drop(['replace_mech','div'], axis=1, inplace=True)\n",
    "    df.rename({'0':m.upper(), m:m.upper()}, axis=1, inplace=True)\n",
    "    return df\n",
    "\n",
    "def get_data(m, normalize=False):\n",
    "    files = get_files(m)\n",
    "    nn_files = get_nn_files(m)\n",
    "    nn_data = pd.concat([read_nn_csv(f,m) for f in nn_files])\n",
    "    nn_data = nn_data[nn_data['nnw']==str(nn_w)]\n",
    "    nn_data = nn_data[nn_data['nntw']==str(nn_tw)]\n",
    "    nonn_data = pd.concat([read_csv(f,m) for f in files])\n",
    "    data = pd.concat([nn_data , nonn_data])\n",
    "     \n",
    "    #this i added for remove freq 0.5 and 1\n",
    "    data=data.query('freq>1')\n",
    "    #added this to have nn_p=10\n",
    "    data = data[data.nnp.isna() | (data.nnp == str(nn_p))].drop('nnp', axis=1)\n",
    "    \n",
    "    if normalize:\n",
    "        data_norm = (data.groupby(['experiment','function','freq','method'])[m.upper()].mean().reset_index()\n",
    "                         .groupby(['experiment','function'])[m.upper()].min().reset_index()\n",
    "                         .rename({m.upper():m.upper()+'_norm'}, axis=1))\n",
    "        data = data.merge(data_norm, 'left')\n",
    "        data[m.upper()+'_norm'] = data[m.upper()] / data[m.upper()+'_norm']\n",
    "    return data\n",
    "\n",
    "\n",
    "def plot_one(data, m, normalize=False, title='', title_size=14, col_by_freq=col_by_freq, col_palette=col_palette,\n",
    "             legend=False, hide_x=True, hide_y=True, ax=None, do_lim=True, ll=0.2, ul=0.8):\n",
    "    m = m.upper()\n",
    "    if normalize: m = m + '_norm' \n",
    "    if ax is None: fig,ax = plt.subplots(1,1,figsize=(6,4))\n",
    "    sns.boxplot('method' if col_by_freq else 'freq', m, hue='freq' if col_by_freq else 'method',\n",
    "                data=data, palette=col_palette,\n",
    "                # width=2.5,\n",
    "                linewidth=0.5, fliersize=0, ax=ax)\n",
    "    if not legend: ax.get_legend().remove()\n",
    "    if do_lim:\n",
    "        ax.set_ylim(-0.05,1.05)\n",
    "    else:\n",
    "        g = data.groupby(['method','freq'])[m]\n",
    "        q1,q3 = g.quantile(ll),g.quantile(ul)\n",
    "        iqr = q3-q1\n",
    "        lower_lim = (q1 - 1.5*iqr).min()\n",
    "        upper_lim = (q3 + 1.5*iqr).max()\n",
    "        lower_lim = data[m][data[m]>=lower_lim].min()\n",
    "        upper_lim = data[m][data[m]<=upper_lim].max()\n",
    "        ax.set_ylim(lower_lim,upper_lim)\n",
    "        \n",
    "    ax.set_xlabel('')\n",
    "    if hide_x: ax.set_xticklabels([])\n",
    "    if hide_y: ax.set_ylabel('')\n",
    "    ax.set_title(title, size=title_size)\n",
    "    return ax\n",
    "\n",
    "def plot_all_vertical(m, normalize=False, title_size=14, col_by_freq=col_by_freq, col_palette=col_palette, do_lim=True,\n",
    "                      ll=0.2, ul=0.8):\n",
    "    data = get_data(m, normalize=normalize)\n",
    "#     fig,axss = plt.subplots(4, 3, figsize=(14,16), sharex=do_lim, sharey=do_lim)\n",
    "    fig,axss = plt.subplots(4, 3, figsize=(20,16), sharex=False, sharey=False)\n",
    "    for i,(axs,exp) in enumerate(zip(axss,['exp1','exp2','exp3','exp4'])):\n",
    "        first_exp = i==0\n",
    "        for j,(ax,func) in enumerate(zip(axs,['sphere', 'rosenbrock', 'rastrigin'])):\n",
    "            first_func = j==0\n",
    "            test = data.query(f'experiment=={exp!r} and function=={func!r}').sort_values('method', ascending=False)\n",
    "            plot_one(test, m, normalize=normalize, title=f'{exp}-{func.title()}', title_size=title_size, hide_x=False,\n",
    "                     hide_y=not first_func, col_by_freq=col_by_freq, col_palette=col_palette, ax=ax,\n",
    "                     do_lim=do_lim, ll=ll, ul=ul)\n",
    "        ax.legend(loc='upper left', ncol=3)\n",
    "    plt.tight_layout()\n",
    "    return fig,axss\n",
    "\n",
    "def plot_all_horizontal(m, normalize=False, title_size=14, col_by_freq=col_by_freq, col_palette=col_palette, do_lim=True,\n",
    "                        ll=0.2, ul=0.8):\n",
    "    data = get_data(m, normalize=normalize)\n",
    "#     fig,axss = plt.subplots(4, 3, figsize=(14,16), sharex=do_lim, sharey=do_lim)\n",
    "    fig,axss = plt.subplots(3, 4, figsize=(20,12), sharex=False, sharey=False)#20,12\n",
    "    for i,exp in enumerate(['exp1','exp2','exp3','exp4']):\n",
    "        first_exp = i==0\n",
    "        axs = axss[:,i]\n",
    "        for j,(ax,func) in enumerate(zip(axs,['sphere', 'rosenbrock', 'rastrigin'])):\n",
    "            first_func = i==0\n",
    "            test = data.query(f'experiment=={exp!r} and function=={func!r}').sort_values('method', ascending=False)\n",
    "            plot_one(test, m, normalize=normalize, title=f'{exp}-{func.title()}', title_size=title_size, hide_x=False,\n",
    "                     hide_y=not first_func, col_by_freq=col_by_freq, col_palette=col_palette, ax=ax,\n",
    "                     do_lim=do_lim, ll=ll, ul=ul)\n",
    "        \n",
    "    for axs in axss: axs[-1].legend(loc='upper right', ncol=3)\n",
    "    plt.tight_layout()\n",
    "    return fig,axss\n"
   ]
  },
  {
   "cell_type": "code",
   "execution_count": 86,
   "metadata": {},
   "outputs": [
    {
     "name": "stderr",
     "output_type": "stream",
     "text": [
      "Sorting because non-concatenation axis is not aligned. A future version\n",
      "of pandas will change to not sort by default.\n",
      "\n",
      "To accept the future behavior, pass 'sort=False'.\n",
      "\n",
      "To retain the current behavior and silence the warning, pass 'sort=True'.\n",
      "\n"
     ]
    }
   ],
   "source": [
    "data = get_data('mof', normalize=True)"
   ]
  },
  {
   "cell_type": "code",
   "execution_count": 87,
   "metadata": {
    "scrolled": true
   },
   "outputs": [],
   "source": [
    "mean_data = (data.groupby(['experiment','function','method'])[['MOF_norm']]\n",
    "                 .mean().reset_index())"
   ]
  },
  {
   "cell_type": "code",
   "execution_count": 88,
   "metadata": {},
   "outputs": [],
   "source": [
    "mean_data.function = mean_data.function.str.title()"
   ]
  },
  {
   "cell_type": "code",
   "execution_count": 97,
   "metadata": {
    "scrolled": true
   },
   "outputs": [],
   "source": [
    "chart=alt.Chart(mean_data).mark_bar(clip=True).encode(\n",
    "    alt.X('method',sort=labels_order, title=''),\n",
    "    alt.Y('MOF_norm', scale=alt.Scale(domain=(0,200))),\n",
    "    alt.Column('experiment', title=''),\n",
    "    alt.Color('function', title='', legend=alt.Legend(orient=\"none\", legendX=700, legendY=4)), #, bbox_to_anchor=(0,0.2, 1.4, 0.8)\n",
    "    alt.Tooltip(['method','MOF_norm','experiment','function'])\n",
    ").properties(\n",
    "    width=200,\n",
    "    height=200\n",
    ").configure_axisX(\n",
    "    labelAngle=-45\n",
    ")"
   ]
  },
  {
   "cell_type": "code",
   "execution_count": 98,
   "metadata": {},
   "outputs": [
    {
     "data": {
      "application/javascript": [
       "const spec = {\"config\": {\"view\": {\"width\": 400, \"height\": 300}, \"mark\": {\"tooltip\": null}, \"axisX\": {\"labelAngle\": -45}}, \"data\": {\"name\": \"data-4f59bc83e7fb9591784c25129046be1b\"}, \"mark\": {\"type\": \"bar\", \"clip\": true}, \"encoding\": {\"color\": {\"type\": \"nominal\", \"field\": \"function\", \"legend\": {\"legendX\": 700, \"legendY\": 4, \"orient\": \"none\"}, \"title\": \"\"}, \"column\": {\"type\": \"nominal\", \"field\": \"experiment\", \"title\": \"\"}, \"tooltip\": [{\"type\": \"nominal\", \"field\": \"method\"}, {\"type\": \"quantitative\", \"field\": \"MOF_norm\"}, {\"type\": \"nominal\", \"field\": \"experiment\"}, {\"type\": \"nominal\", \"field\": \"function\"}], \"x\": {\"type\": \"nominal\", \"field\": \"method\", \"sort\": [\"noNN_RI\", \"NN_RI\", \"noNN_HMu\", \"NN_HMu\", \"noNN_CwN\", \"NN_CwN\", \"noNN_No\", \"NN_No\", \"noNN_Rst\", \"NN_Rst\"], \"title\": \"\"}, \"y\": {\"type\": \"quantitative\", \"field\": \"MOF_norm\", \"scale\": {\"domain\": [0, 200]}}}, \"height\": 200, \"width\": 200, \"$schema\": \"https://vega.github.io/schema/vega-lite/v3.4.0.json\", \"datasets\": {\"data-4f59bc83e7fb9591784c25129046be1b\": [{\"experiment\": \"exp1\", \"function\": \"Rastrigin\", \"method\": \"NN_CwN\", \"MOF_norm\": 7.054840164466138}, {\"experiment\": \"exp1\", \"function\": \"Rastrigin\", \"method\": \"NN_HMu\", \"MOF_norm\": 1.8863059041595247}, {\"experiment\": \"exp1\", \"function\": \"Rastrigin\", \"method\": \"NN_No\", \"MOF_norm\": 14.014499236878601}, {\"experiment\": \"exp1\", \"function\": \"Rastrigin\", \"method\": \"NN_RI\", \"MOF_norm\": 1.573274397276487}, {\"experiment\": \"exp1\", \"function\": \"Rastrigin\", \"method\": \"NN_Rst\", \"MOF_norm\": 4.09827564010665}, {\"experiment\": \"exp1\", \"function\": \"Rastrigin\", \"method\": \"noNN_CwN\", \"MOF_norm\": 6.531369452179242}, {\"experiment\": \"exp1\", \"function\": \"Rastrigin\", \"method\": \"noNN_HMu\", \"MOF_norm\": 1.9749427806869517}, {\"experiment\": \"exp1\", \"function\": \"Rastrigin\", \"method\": \"noNN_No\", \"MOF_norm\": 20.16840524394328}, {\"experiment\": \"exp1\", \"function\": \"Rastrigin\", \"method\": \"noNN_RI\", \"MOF_norm\": 1.3910800162174013}, {\"experiment\": \"exp1\", \"function\": \"Rastrigin\", \"method\": \"noNN_Rst\", \"MOF_norm\": 3.129984347059428}, {\"experiment\": \"exp1\", \"function\": \"Rosenbrock\", \"method\": \"NN_CwN\", \"MOF_norm\": 43.35358883924456}, {\"experiment\": \"exp1\", \"function\": \"Rosenbrock\", \"method\": \"NN_HMu\", \"MOF_norm\": 2.6211713979998836}, {\"experiment\": \"exp1\", \"function\": \"Rosenbrock\", \"method\": \"NN_No\", \"MOF_norm\": 6.967482138416827}, {\"experiment\": \"exp1\", \"function\": \"Rosenbrock\", \"method\": \"NN_RI\", \"MOF_norm\": 2.2773328703613713}, {\"experiment\": \"exp1\", \"function\": \"Rosenbrock\", \"method\": \"NN_Rst\", \"MOF_norm\": 8.233920274299525}, {\"experiment\": \"exp1\", \"function\": \"Rosenbrock\", \"method\": \"noNN_CwN\", \"MOF_norm\": 84.90224999059681}, {\"experiment\": \"exp1\", \"function\": \"Rosenbrock\", \"method\": \"noNN_HMu\", \"MOF_norm\": 3.5963491066996514}, {\"experiment\": \"exp1\", \"function\": \"Rosenbrock\", \"method\": \"noNN_No\", \"MOF_norm\": 270.7146878607484}, {\"experiment\": \"exp1\", \"function\": \"Rosenbrock\", \"method\": \"noNN_RI\", \"MOF_norm\": 2.166888178315623}, {\"experiment\": \"exp1\", \"function\": \"Rosenbrock\", \"method\": \"noNN_Rst\", \"MOF_norm\": 4.421595427749679}, {\"experiment\": \"exp1\", \"function\": \"Sphere\", \"method\": \"NN_CwN\", \"MOF_norm\": 36.68556759184446}, {\"experiment\": \"exp1\", \"function\": \"Sphere\", \"method\": \"NN_HMu\", \"MOF_norm\": 2.6157847733661064}, {\"experiment\": \"exp1\", \"function\": \"Sphere\", \"method\": \"NN_No\", \"MOF_norm\": 6.923632161660975}, {\"experiment\": \"exp1\", \"function\": \"Sphere\", \"method\": \"NN_RI\", \"MOF_norm\": 2.1984547722118353}, {\"experiment\": \"exp1\", \"function\": \"Sphere\", \"method\": \"NN_Rst\", \"MOF_norm\": 7.969109806257896}, {\"experiment\": \"exp1\", \"function\": \"Sphere\", \"method\": \"noNN_CwN\", \"MOF_norm\": 70.9204864700787}, {\"experiment\": \"exp1\", \"function\": \"Sphere\", \"method\": \"noNN_HMu\", \"MOF_norm\": 3.032181210753281}, {\"experiment\": \"exp1\", \"function\": \"Sphere\", \"method\": \"noNN_No\", \"MOF_norm\": 246.20650271322216}, {\"experiment\": \"exp1\", \"function\": \"Sphere\", \"method\": \"noNN_RI\", \"MOF_norm\": 2.041009041914789}, {\"experiment\": \"exp1\", \"function\": \"Sphere\", \"method\": \"noNN_Rst\", \"MOF_norm\": 4.5485990262211775}, {\"experiment\": \"exp2\", \"function\": \"Rastrigin\", \"method\": \"NN_CwN\", \"MOF_norm\": 1.9915046528346194}, {\"experiment\": \"exp2\", \"function\": \"Rastrigin\", \"method\": \"NN_HMu\", \"MOF_norm\": 1.4123547969665091}, {\"experiment\": \"exp2\", \"function\": \"Rastrigin\", \"method\": \"NN_No\", \"MOF_norm\": 1.1083531076966315}, {\"experiment\": \"exp2\", \"function\": \"Rastrigin\", \"method\": \"NN_RI\", \"MOF_norm\": 1.089351764733772}, {\"experiment\": \"exp2\", \"function\": \"Rastrigin\", \"method\": \"NN_Rst\", \"MOF_norm\": 6.434814654305925}, {\"experiment\": \"exp2\", \"function\": \"Rastrigin\", \"method\": \"noNN_CwN\", \"MOF_norm\": 6.1877128955096055}, {\"experiment\": \"exp2\", \"function\": \"Rastrigin\", \"method\": \"noNN_HMu\", \"MOF_norm\": 1.171764427588997}, {\"experiment\": \"exp2\", \"function\": \"Rastrigin\", \"method\": \"noNN_No\", \"MOF_norm\": 1.7163969232647611}, {\"experiment\": \"exp2\", \"function\": \"Rastrigin\", \"method\": \"noNN_RI\", \"MOF_norm\": 1.0151748583648788}, {\"experiment\": \"exp2\", \"function\": \"Rastrigin\", \"method\": \"noNN_Rst\", \"MOF_norm\": 5.00105030005085}, {\"experiment\": \"exp2\", \"function\": \"Rosenbrock\", \"method\": \"NN_CwN\", \"MOF_norm\": 50.70830146192208}, {\"experiment\": \"exp2\", \"function\": \"Rosenbrock\", \"method\": \"NN_HMu\", \"MOF_norm\": 12.549860799164177}, {\"experiment\": \"exp2\", \"function\": \"Rosenbrock\", \"method\": \"NN_No\", \"MOF_norm\": 2.401082834385393}, {\"experiment\": \"exp2\", \"function\": \"Rosenbrock\", \"method\": \"NN_RI\", \"MOF_norm\": 6.287408351490853}, {\"experiment\": \"exp2\", \"function\": \"Rosenbrock\", \"method\": \"NN_Rst\", \"MOF_norm\": 139.04673049037132}, {\"experiment\": \"exp2\", \"function\": \"Rosenbrock\", \"method\": \"noNN_CwN\", \"MOF_norm\": 352.28137950704274}, {\"experiment\": \"exp2\", \"function\": \"Rosenbrock\", \"method\": \"noNN_HMu\", \"MOF_norm\": 10.466721203211549}, {\"experiment\": \"exp2\", \"function\": \"Rosenbrock\", \"method\": \"noNN_No\", \"MOF_norm\": 13.016102602417337}, {\"experiment\": \"exp2\", \"function\": \"Rosenbrock\", \"method\": \"noNN_RI\", \"MOF_norm\": 4.949197296713703}, {\"experiment\": \"exp2\", \"function\": \"Rosenbrock\", \"method\": \"noNN_Rst\", \"MOF_norm\": 120.45222868493711}, {\"experiment\": \"exp2\", \"function\": \"Sphere\", \"method\": \"NN_CwN\", \"MOF_norm\": 57.42681831845921}, {\"experiment\": \"exp2\", \"function\": \"Sphere\", \"method\": \"NN_HMu\", \"MOF_norm\": 8.714962986282835}, {\"experiment\": \"exp2\", \"function\": \"Sphere\", \"method\": \"NN_No\", \"MOF_norm\": 2.4459931428901363}, {\"experiment\": \"exp2\", \"function\": \"Sphere\", \"method\": \"NN_RI\", \"MOF_norm\": 4.753533290415879}, {\"experiment\": \"exp2\", \"function\": \"Sphere\", \"method\": \"NN_Rst\", \"MOF_norm\": 81.61247347269766}, {\"experiment\": \"exp2\", \"function\": \"Sphere\", \"method\": \"noNN_CwN\", \"MOF_norm\": 316.661084320029}, {\"experiment\": \"exp2\", \"function\": \"Sphere\", \"method\": \"noNN_HMu\", \"MOF_norm\": 7.016797914942297}, {\"experiment\": \"exp2\", \"function\": \"Sphere\", \"method\": \"noNN_No\", \"MOF_norm\": 81.97688444501523}, {\"experiment\": \"exp2\", \"function\": \"Sphere\", \"method\": \"noNN_RI\", \"MOF_norm\": 3.6063681675936823}, {\"experiment\": \"exp2\", \"function\": \"Sphere\", \"method\": \"noNN_Rst\", \"MOF_norm\": 60.42067628358593}, {\"experiment\": \"exp3\", \"function\": \"Rastrigin\", \"method\": \"NN_CwN\", \"MOF_norm\": 10.542511628336978}, {\"experiment\": \"exp3\", \"function\": \"Rastrigin\", \"method\": \"NN_HMu\", \"MOF_norm\": 3.0111002466346677}, {\"experiment\": \"exp3\", \"function\": \"Rastrigin\", \"method\": \"NN_No\", \"MOF_norm\": 31.188354095902525}, {\"experiment\": \"exp3\", \"function\": \"Rastrigin\", \"method\": \"NN_RI\", \"MOF_norm\": 1.3426324708438915}, {\"experiment\": \"exp3\", \"function\": \"Rastrigin\", \"method\": \"NN_Rst\", \"MOF_norm\": 3.303566371016097}, {\"experiment\": \"exp3\", \"function\": \"Rastrigin\", \"method\": \"noNN_CwN\", \"MOF_norm\": 4.056821342611022}, {\"experiment\": \"exp3\", \"function\": \"Rastrigin\", \"method\": \"noNN_HMu\", \"MOF_norm\": 2.3281821759180925}, {\"experiment\": \"exp3\", \"function\": \"Rastrigin\", \"method\": \"noNN_No\", \"MOF_norm\": 32.57096617497549}, {\"experiment\": \"exp3\", \"function\": \"Rastrigin\", \"method\": \"noNN_RI\", \"MOF_norm\": 1.097881746574581}, {\"experiment\": \"exp3\", \"function\": \"Rastrigin\", \"method\": \"noNN_Rst\", \"MOF_norm\": 2.1335339609554307}, {\"experiment\": \"exp3\", \"function\": \"Rosenbrock\", \"method\": \"NN_CwN\", \"MOF_norm\": 69.04705951177816}, {\"experiment\": \"exp3\", \"function\": \"Rosenbrock\", \"method\": \"NN_HMu\", \"MOF_norm\": 2.3824147024166518}, {\"experiment\": \"exp3\", \"function\": \"Rosenbrock\", \"method\": \"NN_No\", \"MOF_norm\": 2.2044600187003147}, {\"experiment\": \"exp3\", \"function\": \"Rosenbrock\", \"method\": \"NN_RI\", \"MOF_norm\": 2.253315266044343}, {\"experiment\": \"exp3\", \"function\": \"Rosenbrock\", \"method\": \"NN_Rst\", \"MOF_norm\": 3612.361634272316}, {\"experiment\": \"exp3\", \"function\": \"Rosenbrock\", \"method\": \"noNN_CwN\", \"MOF_norm\": 5747.684533929865}, {\"experiment\": \"exp3\", \"function\": \"Rosenbrock\", \"method\": \"noNN_HMu\", \"MOF_norm\": 2.1917969477287484}, {\"experiment\": \"exp3\", \"function\": \"Rosenbrock\", \"method\": \"noNN_No\", \"MOF_norm\": 3.724888988186606}, {\"experiment\": \"exp3\", \"function\": \"Rosenbrock\", \"method\": \"noNN_RI\", \"MOF_norm\": 2.2422364607732774}, {\"experiment\": \"exp3\", \"function\": \"Rosenbrock\", \"method\": \"noNN_Rst\", \"MOF_norm\": 2293.5425474750964}, {\"experiment\": \"exp3\", \"function\": \"Sphere\", \"method\": \"NN_CwN\", \"MOF_norm\": 69.50840890681195}, {\"experiment\": \"exp3\", \"function\": \"Sphere\", \"method\": \"NN_HMu\", \"MOF_norm\": 2.8463844026467946}, {\"experiment\": \"exp3\", \"function\": \"Sphere\", \"method\": \"NN_No\", \"MOF_norm\": 2.109389163706963}, {\"experiment\": \"exp3\", \"function\": \"Sphere\", \"method\": \"NN_RI\", \"MOF_norm\": 1.8803562288051598}, {\"experiment\": \"exp3\", \"function\": \"Sphere\", \"method\": \"NN_Rst\", \"MOF_norm\": 356.39512071842177}, {\"experiment\": \"exp3\", \"function\": \"Sphere\", \"method\": \"noNN_CwN\", \"MOF_norm\": 586.3985224703786}, {\"experiment\": \"exp3\", \"function\": \"Sphere\", \"method\": \"noNN_HMu\", \"MOF_norm\": 29.008897812965774}, {\"experiment\": \"exp3\", \"function\": \"Sphere\", \"method\": \"noNN_No\", \"MOF_norm\": 3788.208654046538}, {\"experiment\": \"exp3\", \"function\": \"Sphere\", \"method\": \"noNN_RI\", \"MOF_norm\": 8.138864642912393}, {\"experiment\": \"exp3\", \"function\": \"Sphere\", \"method\": \"noNN_Rst\", \"MOF_norm\": 199.42335297695743}, {\"experiment\": \"exp4\", \"function\": \"Rastrigin\", \"method\": \"NN_CwN\", \"MOF_norm\": 22.773695198256938}, {\"experiment\": \"exp4\", \"function\": \"Rastrigin\", \"method\": \"NN_HMu\", \"MOF_norm\": 2.1133907058733565}, {\"experiment\": \"exp4\", \"function\": \"Rastrigin\", \"method\": \"NN_No\", \"MOF_norm\": 9.651058747160496}, {\"experiment\": \"exp4\", \"function\": \"Rastrigin\", \"method\": \"NN_RI\", \"MOF_norm\": 2.3328262137013214}, {\"experiment\": \"exp4\", \"function\": \"Rastrigin\", \"method\": \"NN_Rst\", \"MOF_norm\": 3.233630966596929}, {\"experiment\": \"exp4\", \"function\": \"Rastrigin\", \"method\": \"noNN_CwN\", \"MOF_norm\": 13.141397948117788}, {\"experiment\": \"exp4\", \"function\": \"Rastrigin\", \"method\": \"noNN_HMu\", \"MOF_norm\": 2.602360427108832}, {\"experiment\": \"exp4\", \"function\": \"Rastrigin\", \"method\": \"noNN_No\", \"MOF_norm\": 68.57001400167941}, {\"experiment\": \"exp4\", \"function\": \"Rastrigin\", \"method\": \"noNN_RI\", \"MOF_norm\": 2.9704397671565883}, {\"experiment\": \"exp4\", \"function\": \"Rastrigin\", \"method\": \"noNN_Rst\", \"MOF_norm\": 1.9728193394398628}, {\"experiment\": \"exp4\", \"function\": \"Rosenbrock\", \"method\": \"NN_CwN\", \"MOF_norm\": 83.9960503423826}, {\"experiment\": \"exp4\", \"function\": \"Rosenbrock\", \"method\": \"NN_HMu\", \"MOF_norm\": 2.805017598068147}, {\"experiment\": \"exp4\", \"function\": \"Rosenbrock\", \"method\": \"NN_No\", \"MOF_norm\": 36.264482499958675}, {\"experiment\": \"exp4\", \"function\": \"Rosenbrock\", \"method\": \"NN_RI\", \"MOF_norm\": 4.102177040744477}, {\"experiment\": \"exp4\", \"function\": \"Rosenbrock\", \"method\": \"NN_Rst\", \"MOF_norm\": 7.776425386604034}, {\"experiment\": \"exp4\", \"function\": \"Rosenbrock\", \"method\": \"noNN_CwN\", \"MOF_norm\": 38.36452569384438}, {\"experiment\": \"exp4\", \"function\": \"Rosenbrock\", \"method\": \"noNN_HMu\", \"MOF_norm\": 6.667494664238695}, {\"experiment\": \"exp4\", \"function\": \"Rosenbrock\", \"method\": \"noNN_No\", \"MOF_norm\": 310.39320756193905}, {\"experiment\": \"exp4\", \"function\": \"Rosenbrock\", \"method\": \"noNN_RI\", \"MOF_norm\": 9.854092004627665}, {\"experiment\": \"exp4\", \"function\": \"Rosenbrock\", \"method\": \"noNN_Rst\", \"MOF_norm\": 3.9353954670785023}, {\"experiment\": \"exp4\", \"function\": \"Sphere\", \"method\": \"NN_CwN\", \"MOF_norm\": 54.06151240069168}, {\"experiment\": \"exp4\", \"function\": \"Sphere\", \"method\": \"NN_HMu\", \"MOF_norm\": 3.237663155621132}, {\"experiment\": \"exp4\", \"function\": \"Sphere\", \"method\": \"NN_No\", \"MOF_norm\": 21.38009476658692}, {\"experiment\": \"exp4\", \"function\": \"Sphere\", \"method\": \"NN_RI\", \"MOF_norm\": 4.2567327742720025}, {\"experiment\": \"exp4\", \"function\": \"Sphere\", \"method\": \"NN_Rst\", \"MOF_norm\": 5.311742896013066}, {\"experiment\": \"exp4\", \"function\": \"Sphere\", \"method\": \"noNN_CwN\", \"MOF_norm\": 29.643420879399528}, {\"experiment\": \"exp4\", \"function\": \"Sphere\", \"method\": \"noNN_HMu\", \"MOF_norm\": 8.268855184492885}, {\"experiment\": \"exp4\", \"function\": \"Sphere\", \"method\": \"noNN_No\", \"MOF_norm\": 193.34665578279447}, {\"experiment\": \"exp4\", \"function\": \"Sphere\", \"method\": \"noNN_RI\", \"MOF_norm\": 9.620846071677944}, {\"experiment\": \"exp4\", \"function\": \"Sphere\", \"method\": \"noNN_Rst\", \"MOF_norm\": 2.8305770912924815}]}};\n",
       "const opt = {};\n",
       "const type = \"vega-lite\";\n",
       "const id = \"c21d0ff1-92ff-4fb5-b816-4e6802b3b5d2\";\n",
       "\n",
       "const output_area = this;\n",
       "\n",
       "require([\"nbextensions/jupyter-vega/index\"], function(vega) {\n",
       "  const target = document.createElement(\"div\");\n",
       "  target.id = id;\n",
       "  target.className = \"vega-embed\";\n",
       "\n",
       "  const style = document.createElement(\"style\");\n",
       "  style.textContent = [\n",
       "    \".vega-embed .error p {\",\n",
       "    \"  color: firebrick;\",\n",
       "    \"  font-size: 14px;\",\n",
       "    \"}\",\n",
       "  ].join(\"\\\\n\");\n",
       "\n",
       "  // element is a jQuery wrapped DOM element inside the output area\n",
       "  // see http://ipython.readthedocs.io/en/stable/api/generated/\\\n",
       "  // IPython.display.html#IPython.display.Javascript.__init__\n",
       "  element[0].appendChild(target);\n",
       "  element[0].appendChild(style);\n",
       "\n",
       "  vega.render(\"#\" + id, spec, type, opt, output_area);\n",
       "}, function (err) {\n",
       "  if (err.requireType !== \"scripterror\") {\n",
       "    throw(err);\n",
       "  }\n",
       "});\n"
      ],
      "text/plain": [
       "<vega.vegalite.VegaLite at 0x1a2e6aeda0>"
      ]
     },
     "metadata": {
      "jupyter-vega": "#c21d0ff1-92ff-4fb5-b816-4e6802b3b5d2"
     },
     "output_type": "display_data"
    },
    {
     "data": {
      "text/plain": []
     },
     "execution_count": 98,
     "metadata": {},
     "output_type": "execute_result"
    },
    {
     "data": {
      "image/png": "[encoded data removed]"
     },
     "metadata": {
      "jupyter-vega": "#c21d0ff1-92ff-4fb5-b816-4e6802b3b5d2"
     },
     "output_type": "display_data"
    }
   ],
   "source": [
    "chart"
   ]
  },
  {
   "cell_type": "code",
   "execution_count": null,
   "metadata": {},
   "outputs": [],
   "source": []
  },
  {
   "cell_type": "code",
   "execution_count": null,
   "metadata": {},
   "outputs": [],
   "source": []
  }
 ],
 "metadata": {
  "kernelspec": {
   "display_name": "Python 3",
   "language": "python",
   "name": "python3"
  },
  "language_info": {
   "codemirror_mode": {
    "name": "ipython",
    "version": 3
   },
   "file_extension": ".py",
   "mimetype": "text/x-python",
   "name": "python",
   "nbconvert_exporter": "python",
   "pygments_lexer": "ipython3",
   "version": "3.7.3"
  },
  "toc": {
   "base_numbering": 1,
   "nav_menu": {},
   "number_sections": true,
   "sideBar": true,
   "skip_h1_title": false,
   "title_cell": "Table of Contents",
   "title_sidebar": "Contents",
   "toc_cell": false,
   "toc_position": {
    "height": "calc(100% - 180px)",
    "left": "10px",
    "top": "150px",
    "width": "165px"
   },
   "toc_section_display": true,
   "toc_window_display": false
  }
 },
 "nbformat": 4,
 "nbformat_minor": 2
}
