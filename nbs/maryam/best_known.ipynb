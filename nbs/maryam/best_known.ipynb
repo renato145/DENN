{
 "cells": [
  {
   "cell_type": "code",
   "execution_count": 128,
   "metadata": {},
   "outputs": [],
   "source": [
    "%reload_ext autoreload\n",
    "%autoreload 2\n",
    "%matplotlib inline\n",
    "from denn import *"
   ]
  },
  {
   "cell_type": "code",
   "execution_count": 129,
   "metadata": {},
   "outputs": [],
   "source": [
    "experiment=4\n",
    "func='rastrigin'\n",
    "out_best = f'exp{experiment}_{func}.npy'\n",
    "path = Path(f'../../data/results2/exp{experiment}/{func}')"
   ]
  },
  {
   "cell_type": "code",
   "execution_count": 130,
   "metadata": {},
   "outputs": [],
   "source": [
    "D = 30\n",
    "frequency = 100#00_000\n",
    "max_times = 100\n",
    "total_generations = max_times * frequency*100000 + 1000000"
   ]
  },
  {
   "cell_type": "code",
   "execution_count": 131,
   "metadata": {
    "code_folding": [
     0
    ]
   },
   "outputs": [],
   "source": [
    "# funcs\n",
    "if func=='sphere':\n",
    "    if experiment==1 or experiment==2:\n",
    "        ab = pd.read_csv(path/'dC_01.csv')['b'].values\n",
    "        def fitness_func(indiv, b, t): return (indiv.data**2).sum()\n",
    "        def constraint_func(indiv, b, t): return -b[t] + sum((1/np.sqrt(D))*indiv.data)\n",
    "\n",
    "    elif experiment==3:\n",
    "        ab=[]\n",
    "        # experiment 3: dynamic fitness function (linear)\n",
    "        def fitness_func(indiv, b, t): return ((indiv.data +0.1*t)**2).sum()\n",
    "        def constraint_func(indiv, b, t): return 0\n",
    "\n",
    "    else:\n",
    "        ab=pd.read_csv(path/'dC_01.csv')['b'].values\n",
    "    # experiment 5: dynamic fitness function (x-sin(pi/2*t))^2 with random changes on peak of sin\n",
    "        def fitness_func(indiv, b, t): return ((indiv.data-b[t]*np.sin(np.pi/2*t))**2).sum()\n",
    "        def constraint_func(indiv, b, t): return 0\n",
    "    \n",
    "elif func=='rastrigin':\n",
    "    if experiment==1 or experiment==2:\n",
    "        ab = pd.read_csv(path/'dC_01.csv')['b'].values\n",
    "        def fitness_func(indiv, b, t): return 10*D+((indiv.data**2)-10*np.cos(2*np.pi*indiv.data)).sum()\n",
    "        def constraint_func(indiv, b, t): return -b[t] + sum((1/np.sqrt(D))*indiv.data)\n",
    "\n",
    "    elif experiment==3:\n",
    "        ab=[]\n",
    "        # experiment 3: dynamic fitness function (linear)\n",
    "        def fitness_func(indiv, b, t): return 10*D+(((indiv.data+0.1*t)**2)-10*np.cos(2*np.pi*indiv.data)).sum()\n",
    "        def constraint_func(indiv, b, t): return 0\n",
    "\n",
    "    else:\n",
    "        ab=pd.read_csv(path/'dC_01.csv')['b'].values\n",
    "    # experiment 5: dynamic fitness function (x-sin(pi/2*t))^2 with random changes on peak of sin\n",
    "        def fitness_func(indiv, b, t): return 10*D+(((indiv.data-b[t]*np.sin(np.pi/2*t))**2)-10*np.cos(2*np.pi*indiv.data)).sum()\n",
    "        def constraint_func(indiv, b, t): return 0\n",
    "\n",
    "elif func=='rosenbrock':\n",
    "    if experiment==1 or experiment==2:\n",
    "        ab = pd.read_csv(path/'dC_01.csv')['b'].values\n",
    "        def fitness_func(indiv, b, t): return ((100 * (indiv.data[1:] - indiv.data[:-1]**2)**2) + (1-indiv.data[:-1])**2).sum()\n",
    "        def constraint_func(indiv, b, t): return -b[t] + sum((1/np.sqrt(D))*indiv.data)\n",
    "\n",
    "    elif experiment==3:\n",
    "        ab=[]\n",
    "        # experiment 3: dynamic fitness function (linear)\n",
    "        def fitness_func(indiv, b, t): return (100 * (((indiv.data[1:]+0.1*t) - (indiv.data[:-1]+0.1*t)**2)**2) + (1-indiv.data[:-1]-0.1*t)**2).sum()\n",
    "        def constraint_func(indiv, b, t): return 0\n",
    "\n",
    "    else:\n",
    "        ab=pd.read_csv(path/'dC_01.csv')['b'].values\n",
    "    # experiment 5: dynamic fitness function (x-sin(pi/2*t))^2 with random changes on peak of sin\n",
    "        def fitness_func(indiv, b, t): return (((100 * ((indiv.data[1:]-b[t]*np.sin(np.pi/2*t)) - (indiv.data[:-1]-b[t]*np.sin(np.pi/2*t))**2)**2) + (1-indiv.data[:-1]+b[t]*np.sin(np.pi/2*t))**2)).sum()\n",
    "        def constraint_func(indiv, b, t): return 0"
   ]
  },
  {
   "cell_type": "code",
   "execution_count": 132,
   "metadata": {},
   "outputs": [],
   "source": [
    "# population = Population.new_random(dimension=D)\n",
    "\n",
    "# opt = Optimization(population, fitness_func, constraint_func, fitness_params=ab, constraint_params=[ab],\n",
    "#                    max_times=max_times, frequency=frequency, callbacks=[OnChangeRestartPopulation])\n",
    "# opt.state_dict"
   ]
  },
  {
   "cell_type": "code",
   "execution_count": 133,
   "metadata": {},
   "outputs": [
    {
     "data": {
      "text/plain": [
       "{'gen': 0, 'evals': 0, 'time': 0, 'time_evals': 0, 'best': None}"
      ]
     },
     "execution_count": 133,
     "metadata": {},
     "output_type": "execute_result"
    }
   ],
   "source": [
    "population = Population.new_random(dimension=D)\n",
    "save_bests = partial(SaveBestIndividuals, out_path=out_best)\n",
    "\n",
    "opt = Optimization(population, fitness_func, constraint_func, fitness_params=ab, constraint_params=[ab],\n",
    "                   max_times=max_times, frequency=frequency,\n",
    "                   callbacks=[OnChangeRestartPopulation, save_bests])\n",
    "opt.state_dict"
   ]
  },
  {
   "cell_type": "code",
   "execution_count": 134,
   "metadata": {
    "scrolled": true
   },
   "outputs": [
    {
     "name": "stdout",
     "output_type": "stream",
     "text": [
      "Total time: 12:15:28\n"
     ]
    },
    {
     "data": {
      "image/png": "[encoded data removed]",
      "text/plain": [
       "<Figure size 432x288 with 1 Axes>"
      ]
     },
     "metadata": {
      "needs_background": "light"
     },
     "output_type": "display_data"
    }
   ],
   "source": [
    "opt.run(total_generations, update_each=1)"
   ]
  },
  {
   "cell_type": "markdown",
   "metadata": {},
   "source": [
    "# PCA"
   ]
  },
  {
   "cell_type": "code",
   "execution_count": 135,
   "metadata": {},
   "outputs": [
    {
     "data": {
      "image/png": "[encoded data removed]",
      "text/plain": [
       "<Figure size 288x288 with 1 Axes>"
      ]
     },
     "metadata": {
      "needs_background": "light"
     },
     "output_type": "display_data"
    }
   ],
   "source": [
    "from sklearn.decomposition import PCA\n",
    "\n",
    "all_bests = np.stack(opt.save_best_individuals.bests)\n",
    "pca = PCA(2)\n",
    "all_bests_reduced = pca.fit_transform(all_bests)\n",
    "plt.figure(figsize=(4,4))\n",
    "plt.plot(all_bests_reduced[:,0], all_bests_reduced[:,1], 'o');"
   ]
  },
  {
   "cell_type": "markdown",
   "metadata": {},
   "source": [
    "# Save run"
   ]
  },
  {
   "cell_type": "code",
   "execution_count": 136,
   "metadata": {},
   "outputs": [
    {
     "data": {
      "text/html": [
       "<div>\n",
       "<style scoped>\n",
       "    .dataframe tbody tr th:only-of-type {\n",
       "        vertical-align: middle;\n",
       "    }\n",
       "\n",
       "    .dataframe tbody tr th {\n",
       "        vertical-align: top;\n",
       "    }\n",
       "\n",
       "    .dataframe thead th {\n",
       "        text-align: right;\n",
       "    }\n",
       "</style>\n",
       "<table border=\"1\" class=\"dataframe\">\n",
       "  <thead>\n",
       "    <tr style=\"text-align: right;\">\n",
       "      <th></th>\n",
       "      <th>fitness</th>\n",
       "      <th>sum_constraints</th>\n",
       "    </tr>\n",
       "  </thead>\n",
       "  <tbody>\n",
       "    <tr>\n",
       "      <th>0</th>\n",
       "      <td>0.994959</td>\n",
       "      <td>0</td>\n",
       "    </tr>\n",
       "    <tr>\n",
       "      <th>1</th>\n",
       "      <td>3642.550830</td>\n",
       "      <td>0</td>\n",
       "    </tr>\n",
       "    <tr>\n",
       "      <th>2</th>\n",
       "      <td>0.994959</td>\n",
       "      <td>0</td>\n",
       "    </tr>\n",
       "    <tr>\n",
       "      <th>3</th>\n",
       "      <td>53243.051520</td>\n",
       "      <td>0</td>\n",
       "    </tr>\n",
       "    <tr>\n",
       "      <th>4</th>\n",
       "      <td>0.000000</td>\n",
       "      <td>0</td>\n",
       "    </tr>\n",
       "  </tbody>\n",
       "</table>\n",
       "</div>"
      ],
      "text/plain": [
       "        fitness  sum_constraints\n",
       "0      0.994959                0\n",
       "1   3642.550830                0\n",
       "2      0.994959                0\n",
       "3  53243.051520                0\n",
       "4      0.000000                0"
      ]
     },
     "execution_count": 136,
     "metadata": {},
     "output_type": "execute_result"
    }
   ],
   "source": [
    "df = pd.DataFrame({'fitness':opt.recorder.best_times_fitness, 'sum_constraints':opt.recorder.best_times_constraints})\n",
    "df.head()"
   ]
  },
  {
   "cell_type": "code",
   "execution_count": null,
   "metadata": {},
   "outputs": [],
   "source": [
    "# path.mkdir(parents=True, exist_ok=True)\n",
    "# df.to_csv(path/'best_known.csv', index=False)"
   ]
  },
  {
   "cell_type": "code",
   "execution_count": null,
   "metadata": {},
   "outputs": [],
   "source": []
  },
  {
   "cell_type": "code",
   "execution_count": null,
   "metadata": {},
   "outputs": [],
   "source": []
  },
  {
   "cell_type": "code",
   "execution_count": null,
   "metadata": {},
   "outputs": [],
   "source": []
  }
 ],
 "metadata": {
  "kernelspec": {
   "display_name": "Python 3",
   "language": "python",
   "name": "python3"
  },
  "language_info": {
   "codemirror_mode": {
    "name": "ipython",
    "version": 3
   },
   "file_extension": ".py",
   "mimetype": "text/x-python",
   "name": "python",
   "nbconvert_exporter": "python",
   "pygments_lexer": "ipython3",
   "version": "3.7.3"
  },
  "toc": {
   "base_numbering": 1,
   "nav_menu": {},
   "number_sections": true,
   "sideBar": true,
   "skip_h1_title": false,
   "title_cell": "Table of Contents",
   "title_sidebar": "Contents",
   "toc_cell": false,
   "toc_position": {},
   "toc_section_display": true,
   "toc_window_display": false
  }
 },
 "nbformat": 4,
 "nbformat_minor": 2
}
