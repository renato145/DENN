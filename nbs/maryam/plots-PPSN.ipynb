{
 "cells": [
  {
   "cell_type": "code",
   "execution_count": 1,
   "metadata": {},
   "outputs": [],
   "source": [
    "%reload_ext autoreload\n",
    "%autoreload 2\n",
    "%matplotlib inline\n",
    "from denn import *\n",
    "import matplotlib as mpl, warnings"
   ]
  },
  {
   "cell_type": "code",
   "execution_count": 2,
   "metadata": {},
   "outputs": [],
   "source": [
    "exps  = ['exp1','exp2','exp3','exp4']\n",
    "funcs = ['sphere','rastrigin','rosenbrock']\n",
    "freq = 1"
   ]
  },
  {
   "cell_type": "code",
   "execution_count": 3,
   "metadata": {},
   "outputs": [],
   "source": [
    "# funcs\n",
    "pat = re.compile('.*/(exp\\d)/(\\w*)/nonn/freq([0-9\\.]+)div(\\w+)/(\\w+)_\\w+.csv')\n",
    "decode_keys = ['experiment','function','freq','div','method']\n",
    "nn_pat = re.compile('.*/(exp\\d)/(\\w*)/nn/freq([0-9\\.]+)\\w+div([A-Za-z]+)/(\\w+)_(\\w+)_\\w+.csv')\n",
    "nn_decode_keys = ['experiment','function','freq','div','method','replace_mech']\n",
    "\n",
    "def get_best_knowns():\n",
    "    best_knowns = (pd.DataFrame(\n",
    "        {f'{exp}/{func}':pd.read_csv(Path(f'../../data/results/{exp}/{func}/best_known.csv')).fitness.values\n",
    "         for exp in exps for func in funcs}\n",
    "    ).melt(value_name='fitness'))\n",
    "    best_knowns['experiment'] = best_knowns['variable'].str.split('/').apply(lambda x: x[0])\n",
    "    best_knowns['function'] = best_knowns['variable'].str.split('/').apply(lambda x: x[1])\n",
    "    return best_knowns.drop('variable', axis=1)\n",
    "\n",
    "def get_files(m): return list(path.glob(f'**/nonn/**/*{m}.csv'))\n",
    "def get_nn_files(m): return list(path.glob(f'**/nn/**/*{m}.csv'))\n",
    "\n",
    "def df_mean(df, m):\n",
    "#     for n,d in df.groupby(['experiment', 'function', 'freq', 'method']):\n",
    "#         import pdb;pdb.set_trace()\n",
    "#     cols = df.columns[:100]\n",
    "#     means = df.loc[:,cols].mean(axis=1)\n",
    "#     df[m] = means\n",
    "#     df.rename({'0': m.upper(), m:m.upper()}, axis=1, inplace=True)\n",
    "    return df#.drop(cols, axis=1)\n",
    "\n",
    "def read_csv(f,m):\n",
    "    df = pd.read_csv(f)\n",
    "    df = df.mean().to_frame().T\n",
    "    for k,v in zip(decode_keys,pat.search(str(f)).groups()): df[k] = v\n",
    "    df['freq'] = df['freq'].astype(float)\n",
    "    df['method'] = df['method'] + '_' + df['div']\n",
    "    df['method'] = df['method'].str.replace('noNNRestart', 'noNNSt')\n",
    "    df.drop('div', axis=1, inplace=True)\n",
    "    df = df_mean(df, m)\n",
    "    return df\n",
    "\n",
    "def read_nn_csv(f,m):\n",
    "    df = pd.read_csv(f)\n",
    "    df = df.mean().to_frame().T\n",
    "    for k,v in zip(nn_decode_keys,nn_pat.search(str(f)).groups()): df[k] = v\n",
    "    df['freq'] = df['freq'].astype(float)\n",
    "    df['method'] = df['method'] + '_' + df['replace_mech'] + '_' + df['div']\n",
    "    df['method'] = df['method'].str.replace('NNnorm_Worst', 'NN')\n",
    "    df.drop(['replace_mech','div'], axis=1, inplace=True)\n",
    "    df = df_mean(df, m)\n",
    "    return df\n",
    "\n",
    "def get_data(m='fitness', normalize=False):\n",
    "#     short_dict = {'NNnorm_Random':'NNR', 'NNnorm_Worst':'NNW', 'noNN_R':'noNN', 'noNN_RI': 'noNN_RI',\n",
    "#                   'noNN_Cw':'noNN_Cw','noNN_No':'noNN_No', 'noNN_CwN':'noNN_CwN', 'noNN_CwcN':'noNN_CwcN','noNN_Cwc':'noNN_Cwc',  }\n",
    "    files = get_files(m)\n",
    "    nn_files = get_nn_files(m)\n",
    "    data = pd.concat([read_csv(f,m) for f in files] + [read_nn_csv(f,m) for f in nn_files])\n",
    "    #data.method = data.method.apply(lambda x: short_dict[x])\n",
    "    if normalize:\n",
    "        data_norm = (data.groupby(['experiment','function','freq','method'])[m.upper()].mean().reset_index()\n",
    "                         .groupby(['experiment','function'])[m.upper()].min().reset_index()\n",
    "                         .rename({m.upper():m.upper()+'_norm'}, axis=1))\n",
    "        data = data.merge(data_norm, 'left')\n",
    "        data[m.upper()+'_norm'] = data[m.upper()] / data[m.upper()+'_norm']\n",
    "    return data.reset_index(drop=True)\n",
    "\n",
    "def plot_one(exp, func, freq, ax, lbl_dict=None):\n",
    "    data = df.query(f'experiment == {exp!r} and function == {func!r} and freq == {freq}')\n",
    "#     for n,d in data.groupby('method'):\n",
    "    for n,row in data.iterrows():\n",
    "        lbl = row.method if lbl_dict is None else lbl_dict[row.method]\n",
    "        ax.plot(row[:100].values, label=lbl, linewidth=2, alpha=0.65)\n",
    "\n",
    "    return ax\n",
    "\n",
    "path = Path(f'../../data/cluster_results')\n",
    "\n",
    "df = get_data()\n",
    "best_knowns = get_best_knowns()"
   ]
  },
  {
   "cell_type": "code",
   "execution_count": 4,
   "metadata": {},
   "outputs": [
    {
     "ename": "NameError",
     "evalue": "name 'exp' is not defined",
     "output_type": "error",
     "traceback": [
      "\u001b[0;31m---------------------------------------------------------------------------\u001b[0m",
      "\u001b[0;31mNameError\u001b[0m                                 Traceback (most recent call last)",
      "\u001b[0;32m<ipython-input-4-dd79853c8a85>\u001b[0m in \u001b[0;36m<module>\u001b[0;34m\u001b[0m\n\u001b[0;32m----> 1\u001b[0;31m \u001b[0mbest_knowns\u001b[0m\u001b[0;34m.\u001b[0m\u001b[0mquery\u001b[0m\u001b[0;34m(\u001b[0m\u001b[0;34mf'experiment == {exp!r} and function=={func!r}'\u001b[0m\u001b[0;34m)\u001b[0m\u001b[0;34m.\u001b[0m\u001b[0mfitness\u001b[0m\u001b[0;34m.\u001b[0m\u001b[0mvalues\u001b[0m\u001b[0;34m\u001b[0m\u001b[0;34m\u001b[0m\u001b[0m\n\u001b[0m",
      "\u001b[0;31mNameError\u001b[0m: name 'exp' is not defined"
     ]
    }
   ],
   "source": [
    "best_knowns.query(f'experiment == {exp!r} and function=={func!r}').fitness.values"
   ]
  },
  {
   "cell_type": "code",
   "execution_count": null,
   "metadata": {},
   "outputs": [],
   "source": [
    "func,exp"
   ]
  },
  {
   "cell_type": "code",
   "execution_count": null,
   "metadata": {
    "code_folding": [],
    "scrolled": false
   },
   "outputs": [],
   "source": [
    "# Plot\n",
    "fig,axs = plt.subplots(4, 3, figsize=(14,12))\n",
    "lbl_dict = {'NNnorm_Worst_fitness' :'NNW',\n",
    "            'NNnorm_Random_fitness':'NNR',\n",
    "            'noNNReval_fitness'    :'noNN',\n",
    "            'best_known'           :'Best_known'}\n",
    "lbl_dict = None\n",
    "\n",
    "for ax_row,exp in zip(axs,exps):\n",
    "    for ax,func in zip(ax_row,funcs):\n",
    "        plot_one(exp, func, freq, ax, lbl_dict)\n",
    "        # plot best\n",
    "        best_values = best_knowns.query(f'experiment == {exp!r} and function=={func!r}').fitness.values\n",
    "        ax.plot(best_values, lw=2, ls='-.', label='Best Known')\n",
    "        ax.set_title(f'{exp}-{func.title()}')\n",
    "        ax.ticklabel_format(style='sci', scilimits=(0,5), useOffset=False)\n",
    "        if ax.get_ylim()[1] < 1e5:\n",
    "            ax.get_yaxis().set_major_formatter(mpl.ticker.FuncFormatter(lambda x, p: format(int(x), ',')))\n",
    "        \n",
    "ax.legend(loc='upper right')#, bbox_to_anchor=(0,0, 0.5, 0.5))#best(0, -0.90, 0.5, 0.5)\n",
    "plt.tight_layout()\n",
    "freq_lbl = f'{freq*10:02.0f}' if freq<1 else freq\n",
    "\n",
    "fig.savefig(f'../../data/cluster_results/fitness{freq_lbl}.eps', dpi=400, format='eps')"
   ]
  },
  {
   "cell_type": "code",
   "execution_count": null,
   "metadata": {
    "code_folding": []
   },
   "outputs": [],
   "source": [
    "# Plot\n",
    "fig,axs = plt.subplots(1, 4, figsize=(14,3))\n",
    "lbl_dict = {'NNnorm_Worst_fitness' :'NNW',\n",
    "            'NNnorm_Random_fitness':'NNR',\n",
    "            'noNNReval_fitness'    :'noNN',\n",
    "            'best_known'           :'Best_known'}\n",
    "\n",
    "for ax,exp in zip(axs,exps):\n",
    "    func = 'rastrigin'\n",
    "    plot_one(exp, func, freq, ax, lbl_dict)\n",
    "    ax.set_title(f'{exp}-{func.title()}')\n",
    "    ax.ticklabel_format(style='sci', scilimits=(0,5), useOffset=False)\n",
    "    ax.set_xlim(0,100)\n",
    "    if ax.get_ylim()[1] < 1e5:\n",
    "        ax.get_yaxis().set_major_formatter(mpl.ticker.FuncFormatter(lambda x, p: format(int(x), ',')))\n",
    "        \n",
    "ax.legend(loc='upper right')#, bbox_to_anchor=(0,0, 0.5, 0.5))#best(0, -0.90, 0.5, 0.5)\n",
    "plt.tight_layout()\n",
    "freq_lbl = f'{freq*10:02.0f}' if freq<1 else freq\n",
    "fig.savefig(f'../../data/cluster_results/fitness_ras_.eps', dpi=400, format='eps')"
   ]
  },
  {
   "cell_type": "code",
   "execution_count": null,
   "metadata": {},
   "outputs": [],
   "source": []
  },
  {
   "cell_type": "code",
   "execution_count": null,
   "metadata": {},
   "outputs": [],
   "source": []
  },
  {
   "cell_type": "code",
   "execution_count": null,
   "metadata": {},
   "outputs": [],
   "source": []
  },
  {
   "cell_type": "code",
   "execution_count": null,
   "metadata": {},
   "outputs": [],
   "source": []
  }
 ],
 "metadata": {
  "kernelspec": {
   "display_name": "Python 3",
   "language": "python",
   "name": "python3"
  },
  "language_info": {
   "codemirror_mode": {
    "name": "ipython",
    "version": 3
   },
   "file_extension": ".py",
   "mimetype": "text/x-python",
   "name": "python",
   "nbconvert_exporter": "python",
   "pygments_lexer": "ipython3",
   "version": "3.7.3"
  },
  "toc": {
   "base_numbering": 1,
   "nav_menu": {},
   "number_sections": true,
   "sideBar": true,
   "skip_h1_title": false,
   "title_cell": "Table of Contents",
   "title_sidebar": "Contents",
   "toc_cell": false,
   "toc_position": {},
   "toc_section_display": true,
   "toc_window_display": false
  }
 },
 "nbformat": 4,
 "nbformat_minor": 2
}
