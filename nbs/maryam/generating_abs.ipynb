{
 "cells": [
  {
   "cell_type": "code",
   "execution_count": 16,
   "metadata": {},
   "outputs": [],
   "source": [
    "%reload_ext autoreload\n",
    "%autoreload 2\n",
    "%matplotlib inline\n",
    "from denn import *"
   ]
  },
  {
   "cell_type": "code",
   "execution_count": 32,
   "metadata": {},
   "outputs": [
    {
     "data": {
      "image/png": "[encoded data removed]",
      "text/plain": [
       "<Figure size 432x288 with 1 Axes>"
      ]
     },
     "metadata": {
      "needs_background": "light"
     },
     "output_type": "display_data"
    }
   ],
   "source": [
    "n = 100\n",
    "ab = np.linspace(0, 25, num=n)\n",
    "\n",
    "#also i want experiment 1 here pls(the one with random changes, the relevant file go to folder experiment 1)\n",
    "#experiment1:random changes\n",
    "\n",
    "name = 'experiment1'\n",
    "uk = 5\n",
    "lk = -5\n",
    "p = 0.3\n",
    "\n",
    "ab = [0]\n",
    "for i in range(n-1):\n",
    "    x = np.random.uniform(lk,uk)\n",
    "    if np.random.uniform() < p:\n",
    "        x = ab[-1] + x\n",
    "        p /= 2\n",
    "    else:\n",
    "        x = ab[-1] - x\n",
    "        p = (1-p) / 2\n",
    "        \n",
    "    ab.append(x)\n",
    "\n",
    "#experiment2:sin pattern changes\n",
    "# name = 'experiment2'\n",
    "# ab = np.sin(ab)*5 + np.random.normal(scale=0.5, size=n)\n",
    "\n",
    "plt.plot(ab, 'o');"
   ]
  },
  {
   "cell_type": "code",
   "execution_count": 33,
   "metadata": {},
   "outputs": [],
   "source": [
    "path = Path('../../data/results') / name\n",
    "path.mkdir(parents=True, exist_ok=True)\n",
    "pd.DataFrame({'b':ab}).to_csv(path/'dC_01.csv', index=False)"
   ]
  },
  {
   "cell_type": "code",
   "execution_count": null,
   "metadata": {},
   "outputs": [],
   "source": []
  },
  {
   "cell_type": "code",
   "execution_count": null,
   "metadata": {},
   "outputs": [],
   "source": []
  },
  {
   "cell_type": "code",
   "execution_count": null,
   "metadata": {},
   "outputs": [],
   "source": []
  }
 ],
 "metadata": {
  "kernelspec": {
   "display_name": "Python 3",
   "language": "python",
   "name": "python3"
  },
  "language_info": {
   "codemirror_mode": {
    "name": "ipython",
    "version": 3
   },
   "file_extension": ".py",
   "mimetype": "text/x-python",
   "name": "python",
   "nbconvert_exporter": "python",
   "pygments_lexer": "ipython3",
   "version": "3.7.3"
  },
  "toc": {
   "base_numbering": 1,
   "nav_menu": {},
   "number_sections": true,
   "sideBar": true,
   "skip_h1_title": false,
   "title_cell": "Table of Contents",
   "title_sidebar": "Contents",
   "toc_cell": false,
   "toc_position": {},
   "toc_section_display": true,
   "toc_window_display": false
  }
 },
 "nbformat": 4,
 "nbformat_minor": 2
}
