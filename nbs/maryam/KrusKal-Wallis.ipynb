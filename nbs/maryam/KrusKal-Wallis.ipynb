{
 "cells": [
  {
   "cell_type": "code",
   "execution_count": 12,
   "metadata": {},
   "outputs": [],
   "source": [
    "%reload_ext autoreload\n",
    "%autoreload 2\n",
    "%matplotlib inline\n",
    "from denn import *\n",
    "from scipy.stats import kruskal\n",
    "import scikit_posthocs as sp"
   ]
  },
  {
   "cell_type": "code",
   "execution_count": 13,
   "metadata": {},
   "outputs": [],
   "source": [
    "path = Path('../../data/results/experiment4')"
   ]
  },
  {
   "cell_type": "code",
   "execution_count": 14,
   "metadata": {},
   "outputs": [
    {
     "name": "stdout",
     "output_type": "stream",
     "text": [
      "Statistics=73.620, p=0.000\n",
      "              1             2             3             4\n",
      "1 -1.000000e+00  1.620460e-23  1.174659e-02  3.013234e-04\n",
      "2  1.620460e-23 -1.000000e+00  5.146672e-17  3.023608e-14\n",
      "3  1.174659e-02  5.146672e-17 -1.000000e+00  2.240537e-01\n",
      "4  3.013234e-04  3.023608e-14  2.240537e-01 -1.000000e+00\n"
     ]
    },
    {
     "data": {
      "text/plain": [
       "(<matplotlib.axes._subplots.AxesSubplot at 0x1a1f927c50>,\n",
       " <matplotlib.colorbar.ColorbarBase at 0x1a1fa75630>)"
      ]
     },
     "execution_count": 14,
     "metadata": {},
     "output_type": "execute_result"
    },
    {
     "data": {
      "image/png": "[encoded data removed]",
      "text/plain": [
       "<Figure size 432x288 with 2 Axes>"
      ]
     },
     "metadata": {
      "needs_background": "light"
     },
     "output_type": "display_data"
    }
   ],
   "source": [
    "# fitness plots\n",
    "no_nn = pd.read_csv(path/'no_nn_mof.csv')\n",
    "nn_normal_rand = pd.read_csv(path/'nn-normal-random_mof.csv')\n",
    "nn_dist_rand = pd.read_csv(path/'nn-distribution-random_mof.csv')\n",
    "nn_dropout_rand= pd.read_csv(path/'nn-dropout-random_mof.csv')\n",
    "\n",
    "x=np.array([no_nn.mof, nn_normal_rand.mof, nn_dist_rand.mof,nn_dropout_rand.mof])\n",
    "\n",
    "stat, p = kruskal(no_nn,nn_normal_rand,nn_dist_rand,nn_dropout_rand)\n",
    "pc=sp.posthoc_conover(x, p_adjust='holm', val_col='values', group_col='groups')\n",
    "print('Statistics=%.3f, p=%.3f' % (stat, p))\n",
    "print(pc)\n",
    "heatmap_args = {'linewidths': 0.25, 'linecolor': '0.5', 'clip_on': False, 'square': True, 'cbar_ax_bbox': [0.80, 0.35, 0.04, 0.3]}\n",
    "sp.sign_plot(pc, **heatmap_args)"
   ]
  },
  {
   "cell_type": "code",
   "execution_count": null,
   "metadata": {},
   "outputs": [],
   "source": []
  },
  {
   "cell_type": "code",
   "execution_count": null,
   "metadata": {},
   "outputs": [],
   "source": []
  },
  {
   "cell_type": "code",
   "execution_count": null,
   "metadata": {},
   "outputs": [],
   "source": []
  },
  {
   "cell_type": "code",
   "execution_count": null,
   "metadata": {},
   "outputs": [],
   "source": []
  }
 ],
 "metadata": {
  "kernelspec": {
   "display_name": "Python 3",
   "language": "python",
   "name": "python3"
  },
  "language_info": {
   "codemirror_mode": {
    "name": "ipython",
    "version": 3
   },
   "file_extension": ".py",
   "mimetype": "text/x-python",
   "name": "python",
   "nbconvert_exporter": "python",
   "pygments_lexer": "ipython3",
   "version": "3.7.3"
  }
 },
 "nbformat": 4,
 "nbformat_minor": 2
}
