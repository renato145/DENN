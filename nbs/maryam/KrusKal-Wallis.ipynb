{
 "cells": [
  {
   "cell_type": "code",
   "execution_count": 50,
   "metadata": {},
   "outputs": [],
   "source": [
    "%reload_ext autoreload\n",
    "%autoreload 2\n",
    "%matplotlib inline\n",
    "from denn import *\n",
    "from scipy.stats import kruskal\n",
    "import scikit_posthocs as sp"
   ]
  },
  {
   "cell_type": "code",
   "execution_count": 51,
   "metadata": {},
   "outputs": [],
   "source": [
    "path = Path('../../data/results/experiment4')"
   ]
  },
  {
   "cell_type": "code",
   "execution_count": 52,
   "metadata": {},
   "outputs": [
    {
     "name": "stdout",
     "output_type": "stream",
     "text": [
      "Statistics=91.256, p=0.000\n"
     ]
    },
    {
     "data": {
      "text/html": [
       "<div>\n",
       "<style scoped>\n",
       "    .dataframe tbody tr th:only-of-type {\n",
       "        vertical-align: middle;\n",
       "    }\n",
       "\n",
       "    .dataframe tbody tr th {\n",
       "        vertical-align: top;\n",
       "    }\n",
       "\n",
       "    .dataframe thead th {\n",
       "        text-align: right;\n",
       "    }\n",
       "</style>\n",
       "<table border=\"1\" class=\"dataframe\">\n",
       "  <thead>\n",
       "    <tr style=\"text-align: right;\">\n",
       "      <th></th>\n",
       "      <th>no_nn</th>\n",
       "      <th>nn_normal_rand</th>\n",
       "      <th>nn_dist_rand</th>\n",
       "      <th>nn_drop_rand</th>\n",
       "    </tr>\n",
       "  </thead>\n",
       "  <tbody>\n",
       "    <tr>\n",
       "      <th>no_nn</th>\n",
       "      <td>-1.000000e+00</td>\n",
       "      <td>1.430237e-33</td>\n",
       "      <td>4.913731e-02</td>\n",
       "      <td>1.052057e-15</td>\n",
       "    </tr>\n",
       "    <tr>\n",
       "      <th>nn_normal_rand</th>\n",
       "      <td>1.430237e-33</td>\n",
       "      <td>-1.000000e+00</td>\n",
       "      <td>2.219765e-29</td>\n",
       "      <td>4.011920e-12</td>\n",
       "    </tr>\n",
       "    <tr>\n",
       "      <th>nn_dist_rand</th>\n",
       "      <td>4.913731e-02</td>\n",
       "      <td>2.219765e-29</td>\n",
       "      <td>-1.000000e+00</td>\n",
       "      <td>1.992359e-11</td>\n",
       "    </tr>\n",
       "    <tr>\n",
       "      <th>nn_drop_rand</th>\n",
       "      <td>1.052057e-15</td>\n",
       "      <td>4.011920e-12</td>\n",
       "      <td>1.992359e-11</td>\n",
       "      <td>-1.000000e+00</td>\n",
       "    </tr>\n",
       "  </tbody>\n",
       "</table>\n",
       "</div>"
      ],
      "text/plain": [
       "                       no_nn  nn_normal_rand  nn_dist_rand  nn_drop_rand\n",
       "no_nn          -1.000000e+00    1.430237e-33  4.913731e-02  1.052057e-15\n",
       "nn_normal_rand  1.430237e-33   -1.000000e+00  2.219765e-29  4.011920e-12\n",
       "nn_dist_rand    4.913731e-02    2.219765e-29 -1.000000e+00  1.992359e-11\n",
       "nn_drop_rand    1.052057e-15    4.011920e-12  1.992359e-11 -1.000000e+00"
      ]
     },
     "metadata": {},
     "output_type": "display_data"
    }
   ],
   "source": [
    "# fitness plots\n",
    "no_nn = pd.read_csv(path/'no_nn_mof.csv')\n",
    "nn_normal_rand = pd.read_csv(path/'nn-normal-mostclose_mof.csv')\n",
    "nn_dist_rand = pd.read_csv(path/'nn-distribution-mostclose_mof.csv')\n",
    "nn_dropout_rand= pd.read_csv(path/'nn-dropout-mostclose_mof.csv')\n",
    "labels = ['no_nn', 'nn_normal_rand', 'nn_dist_rand', 'nn_drop_rand']\n",
    "\n",
    "x=np.array([no_nn.mof, nn_normal_rand.mof, nn_dist_rand.mof,nn_dropout_rand.mof])\n",
    "\n",
    "stat, p = kruskal(no_nn,nn_normal_rand,nn_dist_rand,nn_dropout_rand)\n",
    "pc = sp.posthoc_conover(x, p_adjust='holm', val_col='values', group_col='groups')\n",
    "pc.columns = labels\n",
    "pc.index = labels\n",
    "print('Statistics=%.3f, p=%.3f' % (stat, p))\n",
    "display(pc)"
   ]
  },
  {
   "cell_type": "code",
   "execution_count": 53,
   "metadata": {},
   "outputs": [
    {
     "name": "stderr",
     "output_type": "stream",
     "text": [
      "/Users/maryam/anaconda3/envs/denn/lib/python3.7/site-packages/ipykernel_launcher.py:6: UserWarning: This figure includes Axes that are not compatible with tight_layout, so results might be incorrect.\n",
      "  \n"
     ]
    },
    {
     "data": {
      "image/png": "[encoded data removed]",
      "text/plain": [
       "<Figure size 432x288 with 2 Axes>"
      ]
     },
     "metadata": {
      "needs_background": "light"
     },
     "output_type": "display_data"
    }
   ],
   "source": [
    "heatmap_args = {'linewidths': 0.25, 'linecolor': '0.5', 'clip_on': False, 'square': True,\n",
    "                'cbar_ax_bbox': [0.80, 0.35, 0.04, 0.3]}\n",
    "ax,cbar = sp.sign_plot(pc, **heatmap_args)\n",
    "ax.set_xticklabels(labels, rotation='vertical')\n",
    "ax.set_yticklabels(labels, rotation='horizontal')\n",
    "plt.tight_layout()\n",
    "plt.savefig(path/'KrusKal-Wallis.eps')"
   ]
  },
  {
   "cell_type": "code",
   "execution_count": null,
   "metadata": {},
   "outputs": [],
   "source": []
  },
  {
   "cell_type": "code",
   "execution_count": null,
   "metadata": {},
   "outputs": [],
   "source": []
  },
  {
   "cell_type": "code",
   "execution_count": null,
   "metadata": {},
   "outputs": [],
   "source": []
  }
 ],
 "metadata": {
  "kernelspec": {
   "display_name": "Python 3",
   "language": "python",
   "name": "python3"
  },
  "language_info": {
   "codemirror_mode": {
    "name": "ipython",
    "version": 3
   },
   "file_extension": ".py",
   "mimetype": "text/x-python",
   "name": "python",
   "nbconvert_exporter": "python",
   "pygments_lexer": "ipython3",
   "version": "3.7.3"
  }
 },
 "nbformat": 4,
 "nbformat_minor": 2
}
