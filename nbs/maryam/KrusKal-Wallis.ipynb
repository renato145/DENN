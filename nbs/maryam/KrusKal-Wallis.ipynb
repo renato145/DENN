{
 "cells": [
  {
   "cell_type": "code",
   "execution_count": 9,
   "metadata": {},
   "outputs": [],
   "source": [
    "%reload_ext autoreload\n",
    "%autoreload 2\n",
    "%matplotlib inline\n",
    "from denn import *\n",
    "from scipy.stats import kruskal\n",
    "import scikit_posthocs as sp"
   ]
  },
  {
   "cell_type": "code",
   "execution_count": 10,
   "metadata": {},
   "outputs": [],
   "source": [
    "path = Path('../../data/results/exp1/rastrigin')"
   ]
  },
  {
   "cell_type": "code",
   "execution_count": 11,
   "metadata": {},
   "outputs": [
    {
     "name": "stdout",
     "output_type": "stream",
     "text": [
      "Statistics=95.717, p=0.000\n"
     ]
    },
    {
     "data": {
      "text/html": [
       "<div>\n",
       "<style scoped>\n",
       "    .dataframe tbody tr th:only-of-type {\n",
       "        vertical-align: middle;\n",
       "    }\n",
       "\n",
       "    .dataframe tbody tr th {\n",
       "        vertical-align: top;\n",
       "    }\n",
       "\n",
       "    .dataframe thead th {\n",
       "        text-align: right;\n",
       "    }\n",
       "</style>\n",
       "<table border=\"1\" class=\"dataframe\">\n",
       "  <thead>\n",
       "    <tr style=\"text-align: right;\">\n",
       "      <th></th>\n",
       "      <th>noNNReval</th>\n",
       "      <th>noNNRestart</th>\n",
       "      <th>NNnorm_Worst</th>\n",
       "      <th>NNdrop_Worst</th>\n",
       "    </tr>\n",
       "  </thead>\n",
       "  <tbody>\n",
       "    <tr>\n",
       "      <th>noNNReval</th>\n",
       "      <td>-1.000000e+00</td>\n",
       "      <td>1.258159e-27</td>\n",
       "      <td>1.411959e-05</td>\n",
       "      <td>6.213564e-17</td>\n",
       "    </tr>\n",
       "    <tr>\n",
       "      <th>noNNRestart</th>\n",
       "      <td>1.258159e-27</td>\n",
       "      <td>-1.000000e+00</td>\n",
       "      <td>1.939786e-37</td>\n",
       "      <td>1.411959e-05</td>\n",
       "    </tr>\n",
       "    <tr>\n",
       "      <th>NNnorm_Worst</th>\n",
       "      <td>1.411959e-05</td>\n",
       "      <td>1.939786e-37</td>\n",
       "      <td>-1.000000e+00</td>\n",
       "      <td>1.258159e-27</td>\n",
       "    </tr>\n",
       "    <tr>\n",
       "      <th>NNdrop_Worst</th>\n",
       "      <td>6.213564e-17</td>\n",
       "      <td>1.411959e-05</td>\n",
       "      <td>1.258159e-27</td>\n",
       "      <td>-1.000000e+00</td>\n",
       "    </tr>\n",
       "  </tbody>\n",
       "</table>\n",
       "</div>"
      ],
      "text/plain": [
       "                 noNNReval   noNNRestart  NNnorm_Worst  NNdrop_Worst\n",
       "noNNReval    -1.000000e+00  1.258159e-27  1.411959e-05  6.213564e-17\n",
       "noNNRestart   1.258159e-27 -1.000000e+00  1.939786e-37  1.411959e-05\n",
       "NNnorm_Worst  1.411959e-05  1.939786e-37 -1.000000e+00  1.258159e-27\n",
       "NNdrop_Worst  6.213564e-17  1.411959e-05  1.258159e-27 -1.000000e+00"
      ]
     },
     "metadata": {},
     "output_type": "display_data"
    }
   ],
   "source": [
    "#Experiment = Enum('Experiment', 'exp1 exp2 exp3 exp4')\n",
    "#Method = Enum('Methods', 'noNNRestart noNNReval NNnorm NNdrop')\n",
    "#Mechname:Random, Worst, Closest\n",
    "# fitness plots\n",
    "noNNReval = pd.read_csv(path/'noNNReval_mof.csv')\n",
    "noNNRestart= pd.read_csv(path/'noNNRestart_mof.csv')\n",
    "\n",
    "Mech=2\n",
    "\n",
    "if Mech==1:\n",
    "    NNnorm_Random= pd.read_csv(path/'NNnorm_Worst_mof.csv')\n",
    "    NNdrop_Random = pd.read_csv(path/'NNdrop_Worst_mof.csv')\n",
    "    labels = ['noNNReval', 'noNNRestart', 'NNnorm_Random', 'NNdrop_Random']\n",
    "    x=np.array([noNNReval.mof, noNNRestart.mof, NNnorm_Random.mof,NNdrop_Random.mof])\n",
    "    stat, p = kruskal(noNNReval, noNNRestart, NNnorm_Random,NNdrop_Random)\n",
    "\n",
    "elif Mech==2:\n",
    "    NNnorm_Worst= pd.read_csv(path/'NNnorm_Worst_mof.csv')\n",
    "    NNdrop_Worst = pd.read_csv(path/'NNdrop_Worst_mof.csv')\n",
    "    labels = ['noNNReval', 'noNNRestart', 'NNnorm_Worst', 'NNdrop_Worst']\n",
    "    x=np.array([noNNReval.mof, noNNRestart.mof, NNnorm_Worst.mof,NNdrop_Worst.mof])\n",
    "    stat, p = kruskal(noNNReval, noNNRestart, NNnorm_Worst,NNdrop_Worst)\n",
    "else:    \n",
    "    NNnorm_Closest= pd.read_csv(path/'NNnorm_Closest_mof.csv')\n",
    "    NNdrop_Closest = pd.read_csv(path/'NNdrop_Closest_mof.csv')\n",
    "    labels = ['noNNReval', 'noNNRestart', 'NNnorm_Closest', 'NNdrop_Closest']\n",
    "    x=np.array([noNNReval.mof, noNNRestart.mof, NNnorm_Closest.mof,NNdrop_Closest.mof])\n",
    "    stat, p = kruskal(noNNReval, noNNRestart, NNnorm_Closest,NNdrop_Closest)\n",
    "\n",
    "\n",
    "    \n",
    "    \n",
    "pc = sp.posthoc_conover(x, p_adjust='holm', val_col='values', group_col='groups')\n",
    "pc.columns = labels\n",
    "pc.index = labels\n",
    "print('Statistics=%.3f, p=%.3f' % (stat, p))\n",
    "display(pc)"
   ]
  },
  {
   "cell_type": "code",
   "execution_count": 12,
   "metadata": {},
   "outputs": [
    {
     "name": "stderr",
     "output_type": "stream",
     "text": [
      "/Users/maryam/anaconda3/envs/denn/lib/python3.7/site-packages/ipykernel_launcher.py:6: UserWarning: This figure includes Axes that are not compatible with tight_layout, so results might be incorrect.\n",
      "  \n"
     ]
    },
    {
     "data": {
      "image/png": "[encoded data removed]",
      "text/plain": [
       "<Figure size 432x288 with 2 Axes>"
      ]
     },
     "metadata": {
      "needs_background": "light"
     },
     "output_type": "display_data"
    }
   ],
   "source": [
    "heatmap_args = {'linewidths': 0.25, 'linecolor': '0.5', 'clip_on': False, 'square': True,\n",
    "                'cbar_ax_bbox': [0.80, 0.35, 0.04, 0.3]}\n",
    "ax,cbar = sp.sign_plot(pc, **heatmap_args)\n",
    "ax.set_xticklabels(labels, rotation='vertical')\n",
    "ax.set_yticklabels(labels, rotation='horizontal')\n",
    "plt.tight_layout()\n",
    "plt.savefig(path/'KrusKal-Wallis.eps')"
   ]
  },
  {
   "cell_type": "code",
   "execution_count": null,
   "metadata": {},
   "outputs": [],
   "source": []
  },
  {
   "cell_type": "code",
   "execution_count": null,
   "metadata": {},
   "outputs": [],
   "source": []
  },
  {
   "cell_type": "code",
   "execution_count": null,
   "metadata": {},
   "outputs": [],
   "source": []
  }
 ],
 "metadata": {
  "kernelspec": {
   "display_name": "Python 3",
   "language": "python",
   "name": "python3"
  },
  "language_info": {
   "codemirror_mode": {
    "name": "ipython",
    "version": 3
   },
   "file_extension": ".py",
   "mimetype": "text/x-python",
   "name": "python",
   "nbconvert_exporter": "python",
   "pygments_lexer": "ipython3",
   "version": "3.7.3"
  }
 },
 "nbformat": 4,
 "nbformat_minor": 2
}
