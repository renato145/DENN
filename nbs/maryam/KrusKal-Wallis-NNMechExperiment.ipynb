{
 "cells": [
  {
   "cell_type": "code",
   "execution_count": 13,
   "metadata": {},
   "outputs": [],
   "source": [
    "%reload_ext autoreload\n",
    "%autoreload 2\n",
    "%matplotlib inline\n",
    "from denn import *\n",
    "from scipy.stats import kruskal\n",
    "import scikit_posthocs as sp"
   ]
  },
  {
   "cell_type": "code",
   "execution_count": 14,
   "metadata": {},
   "outputs": [],
   "source": [
    "path = Path('../../data/results/exp1')"
   ]
  },
  {
   "cell_type": "code",
   "execution_count": 15,
   "metadata": {},
   "outputs": [
    {
     "name": "stdout",
     "output_type": "stream",
     "text": [
      "Statistics=9.236, p=0.010\n"
     ]
    },
    {
     "data": {
      "text/html": [
       "<div>\n",
       "<style scoped>\n",
       "    .dataframe tbody tr th:only-of-type {\n",
       "        vertical-align: middle;\n",
       "    }\n",
       "\n",
       "    .dataframe tbody tr th {\n",
       "        vertical-align: top;\n",
       "    }\n",
       "\n",
       "    .dataframe thead th {\n",
       "        text-align: right;\n",
       "    }\n",
       "</style>\n",
       "<table border=\"1\" class=\"dataframe\">\n",
       "  <thead>\n",
       "    <tr style=\"text-align: right;\">\n",
       "      <th></th>\n",
       "      <th>NNdrop_Worst</th>\n",
       "      <th>NNdrop_Random</th>\n",
       "      <th>NNdrop_Closest</th>\n",
       "    </tr>\n",
       "  </thead>\n",
       "  <tbody>\n",
       "    <tr>\n",
       "      <th>NNdrop_Worst</th>\n",
       "      <td>-1.000000</td>\n",
       "      <td>0.006338</td>\n",
       "      <td>0.171061</td>\n",
       "    </tr>\n",
       "    <tr>\n",
       "      <th>NNdrop_Random</th>\n",
       "      <td>0.006338</td>\n",
       "      <td>-1.000000</td>\n",
       "      <td>0.171061</td>\n",
       "    </tr>\n",
       "    <tr>\n",
       "      <th>NNdrop_Closest</th>\n",
       "      <td>0.171061</td>\n",
       "      <td>0.171061</td>\n",
       "      <td>-1.000000</td>\n",
       "    </tr>\n",
       "  </tbody>\n",
       "</table>\n",
       "</div>"
      ],
      "text/plain": [
       "                NNdrop_Worst  NNdrop_Random  NNdrop_Closest\n",
       "NNdrop_Worst       -1.000000       0.006338        0.171061\n",
       "NNdrop_Random       0.006338      -1.000000        0.171061\n",
       "NNdrop_Closest      0.171061       0.171061       -1.000000"
      ]
     },
     "metadata": {},
     "output_type": "display_data"
    }
   ],
   "source": [
    "#Experiment = Enum('Experiment', 'exp1 exp2 exp3 exp4')\n",
    "#Method = Enum('Methods', 'noNNRestart noNNReval NNnorm NNdrop')\n",
    "#Mechname:Random, Worst, Closest\n",
    "# fitness plots\n",
    "\n",
    "case=2\n",
    "\n",
    "if case==1:\n",
    "    NNnorm_Worst= pd.read_csv(path/'NNnorm_Worst_mof.csv')\n",
    "    NNnorm_Random= pd.read_csv(path/'NNnorm_Random_mof.csv')\n",
    "    NNnorm_Closest= pd.read_csv(path/'NNnorm_Closest_mof.csv')\n",
    "    \n",
    "    labels = ['NNnorm_Worst', 'NNnorm_Random', 'NNdrop_Closest']\n",
    "    x=np.array([ NNnorm_Worst.mof, NNnorm_Random.mof, NNnorm_Closest.mof])\n",
    "    stat, p = kruskal( NNnorm_Worst,  NNnorm_Random,  NNnorm_Closest)\n",
    "\n",
    "elif case==2:\n",
    "    \n",
    "    NNdrop_Worst = pd.read_csv(path/'NNdrop_Worst_mof.csv')\n",
    "    NNdrop_Random = pd.read_csv(path/'NNdrop_Random_mof.csv')\n",
    "    NNdrop_Closest = pd.read_csv(path/'NNdrop_Closest_mof.csv')\n",
    "    labels = ['NNdrop_Worst', 'NNdrop_Random', 'NNdrop_Closest']\n",
    "    x=np.array([NNdrop_Worst.mof,NNdrop_Random.mof, NNdrop_Closest.mof])\n",
    "    stat, p = kruskal(NNdrop_Worst, NNdrop_Random, NNdrop_Closest)\n",
    "\n",
    "\n",
    "\n",
    "    \n",
    "    \n",
    "pc = sp.posthoc_conover(x, p_adjust='holm', val_col='values', group_col='groups')\n",
    "pc.columns = labels\n",
    "pc.index = labels\n",
    "print('Statistics=%.3f, p=%.3f' % (stat, p))\n",
    "display(pc)"
   ]
  },
  {
   "cell_type": "code",
   "execution_count": 16,
   "metadata": {},
   "outputs": [
    {
     "name": "stderr",
     "output_type": "stream",
     "text": [
      "/Users/maryam/anaconda3/envs/denn/lib/python3.7/site-packages/ipykernel_launcher.py:6: UserWarning: This figure includes Axes that are not compatible with tight_layout, so results might be incorrect.\n",
      "  \n"
     ]
    },
    {
     "data": {
      "image/png": "[encoded data removed]",
      "text/plain": [
       "<Figure size 432x288 with 2 Axes>"
      ]
     },
     "metadata": {
      "needs_background": "light"
     },
     "output_type": "display_data"
    }
   ],
   "source": [
    "heatmap_args = {'linewidths': 0.25, 'linecolor': '0.5', 'clip_on': False, 'square': True,\n",
    "                'cbar_ax_bbox': [0.80, 0.35, 0.04, 0.3]}\n",
    "ax,cbar = sp.sign_plot(pc, **heatmap_args)\n",
    "ax.set_xticklabels(labels, rotation='vertical')\n",
    "ax.set_yticklabels(labels, rotation='horizontal')\n",
    "plt.tight_layout()\n",
    "plt.savefig(path/'KrusKal-Wallis.eps')"
   ]
  },
  {
   "cell_type": "code",
   "execution_count": null,
   "metadata": {},
   "outputs": [],
   "source": []
  },
  {
   "cell_type": "code",
   "execution_count": null,
   "metadata": {},
   "outputs": [],
   "source": []
  },
  {
   "cell_type": "code",
   "execution_count": null,
   "metadata": {},
   "outputs": [],
   "source": []
  }
 ],
 "metadata": {
  "kernelspec": {
   "display_name": "Python 3",
   "language": "python",
   "name": "python3"
  },
  "language_info": {
   "codemirror_mode": {
    "name": "ipython",
    "version": 3
   },
   "file_extension": ".py",
   "mimetype": "text/x-python",
   "name": "python",
   "nbconvert_exporter": "python",
   "pygments_lexer": "ipython3",
   "version": "3.7.3"
  },
  "toc": {
   "base_numbering": 1,
   "nav_menu": {},
   "number_sections": true,
   "sideBar": true,
   "skip_h1_title": false,
   "title_cell": "Table of Contents",
   "title_sidebar": "Contents",
   "toc_cell": false,
   "toc_position": {},
   "toc_section_display": true,
   "toc_window_display": false
  }
 },
 "nbformat": 4,
 "nbformat_minor": 2
}
