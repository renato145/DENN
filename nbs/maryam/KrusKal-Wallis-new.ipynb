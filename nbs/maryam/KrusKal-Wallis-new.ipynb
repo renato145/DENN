{
 "cells": [
  {
   "cell_type": "code",
   "execution_count": 12,
   "metadata": {},
   "outputs": [],
   "source": [
    "%reload_ext autoreload\n",
    "%autoreload 2\n",
    "%matplotlib inline\n",
    "from denn import *\n",
    "from scipy.stats import kruskal\n",
    "import scikit_posthocs as sp\n",
    "from matplotlib.colors import ListedColormap"
   ]
  },
  {
   "cell_type": "code",
   "execution_count": 13,
   "metadata": {},
   "outputs": [],
   "source": [
    "path= Path(f'../../data/cluster_results')"
   ]
  },
  {
   "cell_type": "code",
   "execution_count": 36,
   "metadata": {},
   "outputs": [],
   "source": [
    "def read_csv(f):\n",
    "    df = pd.read_csv(f)\n",
    "#     df['std'] = pd.read_csv(f).std().iloc[0] #remove this line to remove std from table\n",
    "\n",
    "    df['experiment'] = f.parent.parent.parent.name\n",
    "    df['function'] = f.parent.parent.name\n",
    "    name = f.parent.name\n",
    "    #print(name)\n",
    "    df['freq'] = name[4:].split('n')[0]\n",
    "    #print(df['freq'])\n",
    "    #df['method'] = f.name.split('_')[0]\n",
    "    name = f.name.split('_')[0]\n",
    "    if name != 'noNNReval': name += '_'+f.name.split('_')[1]\n",
    "    df['method'] = name\n",
    "    df['nn_p']=name[14:].split('n')[0] \n",
    "\n",
    "    return df\n",
    "\n",
    "measure_name=['mof','sr','arr','nfe','nn_time']\n",
    "index_measure=0"
   ]
  },
  {
   "cell_type": "code",
   "execution_count": 37,
   "metadata": {},
   "outputs": [],
   "source": [
    "m = measure_name[index_measure]\n",
    "files = list(f for f in path.glob(f'exp*/*/freq4nn_w5nn_p3nn_s3nn_tw5nn_bs4nn_epoch3/*{m}.csv') if 'NNnorm' in f.name) #path.glob(f'exp*/*/freq1*nn_s*nn_tw*bs*/*{m}.csv')\n",
    "#print(files)\n",
    "files += [f for f in path.glob(f'exp*/*/freq4*nn_p3nn_s2nn_tw5*bs4*/*{m}.csv') if 'noNN' in f.name] #f'exp*/*/*nn_p3/*{m}.csv'  , \n",
    "df = pd.concat([read_csv(f) for f in files])"
   ]
  },
  {
   "cell_type": "code",
   "execution_count": 38,
   "metadata": {},
   "outputs": [],
   "source": [
    "unique_exp = df.experiment.unique()\n",
    "unique_fun = df.function.unique()\n",
    "labels = ['noNNReval', 'NNnorm_Worst', 'NNnorm_Random']\n",
    "pcs = {}\n",
    "\n",
    "for exp in unique_exp:\n",
    "    pcs[exp] = {}\n",
    "    for fun in unique_fun:\n",
    "        temp_df = df[(df.experiment==exp) & (df.function==fun)]\n",
    "        noNNReval = temp_df.query(\"method == 'noNNReval'\").mof\n",
    "        NNnorm_Random = temp_df.query(\"method == 'NNnorm_Random'\").mof\n",
    "        NNnorm_Worst = temp_df.query(\"method == 'NNnorm_Worst'\").mof\n",
    "        x=np.array([noNNReval, NNnorm_Worst,NNnorm_Random])\n",
    "        stat, p = kruskal(noNNReval,NNnorm_Worst,NNnorm_Random)\n",
    "        pc = sp.posthoc_conover(x, p_adjust='holm', val_col='values', group_col='groups')\n",
    "        pc.columns = ['noNN','NNW','NNR'] # labels\n",
    "        pc.index = ['noNN','NNW','NNR'] # labels\n",
    "        pcs[exp][fun] = pc"
   ]
  },
  {
   "cell_type": "code",
   "execution_count": 39,
   "metadata": {},
   "outputs": [],
   "source": [
    "def plot_heatmap(pc):\n",
    "    heatmap_args = {'linewidths': 0.25, 'linecolor': '0.5', 'clip_on': False, 'square': True,\n",
    "                    'cbar_ax_bbox': [0.80, 0.35, 0.04, 0.3]}\n",
    "    ax,cbar = sp.sign_plot(pc, **heatmap_args)\n",
    "    ax.set_xticklabels(labels, rotation='vertical')\n",
    "    ax.set_yticklabels(labels, rotation='horizontal')\n",
    "    plt.tight_layout()\n",
    "#exp_pc.keys()\n",
    "#pcs.keys()"
   ]
  },
  {
   "cell_type": "code",
   "execution_count": 40,
   "metadata": {},
   "outputs": [
    {
     "name": "stderr",
     "output_type": "stream",
     "text": [
      "/Users/maryam/anaconda3/envs/denn/lib/python3.7/site-packages/ipykernel_launcher.py:17: UserWarning: This figure includes Axes that are not compatible with tight_layout, so results might be incorrect.\n"
     ]
    },
    {
     "data": {
      "image/png": "[encoded data removed]",
      "text/plain": [
       "<Figure size 316.8x360 with 13 Axes>"
      ]
     },
     "metadata": {
      "needs_background": "light"
     },
     "output_type": "display_data"
    }
   ],
   "source": [
    "fig,all_axs = plt.subplots(4, 3, figsize=(4.4,5))#10,14\n",
    "for i,exp in enumerate(['exp1','exp2','exp3','exp4']):\n",
    "    exp_pc = pcs[exp]\n",
    "    axs = all_axs[i]\n",
    "    heatmap_args = {'linewidths': 0.25, 'linecolor': '0.5', 'clip_on': False, 'square': True,\n",
    "                    'cbar_ax_bbox': [1.0, 0.6, 0.04, 0.3]}\n",
    "    sp.sign_plot(exp_pc['sphere'], ax=axs[0], **heatmap_args)\n",
    "    sp.sign_plot(exp_pc['rosenbrock'], ax=axs[1], **heatmap_args)\n",
    "    axs[1].set_yticklabels([])\n",
    "    _,cbar = sp.sign_plot(exp_pc['rastrigin'], ax=axs[2], **heatmap_args)\n",
    "    axs[2].set_yticklabels([])\n",
    "    if i==0:\n",
    "        for ax,t in zip(axs,['sphere','rosenbrock','rastrigin']): ax.set_title(t.title())\n",
    "    for ax in axs:\n",
    "        if i<3: ax.set_xticklabels([])\n",
    "    \n",
    "plt.tight_layout()\n",
    "plt.savefig(path/'kruskal4.eps', format='eps', dpi=1000)"
   ]
  },
  {
   "cell_type": "code",
   "execution_count": 29,
   "metadata": {},
   "outputs": [
    {
     "data": {
      "text/plain": [
       "<matplotlib.colorbar.ColorbarBase at 0x1a259df7b8>"
      ]
     },
     "execution_count": 29,
     "metadata": {},
     "output_type": "execute_result"
    }
   ],
   "source": [
    "cbar"
   ]
  },
  {
   "cell_type": "code",
   "execution_count": 231,
   "metadata": {},
   "outputs": [
    {
     "data": {
      "text/plain": [
       "<Figure size 432x288 with 0 Axes>"
      ]
     },
     "metadata": {},
     "output_type": "display_data"
    }
   ],
   "source": [
    "ax,cbar = sp.sign_plot(pc, ax=axs[0], **heatmap_args)\n",
    "ax,cbar = sp.sign_plot(pc, ax=axs[1], **heatmap_args)\n",
    "ax.set_xticklabels(labels, rotation='vertical')\n",
    "ax.set_yticklabels(labels, rotation='horizontal')\n",
    "plt.tight_layout()"
   ]
  },
  {
   "cell_type": "code",
   "execution_count": 168,
   "metadata": {},
   "outputs": [
    {
     "data": {
      "text/plain": [
       "<matplotlib.image.AxesImage at 0x1a2745f240>"
      ]
     },
     "execution_count": 168,
     "metadata": {},
     "output_type": "execute_result"
    },
    {
     "data": {
      "image/png": "[encoded data removed]",
      "text/plain": [
       "<Figure size 288x288 with 1 Axes>"
      ]
     },
     "metadata": {
      "needs_background": "light"
     },
     "output_type": "display_data"
    }
   ],
   "source": [
    "hm = pc.copy()\n",
    "hm[(pc <= 0.001) & (pc >= 0)] = 1\n",
    "hm[(pc <= 0.01) & (pc > 0.001)] = 2\n",
    "hm[(pc <= 0.05) & (pc > 0.01)] = 3\n",
    "hm[(pc > 0.05)] = 0\n",
    "np.fill_diagonal(hm.values, -1)\n",
    "cmap = ['1', '#fbd7d4', '#005a32', '#238b45', '#a1d99b']\n",
    "ax.imshow(hm, cmap=ListedColormap(cmap))\n",
    "cbar = ColorbarBase(cbar_ax, cmap=ListedColormap(cmap[2:] + [cmap[1]]),\n",
    "                    boundaries=[0, 1, 2, 3, 4])\n",
    "cbar.set_ticks(np.linspace(0.5, 3.5, 4))\n",
    "cbar.set_ticklabels(['p < 0.001', 'p < 0.01', 'p < 0.05', 'NS'])\n",
    "\n",
    "cbar.outline.set_linewidth(1)\n",
    "cbar.outline.set_edgecolor('0.5')\n",
    "cbar.ax.tick_params(size=0)"
   ]
  },
  {
   "cell_type": "code",
   "execution_count": 172,
   "metadata": {},
   "outputs": [],
   "source": [
    "sp.sign_plot??"
   ]
  },
  {
   "cell_type": "code",
   "execution_count": 167,
   "metadata": {},
   "outputs": [],
   "source": []
  },
  {
   "cell_type": "code",
   "execution_count": 150,
   "metadata": {},
   "outputs": [
    {
     "data": {
      "image/png": "[encoded data removed]",
      "text/plain": [
       "<Figure size 432x288 with 2 Axes>"
      ]
     },
     "metadata": {
      "needs_background": "light"
     },
     "output_type": "display_data"
    }
   ],
   "source": [
    "ax,cbar = sp.sign_plot(pc, **heatmap_args)\n",
    "cmap = ['1', '#fbd7d4', '#005a32', '#238b45', '#a1d99b']"
   ]
  }
 ],
 "metadata": {
  "kernelspec": {
   "display_name": "Python 3",
   "language": "python",
   "name": "python3"
  },
  "language_info": {
   "codemirror_mode": {
    "name": "ipython",
    "version": 3
   },
   "file_extension": ".py",
   "mimetype": "text/x-python",
   "name": "python",
   "nbconvert_exporter": "python",
   "pygments_lexer": "ipython3",
   "version": "3.7.3"
  },
  "toc": {
   "base_numbering": 1,
   "nav_menu": {},
   "number_sections": true,
   "sideBar": true,
   "skip_h1_title": false,
   "title_cell": "Table of Contents",
   "title_sidebar": "Contents",
   "toc_cell": false,
   "toc_position": {},
   "toc_section_display": true,
   "toc_window_display": false
  }
 },
 "nbformat": 4,
 "nbformat_minor": 2
}
