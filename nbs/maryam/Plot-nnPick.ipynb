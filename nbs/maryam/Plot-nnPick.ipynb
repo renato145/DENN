{
 "cells": [
  {
   "cell_type": "code",
   "execution_count": 1,
   "metadata": {},
   "outputs": [
    {
     "data": {
      "text/plain": [
       "RendererRegistry.enable('notebook')"
      ]
     },
     "execution_count": 1,
     "metadata": {},
     "output_type": "execute_result"
    }
   ],
   "source": [
    "%reload_ext autoreload\n",
    "%autoreload 2\n",
    "%matplotlib inline\n",
    "from denn import *\n",
    "import pandas as pd\n",
    "import io #Used as buffer\n",
    "import altair as alt\n",
    "alt.renderers.enable('notebook')"
   ]
  },
  {
   "cell_type": "code",
   "execution_count": 2,
   "metadata": {},
   "outputs": [],
   "source": [
    "path= Path(f'../../data/cluster_results')"
   ]
  },
  {
   "cell_type": "code",
   "execution_count": 3,
   "metadata": {
    "code_folding": []
   },
   "outputs": [],
   "source": [
    "def read_csv(f):\n",
    "    df = pd.read_csv(f).mean()\n",
    "    df['std'] = pd.read_csv(f).std().iloc[0] #remove this line to remove std from table\n",
    "\n",
    "    df['experiment'] = f.parent.parent.parent.name\n",
    "    df['function'] = f.parent.parent.name\n",
    "    name = f.parent.name\n",
    "    #print(name)\n",
    "    df['freq'] = float(name[4:].split('n')[0])\n",
    "    #print(df['freq'])\n",
    "#     df['method'] = f.name.split('_')[0]\n",
    "    df['method'] = f.name.split('_')[0]+'_'+f.name.split('_')[1]\n",
    "#     df['nn_p']=name[14:].split('n')[0] \n",
    "    df['nn_p'] = name.split('nn_p')[1].split('n')[0]\n",
    "    return df\n",
    "\n",
    "measure_name=['mof','sr','arr','nfe','nn_time']\n",
    "index_measure=0"
   ]
  },
  {
   "cell_type": "code",
   "execution_count": null,
   "metadata": {},
   "outputs": [],
   "source": [
    "files = list(f for f in path.glob(f'exp*/*/freq{freq}nn_w5nn_p*nn_s3nn_tw5nn_bs4nn_epoch3/*{m}.csv') if replace_mech in f.name) #path.glob(f'exp*/*/freq1*nn_s*nn_tw*bs*/*{m}.csv')"
   ]
  },
  {
   "cell_type": "code",
   "execution_count": 4,
   "metadata": {
    "code_folding": []
   },
   "outputs": [],
   "source": [
    "def get_data(freq, replace_mech):\n",
    "    m = measure_name[index_measure]\n",
    "    files = list(f for f in path.glob(f'exp*/*/freq{freq}nn_w5nn_p*nn_s3nn_tw5nn_bs4nn_epoch3/*{m}.csv') if replace_mech in f.name) #path.glob(f'exp*/*/freq1*nn_s*nn_tw*bs*/*{m}.csv')\n",
    "    files=[o for o in files if 'nn_p5' not in o.parent.name]\n",
    "    #print(files)\n",
    "    df = pd.DataFrame([read_csv(f) for f in files])\n",
    "    # data = pd.pivot_table(df, index=['experiment','function'], columns='method', values=m) #,'freq' later for adding frequency experiment\n",
    "    data = pd.pivot_table(df, index=['experiment','function','freq', 'nn_p' ],columns='method' ) #,'freq' later for adding frequency experiment, ,values=m 'ns','tw', 'bs','epochs'\n",
    "    data.style.format(\"{:,.2f}\")\n",
    "    d = data.reset_index()\n",
    "    d.columns = ['experiment', 'function', 'freq', 'nn_p', 'NNnorm', 'NNnorm_std']\n",
    "    d.head(2)\n",
    "    d1 = d.melt(['experiment','function','freq','nn_p'], value_vars=['NNnorm'],\n",
    "                var_name='method', value_name='mof')\n",
    "    d2 = d.melt(['experiment','function','freq', 'nn_p'], value_vars=['NNnorm_std'],\n",
    "                var_name='method', value_name='mof_std')\n",
    "    d2.method = d2.method.str.replace('_std', '')\n",
    "    d = d1.merge(d2)\n",
    "    d['function'] = d['function'].str.title()\n",
    "    return d"
   ]
  },
  {
   "cell_type": "code",
   "execution_count": 5,
   "metadata": {
    "scrolled": true
   },
   "outputs": [
    {
     "data": {
      "text/html": [
       "<div>\n",
       "<style scoped>\n",
       "    .dataframe tbody tr th:only-of-type {\n",
       "        vertical-align: middle;\n",
       "    }\n",
       "\n",
       "    .dataframe tbody tr th {\n",
       "        vertical-align: top;\n",
       "    }\n",
       "\n",
       "    .dataframe thead th {\n",
       "        text-align: right;\n",
       "    }\n",
       "</style>\n",
       "<table border=\"1\" class=\"dataframe\">\n",
       "  <thead>\n",
       "    <tr style=\"text-align: right;\">\n",
       "      <th></th>\n",
       "      <th>experiment</th>\n",
       "      <th>function</th>\n",
       "      <th>freq</th>\n",
       "      <th>nn_p</th>\n",
       "      <th>method</th>\n",
       "      <th>mof</th>\n",
       "      <th>mof_std</th>\n",
       "    </tr>\n",
       "  </thead>\n",
       "  <tbody>\n",
       "    <tr>\n",
       "      <th>0</th>\n",
       "      <td>exp1</td>\n",
       "      <td>Rastrigin</td>\n",
       "      <td>1.0</td>\n",
       "      <td>1</td>\n",
       "      <td>NNnorm</td>\n",
       "      <td>16.799697</td>\n",
       "      <td>0.361331</td>\n",
       "    </tr>\n",
       "    <tr>\n",
       "      <th>1</th>\n",
       "      <td>exp1</td>\n",
       "      <td>Rastrigin</td>\n",
       "      <td>1.0</td>\n",
       "      <td>3</td>\n",
       "      <td>NNnorm</td>\n",
       "      <td>16.486775</td>\n",
       "      <td>0.152392</td>\n",
       "    </tr>\n",
       "    <tr>\n",
       "      <th>2</th>\n",
       "      <td>exp1</td>\n",
       "      <td>Rastrigin</td>\n",
       "      <td>1.0</td>\n",
       "      <td>7</td>\n",
       "      <td>NNnorm</td>\n",
       "      <td>16.282586</td>\n",
       "      <td>0.303976</td>\n",
       "    </tr>\n",
       "    <tr>\n",
       "      <th>3</th>\n",
       "      <td>exp1</td>\n",
       "      <td>Rastrigin</td>\n",
       "      <td>1.0</td>\n",
       "      <td>9</td>\n",
       "      <td>NNnorm</td>\n",
       "      <td>15.050083</td>\n",
       "      <td>3.053362</td>\n",
       "    </tr>\n",
       "    <tr>\n",
       "      <th>4</th>\n",
       "      <td>exp1</td>\n",
       "      <td>Rosenbrock</td>\n",
       "      <td>1.0</td>\n",
       "      <td>1</td>\n",
       "      <td>NNnorm</td>\n",
       "      <td>5334.109824</td>\n",
       "      <td>290.594304</td>\n",
       "    </tr>\n",
       "  </tbody>\n",
       "</table>\n",
       "</div>"
      ],
      "text/plain": [
       "  experiment    function  freq nn_p  method          mof     mof_std\n",
       "0       exp1   Rastrigin   1.0    1  NNnorm    16.799697    0.361331\n",
       "1       exp1   Rastrigin   1.0    3  NNnorm    16.486775    0.152392\n",
       "2       exp1   Rastrigin   1.0    7  NNnorm    16.282586    0.303976\n",
       "3       exp1   Rastrigin   1.0    9  NNnorm    15.050083    3.053362\n",
       "4       exp1  Rosenbrock   1.0    1  NNnorm  5334.109824  290.594304"
      ]
     },
     "execution_count": 5,
     "metadata": {},
     "output_type": "execute_result"
    }
   ],
   "source": [
    "freq = 1\n",
    "replace_mech = 'NNnorm_Worst'\n",
    "d = get_data(freq, replace_mech)\n",
    "d.head()"
   ]
  },
  {
   "cell_type": "markdown",
   "metadata": {
    "heading_collapsed": true
   },
   "source": [
    "# Past things"
   ]
  },
  {
   "cell_type": "code",
   "execution_count": 157,
   "metadata": {
    "hidden": true,
    "scrolled": true
   },
   "outputs": [
    {
     "data": {
      "text/html": [
       "<style  type=\"text/css\" >\n",
       "</style><table id=\"T_d8e78c48_038a_11ea_91d0_860044d19001\" ><thead>    <tr>        <th class=\"blank\" ></th>        <th class=\"blank\" ></th>        <th class=\"blank\" ></th>        <th class=\"blank level0\" ></th>        <th class=\"col_heading level0 col0\" >mof</th>        <th class=\"col_heading level0 col1\" >std</th>    </tr>    <tr>        <th class=\"blank\" ></th>        <th class=\"blank\" ></th>        <th class=\"blank\" ></th>        <th class=\"index_name level1\" >method</th>        <th class=\"col_heading level1 col0\" >NNnorm_Worst</th>        <th class=\"col_heading level1 col1\" >NNnorm_Worst</th>    </tr>    <tr>        <th class=\"index_name level0\" >experiment</th>        <th class=\"index_name level1\" >function</th>        <th class=\"index_name level2\" >freq</th>        <th class=\"index_name level3\" >nn_p</th>        <th class=\"blank\" ></th>        <th class=\"blank\" ></th>    </tr></thead><tbody>\n",
       "                <tr>\n",
       "                        <th id=\"T_d8e78c48_038a_11ea_91d0_860044d19001level0_row0\" class=\"row_heading level0 row0\" rowspan=12>exp1</th>\n",
       "                        <th id=\"T_d8e78c48_038a_11ea_91d0_860044d19001level1_row0\" class=\"row_heading level1 row0\" rowspan=4>rastrigin</th>\n",
       "                        <th id=\"T_d8e78c48_038a_11ea_91d0_860044d19001level2_row0\" class=\"row_heading level2 row0\" rowspan=4>1.0</th>\n",
       "                        <th id=\"T_d8e78c48_038a_11ea_91d0_860044d19001level3_row0\" class=\"row_heading level3 row0\" >1</th>\n",
       "                        <td id=\"T_d8e78c48_038a_11ea_91d0_860044d19001row0_col0\" class=\"data row0 col0\" >18.47</td>\n",
       "                        <td id=\"T_d8e78c48_038a_11ea_91d0_860044d19001row0_col1\" class=\"data row0 col1\" >5.73</td>\n",
       "            </tr>\n",
       "            <tr>\n",
       "                                                <th id=\"T_d8e78c48_038a_11ea_91d0_860044d19001level3_row1\" class=\"row_heading level3 row1\" >3</th>\n",
       "                        <td id=\"T_d8e78c48_038a_11ea_91d0_860044d19001row1_col0\" class=\"data row1 col0\" >16.81</td>\n",
       "                        <td id=\"T_d8e78c48_038a_11ea_91d0_860044d19001row1_col1\" class=\"data row1 col1\" >6.75</td>\n",
       "            </tr>\n",
       "            <tr>\n",
       "                                                <th id=\"T_d8e78c48_038a_11ea_91d0_860044d19001level3_row2\" class=\"row_heading level3 row2\" >7</th>\n",
       "                        <td id=\"T_d8e78c48_038a_11ea_91d0_860044d19001row2_col0\" class=\"data row2 col0\" >20.87</td>\n",
       "                        <td id=\"T_d8e78c48_038a_11ea_91d0_860044d19001row2_col1\" class=\"data row2 col1\" >5.37</td>\n",
       "            </tr>\n",
       "            <tr>\n",
       "                                                <th id=\"T_d8e78c48_038a_11ea_91d0_860044d19001level3_row3\" class=\"row_heading level3 row3\" >9</th>\n",
       "                        <td id=\"T_d8e78c48_038a_11ea_91d0_860044d19001row3_col0\" class=\"data row3 col0\" >20.36</td>\n",
       "                        <td id=\"T_d8e78c48_038a_11ea_91d0_860044d19001row3_col1\" class=\"data row3 col1\" >4.97</td>\n",
       "            </tr>\n",
       "            <tr>\n",
       "                                <th id=\"T_d8e78c48_038a_11ea_91d0_860044d19001level1_row4\" class=\"row_heading level1 row4\" rowspan=4>rosenbrock</th>\n",
       "                        <th id=\"T_d8e78c48_038a_11ea_91d0_860044d19001level2_row4\" class=\"row_heading level2 row4\" rowspan=4>1.0</th>\n",
       "                        <th id=\"T_d8e78c48_038a_11ea_91d0_860044d19001level3_row4\" class=\"row_heading level3 row4\" >1</th>\n",
       "                        <td id=\"T_d8e78c48_038a_11ea_91d0_860044d19001row4_col0\" class=\"data row4 col0\" >140,010.93</td>\n",
       "                        <td id=\"T_d8e78c48_038a_11ea_91d0_860044d19001row4_col1\" class=\"data row4 col1\" >129,339.39</td>\n",
       "            </tr>\n",
       "            <tr>\n",
       "                                                <th id=\"T_d8e78c48_038a_11ea_91d0_860044d19001level3_row5\" class=\"row_heading level3 row5\" >3</th>\n",
       "                        <td id=\"T_d8e78c48_038a_11ea_91d0_860044d19001row5_col0\" class=\"data row5 col0\" >57,535.20</td>\n",
       "                        <td id=\"T_d8e78c48_038a_11ea_91d0_860044d19001row5_col1\" class=\"data row5 col1\" >58,583.84</td>\n",
       "            </tr>\n",
       "            <tr>\n",
       "                                                <th id=\"T_d8e78c48_038a_11ea_91d0_860044d19001level3_row6\" class=\"row_heading level3 row6\" >7</th>\n",
       "                        <td id=\"T_d8e78c48_038a_11ea_91d0_860044d19001row6_col0\" class=\"data row6 col0\" >121,244.64</td>\n",
       "                        <td id=\"T_d8e78c48_038a_11ea_91d0_860044d19001row6_col1\" class=\"data row6 col1\" >136,110.93</td>\n",
       "            </tr>\n",
       "            <tr>\n",
       "                                                <th id=\"T_d8e78c48_038a_11ea_91d0_860044d19001level3_row7\" class=\"row_heading level3 row7\" >9</th>\n",
       "                        <td id=\"T_d8e78c48_038a_11ea_91d0_860044d19001row7_col0\" class=\"data row7 col0\" >98,828.01</td>\n",
       "                        <td id=\"T_d8e78c48_038a_11ea_91d0_860044d19001row7_col1\" class=\"data row7 col1\" >81,114.19</td>\n",
       "            </tr>\n",
       "            <tr>\n",
       "                                <th id=\"T_d8e78c48_038a_11ea_91d0_860044d19001level1_row8\" class=\"row_heading level1 row8\" rowspan=4>sphere</th>\n",
       "                        <th id=\"T_d8e78c48_038a_11ea_91d0_860044d19001level2_row8\" class=\"row_heading level2 row8\" rowspan=4>1.0</th>\n",
       "                        <th id=\"T_d8e78c48_038a_11ea_91d0_860044d19001level3_row8\" class=\"row_heading level3 row8\" >1</th>\n",
       "                        <td id=\"T_d8e78c48_038a_11ea_91d0_860044d19001row8_col0\" class=\"data row8 col0\" >10.47</td>\n",
       "                        <td id=\"T_d8e78c48_038a_11ea_91d0_860044d19001row8_col1\" class=\"data row8 col1\" >7.25</td>\n",
       "            </tr>\n",
       "            <tr>\n",
       "                                                <th id=\"T_d8e78c48_038a_11ea_91d0_860044d19001level3_row9\" class=\"row_heading level3 row9\" >3</th>\n",
       "                        <td id=\"T_d8e78c48_038a_11ea_91d0_860044d19001row9_col0\" class=\"data row9 col0\" >6.78</td>\n",
       "                        <td id=\"T_d8e78c48_038a_11ea_91d0_860044d19001row9_col1\" class=\"data row9 col1\" >4.95</td>\n",
       "            </tr>\n",
       "            <tr>\n",
       "                                                <th id=\"T_d8e78c48_038a_11ea_91d0_860044d19001level3_row10\" class=\"row_heading level3 row10\" >7</th>\n",
       "                        <td id=\"T_d8e78c48_038a_11ea_91d0_860044d19001row10_col0\" class=\"data row10 col0\" >9.45</td>\n",
       "                        <td id=\"T_d8e78c48_038a_11ea_91d0_860044d19001row10_col1\" class=\"data row10 col1\" >5.32</td>\n",
       "            </tr>\n",
       "            <tr>\n",
       "                                                <th id=\"T_d8e78c48_038a_11ea_91d0_860044d19001level3_row11\" class=\"row_heading level3 row11\" >9</th>\n",
       "                        <td id=\"T_d8e78c48_038a_11ea_91d0_860044d19001row11_col0\" class=\"data row11 col0\" >10.59</td>\n",
       "                        <td id=\"T_d8e78c48_038a_11ea_91d0_860044d19001row11_col1\" class=\"data row11 col1\" >4.83</td>\n",
       "            </tr>\n",
       "            <tr>\n",
       "                        <th id=\"T_d8e78c48_038a_11ea_91d0_860044d19001level0_row12\" class=\"row_heading level0 row12\" rowspan=12>exp2</th>\n",
       "                        <th id=\"T_d8e78c48_038a_11ea_91d0_860044d19001level1_row12\" class=\"row_heading level1 row12\" rowspan=4>rastrigin</th>\n",
       "                        <th id=\"T_d8e78c48_038a_11ea_91d0_860044d19001level2_row12\" class=\"row_heading level2 row12\" rowspan=4>1.0</th>\n",
       "                        <th id=\"T_d8e78c48_038a_11ea_91d0_860044d19001level3_row12\" class=\"row_heading level3 row12\" >1</th>\n",
       "                        <td id=\"T_d8e78c48_038a_11ea_91d0_860044d19001row12_col0\" class=\"data row12 col0\" >1.82</td>\n",
       "                        <td id=\"T_d8e78c48_038a_11ea_91d0_860044d19001row12_col1\" class=\"data row12 col1\" >0.14</td>\n",
       "            </tr>\n",
       "            <tr>\n",
       "                                                <th id=\"T_d8e78c48_038a_11ea_91d0_860044d19001level3_row13\" class=\"row_heading level3 row13\" >3</th>\n",
       "                        <td id=\"T_d8e78c48_038a_11ea_91d0_860044d19001row13_col0\" class=\"data row13 col0\" >2.00</td>\n",
       "                        <td id=\"T_d8e78c48_038a_11ea_91d0_860044d19001row13_col1\" class=\"data row13 col1\" >0.20</td>\n",
       "            </tr>\n",
       "            <tr>\n",
       "                                                <th id=\"T_d8e78c48_038a_11ea_91d0_860044d19001level3_row14\" class=\"row_heading level3 row14\" >7</th>\n",
       "                        <td id=\"T_d8e78c48_038a_11ea_91d0_860044d19001row14_col0\" class=\"data row14 col0\" >1.94</td>\n",
       "                        <td id=\"T_d8e78c48_038a_11ea_91d0_860044d19001row14_col1\" class=\"data row14 col1\" >0.15</td>\n",
       "            </tr>\n",
       "            <tr>\n",
       "                                                <th id=\"T_d8e78c48_038a_11ea_91d0_860044d19001level3_row15\" class=\"row_heading level3 row15\" >9</th>\n",
       "                        <td id=\"T_d8e78c48_038a_11ea_91d0_860044d19001row15_col0\" class=\"data row15 col0\" >2.18</td>\n",
       "                        <td id=\"T_d8e78c48_038a_11ea_91d0_860044d19001row15_col1\" class=\"data row15 col1\" >0.24</td>\n",
       "            </tr>\n",
       "            <tr>\n",
       "                                <th id=\"T_d8e78c48_038a_11ea_91d0_860044d19001level1_row16\" class=\"row_heading level1 row16\" rowspan=4>rosenbrock</th>\n",
       "                        <th id=\"T_d8e78c48_038a_11ea_91d0_860044d19001level2_row16\" class=\"row_heading level2 row16\" rowspan=4>1.0</th>\n",
       "                        <th id=\"T_d8e78c48_038a_11ea_91d0_860044d19001level3_row16\" class=\"row_heading level3 row16\" >1</th>\n",
       "                        <td id=\"T_d8e78c48_038a_11ea_91d0_860044d19001row16_col0\" class=\"data row16 col0\" >79.31</td>\n",
       "                        <td id=\"T_d8e78c48_038a_11ea_91d0_860044d19001row16_col1\" class=\"data row16 col1\" >14.43</td>\n",
       "            </tr>\n",
       "            <tr>\n",
       "                                                <th id=\"T_d8e78c48_038a_11ea_91d0_860044d19001level3_row17\" class=\"row_heading level3 row17\" >3</th>\n",
       "                        <td id=\"T_d8e78c48_038a_11ea_91d0_860044d19001row17_col0\" class=\"data row17 col0\" >61.08</td>\n",
       "                        <td id=\"T_d8e78c48_038a_11ea_91d0_860044d19001row17_col1\" class=\"data row17 col1\" >6.01</td>\n",
       "            </tr>\n",
       "            <tr>\n",
       "                                                <th id=\"T_d8e78c48_038a_11ea_91d0_860044d19001level3_row18\" class=\"row_heading level3 row18\" >7</th>\n",
       "                        <td id=\"T_d8e78c48_038a_11ea_91d0_860044d19001row18_col0\" class=\"data row18 col0\" >69.45</td>\n",
       "                        <td id=\"T_d8e78c48_038a_11ea_91d0_860044d19001row18_col1\" class=\"data row18 col1\" >8.31</td>\n",
       "            </tr>\n",
       "            <tr>\n",
       "                                                <th id=\"T_d8e78c48_038a_11ea_91d0_860044d19001level3_row19\" class=\"row_heading level3 row19\" >9</th>\n",
       "                        <td id=\"T_d8e78c48_038a_11ea_91d0_860044d19001row19_col0\" class=\"data row19 col0\" >64.71</td>\n",
       "                        <td id=\"T_d8e78c48_038a_11ea_91d0_860044d19001row19_col1\" class=\"data row19 col1\" >6.92</td>\n",
       "            </tr>\n",
       "            <tr>\n",
       "                                <th id=\"T_d8e78c48_038a_11ea_91d0_860044d19001level1_row20\" class=\"row_heading level1 row20\" rowspan=4>sphere</th>\n",
       "                        <th id=\"T_d8e78c48_038a_11ea_91d0_860044d19001level2_row20\" class=\"row_heading level2 row20\" rowspan=4>1.0</th>\n",
       "                        <th id=\"T_d8e78c48_038a_11ea_91d0_860044d19001level3_row20\" class=\"row_heading level3 row20\" >1</th>\n",
       "                        <td id=\"T_d8e78c48_038a_11ea_91d0_860044d19001row20_col0\" class=\"data row20 col0\" >0.11</td>\n",
       "                        <td id=\"T_d8e78c48_038a_11ea_91d0_860044d19001row20_col1\" class=\"data row20 col1\" >0.01</td>\n",
       "            </tr>\n",
       "            <tr>\n",
       "                                                <th id=\"T_d8e78c48_038a_11ea_91d0_860044d19001level3_row21\" class=\"row_heading level3 row21\" >3</th>\n",
       "                        <td id=\"T_d8e78c48_038a_11ea_91d0_860044d19001row21_col0\" class=\"data row21 col0\" >0.08</td>\n",
       "                        <td id=\"T_d8e78c48_038a_11ea_91d0_860044d19001row21_col1\" class=\"data row21 col1\" >0.00</td>\n",
       "            </tr>\n",
       "            <tr>\n",
       "                                                <th id=\"T_d8e78c48_038a_11ea_91d0_860044d19001level3_row22\" class=\"row_heading level3 row22\" >7</th>\n",
       "                        <td id=\"T_d8e78c48_038a_11ea_91d0_860044d19001row22_col0\" class=\"data row22 col0\" >0.07</td>\n",
       "                        <td id=\"T_d8e78c48_038a_11ea_91d0_860044d19001row22_col1\" class=\"data row22 col1\" >0.00</td>\n",
       "            </tr>\n",
       "            <tr>\n",
       "                                                <th id=\"T_d8e78c48_038a_11ea_91d0_860044d19001level3_row23\" class=\"row_heading level3 row23\" >9</th>\n",
       "                        <td id=\"T_d8e78c48_038a_11ea_91d0_860044d19001row23_col0\" class=\"data row23 col0\" >0.08</td>\n",
       "                        <td id=\"T_d8e78c48_038a_11ea_91d0_860044d19001row23_col1\" class=\"data row23 col1\" >0.00</td>\n",
       "            </tr>\n",
       "            <tr>\n",
       "                        <th id=\"T_d8e78c48_038a_11ea_91d0_860044d19001level0_row24\" class=\"row_heading level0 row24\" rowspan=12>exp3</th>\n",
       "                        <th id=\"T_d8e78c48_038a_11ea_91d0_860044d19001level1_row24\" class=\"row_heading level1 row24\" rowspan=4>rastrigin</th>\n",
       "                        <th id=\"T_d8e78c48_038a_11ea_91d0_860044d19001level2_row24\" class=\"row_heading level2 row24\" rowspan=4>1.0</th>\n",
       "                        <th id=\"T_d8e78c48_038a_11ea_91d0_860044d19001level3_row24\" class=\"row_heading level3 row24\" >1</th>\n",
       "                        <td id=\"T_d8e78c48_038a_11ea_91d0_860044d19001row24_col0\" class=\"data row24 col0\" >14.69</td>\n",
       "                        <td id=\"T_d8e78c48_038a_11ea_91d0_860044d19001row24_col1\" class=\"data row24 col1\" >2.80</td>\n",
       "            </tr>\n",
       "            <tr>\n",
       "                                                <th id=\"T_d8e78c48_038a_11ea_91d0_860044d19001level3_row25\" class=\"row_heading level3 row25\" >3</th>\n",
       "                        <td id=\"T_d8e78c48_038a_11ea_91d0_860044d19001row25_col0\" class=\"data row25 col0\" >13.11</td>\n",
       "                        <td id=\"T_d8e78c48_038a_11ea_91d0_860044d19001row25_col1\" class=\"data row25 col1\" >3.25</td>\n",
       "            </tr>\n",
       "            <tr>\n",
       "                                                <th id=\"T_d8e78c48_038a_11ea_91d0_860044d19001level3_row26\" class=\"row_heading level3 row26\" >7</th>\n",
       "                        <td id=\"T_d8e78c48_038a_11ea_91d0_860044d19001row26_col0\" class=\"data row26 col0\" >12.21</td>\n",
       "                        <td id=\"T_d8e78c48_038a_11ea_91d0_860044d19001row26_col1\" class=\"data row26 col1\" >3.56</td>\n",
       "            </tr>\n",
       "            <tr>\n",
       "                                                <th id=\"T_d8e78c48_038a_11ea_91d0_860044d19001level3_row27\" class=\"row_heading level3 row27\" >9</th>\n",
       "                        <td id=\"T_d8e78c48_038a_11ea_91d0_860044d19001row27_col0\" class=\"data row27 col0\" >10.83</td>\n",
       "                        <td id=\"T_d8e78c48_038a_11ea_91d0_860044d19001row27_col1\" class=\"data row27 col1\" >3.95</td>\n",
       "            </tr>\n",
       "            <tr>\n",
       "                                <th id=\"T_d8e78c48_038a_11ea_91d0_860044d19001level1_row28\" class=\"row_heading level1 row28\" rowspan=4>rosenbrock</th>\n",
       "                        <th id=\"T_d8e78c48_038a_11ea_91d0_860044d19001level2_row28\" class=\"row_heading level2 row28\" rowspan=4>1.0</th>\n",
       "                        <th id=\"T_d8e78c48_038a_11ea_91d0_860044d19001level3_row28\" class=\"row_heading level3 row28\" >1</th>\n",
       "                        <td id=\"T_d8e78c48_038a_11ea_91d0_860044d19001row28_col0\" class=\"data row28 col0\" >31.13</td>\n",
       "                        <td id=\"T_d8e78c48_038a_11ea_91d0_860044d19001row28_col1\" class=\"data row28 col1\" >3.71</td>\n",
       "            </tr>\n",
       "            <tr>\n",
       "                                                <th id=\"T_d8e78c48_038a_11ea_91d0_860044d19001level3_row29\" class=\"row_heading level3 row29\" >3</th>\n",
       "                        <td id=\"T_d8e78c48_038a_11ea_91d0_860044d19001row29_col0\" class=\"data row29 col0\" >27.49</td>\n",
       "                        <td id=\"T_d8e78c48_038a_11ea_91d0_860044d19001row29_col1\" class=\"data row29 col1\" >3.76</td>\n",
       "            </tr>\n",
       "            <tr>\n",
       "                                                <th id=\"T_d8e78c48_038a_11ea_91d0_860044d19001level3_row30\" class=\"row_heading level3 row30\" >7</th>\n",
       "                        <td id=\"T_d8e78c48_038a_11ea_91d0_860044d19001row30_col0\" class=\"data row30 col0\" >27.38</td>\n",
       "                        <td id=\"T_d8e78c48_038a_11ea_91d0_860044d19001row30_col1\" class=\"data row30 col1\" >3.17</td>\n",
       "            </tr>\n",
       "            <tr>\n",
       "                                                <th id=\"T_d8e78c48_038a_11ea_91d0_860044d19001level3_row31\" class=\"row_heading level3 row31\" >9</th>\n",
       "                        <td id=\"T_d8e78c48_038a_11ea_91d0_860044d19001row31_col0\" class=\"data row31 col0\" >28.65</td>\n",
       "                        <td id=\"T_d8e78c48_038a_11ea_91d0_860044d19001row31_col1\" class=\"data row31 col1\" >3.94</td>\n",
       "            </tr>\n",
       "            <tr>\n",
       "                                <th id=\"T_d8e78c48_038a_11ea_91d0_860044d19001level1_row32\" class=\"row_heading level1 row32\" rowspan=4>sphere</th>\n",
       "                        <th id=\"T_d8e78c48_038a_11ea_91d0_860044d19001level2_row32\" class=\"row_heading level2 row32\" rowspan=4>1.0</th>\n",
       "                        <th id=\"T_d8e78c48_038a_11ea_91d0_860044d19001level3_row32\" class=\"row_heading level3 row32\" >1</th>\n",
       "                        <td id=\"T_d8e78c48_038a_11ea_91d0_860044d19001row32_col0\" class=\"data row32 col0\" >0.03</td>\n",
       "                        <td id=\"T_d8e78c48_038a_11ea_91d0_860044d19001row32_col1\" class=\"data row32 col1\" >0.00</td>\n",
       "            </tr>\n",
       "            <tr>\n",
       "                                                <th id=\"T_d8e78c48_038a_11ea_91d0_860044d19001level3_row33\" class=\"row_heading level3 row33\" >3</th>\n",
       "                        <td id=\"T_d8e78c48_038a_11ea_91d0_860044d19001row33_col0\" class=\"data row33 col0\" >0.03</td>\n",
       "                        <td id=\"T_d8e78c48_038a_11ea_91d0_860044d19001row33_col1\" class=\"data row33 col1\" >0.00</td>\n",
       "            </tr>\n",
       "            <tr>\n",
       "                                                <th id=\"T_d8e78c48_038a_11ea_91d0_860044d19001level3_row34\" class=\"row_heading level3 row34\" >7</th>\n",
       "                        <td id=\"T_d8e78c48_038a_11ea_91d0_860044d19001row34_col0\" class=\"data row34 col0\" >0.03</td>\n",
       "                        <td id=\"T_d8e78c48_038a_11ea_91d0_860044d19001row34_col1\" class=\"data row34 col1\" >0.00</td>\n",
       "            </tr>\n",
       "            <tr>\n",
       "                                                <th id=\"T_d8e78c48_038a_11ea_91d0_860044d19001level3_row35\" class=\"row_heading level3 row35\" >9</th>\n",
       "                        <td id=\"T_d8e78c48_038a_11ea_91d0_860044d19001row35_col0\" class=\"data row35 col0\" >0.03</td>\n",
       "                        <td id=\"T_d8e78c48_038a_11ea_91d0_860044d19001row35_col1\" class=\"data row35 col1\" >0.00</td>\n",
       "            </tr>\n",
       "            <tr>\n",
       "                        <th id=\"T_d8e78c48_038a_11ea_91d0_860044d19001level0_row36\" class=\"row_heading level0 row36\" rowspan=12>exp4</th>\n",
       "                        <th id=\"T_d8e78c48_038a_11ea_91d0_860044d19001level1_row36\" class=\"row_heading level1 row36\" rowspan=4>rastrigin</th>\n",
       "                        <th id=\"T_d8e78c48_038a_11ea_91d0_860044d19001level2_row36\" class=\"row_heading level2 row36\" rowspan=4>1.0</th>\n",
       "                        <th id=\"T_d8e78c48_038a_11ea_91d0_860044d19001level3_row36\" class=\"row_heading level3 row36\" >1</th>\n",
       "                        <td id=\"T_d8e78c48_038a_11ea_91d0_860044d19001row36_col0\" class=\"data row36 col0\" >67.24</td>\n",
       "                        <td id=\"T_d8e78c48_038a_11ea_91d0_860044d19001row36_col1\" class=\"data row36 col1\" >6.01</td>\n",
       "            </tr>\n",
       "            <tr>\n",
       "                                                <th id=\"T_d8e78c48_038a_11ea_91d0_860044d19001level3_row37\" class=\"row_heading level3 row37\" >3</th>\n",
       "                        <td id=\"T_d8e78c48_038a_11ea_91d0_860044d19001row37_col0\" class=\"data row37 col0\" >57.41</td>\n",
       "                        <td id=\"T_d8e78c48_038a_11ea_91d0_860044d19001row37_col1\" class=\"data row37 col1\" >4.11</td>\n",
       "            </tr>\n",
       "            <tr>\n",
       "                                                <th id=\"T_d8e78c48_038a_11ea_91d0_860044d19001level3_row38\" class=\"row_heading level3 row38\" >7</th>\n",
       "                        <td id=\"T_d8e78c48_038a_11ea_91d0_860044d19001row38_col0\" class=\"data row38 col0\" >49.56</td>\n",
       "                        <td id=\"T_d8e78c48_038a_11ea_91d0_860044d19001row38_col1\" class=\"data row38 col1\" >4.39</td>\n",
       "            </tr>\n",
       "            <tr>\n",
       "                                                <th id=\"T_d8e78c48_038a_11ea_91d0_860044d19001level3_row39\" class=\"row_heading level3 row39\" >9</th>\n",
       "                        <td id=\"T_d8e78c48_038a_11ea_91d0_860044d19001row39_col0\" class=\"data row39 col0\" >55.76</td>\n",
       "                        <td id=\"T_d8e78c48_038a_11ea_91d0_860044d19001row39_col1\" class=\"data row39 col1\" >3.36</td>\n",
       "            </tr>\n",
       "            <tr>\n",
       "                                <th id=\"T_d8e78c48_038a_11ea_91d0_860044d19001level1_row40\" class=\"row_heading level1 row40\" rowspan=4>rosenbrock</th>\n",
       "                        <th id=\"T_d8e78c48_038a_11ea_91d0_860044d19001level2_row40\" class=\"row_heading level2 row40\" rowspan=4>1.0</th>\n",
       "                        <th id=\"T_d8e78c48_038a_11ea_91d0_860044d19001level3_row40\" class=\"row_heading level3 row40\" >1</th>\n",
       "                        <td id=\"T_d8e78c48_038a_11ea_91d0_860044d19001row40_col0\" class=\"data row40 col0\" >10,512,178.33</td>\n",
       "                        <td id=\"T_d8e78c48_038a_11ea_91d0_860044d19001row40_col1\" class=\"data row40 col1\" >1,958,494.51</td>\n",
       "            </tr>\n",
       "            <tr>\n",
       "                                                <th id=\"T_d8e78c48_038a_11ea_91d0_860044d19001level3_row41\" class=\"row_heading level3 row41\" >3</th>\n",
       "                        <td id=\"T_d8e78c48_038a_11ea_91d0_860044d19001row41_col0\" class=\"data row41 col0\" >9,565,761.67</td>\n",
       "                        <td id=\"T_d8e78c48_038a_11ea_91d0_860044d19001row41_col1\" class=\"data row41 col1\" >1,317,632.63</td>\n",
       "            </tr>\n",
       "            <tr>\n",
       "                                                <th id=\"T_d8e78c48_038a_11ea_91d0_860044d19001level3_row42\" class=\"row_heading level3 row42\" >7</th>\n",
       "                        <td id=\"T_d8e78c48_038a_11ea_91d0_860044d19001row42_col0\" class=\"data row42 col0\" >9,477,861.93</td>\n",
       "                        <td id=\"T_d8e78c48_038a_11ea_91d0_860044d19001row42_col1\" class=\"data row42 col1\" >1,236,476.45</td>\n",
       "            </tr>\n",
       "            <tr>\n",
       "                                                <th id=\"T_d8e78c48_038a_11ea_91d0_860044d19001level3_row43\" class=\"row_heading level3 row43\" >9</th>\n",
       "                        <td id=\"T_d8e78c48_038a_11ea_91d0_860044d19001row43_col0\" class=\"data row43 col0\" >8,286,022.09</td>\n",
       "                        <td id=\"T_d8e78c48_038a_11ea_91d0_860044d19001row43_col1\" class=\"data row43 col1\" >1,256,638.43</td>\n",
       "            </tr>\n",
       "            <tr>\n",
       "                                <th id=\"T_d8e78c48_038a_11ea_91d0_860044d19001level1_row44\" class=\"row_heading level1 row44\" rowspan=4>sphere</th>\n",
       "                        <th id=\"T_d8e78c48_038a_11ea_91d0_860044d19001level2_row44\" class=\"row_heading level2 row44\" rowspan=4>1.0</th>\n",
       "                        <th id=\"T_d8e78c48_038a_11ea_91d0_860044d19001level3_row44\" class=\"row_heading level3 row44\" >1</th>\n",
       "                        <td id=\"T_d8e78c48_038a_11ea_91d0_860044d19001row44_col0\" class=\"data row44 col0\" >40.87</td>\n",
       "                        <td id=\"T_d8e78c48_038a_11ea_91d0_860044d19001row44_col1\" class=\"data row44 col1\" >3.18</td>\n",
       "            </tr>\n",
       "            <tr>\n",
       "                                                <th id=\"T_d8e78c48_038a_11ea_91d0_860044d19001level3_row45\" class=\"row_heading level3 row45\" >3</th>\n",
       "                        <td id=\"T_d8e78c48_038a_11ea_91d0_860044d19001row45_col0\" class=\"data row45 col0\" >39.22</td>\n",
       "                        <td id=\"T_d8e78c48_038a_11ea_91d0_860044d19001row45_col1\" class=\"data row45 col1\" >2.38</td>\n",
       "            </tr>\n",
       "            <tr>\n",
       "                                                <th id=\"T_d8e78c48_038a_11ea_91d0_860044d19001level3_row46\" class=\"row_heading level3 row46\" >7</th>\n",
       "                        <td id=\"T_d8e78c48_038a_11ea_91d0_860044d19001row46_col0\" class=\"data row46 col0\" >37.95</td>\n",
       "                        <td id=\"T_d8e78c48_038a_11ea_91d0_860044d19001row46_col1\" class=\"data row46 col1\" >2.81</td>\n",
       "            </tr>\n",
       "            <tr>\n",
       "                                                <th id=\"T_d8e78c48_038a_11ea_91d0_860044d19001level3_row47\" class=\"row_heading level3 row47\" >9</th>\n",
       "                        <td id=\"T_d8e78c48_038a_11ea_91d0_860044d19001row47_col0\" class=\"data row47 col0\" >37.59</td>\n",
       "                        <td id=\"T_d8e78c48_038a_11ea_91d0_860044d19001row47_col1\" class=\"data row47 col1\" >2.85</td>\n",
       "            </tr>\n",
       "    </tbody></table>"
      ],
      "text/plain": [
       "<pandas.io.formats.style.Styler at 0x12bd12198>"
      ]
     },
     "execution_count": 157,
     "metadata": {},
     "output_type": "execute_result"
    }
   ],
   "source": [
    "m = measure_name[index_measure]\n",
    "\n",
    "files = list(f for f in path.glob(f'exp*/*/freq{freq}nn_w5nn_p*nn_s3nn_tw5nn_bs4nn_epoch3/*{m}.csv') if 'NNnorm_Worst' in f.name) #path.glob(f'exp*/*/freq1*nn_s*nn_tw*bs*/*{m}.csv')\n",
    "files=[o for o in files if 'nn_p5' not in o.parent.name]\n",
    "#print(files)\n",
    "df = pd.DataFrame([read_csv(f) for f in files])\n",
    "# data = pd.pivot_table(df, index=['experiment','function'], columns='method', values=m) #,'freq' later for adding frequency experiment\n",
    "data = pd.pivot_table(df, index=['experiment','function','freq', 'nn_p' ],columns='method' ) #,'freq' later for adding frequency experiment, ,values=m 'ns','tw', 'bs','epochs'\n",
    "data.style.format(\"{:,.2f}\")"
   ]
  },
  {
   "cell_type": "code",
   "execution_count": 145,
   "metadata": {
    "hidden": true
   },
   "outputs": [],
   "source": [
    "import altair as alt\n",
    "alt.renderers.enable('notebook')\n",
    "# DataFrame we use for plots\n",
    "\n",
    "d = data.reset_index()\n",
    "d.columns = ['experiment', 'function', 'freq', 'nn_p', 'NNnorm', 'NNnorm_std']\n",
    "d.head(2)\n",
    "d1 = d.melt(['experiment','function','freq','nn_p'], value_vars=['NNnorm'],\n",
    "            var_name='method', value_name='mof')\n",
    "d2 = d.melt(['experiment','function','freq', 'nn_p'], value_vars=['NNnorm_std'],\n",
    "            var_name='method', value_name='mof_std')\n",
    "d2.method = d2.method.str.replace('_std', '')\n",
    "d = d1.merge(d2)\n",
    "d['function'] = d['function'].str.title()\n",
    "#d.head()"
   ]
  },
  {
   "cell_type": "markdown",
   "metadata": {},
   "source": [
    "# Plot functions"
   ]
  },
  {
   "cell_type": "code",
   "execution_count": 6,
   "metadata": {
    "code_folding": [
     0
    ]
   },
   "outputs": [],
   "source": [
    "def plot_experiment(exp, d):\n",
    "    test = d.query(f\"experiment=={exp!r}\").copy()  # & freq==1\"\n",
    "    mins = test.groupby('function')['mof'].min()\n",
    "    test['mof_norm'] = test['mof']\n",
    "    for k,v in mins.iteritems():\n",
    "        test.loc[test.function==k,'mof_norm'] = test.loc[test.function==k,'mof']/v\n",
    "    #test.head()\n",
    "\n",
    "    base = alt.Chart(test)\n",
    "    chart1 = base.mark_bar().encode(\n",
    "        alt.X('function', title='', sort='descending'),\n",
    "        alt.Y('mean(mof_norm)',  title=f'{exp} (mof_norm)'),\n",
    "        alt.Color('nn_p'),\n",
    "#         alt.Tooltip(['mof_norm','mof','freq','function']),\n",
    "    ).properties(\n",
    "        #title=exp,\n",
    "        width=300\n",
    "    )\n",
    "    return chart1"
   ]
  },
  {
   "cell_type": "code",
   "execution_count": 12,
   "metadata": {
    "code_folding": []
   },
   "outputs": [],
   "source": [
    "def plot2_experiment(exp, d):\n",
    "    test = d.query(f\"experiment=={exp!r}\").copy()  # & freq==1\"\n",
    "    mins = test.groupby('function')['mof'].min()\n",
    "    test['mof_norm'] = test['mof']\n",
    "    for k,v in mins.iteritems():\n",
    "        test.loc[test.function==k,'mof_norm'] = test.loc[test.function==k,'mof']/v\n",
    "    #test.head()\n",
    "    base = alt.Chart(test)\n",
    "    chart1 = base.mark_bar().encode(\n",
    "        alt.X('nn_p', title='', axis=None),\n",
    "        alt.Y('mean(mof_norm)',  title=f'{exp} (MOF_norm)'),\n",
    "        alt.Color('nn_p',  legend=alt.Legend(title='n_p')),\n",
    "        alt.Column('function', title='', sort='descending'),\n",
    "        alt.Tooltip(['mof_norm:Q','mof:Q','freq:Q','function:N']),\n",
    "    ).properties(\n",
    "       # title=exp,\n",
    "        width=50, height=150\n",
    "    )\n",
    "    return chart1"
   ]
  },
  {
   "cell_type": "code",
   "execution_count": 16,
   "metadata": {
    "code_folding": [
     0
    ]
   },
   "outputs": [],
   "source": [
    "def plot3_experiment(exp, d):\n",
    "    test = d.query(f\"experiment=={exp!r}\").copy()  # & freq==1\"\n",
    "    mins = test.groupby('function')['mof'].min()\n",
    "    test['mof_norm'] = test['mof']\n",
    "    for k,v in mins.iteritems():\n",
    "        test.loc[test.function==k,'mof_norm'] = test.loc[test.function==k,'mof']/v\n",
    "    #test.head()\n",
    "    base = alt.Chart(test)\n",
    "    chart1 = base.mark_bar().encode(\n",
    "        alt.X('nn_p', title='', axis=None),\n",
    "        alt.Y('mean(mof_norm)',  title=f'{exp} (MOF_norm)'),\n",
    "        alt.Color('nn_p',  legend=alt.Legend(title='n_p')),\n",
    "        alt.Tooltip(['mean(mof_norm):Q','freq:Q']),\n",
    "    ).properties(\n",
    "        #title=exp,\n",
    "        width=70, height=100\n",
    "    )\n",
    "    return chart1"
   ]
  },
  {
   "cell_type": "markdown",
   "metadata": {},
   "source": [
    "# show plots"
   ]
  },
  {
   "cell_type": "code",
   "execution_count": 9,
   "metadata": {
    "collapsed": true
   },
   "outputs": [
    {
     "data": {
      "application/javascript": [
       "var spec = {\"config\": {\"view\": {\"width\": 400, \"height\": 300}, \"mark\": {\"tooltip\": null}}, \"vconcat\": [{\"hconcat\": [{\"data\": {\"name\": \"data-25d6b3ecf1e55ac7c5f66f9fec336051\"}, \"mark\": \"bar\", \"encoding\": {\"color\": {\"type\": \"nominal\", \"field\": \"nn_p\"}, \"x\": {\"type\": \"nominal\", \"field\": \"function\", \"sort\": \"descending\", \"title\": \"\"}, \"y\": {\"type\": \"quantitative\", \"aggregate\": \"mean\", \"field\": \"mof_norm\", \"title\": \"exp1 (mof_norm)\"}}, \"width\": 300}, {\"data\": {\"name\": \"data-8939745b9f19853e5829b3f91900b00c\"}, \"mark\": \"bar\", \"encoding\": {\"color\": {\"type\": \"nominal\", \"field\": \"nn_p\"}, \"x\": {\"type\": \"nominal\", \"field\": \"function\", \"sort\": \"descending\", \"title\": \"\"}, \"y\": {\"type\": \"quantitative\", \"aggregate\": \"mean\", \"field\": \"mof_norm\", \"title\": \"exp2 (mof_norm)\"}}, \"width\": 300}]}, {\"hconcat\": [{\"data\": {\"name\": \"data-3a7ff4ed42cca0b0db5ba5c99f05f408\"}, \"mark\": \"bar\", \"encoding\": {\"color\": {\"type\": \"nominal\", \"field\": \"nn_p\"}, \"x\": {\"type\": \"nominal\", \"field\": \"function\", \"sort\": \"descending\", \"title\": \"\"}, \"y\": {\"type\": \"quantitative\", \"aggregate\": \"mean\", \"field\": \"mof_norm\", \"title\": \"exp3 (mof_norm)\"}}, \"width\": 300}, {\"data\": {\"name\": \"data-60fe43c89c7b86a35aa7a8c7b25f256a\"}, \"mark\": \"bar\", \"encoding\": {\"color\": {\"type\": \"nominal\", \"field\": \"nn_p\"}, \"x\": {\"type\": \"nominal\", \"field\": \"function\", \"sort\": \"descending\", \"title\": \"\"}, \"y\": {\"type\": \"quantitative\", \"aggregate\": \"mean\", \"field\": \"mof_norm\", \"title\": \"exp4 (mof_norm)\"}}, \"width\": 300}]}], \"$schema\": \"https://vega.github.io/schema/vega-lite/v3.3.0.json\", \"datasets\": {\"data-25d6b3ecf1e55ac7c5f66f9fec336051\": [{\"experiment\": \"exp1\", \"function\": \"Rastrigin\", \"freq\": 1.0, \"nn_p\": \"1\", \"method\": \"NNnorm\", \"mof\": 16.799697113308735, \"mof_std\": 0.36133141340829106, \"mof_norm\": 1.116252820202656}, {\"experiment\": \"exp1\", \"function\": \"Rastrigin\", \"freq\": 1.0, \"nn_p\": \"3\", \"method\": \"NNnorm\", \"mof\": 16.486775400457727, \"mof_std\": 0.1523918910893313, \"mof_norm\": 1.0954607938871417}, {\"experiment\": \"exp1\", \"function\": \"Rastrigin\", \"freq\": 1.0, \"nn_p\": \"7\", \"method\": \"NNnorm\", \"mof\": 16.282586177216732, \"mof_std\": 0.3039756956526317, \"mof_norm\": 1.0818934780742164}, {\"experiment\": \"exp1\", \"function\": \"Rastrigin\", \"freq\": 1.0, \"nn_p\": \"9\", \"method\": \"NNnorm\", \"mof\": 15.050082570235967, \"mof_std\": 3.053362388498945, \"mof_norm\": 1.0}, {\"experiment\": \"exp1\", \"function\": \"Rosenbrock\", \"freq\": 1.0, \"nn_p\": \"1\", \"method\": \"NNnorm\", \"mof\": 5334.10982360564, \"mof_std\": 290.5943044924302, \"mof_norm\": 1.1978228292385087}, {\"experiment\": \"exp1\", \"function\": \"Rosenbrock\", \"freq\": 1.0, \"nn_p\": \"3\", \"method\": \"NNnorm\", \"mof\": 4660.407119890733, \"mof_std\": 139.90449113080842, \"mof_norm\": 1.0465367655248936}, {\"experiment\": \"exp1\", \"function\": \"Rosenbrock\", \"freq\": 1.0, \"nn_p\": \"7\", \"method\": \"NNnorm\", \"mof\": 4453.170947657335, \"mof_std\": 227.067120794847, \"mof_norm\": 1.0}, {\"experiment\": \"exp1\", \"function\": \"Rosenbrock\", \"freq\": 1.0, \"nn_p\": \"9\", \"method\": \"NNnorm\", \"mof\": 4486.2461658484035, \"mof_std\": 246.14293304397964, \"mof_norm\": 1.00742734078252}, {\"experiment\": \"exp1\", \"function\": \"Sphere\", \"freq\": 1.0, \"nn_p\": \"1\", \"method\": \"NNnorm\", \"mof\": 1.767623767985903, \"mof_std\": 0.08625483502372583, \"mof_norm\": 1.2663097525507907}, {\"experiment\": \"exp1\", \"function\": \"Sphere\", \"freq\": 1.0, \"nn_p\": \"3\", \"method\": \"NNnorm\", \"mof\": 1.4570378284915166, \"mof_std\": 0.04640611761850371, \"mof_norm\": 1.0438087818634425}, {\"experiment\": \"exp1\", \"function\": \"Sphere\", \"freq\": 1.0, \"nn_p\": \"7\", \"method\": \"NNnorm\", \"mof\": 1.4074009152679505, \"mof_std\": 0.0526211170108347, \"mof_norm\": 1.0082493441369746}, {\"experiment\": \"exp1\", \"function\": \"Sphere\", \"freq\": 1.0, \"nn_p\": \"9\", \"method\": \"NNnorm\", \"mof\": 1.3958857731493346, \"mof_std\": 0.07417540234867305, \"mof_norm\": 1.0}], \"data-8939745b9f19853e5829b3f91900b00c\": [{\"experiment\": \"exp2\", \"function\": \"Rastrigin\", \"freq\": 1.0, \"nn_p\": \"1\", \"method\": \"NNnorm\", \"mof\": 1.9216905868833942, \"mof_std\": 0.23622632468784652, \"mof_norm\": 1.0}, {\"experiment\": \"exp2\", \"function\": \"Rastrigin\", \"freq\": 1.0, \"nn_p\": \"3\", \"method\": \"NNnorm\", \"mof\": 1.953058838174042, \"mof_std\": 0.13356754728084141, \"mof_norm\": 1.0163232580233017}, {\"experiment\": \"exp2\", \"function\": \"Rastrigin\", \"freq\": 1.0, \"nn_p\": \"7\", \"method\": \"NNnorm\", \"mof\": 1.9808024411899927, \"mof_std\": 0.17716216035212753, \"mof_norm\": 1.0307603392086477}, {\"experiment\": \"exp2\", \"function\": \"Rastrigin\", \"freq\": 1.0, \"nn_p\": \"9\", \"method\": \"NNnorm\", \"mof\": 2.0992245656812973, \"mof_std\": 0.2026854502176373, \"mof_norm\": 1.0923842683154463}, {\"experiment\": \"exp2\", \"function\": \"Rosenbrock\", \"freq\": 1.0, \"nn_p\": \"1\", \"method\": \"NNnorm\", \"mof\": 72.92704098718335, \"mof_std\": 9.864983419113235, \"mof_norm\": 1.2594653555326774}, {\"experiment\": \"exp2\", \"function\": \"Rosenbrock\", \"freq\": 1.0, \"nn_p\": \"3\", \"method\": \"NNnorm\", \"mof\": 59.897931615306085, \"mof_std\": 6.687749303596175, \"mof_norm\": 1.0344498928840629}, {\"experiment\": \"exp2\", \"function\": \"Rosenbrock\", \"freq\": 1.0, \"nn_p\": \"7\", \"method\": \"NNnorm\", \"mof\": 57.903173490897366, \"mof_std\": 5.964877533826209, \"mof_norm\": 1.0}, {\"experiment\": \"exp2\", \"function\": \"Rosenbrock\", \"freq\": 1.0, \"nn_p\": \"9\", \"method\": \"NNnorm\", \"mof\": 62.368438815853075, \"mof_std\": 6.879034340844079, \"mof_norm\": 1.077116072500891}, {\"experiment\": \"exp2\", \"function\": \"Sphere\", \"freq\": 1.0, \"nn_p\": \"1\", \"method\": \"NNnorm\", \"mof\": 0.12039591225172916, \"mof_std\": 0.016264291940511762, \"mof_norm\": 1.446734563333034}, {\"experiment\": \"exp2\", \"function\": \"Sphere\", \"freq\": 1.0, \"nn_p\": \"3\", \"method\": \"NNnorm\", \"mof\": 0.0858847866101598, \"mof_std\": 0.005743157885260784, \"mof_norm\": 1.0320324579924913}, {\"experiment\": \"exp2\", \"function\": \"Sphere\", \"freq\": 1.0, \"nn_p\": \"7\", \"method\": \"NNnorm\", \"mof\": 0.08321907508337753, \"mof_std\": 0.0055370185799050444, \"mof_norm\": 1.0}, {\"experiment\": \"exp2\", \"function\": \"Sphere\", \"freq\": 1.0, \"nn_p\": \"9\", \"method\": \"NNnorm\", \"mof\": 0.08464170522068674, \"mof_std\": 0.0036693283804815863, \"mof_norm\": 1.0170950005859098}], \"data-3a7ff4ed42cca0b0db5ba5c99f05f408\": [{\"experiment\": \"exp3\", \"function\": \"Rastrigin\", \"freq\": 1.0, \"nn_p\": \"1\", \"method\": \"NNnorm\", \"mof\": 15.767025628532057, \"mof_std\": 3.2360539373420885, \"mof_norm\": 1.2437514178345994}, {\"experiment\": \"exp3\", \"function\": \"Rastrigin\", \"freq\": 1.0, \"nn_p\": \"3\", \"method\": \"NNnorm\", \"mof\": 13.59360234825909, \"mof_std\": 3.4025949752104365, \"mof_norm\": 1.0723051127367937}, {\"experiment\": \"exp3\", \"function\": \"Rastrigin\", \"freq\": 1.0, \"nn_p\": \"7\", \"method\": \"NNnorm\", \"mof\": 13.058718740974633, \"mof_std\": 3.461211968297428, \"mof_norm\": 1.03011185063334}, {\"experiment\": \"exp3\", \"function\": \"Rastrigin\", \"freq\": 1.0, \"nn_p\": \"9\", \"method\": \"NNnorm\", \"mof\": 12.67699107911999, \"mof_std\": 3.6049148809253984, \"mof_norm\": 1.0}, {\"experiment\": \"exp3\", \"function\": \"Rosenbrock\", \"freq\": 1.0, \"nn_p\": \"1\", \"method\": \"NNnorm\", \"mof\": 27.730200516689504, \"mof_std\": 3.5879460785529584, \"mof_norm\": 1.1256905601589065}, {\"experiment\": \"exp3\", \"function\": \"Rosenbrock\", \"freq\": 1.0, \"nn_p\": \"3\", \"method\": \"NNnorm\", \"mof\": 25.805041959509488, \"mof_std\": 4.077561666228237, \"mof_norm\": 1.0475399238761869}, {\"experiment\": \"exp3\", \"function\": \"Rosenbrock\", \"freq\": 1.0, \"nn_p\": \"7\", \"method\": \"NNnorm\", \"mof\": 27.65557394579398, \"mof_std\": 3.615493204625667, \"mof_norm\": 1.122661140074347}, {\"experiment\": \"exp3\", \"function\": \"Rosenbrock\", \"freq\": 1.0, \"nn_p\": \"9\", \"method\": \"NNnorm\", \"mof\": 24.63394603999789, \"mof_std\": 4.003714921954792, \"mof_norm\": 1.0}, {\"experiment\": \"exp3\", \"function\": \"Sphere\", \"freq\": 1.0, \"nn_p\": \"1\", \"method\": \"NNnorm\", \"mof\": 0.02654286217884004, \"mof_std\": 0.0022918624263091854, \"mof_norm\": 1.1101673388686557}, {\"experiment\": \"exp3\", \"function\": \"Sphere\", \"freq\": 1.0, \"nn_p\": \"3\", \"method\": \"NNnorm\", \"mof\": 0.02801221647400084, \"mof_std\": 0.002515754645097806, \"mof_norm\": 1.1716237536562935}, {\"experiment\": \"exp3\", \"function\": \"Sphere\", \"freq\": 1.0, \"nn_p\": \"7\", \"method\": \"NNnorm\", \"mof\": 0.027095736118923186, \"mof_std\": 0.002101413226762851, \"mof_norm\": 1.133291544037503}, {\"experiment\": \"exp3\", \"function\": \"Sphere\", \"freq\": 1.0, \"nn_p\": \"9\", \"method\": \"NNnorm\", \"mof\": 0.023908884047957327, \"mof_std\": 0.00222711892026228, \"mof_norm\": 1.0}], \"data-60fe43c89c7b86a35aa7a8c7b25f256a\": [{\"experiment\": \"exp4\", \"function\": \"Rastrigin\", \"freq\": 1.0, \"nn_p\": \"1\", \"method\": \"NNnorm\", \"mof\": 60.23519002317648, \"mof_std\": 7.556018548495631, \"mof_norm\": 1.1781418057231514}, {\"experiment\": \"exp4\", \"function\": \"Rastrigin\", \"freq\": 1.0, \"nn_p\": \"3\", \"method\": \"NNnorm\", \"mof\": 54.48032569212979, \"mof_std\": 4.832267797502134, \"mof_norm\": 1.0655822495556957}, {\"experiment\": \"exp4\", \"function\": \"Rastrigin\", \"freq\": 1.0, \"nn_p\": \"7\", \"method\": \"NNnorm\", \"mof\": 53.58323555730281, \"mof_std\": 4.994891244230721, \"mof_norm\": 1.0480360379319782}, {\"experiment\": \"exp4\", \"function\": \"Rastrigin\", \"freq\": 1.0, \"nn_p\": \"9\", \"method\": \"NNnorm\", \"mof\": 51.12728343104989, \"mof_std\": 4.4862582592801274, \"mof_norm\": 1.0}, {\"experiment\": \"exp4\", \"function\": \"Rosenbrock\", \"freq\": 1.0, \"nn_p\": \"1\", \"method\": \"NNnorm\", \"mof\": 8347487.024181661, \"mof_std\": 1238625.5593925675, \"mof_norm\": 1.2522362831448093}, {\"experiment\": \"exp4\", \"function\": \"Rosenbrock\", \"freq\": 1.0, \"nn_p\": \"3\", \"method\": \"NNnorm\", \"mof\": 8278693.002325241, \"mof_std\": 1108447.765417076, \"mof_norm\": 1.241916246709591}, {\"experiment\": \"exp4\", \"function\": \"Rosenbrock\", \"freq\": 1.0, \"nn_p\": \"7\", \"method\": \"NNnorm\", \"mof\": 7268829.892454596, \"mof_std\": 1214954.5444317097, \"mof_norm\": 1.090423081937233}, {\"experiment\": \"exp4\", \"function\": \"Rosenbrock\", \"freq\": 1.0, \"nn_p\": \"9\", \"method\": \"NNnorm\", \"mof\": 6666063.854353558, \"mof_std\": 1207167.8983019118, \"mof_norm\": 1.0}, {\"experiment\": \"exp4\", \"function\": \"Sphere\", \"freq\": 1.0, \"nn_p\": \"1\", \"method\": \"NNnorm\", \"mof\": 35.866499811441074, \"mof_std\": 2.668591022087754, \"mof_norm\": 1.1767552018722955}, {\"experiment\": \"exp4\", \"function\": \"Sphere\", \"freq\": 1.0, \"nn_p\": \"3\", \"method\": \"NNnorm\", \"mof\": 35.75765439544711, \"mof_std\": 3.210119552390131, \"mof_norm\": 1.1731840586008802}, {\"experiment\": \"exp4\", \"function\": \"Sphere\", \"freq\": 1.0, \"nn_p\": \"7\", \"method\": \"NNnorm\", \"mof\": 34.34280210857617, \"mof_std\": 2.437141438648516, \"mof_norm\": 1.126763727729196}, {\"experiment\": \"exp4\", \"function\": \"Sphere\", \"freq\": 1.0, \"nn_p\": \"9\", \"method\": \"NNnorm\", \"mof\": 30.479151274942396, \"mof_std\": 2.6099140093716398, \"mof_norm\": 1.0}]}};\n",
       "var opt = {};\n",
       "var type = \"vega-lite\";\n",
       "var id = \"b02b5cf6-c142-4c1f-8dc6-737c6e9481f8\";\n",
       "\n",
       "var output_area = this;\n",
       "\n",
       "require([\"nbextensions/jupyter-vega/index\"], function(vega) {\n",
       "  var target = document.createElement(\"div\");\n",
       "  target.id = id;\n",
       "  target.className = \"vega-embed\";\n",
       "\n",
       "  var style = document.createElement(\"style\");\n",
       "  style.textContent = [\n",
       "    \".vega-embed .error p {\",\n",
       "    \"  color: firebrick;\",\n",
       "    \"  font-size: 14px;\",\n",
       "    \"}\",\n",
       "  ].join(\"\\\\n\");\n",
       "\n",
       "  // element is a jQuery wrapped DOM element inside the output area\n",
       "  // see http://ipython.readthedocs.io/en/stable/api/generated/\\\n",
       "  // IPython.display.html#IPython.display.Javascript.__init__\n",
       "  element[0].appendChild(target);\n",
       "  element[0].appendChild(style);\n",
       "\n",
       "  vega.render(\"#\" + id, spec, type, opt, output_area);\n",
       "}, function (err) {\n",
       "  if (err.requireType !== \"scripterror\") {\n",
       "    throw(err);\n",
       "  }\n",
       "});\n"
      ],
      "text/plain": [
       "<vega.vegalite.VegaLite at 0x7f476c24aa20>"
      ]
     },
     "metadata": {
      "jupyter-vega": "#b02b5cf6-c142-4c1f-8dc6-737c6e9481f8"
     },
     "output_type": "display_data"
    },
    {
     "data": {
      "image/png": "[encoded data removed]"
     },
     "metadata": {
      "jupyter-vega": "#b02b5cf6-c142-4c1f-8dc6-737c6e9481f8"
     },
     "output_type": "display_data"
    },
    {
     "data": {
      "text/plain": []
     },
     "execution_count": 9,
     "metadata": {},
     "output_type": "execute_result"
    }
   ],
   "source": [
    "(plot_experiment('exp1',d)|plot_experiment('exp2',d))&(plot_experiment('exp3',d)|plot_experiment('exp4',d))"
   ]
  },
  {
   "cell_type": "code",
   "execution_count": 13,
   "metadata": {
    "code_folding": [],
    "collapsed": true
   },
   "outputs": [
    {
     "name": "stdout",
     "output_type": "stream",
     "text": [
      "Plots for Worst freq=0.5\n"
     ]
    },
    {
     "data": {
      "application/javascript": [
       "var spec = {\"config\": {\"view\": {\"width\": 400, \"height\": 300}, \"mark\": {\"tooltip\": null}, \"legend\": {\"orient\": \"bottom\"}}, \"hconcat\": [{\"data\": {\"name\": \"data-a9a3d46e343af19a31fb95e8aaac732d\"}, \"mark\": \"bar\", \"encoding\": {\"color\": {\"type\": \"nominal\", \"field\": \"nn_p\", \"legend\": {\"title\": \"n_p\"}}, \"column\": {\"type\": \"nominal\", \"field\": \"function\", \"sort\": \"descending\", \"title\": \"\"}, \"tooltip\": [{\"type\": \"quantitative\", \"field\": \"mof_norm\"}, {\"type\": \"quantitative\", \"field\": \"mof\"}, {\"type\": \"quantitative\", \"field\": \"freq\"}, {\"type\": \"nominal\", \"field\": \"function\"}], \"x\": {\"type\": \"nominal\", \"axis\": null, \"field\": \"nn_p\", \"title\": \"\"}, \"y\": {\"type\": \"quantitative\", \"aggregate\": \"mean\", \"field\": \"mof_norm\", \"title\": \"exp2 (MOF_norm)\"}}, \"height\": 150, \"width\": 50}, {\"data\": {\"name\": \"data-5246cca02d07e74b630308454cd3695a\"}, \"mark\": \"bar\", \"encoding\": {\"color\": {\"type\": \"nominal\", \"field\": \"nn_p\", \"legend\": {\"title\": \"n_p\"}}, \"column\": {\"type\": \"nominal\", \"field\": \"function\", \"sort\": \"descending\", \"title\": \"\"}, \"tooltip\": [{\"type\": \"quantitative\", \"field\": \"mof_norm\"}, {\"type\": \"quantitative\", \"field\": \"mof\"}, {\"type\": \"quantitative\", \"field\": \"freq\"}, {\"type\": \"nominal\", \"field\": \"function\"}], \"x\": {\"type\": \"nominal\", \"axis\": null, \"field\": \"nn_p\", \"title\": \"\"}, \"y\": {\"type\": \"quantitative\", \"aggregate\": \"mean\", \"field\": \"mof_norm\", \"title\": \"exp4 (MOF_norm)\"}}, \"height\": 150, \"width\": 50}], \"$schema\": \"https://vega.github.io/schema/vega-lite/v3.3.0.json\", \"datasets\": {\"data-a9a3d46e343af19a31fb95e8aaac732d\": [{\"experiment\": \"exp2\", \"function\": \"Rastrigin\", \"freq\": 0.5, \"nn_p\": \"1\", \"method\": \"NNnorm\", \"mof\": 3.7448215627982506, \"mof_std\": 0.38920581339915716, \"mof_norm\": 1.0796517104801213}, {\"experiment\": \"exp2\", \"function\": \"Rastrigin\", \"freq\": 0.5, \"nn_p\": \"3\", \"method\": \"NNnorm\", \"mof\": 3.468545945370593, \"mof_std\": 0.3377592707130339, \"mof_norm\": 1.0}, {\"experiment\": \"exp2\", \"function\": \"Rastrigin\", \"freq\": 0.5, \"nn_p\": \"7\", \"method\": \"NNnorm\", \"mof\": 3.581452624165195, \"mof_std\": 0.37705263410475437, \"mof_norm\": 1.0325515880639542}, {\"experiment\": \"exp2\", \"function\": \"Rastrigin\", \"freq\": 0.5, \"nn_p\": \"9\", \"method\": \"NNnorm\", \"mof\": 3.5514969860934165, \"mof_std\": 0.3364214423917278, \"mof_norm\": 1.023915220391858}, {\"experiment\": \"exp2\", \"function\": \"Rosenbrock\", \"freq\": 0.5, \"nn_p\": \"1\", \"method\": \"NNnorm\", \"mof\": 218.39142926960656, \"mof_std\": 36.752810025860924, \"mof_norm\": 2.000253002349956}, {\"experiment\": \"exp2\", \"function\": \"Rosenbrock\", \"freq\": 0.5, \"nn_p\": \"3\", \"method\": \"NNnorm\", \"mof\": 109.18190299578798, \"mof_std\": 12.595905804557821, \"mof_norm\": 1.0}, {\"experiment\": \"exp2\", \"function\": \"Rosenbrock\", \"freq\": 0.5, \"nn_p\": \"7\", \"method\": \"NNnorm\", \"mof\": 147.35274715835845, \"mof_std\": 14.378373444534589, \"mof_norm\": 1.3496077931893442}, {\"experiment\": \"exp2\", \"function\": \"Rosenbrock\", \"freq\": 0.5, \"nn_p\": \"9\", \"method\": \"NNnorm\", \"mof\": 130.4954719226044, \"mof_std\": 18.4099252928926, \"mof_norm\": 1.1952115537649004}, {\"experiment\": \"exp2\", \"function\": \"Sphere\", \"freq\": 0.5, \"nn_p\": \"1\", \"method\": \"NNnorm\", \"mof\": 0.25842831033973657, \"mof_std\": 0.025757815523019922, \"mof_norm\": 1.544612806473279}, {\"experiment\": \"exp2\", \"function\": \"Sphere\", \"freq\": 0.5, \"nn_p\": \"3\", \"method\": \"NNnorm\", \"mof\": 0.17153618492947517, \"mof_std\": 0.013640733444976759, \"mof_norm\": 1.0252630126603262}, {\"experiment\": \"exp2\", \"function\": \"Sphere\", \"freq\": 0.5, \"nn_p\": \"7\", \"method\": \"NNnorm\", \"mof\": 0.17407917031091452, \"mof_std\": 0.009952982539102796, \"mof_norm\": 1.0404623063510283}, {\"experiment\": \"exp2\", \"function\": \"Sphere\", \"freq\": 0.5, \"nn_p\": \"9\", \"method\": \"NNnorm\", \"mof\": 0.167309444319441, \"mof_std\": 0.00976975265511902, \"mof_norm\": 1.0}], \"data-5246cca02d07e74b630308454cd3695a\": [{\"experiment\": \"exp4\", \"function\": \"Rastrigin\", \"freq\": 0.5, \"nn_p\": \"1\", \"method\": \"NNnorm\", \"mof\": 95.39100316046635, \"mof_std\": 4.03209910611076, \"mof_norm\": 1.1971275261002599}, {\"experiment\": \"exp4\", \"function\": \"Rastrigin\", \"freq\": 0.5, \"nn_p\": \"3\", \"method\": \"NNnorm\", \"mof\": 79.68324266271806, \"mof_std\": 4.728079763210027, \"mof_norm\": 1.0}, {\"experiment\": \"exp4\", \"function\": \"Rastrigin\", \"freq\": 0.5, \"nn_p\": \"7\", \"method\": \"NNnorm\", \"mof\": 82.7921511637917, \"mof_std\": 5.708874644578365, \"mof_norm\": 1.0390158381760766}, {\"experiment\": \"exp4\", \"function\": \"Rastrigin\", \"freq\": 0.5, \"nn_p\": \"9\", \"method\": \"NNnorm\", \"mof\": 82.25968420646856, \"mof_std\": 5.588341304529632, \"mof_norm\": 1.0323335428837406}, {\"experiment\": \"exp4\", \"function\": \"Rosenbrock\", \"freq\": 0.5, \"nn_p\": \"1\", \"method\": \"NNnorm\", \"mof\": 23432207.397219136, \"mof_std\": 1867958.8173787803, \"mof_norm\": 1.583380442370761}, {\"experiment\": \"exp4\", \"function\": \"Rosenbrock\", \"freq\": 0.5, \"nn_p\": \"3\", \"method\": \"NNnorm\", \"mof\": 14798848.571183944, \"mof_std\": 1683810.2097024096, \"mof_norm\": 1.0}, {\"experiment\": \"exp4\", \"function\": \"Rosenbrock\", \"freq\": 0.5, \"nn_p\": \"7\", \"method\": \"NNnorm\", \"mof\": 18313448.349772412, \"mof_std\": 2683619.4863724527, \"mof_norm\": 1.2374914346668857}, {\"experiment\": \"exp4\", \"function\": \"Rosenbrock\", \"freq\": 0.5, \"nn_p\": \"9\", \"method\": \"NNnorm\", \"mof\": 17692089.19544909, \"mof_std\": 2170493.7927900017, \"mof_norm\": 1.1955044414670757}, {\"experiment\": \"exp4\", \"function\": \"Sphere\", \"freq\": 0.5, \"nn_p\": \"1\", \"method\": \"NNnorm\", \"mof\": 81.03457441473007, \"mof_std\": 2.8505983706867557, \"mof_norm\": 1.2043551255731628}, {\"experiment\": \"exp4\", \"function\": \"Sphere\", \"freq\": 0.5, \"nn_p\": \"3\", \"method\": \"NNnorm\", \"mof\": 67.28461787893752, \"mof_std\": 4.975913264099444, \"mof_norm\": 1.0}, {\"experiment\": \"exp4\", \"function\": \"Sphere\", \"freq\": 0.5, \"nn_p\": \"7\", \"method\": \"NNnorm\", \"mof\": 76.08002586277377, \"mof_std\": 5.750467525813496, \"mof_norm\": 1.1307194461542676}, {\"experiment\": \"exp4\", \"function\": \"Sphere\", \"freq\": 0.5, \"nn_p\": \"9\", \"method\": \"NNnorm\", \"mof\": 74.00701208181822, \"mof_std\": 4.20678966886483, \"mof_norm\": 1.0999098221078705}]}};\n",
       "var opt = {};\n",
       "var type = \"vega-lite\";\n",
       "var id = \"b2da6816-12f7-4cb3-8c68-534ac3ae9ae5\";\n",
       "\n",
       "var output_area = this;\n",
       "\n",
       "require([\"nbextensions/jupyter-vega/index\"], function(vega) {\n",
       "  var target = document.createElement(\"div\");\n",
       "  target.id = id;\n",
       "  target.className = \"vega-embed\";\n",
       "\n",
       "  var style = document.createElement(\"style\");\n",
       "  style.textContent = [\n",
       "    \".vega-embed .error p {\",\n",
       "    \"  color: firebrick;\",\n",
       "    \"  font-size: 14px;\",\n",
       "    \"}\",\n",
       "  ].join(\"\\\\n\");\n",
       "\n",
       "  // element is a jQuery wrapped DOM element inside the output area\n",
       "  // see http://ipython.readthedocs.io/en/stable/api/generated/\\\n",
       "  // IPython.display.html#IPython.display.Javascript.__init__\n",
       "  element[0].appendChild(target);\n",
       "  element[0].appendChild(style);\n",
       "\n",
       "  vega.render(\"#\" + id, spec, type, opt, output_area);\n",
       "}, function (err) {\n",
       "  if (err.requireType !== \"scripterror\") {\n",
       "    throw(err);\n",
       "  }\n",
       "});\n"
      ],
      "text/plain": [
       "<vega.vegalite.VegaLite at 0x7f476c2a0e48>"
      ]
     },
     "metadata": {
      "jupyter-vega": "#b2da6816-12f7-4cb3-8c68-534ac3ae9ae5"
     },
     "output_type": "display_data"
    },
    {
     "data": {
      "image/png": "[encoded data removed]"
     },
     "metadata": {
      "jupyter-vega": "#b2da6816-12f7-4cb3-8c68-534ac3ae9ae5"
     },
     "output_type": "display_data"
    },
    {
     "data": {
      "text/plain": []
     },
     "metadata": {},
     "output_type": "display_data"
    },
    {
     "name": "stdout",
     "output_type": "stream",
     "text": [
      "Plots for Random freq=0.5\n"
     ]
    },
    {
     "data": {
      "application/javascript": [
       "var spec = {\"config\": {\"view\": {\"width\": 400, \"height\": 300}, \"mark\": {\"tooltip\": null}, \"legend\": {\"orient\": \"bottom\"}}, \"hconcat\": [{\"data\": {\"name\": \"data-211fbc822941f4ca260263f6979c1ebe\"}, \"mark\": \"bar\", \"encoding\": {\"color\": {\"type\": \"nominal\", \"field\": \"nn_p\", \"legend\": {\"title\": \"n_p\"}}, \"column\": {\"type\": \"nominal\", \"field\": \"function\", \"sort\": \"descending\", \"title\": \"\"}, \"tooltip\": [{\"type\": \"quantitative\", \"field\": \"mof_norm\"}, {\"type\": \"quantitative\", \"field\": \"mof\"}, {\"type\": \"quantitative\", \"field\": \"freq\"}, {\"type\": \"nominal\", \"field\": \"function\"}], \"x\": {\"type\": \"nominal\", \"axis\": null, \"field\": \"nn_p\", \"title\": \"\"}, \"y\": {\"type\": \"quantitative\", \"aggregate\": \"mean\", \"field\": \"mof_norm\", \"title\": \"exp2 (MOF_norm)\"}}, \"height\": 150, \"width\": 50}, {\"data\": {\"name\": \"data-40c7d23d50a87864084deb4f0c8d9f4d\"}, \"mark\": \"bar\", \"encoding\": {\"color\": {\"type\": \"nominal\", \"field\": \"nn_p\", \"legend\": {\"title\": \"n_p\"}}, \"column\": {\"type\": \"nominal\", \"field\": \"function\", \"sort\": \"descending\", \"title\": \"\"}, \"tooltip\": [{\"type\": \"quantitative\", \"field\": \"mof_norm\"}, {\"type\": \"quantitative\", \"field\": \"mof\"}, {\"type\": \"quantitative\", \"field\": \"freq\"}, {\"type\": \"nominal\", \"field\": \"function\"}], \"x\": {\"type\": \"nominal\", \"axis\": null, \"field\": \"nn_p\", \"title\": \"\"}, \"y\": {\"type\": \"quantitative\", \"aggregate\": \"mean\", \"field\": \"mof_norm\", \"title\": \"exp4 (MOF_norm)\"}}, \"height\": 150, \"width\": 50}], \"$schema\": \"https://vega.github.io/schema/vega-lite/v3.3.0.json\", \"datasets\": {\"data-211fbc822941f4ca260263f6979c1ebe\": [{\"experiment\": \"exp2\", \"function\": \"Rastrigin\", \"freq\": 0.5, \"nn_p\": \"1\", \"method\": \"NNnorm\", \"mof\": 3.9860806495911345, \"mof_std\": 0.43327535103506964, \"mof_norm\": 1.0373515148614063}, {\"experiment\": \"exp2\", \"function\": \"Rastrigin\", \"freq\": 0.5, \"nn_p\": \"3\", \"method\": \"NNnorm\", \"mof\": 3.842555385021719, \"mof_std\": 0.3327540369986309, \"mof_norm\": 1.0}, {\"experiment\": \"exp2\", \"function\": \"Rastrigin\", \"freq\": 0.5, \"nn_p\": \"7\", \"method\": \"NNnorm\", \"mof\": 4.346249658327013, \"mof_std\": 0.5456098152322626, \"mof_norm\": 1.1310831524429534}, {\"experiment\": \"exp2\", \"function\": \"Rastrigin\", \"freq\": 0.5, \"nn_p\": \"9\", \"method\": \"NNnorm\", \"mof\": 4.455054677226975, \"mof_std\": 0.4499005092859922, \"mof_norm\": 1.159398949613785}, {\"experiment\": \"exp2\", \"function\": \"Rosenbrock\", \"freq\": 0.5, \"nn_p\": \"1\", \"method\": \"NNnorm\", \"mof\": 213.08723765603492, \"mof_std\": 46.69119736312833, \"mof_norm\": 1.5508426967537472}, {\"experiment\": \"exp2\", \"function\": \"Rosenbrock\", \"freq\": 0.5, \"nn_p\": \"3\", \"method\": \"NNnorm\", \"mof\": 139.81971038514894, \"mof_std\": 12.156009390548448, \"mof_norm\": 1.01760377157384}, {\"experiment\": \"exp2\", \"function\": \"Rosenbrock\", \"freq\": 0.5, \"nn_p\": \"7\", \"method\": \"NNnorm\", \"mof\": 141.9592201605916, \"mof_std\": 17.652301670409848, \"mof_norm\": 1.0331750612783621}, {\"experiment\": \"exp2\", \"function\": \"Rosenbrock\", \"freq\": 0.5, \"nn_p\": \"9\", \"method\": \"NNnorm\", \"mof\": 137.40093569907063, \"mof_std\": 15.553596090745062, \"mof_norm\": 1.0}, {\"experiment\": \"exp2\", \"function\": \"Sphere\", \"freq\": 0.5, \"nn_p\": \"1\", \"method\": \"NNnorm\", \"mof\": 0.26868941362527204, \"mof_std\": 0.029915920065173317, \"mof_norm\": 1.431241903862388}, {\"experiment\": \"exp2\", \"function\": \"Sphere\", \"freq\": 0.5, \"nn_p\": \"3\", \"method\": \"NNnorm\", \"mof\": 0.2137836077429629, \"mof_std\": 0.017177465278868737, \"mof_norm\": 1.1387722859350833}, {\"experiment\": \"exp2\", \"function\": \"Sphere\", \"freq\": 0.5, \"nn_p\": \"7\", \"method\": \"NNnorm\", \"mof\": 0.1877316566124703, \"mof_std\": 0.03311181737514758, \"mof_norm\": 1.0}, {\"experiment\": \"exp2\", \"function\": \"Sphere\", \"freq\": 0.5, \"nn_p\": \"9\", \"method\": \"NNnorm\", \"mof\": 0.1882070613357992, \"mof_std\": 0.04691303523951619, \"mof_norm\": 1.0025323631182261}], \"data-40c7d23d50a87864084deb4f0c8d9f4d\": [{\"experiment\": \"exp4\", \"function\": \"Rastrigin\", \"freq\": 0.5, \"nn_p\": \"1\", \"method\": \"NNnorm\", \"mof\": 99.22788190611173, \"mof_std\": 4.726274559793422, \"mof_norm\": 1.331002231240678}, {\"experiment\": \"exp4\", \"function\": \"Rastrigin\", \"freq\": 0.5, \"nn_p\": \"3\", \"method\": \"NNnorm\", \"mof\": 74.5512513631308, \"mof_std\": 5.971195594848346, \"mof_norm\": 1.0}, {\"experiment\": \"exp4\", \"function\": \"Rastrigin\", \"freq\": 0.5, \"nn_p\": \"7\", \"method\": \"NNnorm\", \"mof\": 86.31766053959406, \"mof_std\": 6.054915222466794, \"mof_norm\": 1.1578298011276886}, {\"experiment\": \"exp4\", \"function\": \"Rastrigin\", \"freq\": 0.5, \"nn_p\": \"9\", \"method\": \"NNnorm\", \"mof\": 83.67546349831693, \"mof_std\": 7.175046349866904, \"mof_norm\": 1.1223884504733945}, {\"experiment\": \"exp4\", \"function\": \"Rosenbrock\", \"freq\": 0.5, \"nn_p\": \"1\", \"method\": \"NNnorm\", \"mof\": 23064994.533783395, \"mof_std\": 1556128.4906202804, \"mof_norm\": 1.3016332801946}, {\"experiment\": \"exp4\", \"function\": \"Rosenbrock\", \"freq\": 0.5, \"nn_p\": \"3\", \"method\": \"NNnorm\", \"mof\": 20087518.173993576, \"mof_std\": 2239553.4695515176, \"mof_norm\": 1.1336045249647422}, {\"experiment\": \"exp4\", \"function\": \"Rosenbrock\", \"freq\": 0.5, \"nn_p\": \"7\", \"method\": \"NNnorm\", \"mof\": 19587437.25990809, \"mof_std\": 2232191.547974992, \"mof_norm\": 1.105383319032506}, {\"experiment\": \"exp4\", \"function\": \"Rosenbrock\", \"freq\": 0.5, \"nn_p\": \"9\", \"method\": \"NNnorm\", \"mof\": 17720040.571131583, \"mof_std\": 2144017.020567147, \"mof_norm\": 1.0}, {\"experiment\": \"exp4\", \"function\": \"Sphere\", \"freq\": 0.5, \"nn_p\": \"1\", \"method\": \"NNnorm\", \"mof\": 84.67686792944954, \"mof_std\": 4.242684962360522, \"mof_norm\": 1.132572470109965}, {\"experiment\": \"exp4\", \"function\": \"Sphere\", \"freq\": 0.5, \"nn_p\": \"3\", \"method\": \"NNnorm\", \"mof\": 77.96511233608769, \"mof_std\": 5.856640064844328, \"mof_norm\": 1.042801204390954}, {\"experiment\": \"exp4\", \"function\": \"Sphere\", \"freq\": 0.5, \"nn_p\": \"7\", \"method\": \"NNnorm\", \"mof\": 74.80663399829056, \"mof_std\": 7.835147707731948, \"mof_norm\": 1.0005558344298435}, {\"experiment\": \"exp4\", \"function\": \"Sphere\", \"freq\": 0.5, \"nn_p\": \"9\", \"method\": \"NNnorm\", \"mof\": 74.76507699434721, \"mof_std\": 6.713428669026444, \"mof_norm\": 1.0}]}};\n",
       "var opt = {};\n",
       "var type = \"vega-lite\";\n",
       "var id = \"a3fdbd3d-975b-449c-a0b9-250f2efb9417\";\n",
       "\n",
       "var output_area = this;\n",
       "\n",
       "require([\"nbextensions/jupyter-vega/index\"], function(vega) {\n",
       "  var target = document.createElement(\"div\");\n",
       "  target.id = id;\n",
       "  target.className = \"vega-embed\";\n",
       "\n",
       "  var style = document.createElement(\"style\");\n",
       "  style.textContent = [\n",
       "    \".vega-embed .error p {\",\n",
       "    \"  color: firebrick;\",\n",
       "    \"  font-size: 14px;\",\n",
       "    \"}\",\n",
       "  ].join(\"\\\\n\");\n",
       "\n",
       "  // element is a jQuery wrapped DOM element inside the output area\n",
       "  // see http://ipython.readthedocs.io/en/stable/api/generated/\\\n",
       "  // IPython.display.html#IPython.display.Javascript.__init__\n",
       "  element[0].appendChild(target);\n",
       "  element[0].appendChild(style);\n",
       "\n",
       "  vega.render(\"#\" + id, spec, type, opt, output_area);\n",
       "}, function (err) {\n",
       "  if (err.requireType !== \"scripterror\") {\n",
       "    throw(err);\n",
       "  }\n",
       "});\n"
      ],
      "text/plain": [
       "<vega.vegalite.VegaLite at 0x7f476a100358>"
      ]
     },
     "metadata": {
      "jupyter-vega": "#a3fdbd3d-975b-449c-a0b9-250f2efb9417"
     },
     "output_type": "display_data"
    },
    {
     "data": {
      "text/plain": []
     },
     "metadata": {},
     "output_type": "display_data"
    },
    {
     "data": {
      "image/png": "[encoded data removed]"
     },
     "metadata": {
      "jupyter-vega": "#a3fdbd3d-975b-449c-a0b9-250f2efb9417"
     },
     "output_type": "display_data"
    },
    {
     "name": "stdout",
     "output_type": "stream",
     "text": [
      "Plots for Worst freq=1\n"
     ]
    },
    {
     "data": {
      "application/javascript": [
       "var spec = {\"config\": {\"view\": {\"width\": 400, \"height\": 300}, \"mark\": {\"tooltip\": null}, \"legend\": {\"orient\": \"bottom\"}}, \"hconcat\": [{\"data\": {\"name\": \"data-8939745b9f19853e5829b3f91900b00c\"}, \"mark\": \"bar\", \"encoding\": {\"color\": {\"type\": \"nominal\", \"field\": \"nn_p\", \"legend\": {\"title\": \"n_p\"}}, \"column\": {\"type\": \"nominal\", \"field\": \"function\", \"sort\": \"descending\", \"title\": \"\"}, \"tooltip\": [{\"type\": \"quantitative\", \"field\": \"mof_norm\"}, {\"type\": \"quantitative\", \"field\": \"mof\"}, {\"type\": \"quantitative\", \"field\": \"freq\"}, {\"type\": \"nominal\", \"field\": \"function\"}], \"x\": {\"type\": \"nominal\", \"axis\": null, \"field\": \"nn_p\", \"title\": \"\"}, \"y\": {\"type\": \"quantitative\", \"aggregate\": \"mean\", \"field\": \"mof_norm\", \"title\": \"exp2 (MOF_norm)\"}}, \"height\": 150, \"width\": 50}, {\"data\": {\"name\": \"data-60fe43c89c7b86a35aa7a8c7b25f256a\"}, \"mark\": \"bar\", \"encoding\": {\"color\": {\"type\": \"nominal\", \"field\": \"nn_p\", \"legend\": {\"title\": \"n_p\"}}, \"column\": {\"type\": \"nominal\", \"field\": \"function\", \"sort\": \"descending\", \"title\": \"\"}, \"tooltip\": [{\"type\": \"quantitative\", \"field\": \"mof_norm\"}, {\"type\": \"quantitative\", \"field\": \"mof\"}, {\"type\": \"quantitative\", \"field\": \"freq\"}, {\"type\": \"nominal\", \"field\": \"function\"}], \"x\": {\"type\": \"nominal\", \"axis\": null, \"field\": \"nn_p\", \"title\": \"\"}, \"y\": {\"type\": \"quantitative\", \"aggregate\": \"mean\", \"field\": \"mof_norm\", \"title\": \"exp4 (MOF_norm)\"}}, \"height\": 150, \"width\": 50}], \"$schema\": \"https://vega.github.io/schema/vega-lite/v3.3.0.json\", \"datasets\": {\"data-8939745b9f19853e5829b3f91900b00c\": [{\"experiment\": \"exp2\", \"function\": \"Rastrigin\", \"freq\": 1.0, \"nn_p\": \"1\", \"method\": \"NNnorm\", \"mof\": 1.9216905868833942, \"mof_std\": 0.23622632468784652, \"mof_norm\": 1.0}, {\"experiment\": \"exp2\", \"function\": \"Rastrigin\", \"freq\": 1.0, \"nn_p\": \"3\", \"method\": \"NNnorm\", \"mof\": 1.953058838174042, \"mof_std\": 0.13356754728084141, \"mof_norm\": 1.0163232580233017}, {\"experiment\": \"exp2\", \"function\": \"Rastrigin\", \"freq\": 1.0, \"nn_p\": \"7\", \"method\": \"NNnorm\", \"mof\": 1.9808024411899927, \"mof_std\": 0.17716216035212753, \"mof_norm\": 1.0307603392086477}, {\"experiment\": \"exp2\", \"function\": \"Rastrigin\", \"freq\": 1.0, \"nn_p\": \"9\", \"method\": \"NNnorm\", \"mof\": 2.0992245656812973, \"mof_std\": 0.2026854502176373, \"mof_norm\": 1.0923842683154463}, {\"experiment\": \"exp2\", \"function\": \"Rosenbrock\", \"freq\": 1.0, \"nn_p\": \"1\", \"method\": \"NNnorm\", \"mof\": 72.92704098718335, \"mof_std\": 9.864983419113235, \"mof_norm\": 1.2594653555326774}, {\"experiment\": \"exp2\", \"function\": \"Rosenbrock\", \"freq\": 1.0, \"nn_p\": \"3\", \"method\": \"NNnorm\", \"mof\": 59.897931615306085, \"mof_std\": 6.687749303596175, \"mof_norm\": 1.0344498928840629}, {\"experiment\": \"exp2\", \"function\": \"Rosenbrock\", \"freq\": 1.0, \"nn_p\": \"7\", \"method\": \"NNnorm\", \"mof\": 57.903173490897366, \"mof_std\": 5.964877533826209, \"mof_norm\": 1.0}, {\"experiment\": \"exp2\", \"function\": \"Rosenbrock\", \"freq\": 1.0, \"nn_p\": \"9\", \"method\": \"NNnorm\", \"mof\": 62.368438815853075, \"mof_std\": 6.879034340844079, \"mof_norm\": 1.077116072500891}, {\"experiment\": \"exp2\", \"function\": \"Sphere\", \"freq\": 1.0, \"nn_p\": \"1\", \"method\": \"NNnorm\", \"mof\": 0.12039591225172916, \"mof_std\": 0.016264291940511762, \"mof_norm\": 1.446734563333034}, {\"experiment\": \"exp2\", \"function\": \"Sphere\", \"freq\": 1.0, \"nn_p\": \"3\", \"method\": \"NNnorm\", \"mof\": 0.0858847866101598, \"mof_std\": 0.005743157885260784, \"mof_norm\": 1.0320324579924913}, {\"experiment\": \"exp2\", \"function\": \"Sphere\", \"freq\": 1.0, \"nn_p\": \"7\", \"method\": \"NNnorm\", \"mof\": 0.08321907508337753, \"mof_std\": 0.0055370185799050444, \"mof_norm\": 1.0}, {\"experiment\": \"exp2\", \"function\": \"Sphere\", \"freq\": 1.0, \"nn_p\": \"9\", \"method\": \"NNnorm\", \"mof\": 0.08464170522068674, \"mof_std\": 0.0036693283804815863, \"mof_norm\": 1.0170950005859098}], \"data-60fe43c89c7b86a35aa7a8c7b25f256a\": [{\"experiment\": \"exp4\", \"function\": \"Rastrigin\", \"freq\": 1.0, \"nn_p\": \"1\", \"method\": \"NNnorm\", \"mof\": 60.23519002317648, \"mof_std\": 7.556018548495631, \"mof_norm\": 1.1781418057231514}, {\"experiment\": \"exp4\", \"function\": \"Rastrigin\", \"freq\": 1.0, \"nn_p\": \"3\", \"method\": \"NNnorm\", \"mof\": 54.48032569212979, \"mof_std\": 4.832267797502134, \"mof_norm\": 1.0655822495556957}, {\"experiment\": \"exp4\", \"function\": \"Rastrigin\", \"freq\": 1.0, \"nn_p\": \"7\", \"method\": \"NNnorm\", \"mof\": 53.58323555730281, \"mof_std\": 4.994891244230721, \"mof_norm\": 1.0480360379319782}, {\"experiment\": \"exp4\", \"function\": \"Rastrigin\", \"freq\": 1.0, \"nn_p\": \"9\", \"method\": \"NNnorm\", \"mof\": 51.12728343104989, \"mof_std\": 4.4862582592801274, \"mof_norm\": 1.0}, {\"experiment\": \"exp4\", \"function\": \"Rosenbrock\", \"freq\": 1.0, \"nn_p\": \"1\", \"method\": \"NNnorm\", \"mof\": 8347487.024181661, \"mof_std\": 1238625.5593925675, \"mof_norm\": 1.2522362831448093}, {\"experiment\": \"exp4\", \"function\": \"Rosenbrock\", \"freq\": 1.0, \"nn_p\": \"3\", \"method\": \"NNnorm\", \"mof\": 8278693.002325241, \"mof_std\": 1108447.765417076, \"mof_norm\": 1.241916246709591}, {\"experiment\": \"exp4\", \"function\": \"Rosenbrock\", \"freq\": 1.0, \"nn_p\": \"7\", \"method\": \"NNnorm\", \"mof\": 7268829.892454596, \"mof_std\": 1214954.5444317097, \"mof_norm\": 1.090423081937233}, {\"experiment\": \"exp4\", \"function\": \"Rosenbrock\", \"freq\": 1.0, \"nn_p\": \"9\", \"method\": \"NNnorm\", \"mof\": 6666063.854353558, \"mof_std\": 1207167.8983019118, \"mof_norm\": 1.0}, {\"experiment\": \"exp4\", \"function\": \"Sphere\", \"freq\": 1.0, \"nn_p\": \"1\", \"method\": \"NNnorm\", \"mof\": 35.866499811441074, \"mof_std\": 2.668591022087754, \"mof_norm\": 1.1767552018722955}, {\"experiment\": \"exp4\", \"function\": \"Sphere\", \"freq\": 1.0, \"nn_p\": \"3\", \"method\": \"NNnorm\", \"mof\": 35.75765439544711, \"mof_std\": 3.210119552390131, \"mof_norm\": 1.1731840586008802}, {\"experiment\": \"exp4\", \"function\": \"Sphere\", \"freq\": 1.0, \"nn_p\": \"7\", \"method\": \"NNnorm\", \"mof\": 34.34280210857617, \"mof_std\": 2.437141438648516, \"mof_norm\": 1.126763727729196}, {\"experiment\": \"exp4\", \"function\": \"Sphere\", \"freq\": 1.0, \"nn_p\": \"9\", \"method\": \"NNnorm\", \"mof\": 30.479151274942396, \"mof_std\": 2.6099140093716398, \"mof_norm\": 1.0}]}};\n",
       "var opt = {};\n",
       "var type = \"vega-lite\";\n",
       "var id = \"0b945075-0718-4729-be8f-7b4a1ce63fb9\";\n",
       "\n",
       "var output_area = this;\n",
       "\n",
       "require([\"nbextensions/jupyter-vega/index\"], function(vega) {\n",
       "  var target = document.createElement(\"div\");\n",
       "  target.id = id;\n",
       "  target.className = \"vega-embed\";\n",
       "\n",
       "  var style = document.createElement(\"style\");\n",
       "  style.textContent = [\n",
       "    \".vega-embed .error p {\",\n",
       "    \"  color: firebrick;\",\n",
       "    \"  font-size: 14px;\",\n",
       "    \"}\",\n",
       "  ].join(\"\\\\n\");\n",
       "\n",
       "  // element is a jQuery wrapped DOM element inside the output area\n",
       "  // see http://ipython.readthedocs.io/en/stable/api/generated/\\\n",
       "  // IPython.display.html#IPython.display.Javascript.__init__\n",
       "  element[0].appendChild(target);\n",
       "  element[0].appendChild(style);\n",
       "\n",
       "  vega.render(\"#\" + id, spec, type, opt, output_area);\n",
       "}, function (err) {\n",
       "  if (err.requireType !== \"scripterror\") {\n",
       "    throw(err);\n",
       "  }\n",
       "});\n"
      ],
      "text/plain": [
       "<vega.vegalite.VegaLite at 0x7f476a1f3d30>"
      ]
     },
     "metadata": {
      "jupyter-vega": "#0b945075-0718-4729-be8f-7b4a1ce63fb9"
     },
     "output_type": "display_data"
    },
    {
     "data": {
      "text/plain": []
     },
     "metadata": {},
     "output_type": "display_data"
    },
    {
     "data": {
      "image/png": "[encoded data removed]"
     },
     "metadata": {
      "jupyter-vega": "#0b945075-0718-4729-be8f-7b4a1ce63fb9"
     },
     "output_type": "display_data"
    },
    {
     "name": "stdout",
     "output_type": "stream",
     "text": [
      "Plots for Random freq=1\n"
     ]
    },
    {
     "data": {
      "application/javascript": [
       "var spec = {\"config\": {\"view\": {\"width\": 400, \"height\": 300}, \"mark\": {\"tooltip\": null}, \"legend\": {\"orient\": \"bottom\"}}, \"hconcat\": [{\"data\": {\"name\": \"data-0a657fe30941c1dcab13779d3fae09a5\"}, \"mark\": \"bar\", \"encoding\": {\"color\": {\"type\": \"nominal\", \"field\": \"nn_p\", \"legend\": {\"title\": \"n_p\"}}, \"column\": {\"type\": \"nominal\", \"field\": \"function\", \"sort\": \"descending\", \"title\": \"\"}, \"tooltip\": [{\"type\": \"quantitative\", \"field\": \"mof_norm\"}, {\"type\": \"quantitative\", \"field\": \"mof\"}, {\"type\": \"quantitative\", \"field\": \"freq\"}, {\"type\": \"nominal\", \"field\": \"function\"}], \"x\": {\"type\": \"nominal\", \"axis\": null, \"field\": \"nn_p\", \"title\": \"\"}, \"y\": {\"type\": \"quantitative\", \"aggregate\": \"mean\", \"field\": \"mof_norm\", \"title\": \"exp2 (MOF_norm)\"}}, \"height\": 150, \"width\": 50}, {\"data\": {\"name\": \"data-9038a406cce96c6dd77b8c95aee2bc32\"}, \"mark\": \"bar\", \"encoding\": {\"color\": {\"type\": \"nominal\", \"field\": \"nn_p\", \"legend\": {\"title\": \"n_p\"}}, \"column\": {\"type\": \"nominal\", \"field\": \"function\", \"sort\": \"descending\", \"title\": \"\"}, \"tooltip\": [{\"type\": \"quantitative\", \"field\": \"mof_norm\"}, {\"type\": \"quantitative\", \"field\": \"mof\"}, {\"type\": \"quantitative\", \"field\": \"freq\"}, {\"type\": \"nominal\", \"field\": \"function\"}], \"x\": {\"type\": \"nominal\", \"axis\": null, \"field\": \"nn_p\", \"title\": \"\"}, \"y\": {\"type\": \"quantitative\", \"aggregate\": \"mean\", \"field\": \"mof_norm\", \"title\": \"exp4 (MOF_norm)\"}}, \"height\": 150, \"width\": 50}], \"$schema\": \"https://vega.github.io/schema/vega-lite/v3.3.0.json\", \"datasets\": {\"data-0a657fe30941c1dcab13779d3fae09a5\": [{\"experiment\": \"exp2\", \"function\": \"Rastrigin\", \"freq\": 1.0, \"nn_p\": \"1\", \"method\": \"NNnorm\", \"mof\": 2.0203355961340623, \"mof_std\": 0.24001328096598068, \"mof_norm\": 1.0286995562242283}, {\"experiment\": \"exp2\", \"function\": \"Rastrigin\", \"freq\": 1.0, \"nn_p\": \"3\", \"method\": \"NNnorm\", \"mof\": 1.9639705139463333, \"mof_std\": 0.23428557080454912, \"mof_norm\": 1.0}, {\"experiment\": \"exp2\", \"function\": \"Rastrigin\", \"freq\": 1.0, \"nn_p\": \"7\", \"method\": \"NNnorm\", \"mof\": 4.080702299620544, \"mof_std\": 0.42567559120266274, \"mof_norm\": 2.0777818560121477}, {\"experiment\": \"exp2\", \"function\": \"Rastrigin\", \"freq\": 1.0, \"nn_p\": \"9\", \"method\": \"NNnorm\", \"mof\": 2.4871134326107858, \"mof_std\": 0.3020599006694594, \"mof_norm\": 1.2663700472840946}, {\"experiment\": \"exp2\", \"function\": \"Rosenbrock\", \"freq\": 1.0, \"nn_p\": \"1\", \"method\": \"NNnorm\", \"mof\": 77.68216803249945, \"mof_std\": 11.343223453319268, \"mof_norm\": 1.2522549105753122}, {\"experiment\": \"exp2\", \"function\": \"Rosenbrock\", \"freq\": 1.0, \"nn_p\": \"3\", \"method\": \"NNnorm\", \"mof\": 62.03382983486215, \"mof_std\": 9.815094596026338, \"mof_norm\": 1.0}, {\"experiment\": \"exp2\", \"function\": \"Rosenbrock\", \"freq\": 1.0, \"nn_p\": \"7\", \"method\": \"NNnorm\", \"mof\": 63.81982274089483, \"mof_std\": 13.129183826840848, \"mof_norm\": 1.0287906278040078}, {\"experiment\": \"exp2\", \"function\": \"Rosenbrock\", \"freq\": 1.0, \"nn_p\": \"9\", \"method\": \"NNnorm\", \"mof\": 63.44064150256062, \"mof_std\": 10.70268062782543, \"mof_norm\": 1.022678136614223}, {\"experiment\": \"exp2\", \"function\": \"Sphere\", \"freq\": 1.0, \"nn_p\": \"1\", \"method\": \"NNnorm\", \"mof\": 0.12224110310806707, \"mof_std\": 0.015479233481297422, \"mof_norm\": 1.4186285063469581}, {\"experiment\": \"exp2\", \"function\": \"Sphere\", \"freq\": 1.0, \"nn_p\": \"3\", \"method\": \"NNnorm\", \"mof\": 0.09708310089242003, \"mof_std\": 0.026805780238501806, \"mof_norm\": 1.1266656706197211}, {\"experiment\": \"exp2\", \"function\": \"Sphere\", \"freq\": 1.0, \"nn_p\": \"7\", \"method\": \"NNnorm\", \"mof\": 0.08616850892334332, \"mof_std\": 0.015528508865958772, \"mof_norm\": 1.0}, {\"experiment\": \"exp2\", \"function\": \"Sphere\", \"freq\": 1.0, \"nn_p\": \"9\", \"method\": \"NNnorm\", \"mof\": 0.10835794483041654, \"mof_std\": 0.055892068203105674, \"mof_norm\": 1.2575121257675845}], \"data-9038a406cce96c6dd77b8c95aee2bc32\": [{\"experiment\": \"exp4\", \"function\": \"Rastrigin\", \"freq\": 1.0, \"nn_p\": \"1\", \"method\": \"NNnorm\", \"mof\": 61.15279342213382, \"mof_std\": 4.630943361152818, \"mof_norm\": 1.151778983724235}, {\"experiment\": \"exp4\", \"function\": \"Rastrigin\", \"freq\": 1.0, \"nn_p\": \"3\", \"method\": \"NNnorm\", \"mof\": 55.87411816367587, \"mof_std\": 4.817095096874057, \"mof_norm\": 1.052358059766959}, {\"experiment\": \"exp4\", \"function\": \"Rastrigin\", \"freq\": 1.0, \"nn_p\": \"7\", \"method\": \"NNnorm\", \"mof\": 54.328468172990775, \"mof_std\": 5.31216555901792, \"mof_norm\": 1.02324659852633}, {\"experiment\": \"exp4\", \"function\": \"Rastrigin\", \"freq\": 1.0, \"nn_p\": \"9\", \"method\": \"NNnorm\", \"mof\": 53.094208425646485, \"mof_std\": 3.4339303558575875, \"mof_norm\": 1.0}, {\"experiment\": \"exp4\", \"function\": \"Rosenbrock\", \"freq\": 1.0, \"nn_p\": \"1\", \"method\": \"NNnorm\", \"mof\": 9170887.614357691, \"mof_std\": 1167889.4113034601, \"mof_norm\": 1.2152453687602152}, {\"experiment\": \"exp4\", \"function\": \"Rosenbrock\", \"freq\": 1.0, \"nn_p\": \"3\", \"method\": \"NNnorm\", \"mof\": 7605030.291863018, \"mof_std\": 1070396.1179341888, \"mof_norm\": 1.0077517280877688}, {\"experiment\": \"exp4\", \"function\": \"Rosenbrock\", \"freq\": 1.0, \"nn_p\": \"7\", \"method\": \"NNnorm\", \"mof\": 7740485.6647152295, \"mof_std\": 1747761.9231381733, \"mof_norm\": 1.025701082769057}, {\"experiment\": \"exp4\", \"function\": \"Rosenbrock\", \"freq\": 1.0, \"nn_p\": \"9\", \"method\": \"NNnorm\", \"mof\": 7546531.630656422, \"mof_std\": 1561302.5579407895, \"mof_norm\": 1.0}, {\"experiment\": \"exp4\", \"function\": \"Sphere\", \"freq\": 1.0, \"nn_p\": \"1\", \"method\": \"NNnorm\", \"mof\": 39.53419273800066, \"mof_std\": 2.5709658856877384, \"mof_norm\": 1.1304250685265174}, {\"experiment\": \"exp4\", \"function\": \"Sphere\", \"freq\": 1.0, \"nn_p\": \"3\", \"method\": \"NNnorm\", \"mof\": 36.61988650233869, \"mof_std\": 2.562533721548974, \"mof_norm\": 1.0470945488422536}, {\"experiment\": \"exp4\", \"function\": \"Sphere\", \"freq\": 1.0, \"nn_p\": \"7\", \"method\": \"NNnorm\", \"mof\": 38.4490560656044, \"mof_std\": 4.249922049551928, \"mof_norm\": 1.0993970997658173}, {\"experiment\": \"exp4\", \"function\": \"Sphere\", \"freq\": 1.0, \"nn_p\": \"9\", \"method\": \"NNnorm\", \"mof\": 34.97285564405658, \"mof_std\": 4.858553792723644, \"mof_norm\": 1.0}]}};\n",
       "var opt = {};\n",
       "var type = \"vega-lite\";\n",
       "var id = \"cccacc52-ac55-4eee-b8b9-c529a737d415\";\n",
       "\n",
       "var output_area = this;\n",
       "\n",
       "require([\"nbextensions/jupyter-vega/index\"], function(vega) {\n",
       "  var target = document.createElement(\"div\");\n",
       "  target.id = id;\n",
       "  target.className = \"vega-embed\";\n",
       "\n",
       "  var style = document.createElement(\"style\");\n",
       "  style.textContent = [\n",
       "    \".vega-embed .error p {\",\n",
       "    \"  color: firebrick;\",\n",
       "    \"  font-size: 14px;\",\n",
       "    \"}\",\n",
       "  ].join(\"\\\\n\");\n",
       "\n",
       "  // element is a jQuery wrapped DOM element inside the output area\n",
       "  // see http://ipython.readthedocs.io/en/stable/api/generated/\\\n",
       "  // IPython.display.html#IPython.display.Javascript.__init__\n",
       "  element[0].appendChild(target);\n",
       "  element[0].appendChild(style);\n",
       "\n",
       "  vega.render(\"#\" + id, spec, type, opt, output_area);\n",
       "}, function (err) {\n",
       "  if (err.requireType !== \"scripterror\") {\n",
       "    throw(err);\n",
       "  }\n",
       "});\n"
      ],
      "text/plain": [
       "<vega.vegalite.VegaLite at 0x7f476c480e80>"
      ]
     },
     "metadata": {
      "jupyter-vega": "#cccacc52-ac55-4eee-b8b9-c529a737d415"
     },
     "output_type": "display_data"
    },
    {
     "data": {
      "text/plain": []
     },
     "metadata": {},
     "output_type": "display_data"
    },
    {
     "data": {
      "image/png": "[encoded data removed]"
     },
     "metadata": {
      "jupyter-vega": "#cccacc52-ac55-4eee-b8b9-c529a737d415"
     },
     "output_type": "display_data"
    },
    {
     "name": "stdout",
     "output_type": "stream",
     "text": [
      "Plots for Worst freq=4\n"
     ]
    },
    {
     "data": {
      "application/javascript": [
       "var spec = {\"config\": {\"view\": {\"width\": 400, \"height\": 300}, \"mark\": {\"tooltip\": null}, \"legend\": {\"orient\": \"bottom\"}}, \"hconcat\": [{\"data\": {\"name\": \"data-3cbbd6e1260d34984cb7fd15f45ac698\"}, \"mark\": \"bar\", \"encoding\": {\"color\": {\"type\": \"nominal\", \"field\": \"nn_p\", \"legend\": {\"title\": \"n_p\"}}, \"column\": {\"type\": \"nominal\", \"field\": \"function\", \"sort\": \"descending\", \"title\": \"\"}, \"tooltip\": [{\"type\": \"quantitative\", \"field\": \"mof_norm\"}, {\"type\": \"quantitative\", \"field\": \"mof\"}, {\"type\": \"quantitative\", \"field\": \"freq\"}, {\"type\": \"nominal\", \"field\": \"function\"}], \"x\": {\"type\": \"nominal\", \"axis\": null, \"field\": \"nn_p\", \"title\": \"\"}, \"y\": {\"type\": \"quantitative\", \"aggregate\": \"mean\", \"field\": \"mof_norm\", \"title\": \"exp2 (MOF_norm)\"}}, \"height\": 150, \"width\": 50}, {\"data\": {\"name\": \"data-5310a76962a6ba4c58076d6c24cd82b1\"}, \"mark\": \"bar\", \"encoding\": {\"color\": {\"type\": \"nominal\", \"field\": \"nn_p\", \"legend\": {\"title\": \"n_p\"}}, \"column\": {\"type\": \"nominal\", \"field\": \"function\", \"sort\": \"descending\", \"title\": \"\"}, \"tooltip\": [{\"type\": \"quantitative\", \"field\": \"mof_norm\"}, {\"type\": \"quantitative\", \"field\": \"mof\"}, {\"type\": \"quantitative\", \"field\": \"freq\"}, {\"type\": \"nominal\", \"field\": \"function\"}], \"x\": {\"type\": \"nominal\", \"axis\": null, \"field\": \"nn_p\", \"title\": \"\"}, \"y\": {\"type\": \"quantitative\", \"aggregate\": \"mean\", \"field\": \"mof_norm\", \"title\": \"exp4 (MOF_norm)\"}}, \"height\": 150, \"width\": 50}], \"$schema\": \"https://vega.github.io/schema/vega-lite/v3.3.0.json\", \"datasets\": {\"data-3cbbd6e1260d34984cb7fd15f45ac698\": [{\"experiment\": \"exp2\", \"function\": \"Rastrigin\", \"freq\": 4.0, \"nn_p\": \"1\", \"method\": \"NNnorm\", \"mof\": 1.3056283962435038, \"mof_std\": 0.36984370720489396, \"mof_norm\": 1.2232262430238858}, {\"experiment\": \"exp2\", \"function\": \"Rastrigin\", \"freq\": 4.0, \"nn_p\": \"3\", \"method\": \"NNnorm\", \"mof\": 1.096413276634748, \"mof_std\": 0.13328417089225214, \"mof_norm\": 1.0272153217854036}, {\"experiment\": \"exp2\", \"function\": \"Rastrigin\", \"freq\": 4.0, \"nn_p\": \"7\", \"method\": \"NNnorm\", \"mof\": 1.0673646054354713, \"mof_std\": 0.050335237831631616, \"mof_norm\": 1.0}, {\"experiment\": \"exp2\", \"function\": \"Rastrigin\", \"freq\": 4.0, \"nn_p\": \"9\", \"method\": \"NNnorm\", \"mof\": 1.0753945587892424, \"mof_std\": 0.050353466145601496, \"mof_norm\": 1.007523158734025}, {\"experiment\": \"exp2\", \"function\": \"Rosenbrock\", \"freq\": 4.0, \"nn_p\": \"1\", \"method\": \"NNnorm\", \"mof\": 18.67828666893631, \"mof_std\": 3.704451666560825, \"mof_norm\": 1.235335502701733}, {\"experiment\": \"exp2\", \"function\": \"Rosenbrock\", \"freq\": 4.0, \"nn_p\": \"3\", \"method\": \"NNnorm\", \"mof\": 15.120011226169796, \"mof_std\": 1.499665107861309, \"mof_norm\": 1.0}, {\"experiment\": \"exp2\", \"function\": \"Rosenbrock\", \"freq\": 4.0, \"nn_p\": \"7\", \"method\": \"NNnorm\", \"mof\": 16.867437703623175, \"mof_std\": 1.6254938246333206, \"mof_norm\": 1.1155704484153375}, {\"experiment\": \"exp2\", \"function\": \"Rosenbrock\", \"freq\": 4.0, \"nn_p\": \"9\", \"method\": \"NNnorm\", \"mof\": 16.986960859850917, \"mof_std\": 1.5001515834924608, \"mof_norm\": 1.1234754131961089}, {\"experiment\": \"exp2\", \"function\": \"Sphere\", \"freq\": 4.0, \"nn_p\": \"1\", \"method\": \"NNnorm\", \"mof\": 0.03149794805708041, \"mof_std\": 0.002986553894357529, \"mof_norm\": 1.2836277212593916}, {\"experiment\": \"exp2\", \"function\": \"Sphere\", \"freq\": 4.0, \"nn_p\": \"3\", \"method\": \"NNnorm\", \"mof\": 0.02453822672680921, \"mof_std\": 0.0012623426949925113, \"mof_norm\": 1.0}, {\"experiment\": \"exp2\", \"function\": \"Sphere\", \"freq\": 4.0, \"nn_p\": \"7\", \"method\": \"NNnorm\", \"mof\": 0.024806998005329303, \"mof_std\": 0.0011427882093119077, \"mof_norm\": 1.010953166319327}, {\"experiment\": \"exp2\", \"function\": \"Sphere\", \"freq\": 4.0, \"nn_p\": \"9\", \"method\": \"NNnorm\", \"mof\": 0.025380423082187163, \"mof_std\": 0.001192002891385087, \"mof_norm\": 1.0343218099968818}], \"data-5310a76962a6ba4c58076d6c24cd82b1\": [{\"experiment\": \"exp4\", \"function\": \"Rastrigin\", \"freq\": 4.0, \"nn_p\": \"1\", \"method\": \"NNnorm\", \"mof\": 32.11033105141046, \"mof_std\": 5.406083052984471, \"mof_norm\": 1.1821385068496866}, {\"experiment\": \"exp4\", \"function\": \"Rastrigin\", \"freq\": 4.0, \"nn_p\": \"3\", \"method\": \"NNnorm\", \"mof\": 27.464059869982588, \"mof_std\": 3.2876213316141247, \"mof_norm\": 1.0110865152636137}, {\"experiment\": \"exp4\", \"function\": \"Rastrigin\", \"freq\": 4.0, \"nn_p\": \"7\", \"method\": \"NNnorm\", \"mof\": 27.16291776754838, \"mof_std\": 3.6693938695332613, \"mof_norm\": 1.0}, {\"experiment\": \"exp4\", \"function\": \"Rastrigin\", \"freq\": 4.0, \"nn_p\": \"9\", \"method\": \"NNnorm\", \"mof\": 27.308694021567124, \"mof_std\": 3.9902293629679977, \"mof_norm\": 1.0053667376703141}, {\"experiment\": \"exp4\", \"function\": \"Rosenbrock\", \"freq\": 4.0, \"nn_p\": \"1\", \"method\": \"NNnorm\", \"mof\": 6904358.009424725, \"mof_std\": 1431038.3101843242, \"mof_norm\": 1.2490085582895276}, {\"experiment\": \"exp4\", \"function\": \"Rosenbrock\", \"freq\": 4.0, \"nn_p\": \"3\", \"method\": \"NNnorm\", \"mof\": 6221972.193939013, \"mof_std\": 1446313.9279466139, \"mof_norm\": 1.1255639567156233}, {\"experiment\": \"exp4\", \"function\": \"Rosenbrock\", \"freq\": 4.0, \"nn_p\": \"7\", \"method\": \"NNnorm\", \"mof\": 5527870.856929911, \"mof_std\": 1359922.2203606716, \"mof_norm\": 1.0}, {\"experiment\": \"exp4\", \"function\": \"Rosenbrock\", \"freq\": 4.0, \"nn_p\": \"9\", \"method\": \"NNnorm\", \"mof\": 5794796.260026636, \"mof_std\": 1801262.6089456084, \"mof_norm\": 1.048287199539421}, {\"experiment\": \"exp4\", \"function\": \"Sphere\", \"freq\": 4.0, \"nn_p\": \"1\", \"method\": \"NNnorm\", \"mof\": 26.52129524048972, \"mof_std\": 1.6398229039125083, \"mof_norm\": 1.60884550697906}, {\"experiment\": \"exp4\", \"function\": \"Sphere\", \"freq\": 4.0, \"nn_p\": \"3\", \"method\": \"NNnorm\", \"mof\": 21.118803665887373, \"mof_std\": 2.528983881783593, \"mof_norm\": 1.2811173844467338}, {\"experiment\": \"exp4\", \"function\": \"Sphere\", \"freq\": 4.0, \"nn_p\": \"7\", \"method\": \"NNnorm\", \"mof\": 16.484674958187213, \"mof_std\": 1.5969842489177424, \"mof_norm\": 1.0}, {\"experiment\": \"exp4\", \"function\": \"Sphere\", \"freq\": 4.0, \"nn_p\": \"9\", \"method\": \"NNnorm\", \"mof\": 17.095486978955613, \"mof_std\": 2.7695989810720483, \"mof_norm\": 1.0370533251227398}]}};\n",
       "var opt = {};\n",
       "var type = \"vega-lite\";\n",
       "var id = \"cced0e72-5e3d-4c64-a35f-bcfc23868811\";\n",
       "\n",
       "var output_area = this;\n",
       "\n",
       "require([\"nbextensions/jupyter-vega/index\"], function(vega) {\n",
       "  var target = document.createElement(\"div\");\n",
       "  target.id = id;\n",
       "  target.className = \"vega-embed\";\n",
       "\n",
       "  var style = document.createElement(\"style\");\n",
       "  style.textContent = [\n",
       "    \".vega-embed .error p {\",\n",
       "    \"  color: firebrick;\",\n",
       "    \"  font-size: 14px;\",\n",
       "    \"}\",\n",
       "  ].join(\"\\\\n\");\n",
       "\n",
       "  // element is a jQuery wrapped DOM element inside the output area\n",
       "  // see http://ipython.readthedocs.io/en/stable/api/generated/\\\n",
       "  // IPython.display.html#IPython.display.Javascript.__init__\n",
       "  element[0].appendChild(target);\n",
       "  element[0].appendChild(style);\n",
       "\n",
       "  vega.render(\"#\" + id, spec, type, opt, output_area);\n",
       "}, function (err) {\n",
       "  if (err.requireType !== \"scripterror\") {\n",
       "    throw(err);\n",
       "  }\n",
       "});\n"
      ],
      "text/plain": [
       "<vega.vegalite.VegaLite at 0x7f476a100160>"
      ]
     },
     "metadata": {
      "jupyter-vega": "#cced0e72-5e3d-4c64-a35f-bcfc23868811"
     },
     "output_type": "display_data"
    },
    {
     "data": {
      "image/png": "[encoded data removed]"
     },
     "metadata": {
      "jupyter-vega": "#cced0e72-5e3d-4c64-a35f-bcfc23868811"
     },
     "output_type": "display_data"
    },
    {
     "data": {
      "text/plain": []
     },
     "metadata": {},
     "output_type": "display_data"
    },
    {
     "name": "stdout",
     "output_type": "stream",
     "text": [
      "Plots for Random freq=4\n"
     ]
    },
    {
     "data": {
      "application/javascript": [
       "var spec = {\"config\": {\"view\": {\"width\": 400, \"height\": 300}, \"mark\": {\"tooltip\": null}, \"legend\": {\"orient\": \"bottom\"}}, \"hconcat\": [{\"data\": {\"name\": \"data-a43c904264bd9f0c8abe49433fd7a677\"}, \"mark\": \"bar\", \"encoding\": {\"color\": {\"type\": \"nominal\", \"field\": \"nn_p\", \"legend\": {\"title\": \"n_p\"}}, \"column\": {\"type\": \"nominal\", \"field\": \"function\", \"sort\": \"descending\", \"title\": \"\"}, \"tooltip\": [{\"type\": \"quantitative\", \"field\": \"mof_norm\"}, {\"type\": \"quantitative\", \"field\": \"mof\"}, {\"type\": \"quantitative\", \"field\": \"freq\"}, {\"type\": \"nominal\", \"field\": \"function\"}], \"x\": {\"type\": \"nominal\", \"axis\": null, \"field\": \"nn_p\", \"title\": \"\"}, \"y\": {\"type\": \"quantitative\", \"aggregate\": \"mean\", \"field\": \"mof_norm\", \"title\": \"exp2 (MOF_norm)\"}}, \"height\": 150, \"width\": 50}, {\"data\": {\"name\": \"data-7062cad8a425177a56701d05b76d4206\"}, \"mark\": \"bar\", \"encoding\": {\"color\": {\"type\": \"nominal\", \"field\": \"nn_p\", \"legend\": {\"title\": \"n_p\"}}, \"column\": {\"type\": \"nominal\", \"field\": \"function\", \"sort\": \"descending\", \"title\": \"\"}, \"tooltip\": [{\"type\": \"quantitative\", \"field\": \"mof_norm\"}, {\"type\": \"quantitative\", \"field\": \"mof\"}, {\"type\": \"quantitative\", \"field\": \"freq\"}, {\"type\": \"nominal\", \"field\": \"function\"}], \"x\": {\"type\": \"nominal\", \"axis\": null, \"field\": \"nn_p\", \"title\": \"\"}, \"y\": {\"type\": \"quantitative\", \"aggregate\": \"mean\", \"field\": \"mof_norm\", \"title\": \"exp4 (MOF_norm)\"}}, \"height\": 150, \"width\": 50}], \"$schema\": \"https://vega.github.io/schema/vega-lite/v3.3.0.json\", \"datasets\": {\"data-a43c904264bd9f0c8abe49433fd7a677\": [{\"experiment\": \"exp2\", \"function\": \"Rastrigin\", \"freq\": 4.0, \"nn_p\": \"1\", \"method\": \"NNnorm\", \"mof\": 1.2933246710273807, \"mof_std\": 0.3462798447324719, \"mof_norm\": 1.248122716463703}, {\"experiment\": \"exp2\", \"function\": \"Rastrigin\", \"freq\": 4.0, \"nn_p\": \"3\", \"method\": \"NNnorm\", \"mof\": 1.0797547835240746, \"mof_std\": 0.12014743303568652, \"mof_norm\": 1.0420171390190813}, {\"experiment\": \"exp2\", \"function\": \"Rastrigin\", \"freq\": 4.0, \"nn_p\": \"7\", \"method\": \"NNnorm\", \"mof\": 1.036215953741911, \"mof_std\": 0.07469892137228178, \"mof_norm\": 1.0}, {\"experiment\": \"exp2\", \"function\": \"Rastrigin\", \"freq\": 4.0, \"nn_p\": \"9\", \"method\": \"NNnorm\", \"mof\": 1.0813742542552056, \"mof_std\": 0.08129155922236256, \"mof_norm\": 1.0435800089259601}, {\"experiment\": \"exp2\", \"function\": \"Rosenbrock\", \"freq\": 4.0, \"nn_p\": \"1\", \"method\": \"NNnorm\", \"mof\": 19.08912333289471, \"mof_std\": 3.3006656489697774, \"mof_norm\": 1.2697122126761864}, {\"experiment\": \"exp2\", \"function\": \"Rosenbrock\", \"freq\": 4.0, \"nn_p\": \"3\", \"method\": \"NNnorm\", \"mof\": 15.034212589528739, \"mof_std\": 9.504437882479175, \"mof_norm\": 1.0}, {\"experiment\": \"exp2\", \"function\": \"Rosenbrock\", \"freq\": 4.0, \"nn_p\": \"7\", \"method\": \"NNnorm\", \"mof\": 16.19188789095738, \"mof_std\": 1.074718265493128, \"mof_norm\": 1.0770027225925325}, {\"experiment\": \"exp2\", \"function\": \"Rosenbrock\", \"freq\": 4.0, \"nn_p\": \"9\", \"method\": \"NNnorm\", \"mof\": 17.645151182241225, \"mof_std\": 4.334763214829723, \"mof_norm\": 1.1736664675429023}, {\"experiment\": \"exp2\", \"function\": \"Sphere\", \"freq\": 4.0, \"nn_p\": \"1\", \"method\": \"NNnorm\", \"mof\": 0.0375698204017293, \"mof_std\": 0.007293126418194543, \"mof_norm\": 1.413024075026893}, {\"experiment\": \"exp2\", \"function\": \"Sphere\", \"freq\": 4.0, \"nn_p\": \"3\", \"method\": \"NNnorm\", \"mof\": 0.026588237996592, \"mof_std\": 0.03263508020763511, \"mof_norm\": 1.0}, {\"experiment\": \"exp2\", \"function\": \"Sphere\", \"freq\": 4.0, \"nn_p\": \"7\", \"method\": \"NNnorm\", \"mof\": 0.03732978976359705, \"mof_std\": 0.035975304387059114, \"mof_norm\": 1.4039963749527844}, {\"experiment\": \"exp2\", \"function\": \"Sphere\", \"freq\": 4.0, \"nn_p\": \"9\", \"method\": \"NNnorm\", \"mof\": 0.04215082572185595, \"mof_std\": 0.057753289755309446, \"mof_norm\": 1.585318505395458}], \"data-7062cad8a425177a56701d05b76d4206\": [{\"experiment\": \"exp4\", \"function\": \"Rastrigin\", \"freq\": 4.0, \"nn_p\": \"1\", \"method\": \"NNnorm\", \"mof\": 33.948515161427686, \"mof_std\": 5.063870490273011, \"mof_norm\": 1.2644470698441415}, {\"experiment\": \"exp4\", \"function\": \"Rastrigin\", \"freq\": 4.0, \"nn_p\": \"3\", \"method\": \"NNnorm\", \"mof\": 27.647694347949535, \"mof_std\": 3.217041441443534, \"mof_norm\": 1.0297665727051208}, {\"experiment\": \"exp4\", \"function\": \"Rastrigin\", \"freq\": 4.0, \"nn_p\": \"7\", \"method\": \"NNnorm\", \"mof\": 27.905819679580155, \"mof_std\": 2.7629630803014114, \"mof_norm\": 1.0393807139328268}, {\"experiment\": \"exp4\", \"function\": \"Rastrigin\", \"freq\": 4.0, \"nn_p\": \"9\", \"method\": \"NNnorm\", \"mof\": 26.848506332188546, \"mof_std\": 1.9973124258598327, \"mof_norm\": 1.0}, {\"experiment\": \"exp4\", \"function\": \"Rosenbrock\", \"freq\": 4.0, \"nn_p\": \"1\", \"method\": \"NNnorm\", \"mof\": 6780503.532504169, \"mof_std\": 1447740.9043809029, \"mof_norm\": 1.1841548897387852}, {\"experiment\": \"exp4\", \"function\": \"Rosenbrock\", \"freq\": 4.0, \"nn_p\": \"3\", \"method\": \"NNnorm\", \"mof\": 7286140.089568554, \"mof_std\": 1789113.9392753884, \"mof_norm\": 1.27245983620894}, {\"experiment\": \"exp4\", \"function\": \"Rosenbrock\", \"freq\": 4.0, \"nn_p\": \"7\", \"method\": \"NNnorm\", \"mof\": 5726027.558776447, \"mof_std\": 1562928.2489644503, \"mof_norm\": 1.0}, {\"experiment\": \"exp4\", \"function\": \"Rosenbrock\", \"freq\": 4.0, \"nn_p\": \"9\", \"method\": \"NNnorm\", \"mof\": 5985783.28295402, \"mof_std\": 1278891.8731338761, \"mof_norm\": 1.0453640366748564}, {\"experiment\": \"exp4\", \"function\": \"Sphere\", \"freq\": 4.0, \"nn_p\": \"1\", \"method\": \"NNnorm\", \"mof\": 26.97689331228113, \"mof_std\": 1.8130297692552404, \"mof_norm\": 1.5652694331042771}, {\"experiment\": \"exp4\", \"function\": \"Sphere\", \"freq\": 4.0, \"nn_p\": \"3\", \"method\": \"NNnorm\", \"mof\": 20.754907049420826, \"mof_std\": 2.1999464725884623, \"mof_norm\": 1.2042536260685475}, {\"experiment\": \"exp4\", \"function\": \"Sphere\", \"freq\": 4.0, \"nn_p\": \"7\", \"method\": \"NNnorm\", \"mof\": 19.140360498309075, \"mof_std\": 3.815314473608676, \"mof_norm\": 1.1105734407512613}, {\"experiment\": \"exp4\", \"function\": \"Sphere\", \"freq\": 4.0, \"nn_p\": \"9\", \"method\": \"NNnorm\", \"mof\": 17.234664359847592, \"mof_std\": 1.8015381470464247, \"mof_norm\": 1.0}]}};\n",
       "var opt = {};\n",
       "var type = \"vega-lite\";\n",
       "var id = \"617f1faf-6f7d-45e3-8384-74ab0ef6c9f4\";\n",
       "\n",
       "var output_area = this;\n",
       "\n",
       "require([\"nbextensions/jupyter-vega/index\"], function(vega) {\n",
       "  var target = document.createElement(\"div\");\n",
       "  target.id = id;\n",
       "  target.className = \"vega-embed\";\n",
       "\n",
       "  var style = document.createElement(\"style\");\n",
       "  style.textContent = [\n",
       "    \".vega-embed .error p {\",\n",
       "    \"  color: firebrick;\",\n",
       "    \"  font-size: 14px;\",\n",
       "    \"}\",\n",
       "  ].join(\"\\\\n\");\n",
       "\n",
       "  // element is a jQuery wrapped DOM element inside the output area\n",
       "  // see http://ipython.readthedocs.io/en/stable/api/generated/\\\n",
       "  // IPython.display.html#IPython.display.Javascript.__init__\n",
       "  element[0].appendChild(target);\n",
       "  element[0].appendChild(style);\n",
       "\n",
       "  vega.render(\"#\" + id, spec, type, opt, output_area);\n",
       "}, function (err) {\n",
       "  if (err.requireType !== \"scripterror\") {\n",
       "    throw(err);\n",
       "  }\n",
       "});\n"
      ],
      "text/plain": [
       "<vega.vegalite.VegaLite at 0x7f476a08c710>"
      ]
     },
     "metadata": {
      "jupyter-vega": "#617f1faf-6f7d-45e3-8384-74ab0ef6c9f4"
     },
     "output_type": "display_data"
    },
    {
     "data": {
      "text/plain": []
     },
     "metadata": {},
     "output_type": "display_data"
    },
    {
     "data": {
      "image/png": "[encoded data removed]"
     },
     "metadata": {
      "jupyter-vega": "#617f1faf-6f7d-45e3-8384-74ab0ef6c9f4"
     },
     "output_type": "display_data"
    }
   ],
   "source": [
    "for freq in [0.5,1,4]:\n",
    "    for replace_mech in ['Worst', 'Random']:\n",
    "        d = get_data(freq, 'NNnorm_'+replace_mech)\n",
    "        plot = plot2_experiment('exp2',d)|plot2_experiment('exp4',d)\n",
    "        plot = plot.configure_legend(orient='bottom')\n",
    "        freq_lbl = freq if freq > 1 else f'{freq*10:02.0f}'\n",
    "#         plot.save(str(path/f'nnp{freq_lbl}_{replace_mech}.png'), scale_factor=2)\n",
    "        print(f'Plots for {replace_mech} freq={freq}')\n",
    "        display(plot)"
   ]
  },
  {
   "cell_type": "code",
   "execution_count": 33,
   "metadata": {},
   "outputs": [
    {
     "name": "stdout",
     "output_type": "stream",
     "text": [
      "Worst\n"
     ]
    },
    {
     "data": {
      "application/javascript": [
       "var spec = {\"config\": {\"view\": {\"width\": 400, \"height\": 300}, \"mark\": {\"tooltip\": null}, \"legend\": {\"orient\": \"bottom\"}}, \"hconcat\": [{\"data\": {\"name\": \"data-25d6b3ecf1e55ac7c5f66f9fec336051\"}, \"mark\": \"bar\", \"encoding\": {\"color\": {\"type\": \"nominal\", \"field\": \"nn_p\", \"legend\": {\"title\": \"n_p\"}}, \"column\": {\"type\": \"nominal\", \"field\": \"function\", \"sort\": \"descending\", \"title\": \"\"}, \"tooltip\": [{\"type\": \"quantitative\", \"field\": \"mof_norm\"}, {\"type\": \"quantitative\", \"field\": \"mof\"}, {\"type\": \"quantitative\", \"field\": \"freq\"}, {\"type\": \"nominal\", \"field\": \"function\"}], \"x\": {\"type\": \"nominal\", \"axis\": null, \"field\": \"nn_p\", \"title\": \"\"}, \"y\": {\"type\": \"quantitative\", \"aggregate\": \"mean\", \"field\": \"mof_norm\", \"title\": \"exp1 (MOF_norm)\"}}, \"height\": 150, \"width\": 50}, {\"data\": {\"name\": \"data-8939745b9f19853e5829b3f91900b00c\"}, \"mark\": \"bar\", \"encoding\": {\"color\": {\"type\": \"nominal\", \"field\": \"nn_p\", \"legend\": {\"title\": \"n_p\"}}, \"column\": {\"type\": \"nominal\", \"field\": \"function\", \"sort\": \"descending\", \"title\": \"\"}, \"tooltip\": [{\"type\": \"quantitative\", \"field\": \"mof_norm\"}, {\"type\": \"quantitative\", \"field\": \"mof\"}, {\"type\": \"quantitative\", \"field\": \"freq\"}, {\"type\": \"nominal\", \"field\": \"function\"}], \"x\": {\"type\": \"nominal\", \"axis\": null, \"field\": \"nn_p\", \"title\": \"\"}, \"y\": {\"type\": \"quantitative\", \"aggregate\": \"mean\", \"field\": \"mof_norm\", \"title\": \"exp2 (MOF_norm)\"}}, \"height\": 150, \"width\": 50}, {\"data\": {\"name\": \"data-60fe43c89c7b86a35aa7a8c7b25f256a\"}, \"mark\": \"bar\", \"encoding\": {\"color\": {\"type\": \"nominal\", \"field\": \"nn_p\", \"legend\": {\"title\": \"n_p\"}}, \"column\": {\"type\": \"nominal\", \"field\": \"function\", \"sort\": \"descending\", \"title\": \"\"}, \"tooltip\": [{\"type\": \"quantitative\", \"field\": \"mof_norm\"}, {\"type\": \"quantitative\", \"field\": \"mof\"}, {\"type\": \"quantitative\", \"field\": \"freq\"}, {\"type\": \"nominal\", \"field\": \"function\"}], \"x\": {\"type\": \"nominal\", \"axis\": null, \"field\": \"nn_p\", \"title\": \"\"}, \"y\": {\"type\": \"quantitative\", \"aggregate\": \"mean\", \"field\": \"mof_norm\", \"title\": \"exp4 (MOF_norm)\"}}, \"height\": 150, \"width\": 50}], \"$schema\": \"https://vega.github.io/schema/vega-lite/v3.3.0.json\", \"datasets\": {\"data-25d6b3ecf1e55ac7c5f66f9fec336051\": [{\"experiment\": \"exp1\", \"function\": \"Rastrigin\", \"freq\": 1.0, \"nn_p\": \"1\", \"method\": \"NNnorm\", \"mof\": 16.799697113308735, \"mof_std\": 0.36133141340829106, \"mof_norm\": 1.116252820202656}, {\"experiment\": \"exp1\", \"function\": \"Rastrigin\", \"freq\": 1.0, \"nn_p\": \"3\", \"method\": \"NNnorm\", \"mof\": 16.486775400457727, \"mof_std\": 0.1523918910893313, \"mof_norm\": 1.0954607938871417}, {\"experiment\": \"exp1\", \"function\": \"Rastrigin\", \"freq\": 1.0, \"nn_p\": \"7\", \"method\": \"NNnorm\", \"mof\": 16.282586177216732, \"mof_std\": 0.3039756956526317, \"mof_norm\": 1.0818934780742164}, {\"experiment\": \"exp1\", \"function\": \"Rastrigin\", \"freq\": 1.0, \"nn_p\": \"9\", \"method\": \"NNnorm\", \"mof\": 15.050082570235967, \"mof_std\": 3.053362388498945, \"mof_norm\": 1.0}, {\"experiment\": \"exp1\", \"function\": \"Rosenbrock\", \"freq\": 1.0, \"nn_p\": \"1\", \"method\": \"NNnorm\", \"mof\": 5334.10982360564, \"mof_std\": 290.5943044924302, \"mof_norm\": 1.1978228292385087}, {\"experiment\": \"exp1\", \"function\": \"Rosenbrock\", \"freq\": 1.0, \"nn_p\": \"3\", \"method\": \"NNnorm\", \"mof\": 4660.407119890733, \"mof_std\": 139.90449113080842, \"mof_norm\": 1.0465367655248936}, {\"experiment\": \"exp1\", \"function\": \"Rosenbrock\", \"freq\": 1.0, \"nn_p\": \"7\", \"method\": \"NNnorm\", \"mof\": 4453.170947657335, \"mof_std\": 227.067120794847, \"mof_norm\": 1.0}, {\"experiment\": \"exp1\", \"function\": \"Rosenbrock\", \"freq\": 1.0, \"nn_p\": \"9\", \"method\": \"NNnorm\", \"mof\": 4486.2461658484035, \"mof_std\": 246.14293304397964, \"mof_norm\": 1.00742734078252}, {\"experiment\": \"exp1\", \"function\": \"Sphere\", \"freq\": 1.0, \"nn_p\": \"1\", \"method\": \"NNnorm\", \"mof\": 1.767623767985903, \"mof_std\": 0.08625483502372583, \"mof_norm\": 1.2663097525507907}, {\"experiment\": \"exp1\", \"function\": \"Sphere\", \"freq\": 1.0, \"nn_p\": \"3\", \"method\": \"NNnorm\", \"mof\": 1.4570378284915166, \"mof_std\": 0.04640611761850371, \"mof_norm\": 1.0438087818634425}, {\"experiment\": \"exp1\", \"function\": \"Sphere\", \"freq\": 1.0, \"nn_p\": \"7\", \"method\": \"NNnorm\", \"mof\": 1.4074009152679505, \"mof_std\": 0.0526211170108347, \"mof_norm\": 1.0082493441369746}, {\"experiment\": \"exp1\", \"function\": \"Sphere\", \"freq\": 1.0, \"nn_p\": \"9\", \"method\": \"NNnorm\", \"mof\": 1.3958857731493346, \"mof_std\": 0.07417540234867305, \"mof_norm\": 1.0}], \"data-8939745b9f19853e5829b3f91900b00c\": [{\"experiment\": \"exp2\", \"function\": \"Rastrigin\", \"freq\": 1.0, \"nn_p\": \"1\", \"method\": \"NNnorm\", \"mof\": 1.9216905868833942, \"mof_std\": 0.23622632468784652, \"mof_norm\": 1.0}, {\"experiment\": \"exp2\", \"function\": \"Rastrigin\", \"freq\": 1.0, \"nn_p\": \"3\", \"method\": \"NNnorm\", \"mof\": 1.953058838174042, \"mof_std\": 0.13356754728084141, \"mof_norm\": 1.0163232580233017}, {\"experiment\": \"exp2\", \"function\": \"Rastrigin\", \"freq\": 1.0, \"nn_p\": \"7\", \"method\": \"NNnorm\", \"mof\": 1.9808024411899927, \"mof_std\": 0.17716216035212753, \"mof_norm\": 1.0307603392086477}, {\"experiment\": \"exp2\", \"function\": \"Rastrigin\", \"freq\": 1.0, \"nn_p\": \"9\", \"method\": \"NNnorm\", \"mof\": 2.0992245656812973, \"mof_std\": 0.2026854502176373, \"mof_norm\": 1.0923842683154463}, {\"experiment\": \"exp2\", \"function\": \"Rosenbrock\", \"freq\": 1.0, \"nn_p\": \"1\", \"method\": \"NNnorm\", \"mof\": 72.92704098718335, \"mof_std\": 9.864983419113235, \"mof_norm\": 1.2594653555326774}, {\"experiment\": \"exp2\", \"function\": \"Rosenbrock\", \"freq\": 1.0, \"nn_p\": \"3\", \"method\": \"NNnorm\", \"mof\": 59.897931615306085, \"mof_std\": 6.687749303596175, \"mof_norm\": 1.0344498928840629}, {\"experiment\": \"exp2\", \"function\": \"Rosenbrock\", \"freq\": 1.0, \"nn_p\": \"7\", \"method\": \"NNnorm\", \"mof\": 57.903173490897366, \"mof_std\": 5.964877533826209, \"mof_norm\": 1.0}, {\"experiment\": \"exp2\", \"function\": \"Rosenbrock\", \"freq\": 1.0, \"nn_p\": \"9\", \"method\": \"NNnorm\", \"mof\": 62.368438815853075, \"mof_std\": 6.879034340844079, \"mof_norm\": 1.077116072500891}, {\"experiment\": \"exp2\", \"function\": \"Sphere\", \"freq\": 1.0, \"nn_p\": \"1\", \"method\": \"NNnorm\", \"mof\": 0.12039591225172916, \"mof_std\": 0.016264291940511762, \"mof_norm\": 1.446734563333034}, {\"experiment\": \"exp2\", \"function\": \"Sphere\", \"freq\": 1.0, \"nn_p\": \"3\", \"method\": \"NNnorm\", \"mof\": 0.0858847866101598, \"mof_std\": 0.005743157885260784, \"mof_norm\": 1.0320324579924913}, {\"experiment\": \"exp2\", \"function\": \"Sphere\", \"freq\": 1.0, \"nn_p\": \"7\", \"method\": \"NNnorm\", \"mof\": 0.08321907508337753, \"mof_std\": 0.0055370185799050444, \"mof_norm\": 1.0}, {\"experiment\": \"exp2\", \"function\": \"Sphere\", \"freq\": 1.0, \"nn_p\": \"9\", \"method\": \"NNnorm\", \"mof\": 0.08464170522068674, \"mof_std\": 0.0036693283804815863, \"mof_norm\": 1.0170950005859098}], \"data-60fe43c89c7b86a35aa7a8c7b25f256a\": [{\"experiment\": \"exp4\", \"function\": \"Rastrigin\", \"freq\": 1.0, \"nn_p\": \"1\", \"method\": \"NNnorm\", \"mof\": 60.23519002317648, \"mof_std\": 7.556018548495631, \"mof_norm\": 1.1781418057231514}, {\"experiment\": \"exp4\", \"function\": \"Rastrigin\", \"freq\": 1.0, \"nn_p\": \"3\", \"method\": \"NNnorm\", \"mof\": 54.48032569212979, \"mof_std\": 4.832267797502134, \"mof_norm\": 1.0655822495556957}, {\"experiment\": \"exp4\", \"function\": \"Rastrigin\", \"freq\": 1.0, \"nn_p\": \"7\", \"method\": \"NNnorm\", \"mof\": 53.58323555730281, \"mof_std\": 4.994891244230721, \"mof_norm\": 1.0480360379319782}, {\"experiment\": \"exp4\", \"function\": \"Rastrigin\", \"freq\": 1.0, \"nn_p\": \"9\", \"method\": \"NNnorm\", \"mof\": 51.12728343104989, \"mof_std\": 4.4862582592801274, \"mof_norm\": 1.0}, {\"experiment\": \"exp4\", \"function\": \"Rosenbrock\", \"freq\": 1.0, \"nn_p\": \"1\", \"method\": \"NNnorm\", \"mof\": 8347487.024181661, \"mof_std\": 1238625.5593925675, \"mof_norm\": 1.2522362831448093}, {\"experiment\": \"exp4\", \"function\": \"Rosenbrock\", \"freq\": 1.0, \"nn_p\": \"3\", \"method\": \"NNnorm\", \"mof\": 8278693.002325241, \"mof_std\": 1108447.765417076, \"mof_norm\": 1.241916246709591}, {\"experiment\": \"exp4\", \"function\": \"Rosenbrock\", \"freq\": 1.0, \"nn_p\": \"7\", \"method\": \"NNnorm\", \"mof\": 7268829.892454596, \"mof_std\": 1214954.5444317097, \"mof_norm\": 1.090423081937233}, {\"experiment\": \"exp4\", \"function\": \"Rosenbrock\", \"freq\": 1.0, \"nn_p\": \"9\", \"method\": \"NNnorm\", \"mof\": 6666063.854353558, \"mof_std\": 1207167.8983019118, \"mof_norm\": 1.0}, {\"experiment\": \"exp4\", \"function\": \"Sphere\", \"freq\": 1.0, \"nn_p\": \"1\", \"method\": \"NNnorm\", \"mof\": 35.866499811441074, \"mof_std\": 2.668591022087754, \"mof_norm\": 1.1767552018722955}, {\"experiment\": \"exp4\", \"function\": \"Sphere\", \"freq\": 1.0, \"nn_p\": \"3\", \"method\": \"NNnorm\", \"mof\": 35.75765439544711, \"mof_std\": 3.210119552390131, \"mof_norm\": 1.1731840586008802}, {\"experiment\": \"exp4\", \"function\": \"Sphere\", \"freq\": 1.0, \"nn_p\": \"7\", \"method\": \"NNnorm\", \"mof\": 34.34280210857617, \"mof_std\": 2.437141438648516, \"mof_norm\": 1.126763727729196}, {\"experiment\": \"exp4\", \"function\": \"Sphere\", \"freq\": 1.0, \"nn_p\": \"9\", \"method\": \"NNnorm\", \"mof\": 30.479151274942396, \"mof_std\": 2.6099140093716398, \"mof_norm\": 1.0}]}};\n",
       "var opt = {};\n",
       "var type = \"vega-lite\";\n",
       "var id = \"a2dc1a71-1447-41b2-be76-e290b67be860\";\n",
       "\n",
       "var output_area = this;\n",
       "\n",
       "require([\"nbextensions/jupyter-vega/index\"], function(vega) {\n",
       "  var target = document.createElement(\"div\");\n",
       "  target.id = id;\n",
       "  target.className = \"vega-embed\";\n",
       "\n",
       "  var style = document.createElement(\"style\");\n",
       "  style.textContent = [\n",
       "    \".vega-embed .error p {\",\n",
       "    \"  color: firebrick;\",\n",
       "    \"  font-size: 14px;\",\n",
       "    \"}\",\n",
       "  ].join(\"\\\\n\");\n",
       "\n",
       "  // element is a jQuery wrapped DOM element inside the output area\n",
       "  // see http://ipython.readthedocs.io/en/stable/api/generated/\\\n",
       "  // IPython.display.html#IPython.display.Javascript.__init__\n",
       "  element[0].appendChild(target);\n",
       "  element[0].appendChild(style);\n",
       "\n",
       "  vega.render(\"#\" + id, spec, type, opt, output_area);\n",
       "}, function (err) {\n",
       "  if (err.requireType !== \"scripterror\") {\n",
       "    throw(err);\n",
       "  }\n",
       "});\n"
      ],
      "text/plain": [
       "<vega.vegalite.VegaLite at 0x7f4768eeb7f0>"
      ]
     },
     "metadata": {
      "jupyter-vega": "#a2dc1a71-1447-41b2-be76-e290b67be860"
     },
     "output_type": "display_data"
    },
    {
     "data": {
      "image/png": "[encoded data removed]"
     },
     "metadata": {
      "jupyter-vega": "#a2dc1a71-1447-41b2-be76-e290b67be860"
     },
     "output_type": "display_data"
    },
    {
     "data": {
      "text/plain": []
     },
     "metadata": {},
     "output_type": "display_data"
    },
    {
     "name": "stdout",
     "output_type": "stream",
     "text": [
      "Random\n"
     ]
    },
    {
     "data": {
      "application/javascript": [
       "var spec = {\"config\": {\"view\": {\"width\": 400, \"height\": 300}, \"mark\": {\"tooltip\": null}, \"legend\": {\"orient\": \"bottom\"}}, \"hconcat\": [{\"data\": {\"name\": \"data-5cb71f9687a09a5f6195ab4cb110c220\"}, \"mark\": \"bar\", \"encoding\": {\"color\": {\"type\": \"nominal\", \"field\": \"nn_p\", \"legend\": {\"title\": \"n_p\"}}, \"column\": {\"type\": \"nominal\", \"field\": \"function\", \"sort\": \"descending\", \"title\": \"\"}, \"tooltip\": [{\"type\": \"quantitative\", \"field\": \"mof_norm\"}, {\"type\": \"quantitative\", \"field\": \"mof\"}, {\"type\": \"quantitative\", \"field\": \"freq\"}, {\"type\": \"nominal\", \"field\": \"function\"}], \"x\": {\"type\": \"nominal\", \"axis\": null, \"field\": \"nn_p\", \"title\": \"\"}, \"y\": {\"type\": \"quantitative\", \"aggregate\": \"mean\", \"field\": \"mof_norm\", \"title\": \"exp1 (MOF_norm)\"}}, \"height\": 150, \"width\": 50}, {\"data\": {\"name\": \"data-0a657fe30941c1dcab13779d3fae09a5\"}, \"mark\": \"bar\", \"encoding\": {\"color\": {\"type\": \"nominal\", \"field\": \"nn_p\", \"legend\": {\"title\": \"n_p\"}}, \"column\": {\"type\": \"nominal\", \"field\": \"function\", \"sort\": \"descending\", \"title\": \"\"}, \"tooltip\": [{\"type\": \"quantitative\", \"field\": \"mof_norm\"}, {\"type\": \"quantitative\", \"field\": \"mof\"}, {\"type\": \"quantitative\", \"field\": \"freq\"}, {\"type\": \"nominal\", \"field\": \"function\"}], \"x\": {\"type\": \"nominal\", \"axis\": null, \"field\": \"nn_p\", \"title\": \"\"}, \"y\": {\"type\": \"quantitative\", \"aggregate\": \"mean\", \"field\": \"mof_norm\", \"title\": \"exp2 (MOF_norm)\"}}, \"height\": 150, \"width\": 50}, {\"data\": {\"name\": \"data-9038a406cce96c6dd77b8c95aee2bc32\"}, \"mark\": \"bar\", \"encoding\": {\"color\": {\"type\": \"nominal\", \"field\": \"nn_p\", \"legend\": {\"title\": \"n_p\"}}, \"column\": {\"type\": \"nominal\", \"field\": \"function\", \"sort\": \"descending\", \"title\": \"\"}, \"tooltip\": [{\"type\": \"quantitative\", \"field\": \"mof_norm\"}, {\"type\": \"quantitative\", \"field\": \"mof\"}, {\"type\": \"quantitative\", \"field\": \"freq\"}, {\"type\": \"nominal\", \"field\": \"function\"}], \"x\": {\"type\": \"nominal\", \"axis\": null, \"field\": \"nn_p\", \"title\": \"\"}, \"y\": {\"type\": \"quantitative\", \"aggregate\": \"mean\", \"field\": \"mof_norm\", \"title\": \"exp4 (MOF_norm)\"}}, \"height\": 150, \"width\": 50}], \"$schema\": \"https://vega.github.io/schema/vega-lite/v3.3.0.json\", \"datasets\": {\"data-5cb71f9687a09a5f6195ab4cb110c220\": [{\"experiment\": \"exp1\", \"function\": \"Rastrigin\", \"freq\": 1.0, \"nn_p\": \"1\", \"method\": \"NNnorm\", \"mof\": 16.850386858660517, \"mof_std\": 0.5094777842888666, \"mof_norm\": 1.205918724515324}, {\"experiment\": \"exp1\", \"function\": \"Rastrigin\", \"freq\": 1.0, \"nn_p\": \"3\", \"method\": \"NNnorm\", \"mof\": 15.988947655495222, \"mof_std\": 0.4359167802059968, \"mof_norm\": 1.1442687651498706}, {\"experiment\": \"exp1\", \"function\": \"Rastrigin\", \"freq\": 1.0, \"nn_p\": \"7\", \"method\": \"NNnorm\", \"mof\": 15.320398441115964, \"mof_std\": 2.619735376491593, \"mof_norm\": 1.0964232158077445}, {\"experiment\": \"exp1\", \"function\": \"Rastrigin\", \"freq\": 1.0, \"nn_p\": \"9\", \"method\": \"NNnorm\", \"mof\": 13.973070088477918, \"mof_std\": 3.6840708319357245, \"mof_norm\": 1.0}, {\"experiment\": \"exp1\", \"function\": \"Rosenbrock\", \"freq\": 1.0, \"nn_p\": \"1\", \"method\": \"NNnorm\", \"mof\": 5270.967694032018, \"mof_std\": 370.9410187130533, \"mof_norm\": 1.2063732273038097}, {\"experiment\": \"exp1\", \"function\": \"Rosenbrock\", \"freq\": 1.0, \"nn_p\": \"3\", \"method\": \"NNnorm\", \"mof\": 4369.267797671866, \"mof_std\": 271.79749867116095, \"mof_norm\": 1.0}, {\"experiment\": \"exp1\", \"function\": \"Rosenbrock\", \"freq\": 1.0, \"nn_p\": \"7\", \"method\": \"NNnorm\", \"mof\": 5530.047836599624, \"mof_std\": 4544.558043550252, \"mof_norm\": 1.2656692362839996}, {\"experiment\": \"exp1\", \"function\": \"Rosenbrock\", \"freq\": 1.0, \"nn_p\": \"9\", \"method\": \"NNnorm\", \"mof\": 5745.002549502297, \"mof_std\": 4781.09961724785, \"mof_norm\": 1.3148662008228202}, {\"experiment\": \"exp1\", \"function\": \"Sphere\", \"freq\": 1.0, \"nn_p\": \"1\", \"method\": \"NNnorm\", \"mof\": 1.6213225405295923, \"mof_std\": 0.10882678809188888, \"mof_norm\": 1.1896147131231156}, {\"experiment\": \"exp1\", \"function\": \"Sphere\", \"freq\": 1.0, \"nn_p\": \"3\", \"method\": \"NNnorm\", \"mof\": 1.362897182292834, \"mof_std\": 0.06663177762130583, \"mof_norm\": 1.0}, {\"experiment\": \"exp1\", \"function\": \"Sphere\", \"freq\": 1.0, \"nn_p\": \"7\", \"method\": \"NNnorm\", \"mof\": 2.450757643218628, \"mof_std\": 4.273339817837978, \"mof_norm\": 1.7981970137289893}, {\"experiment\": \"exp1\", \"function\": \"Sphere\", \"freq\": 1.0, \"nn_p\": \"9\", \"method\": \"NNnorm\", \"mof\": 2.052210199119591, \"mof_std\": 2.1609895167781126, \"mof_norm\": 1.505770373423995}], \"data-0a657fe30941c1dcab13779d3fae09a5\": [{\"experiment\": \"exp2\", \"function\": \"Rastrigin\", \"freq\": 1.0, \"nn_p\": \"1\", \"method\": \"NNnorm\", \"mof\": 2.0203355961340623, \"mof_std\": 0.24001328096598068, \"mof_norm\": 1.0286995562242283}, {\"experiment\": \"exp2\", \"function\": \"Rastrigin\", \"freq\": 1.0, \"nn_p\": \"3\", \"method\": \"NNnorm\", \"mof\": 1.9639705139463333, \"mof_std\": 0.23428557080454912, \"mof_norm\": 1.0}, {\"experiment\": \"exp2\", \"function\": \"Rastrigin\", \"freq\": 1.0, \"nn_p\": \"7\", \"method\": \"NNnorm\", \"mof\": 4.080702299620544, \"mof_std\": 0.42567559120266274, \"mof_norm\": 2.0777818560121477}, {\"experiment\": \"exp2\", \"function\": \"Rastrigin\", \"freq\": 1.0, \"nn_p\": \"9\", \"method\": \"NNnorm\", \"mof\": 2.4871134326107858, \"mof_std\": 0.3020599006694594, \"mof_norm\": 1.2663700472840946}, {\"experiment\": \"exp2\", \"function\": \"Rosenbrock\", \"freq\": 1.0, \"nn_p\": \"1\", \"method\": \"NNnorm\", \"mof\": 77.68216803249945, \"mof_std\": 11.343223453319268, \"mof_norm\": 1.2522549105753122}, {\"experiment\": \"exp2\", \"function\": \"Rosenbrock\", \"freq\": 1.0, \"nn_p\": \"3\", \"method\": \"NNnorm\", \"mof\": 62.03382983486215, \"mof_std\": 9.815094596026338, \"mof_norm\": 1.0}, {\"experiment\": \"exp2\", \"function\": \"Rosenbrock\", \"freq\": 1.0, \"nn_p\": \"7\", \"method\": \"NNnorm\", \"mof\": 63.81982274089483, \"mof_std\": 13.129183826840848, \"mof_norm\": 1.0287906278040078}, {\"experiment\": \"exp2\", \"function\": \"Rosenbrock\", \"freq\": 1.0, \"nn_p\": \"9\", \"method\": \"NNnorm\", \"mof\": 63.44064150256062, \"mof_std\": 10.70268062782543, \"mof_norm\": 1.022678136614223}, {\"experiment\": \"exp2\", \"function\": \"Sphere\", \"freq\": 1.0, \"nn_p\": \"1\", \"method\": \"NNnorm\", \"mof\": 0.12224110310806707, \"mof_std\": 0.015479233481297422, \"mof_norm\": 1.4186285063469581}, {\"experiment\": \"exp2\", \"function\": \"Sphere\", \"freq\": 1.0, \"nn_p\": \"3\", \"method\": \"NNnorm\", \"mof\": 0.09708310089242003, \"mof_std\": 0.026805780238501806, \"mof_norm\": 1.1266656706197211}, {\"experiment\": \"exp2\", \"function\": \"Sphere\", \"freq\": 1.0, \"nn_p\": \"7\", \"method\": \"NNnorm\", \"mof\": 0.08616850892334332, \"mof_std\": 0.015528508865958772, \"mof_norm\": 1.0}, {\"experiment\": \"exp2\", \"function\": \"Sphere\", \"freq\": 1.0, \"nn_p\": \"9\", \"method\": \"NNnorm\", \"mof\": 0.10835794483041654, \"mof_std\": 0.055892068203105674, \"mof_norm\": 1.2575121257675845}], \"data-9038a406cce96c6dd77b8c95aee2bc32\": [{\"experiment\": \"exp4\", \"function\": \"Rastrigin\", \"freq\": 1.0, \"nn_p\": \"1\", \"method\": \"NNnorm\", \"mof\": 61.15279342213382, \"mof_std\": 4.630943361152818, \"mof_norm\": 1.151778983724235}, {\"experiment\": \"exp4\", \"function\": \"Rastrigin\", \"freq\": 1.0, \"nn_p\": \"3\", \"method\": \"NNnorm\", \"mof\": 55.87411816367587, \"mof_std\": 4.817095096874057, \"mof_norm\": 1.052358059766959}, {\"experiment\": \"exp4\", \"function\": \"Rastrigin\", \"freq\": 1.0, \"nn_p\": \"7\", \"method\": \"NNnorm\", \"mof\": 54.328468172990775, \"mof_std\": 5.31216555901792, \"mof_norm\": 1.02324659852633}, {\"experiment\": \"exp4\", \"function\": \"Rastrigin\", \"freq\": 1.0, \"nn_p\": \"9\", \"method\": \"NNnorm\", \"mof\": 53.094208425646485, \"mof_std\": 3.4339303558575875, \"mof_norm\": 1.0}, {\"experiment\": \"exp4\", \"function\": \"Rosenbrock\", \"freq\": 1.0, \"nn_p\": \"1\", \"method\": \"NNnorm\", \"mof\": 9170887.614357691, \"mof_std\": 1167889.4113034601, \"mof_norm\": 1.2152453687602152}, {\"experiment\": \"exp4\", \"function\": \"Rosenbrock\", \"freq\": 1.0, \"nn_p\": \"3\", \"method\": \"NNnorm\", \"mof\": 7605030.291863018, \"mof_std\": 1070396.1179341888, \"mof_norm\": 1.0077517280877688}, {\"experiment\": \"exp4\", \"function\": \"Rosenbrock\", \"freq\": 1.0, \"nn_p\": \"7\", \"method\": \"NNnorm\", \"mof\": 7740485.6647152295, \"mof_std\": 1747761.9231381733, \"mof_norm\": 1.025701082769057}, {\"experiment\": \"exp4\", \"function\": \"Rosenbrock\", \"freq\": 1.0, \"nn_p\": \"9\", \"method\": \"NNnorm\", \"mof\": 7546531.630656422, \"mof_std\": 1561302.5579407895, \"mof_norm\": 1.0}, {\"experiment\": \"exp4\", \"function\": \"Sphere\", \"freq\": 1.0, \"nn_p\": \"1\", \"method\": \"NNnorm\", \"mof\": 39.53419273800066, \"mof_std\": 2.5709658856877384, \"mof_norm\": 1.1304250685265174}, {\"experiment\": \"exp4\", \"function\": \"Sphere\", \"freq\": 1.0, \"nn_p\": \"3\", \"method\": \"NNnorm\", \"mof\": 36.61988650233869, \"mof_std\": 2.562533721548974, \"mof_norm\": 1.0470945488422536}, {\"experiment\": \"exp4\", \"function\": \"Sphere\", \"freq\": 1.0, \"nn_p\": \"7\", \"method\": \"NNnorm\", \"mof\": 38.4490560656044, \"mof_std\": 4.249922049551928, \"mof_norm\": 1.0993970997658173}, {\"experiment\": \"exp4\", \"function\": \"Sphere\", \"freq\": 1.0, \"nn_p\": \"9\", \"method\": \"NNnorm\", \"mof\": 34.97285564405658, \"mof_std\": 4.858553792723644, \"mof_norm\": 1.0}]}};\n",
       "var opt = {};\n",
       "var type = \"vega-lite\";\n",
       "var id = \"adf044e6-a8f3-4613-b0ce-e1d22d815ec6\";\n",
       "\n",
       "var output_area = this;\n",
       "\n",
       "require([\"nbextensions/jupyter-vega/index\"], function(vega) {\n",
       "  var target = document.createElement(\"div\");\n",
       "  target.id = id;\n",
       "  target.className = \"vega-embed\";\n",
       "\n",
       "  var style = document.createElement(\"style\");\n",
       "  style.textContent = [\n",
       "    \".vega-embed .error p {\",\n",
       "    \"  color: firebrick;\",\n",
       "    \"  font-size: 14px;\",\n",
       "    \"}\",\n",
       "  ].join(\"\\\\n\");\n",
       "\n",
       "  // element is a jQuery wrapped DOM element inside the output area\n",
       "  // see http://ipython.readthedocs.io/en/stable/api/generated/\\\n",
       "  // IPython.display.html#IPython.display.Javascript.__init__\n",
       "  element[0].appendChild(target);\n",
       "  element[0].appendChild(style);\n",
       "\n",
       "  vega.render(\"#\" + id, spec, type, opt, output_area);\n",
       "}, function (err) {\n",
       "  if (err.requireType !== \"scripterror\") {\n",
       "    throw(err);\n",
       "  }\n",
       "});\n"
      ],
      "text/plain": [
       "<vega.vegalite.VegaLite at 0x7f4768e9fdd8>"
      ]
     },
     "metadata": {
      "jupyter-vega": "#adf044e6-a8f3-4613-b0ce-e1d22d815ec6"
     },
     "output_type": "display_data"
    },
    {
     "data": {
      "image/png": "[encoded data removed]"
     },
     "metadata": {
      "jupyter-vega": "#adf044e6-a8f3-4613-b0ce-e1d22d815ec6"
     },
     "output_type": "display_data"
    },
    {
     "data": {
      "text/plain": []
     },
     "metadata": {},
     "output_type": "display_data"
    }
   ],
   "source": [
    "for replace_mech in ['Worst', 'Random']:\n",
    "    print(replace_mech)\n",
    "    d = get_data(1, 'NNnorm_'+replace_mech)\n",
    "    #nnpick=(plot2_experiment('exp1')|plot2_experiment('exp2'))&(plot2_experiment('exp3')|plot2_experiment('exp4'))\n",
    "    nnpick=plot2_experiment('exp1',d)|plot2_experiment('exp2',d)|plot2_experiment('exp4',d)\n",
    "    nnpick = nnpick.configure_legend(\n",
    "        orient='bottom'\n",
    "    )\n",
    "    nnpick.save(str(path/f'nnp{freq}_{replace_mech}.png'), scale_factor=2)\n",
    "    display(nnpick)"
   ]
  },
  {
   "cell_type": "code",
   "execution_count": 32,
   "metadata": {},
   "outputs": [],
   "source": [
    "# freq = 1\n",
    "# nnpick=(plot3_experiment('exp1',d)|plot3_experiment('exp2',d))|(plot3_experiment('exp3',d)|plot3_experiment('exp4',d))\n",
    "# # nnpick=plot3_experiment('exp2')|plot3_experiment('exp4')\n",
    "\n",
    "# nnpick"
   ]
  },
  {
   "cell_type": "code",
   "execution_count": null,
   "metadata": {},
   "outputs": [],
   "source": []
  },
  {
   "cell_type": "code",
   "execution_count": null,
   "metadata": {},
   "outputs": [],
   "source": []
  },
  {
   "cell_type": "code",
   "execution_count": null,
   "metadata": {},
   "outputs": [],
   "source": []
  },
  {
   "cell_type": "code",
   "execution_count": 152,
   "metadata": {},
   "outputs": [],
   "source": [
    "#nnpick.save(str(path/f'nnptotal{freq}.png'), scale_factor=2)"
   ]
  },
  {
   "cell_type": "code",
   "execution_count": null,
   "metadata": {},
   "outputs": [],
   "source": []
  },
  {
   "cell_type": "code",
   "execution_count": null,
   "metadata": {},
   "outputs": [],
   "source": []
  },
  {
   "cell_type": "code",
   "execution_count": null,
   "metadata": {},
   "outputs": [],
   "source": []
  }
 ],
 "metadata": {
  "kernelspec": {
   "display_name": "Python 3",
   "language": "python",
   "name": "python3"
  },
  "language_info": {
   "codemirror_mode": {
    "name": "ipython",
    "version": 3
   },
   "file_extension": ".py",
   "mimetype": "text/x-python",
   "name": "python",
   "nbconvert_exporter": "python",
   "pygments_lexer": "ipython3",
   "version": "3.7.3"
  },
  "toc": {
   "base_numbering": 1,
   "nav_menu": {},
   "number_sections": true,
   "sideBar": true,
   "skip_h1_title": false,
   "title_cell": "Table of Contents",
   "title_sidebar": "Contents",
   "toc_cell": false,
   "toc_position": {},
   "toc_section_display": true,
   "toc_window_display": false
  }
 },
 "nbformat": 4,
 "nbformat_minor": 2
}
