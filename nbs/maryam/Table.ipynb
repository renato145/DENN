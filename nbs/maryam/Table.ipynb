{
 "cells": [
  {
   "cell_type": "code",
   "execution_count": 5,
   "metadata": {},
   "outputs": [],
   "source": [
    "%reload_ext autoreload\n",
    "%autoreload 2\n",
    "%matplotlib inline\n",
    "from denn import *\n",
    "import pandas as pd\n",
    "import io #Used as buffer"
   ]
  },
  {
   "cell_type": "code",
   "execution_count": 6,
   "metadata": {},
   "outputs": [],
   "source": [
    "Func_names=['sphere','rastrigin','rosenbrock']\n",
    "exp_names=['exp1','exp4']\n"
   ]
  },
  {
   "cell_type": "code",
   "execution_count": 7,
   "metadata": {},
   "outputs": [
    {
     "name": "stdout",
     "output_type": "stream",
     "text": [
      ",noNNReval,NNnorm_Random,NNnorm_Worst,NNnorm_Closest,NNdrop_Random,NNdrop_Worst,NNdrop_Closest\n",
      "sphere,11.78,11.82,11.82,11.82,11.81,11.81,11.83\n",
      "rastrigin,18.92,18.79,18.79,19.13,19.86,19.86,19.61\n",
      "rosenbrock,64139.57,64367.24,64367.24,64370.11,64372.84,64372.84,64361.56\n",
      "sphere,25.53,11.90,11.90,12.35,16.24,16.24,16.37\n",
      "rastrigin,21.19,21.10,21.10,21.25,17.84,17.84,17.74\n",
      "rosenbrock,21.19,21.10,21.10,21.25,17.84,17.84,17.74\n",
      "\n"
     ]
    }
   ],
   "source": [
    "#Experiment = Enum('Experiment', 'exp1 exp2 exp3 exp4')\n",
    "#Method = Enum('Methods', 'noNNRestart noNNReval NNnorm NNdrop')\n",
    "#Mechname:Random, Worst, Closest\n",
    "measure_name=['mof','sr','arr','nfe','nn_time']\n",
    "index_measure=0\n",
    "total=[]\n",
    "lables = ['noNNReval', 'NNnorm_Random', 'NNnorm_Worst','NNnorm_Closest','NNdrop_Random', 'NNdrop_Worst', 'NNdrop_Closest']\n",
    "\n",
    "for experiment in exp_names:\n",
    "    \n",
    "    for func in Func_names:\n",
    "        path = Path(f'../../data/results/{experiment}/{func}')\n",
    "        noNNReval = pd.read_csv(path/f'noNNReval_{measure_name[index_measure]}.csv').mean(0).values[0]\n",
    "        #noNNRestart= pd.read_csv(path/'noNNRestart_mof.csv')\n",
    "\n",
    "        NNnorm_Random= pd.read_csv(path/f'NNnorm_Worst_{measure_name[index_measure]}.csv').mean(0).values[0]\n",
    "        NNdrop_Random = pd.read_csv(path/f'NNdrop_Worst_{measure_name[index_measure]}.csv').mean(0).values[0]\n",
    "\n",
    "\n",
    "        NNnorm_Worst= pd.read_csv(path/f'NNnorm_Worst_{measure_name[index_measure]}.csv').mean(0).values[0]\n",
    "        NNdrop_Worst = pd.read_csv(path/f'NNdrop_Worst_{measure_name[index_measure]}.csv').mean(0).values[0]\n",
    "\n",
    "\n",
    "        NNnorm_Closest= pd.read_csv(path/f'NNnorm_Closest_{measure_name[index_measure]}.csv').mean(0).values[0]\n",
    "        NNdrop_Closest = pd.read_csv(path/f'NNdrop_Closest_{measure_name[index_measure]}.csv').mean(0).values[0]\n",
    "        \n",
    "       # x=np.array([noNNReval.mof, NNnorm_Random.mof, NNnorm_Worst.mof, NNnorm_Closest.mof, NNdrop_Random.mof,NNdrop_Worst.mof,NNdrop_Closest.mof])\n",
    "        y=[noNNReval, NNnorm_Random,NNnorm_Worst,NNnorm_Closest,NNdrop_Random, NNdrop_Worst, NNdrop_Closest]\n",
    "        total.append(y)\n",
    "        #print(total)\n",
    "\n",
    "    #,  index=[Func_names,Func_names]\n",
    "\n",
    "df=pd.DataFrame(total, columns=lables,index=['sphere','rastrigin','rosenbrock','sphere','rastrigin','rosenbrock'])\n",
    "\n",
    "#pd.options.display.float_format = '{:,.2f}'.format\n",
    "\n",
    "\n",
    "print(pd.DataFrame.to_csv(df, float_format='%.2f'))\n",
    "\n",
    "\n",
    "#pd.DataFrame.to_latex(df, multirow=True)    #, float_format=\"%%.2f\" ,, , longtable=True,  bold_rows=True,\n"
   ]
  },
  {
   "cell_type": "code",
   "execution_count": 8,
   "metadata": {},
   "outputs": [
    {
     "name": "stdout",
     "output_type": "stream",
     "text": [
      "\\begin{tabular}{c|ccccccc}\n",
      "& \\textbf{noNNReval} & \\textbf{NNnorm_Random} & \\textbf{NNnorm_Worst} & \\textbf{NNnorm_Closest} & \\textbf{NNdrop_Random} & \\textbf{NNdrop_Worst} & \\textbf{NNdrop_Closest}\\\\\\hline\n",
      "\\textbf{sphere} & 11.775650616032223 & 11.82144129762056 & 11.82144129762056 & 11.822491833249632 & 11.811347733626853 & 11.811347733626853 & 11.82699790848324\\\\\n",
      "\\textbf{rastrigin} & 18.917118660335714 & 18.790416687818162 & 18.790416687818162 & 19.1310321885058 & 19.85619989856552 & 19.85619989856552 & 19.613490896019076\\\\\n",
      "\\textbf{rosenbrock} & 64139.57030845794 & 64367.24428154276 & 64367.24428154276 & 64370.11036241037 & 64372.835594117714 & 64372.835594117714 & 64361.55888344742\\\\\n",
      "\\textbf{sphere} & 25.53110134782689 & 11.903459858548265 & 11.903459858548265 & 12.353688934499708 & 16.236912970429 & 16.236912970429 & 16.372132381547598\\\\\n",
      "\\textbf{rastrigin} & 21.18886677908843 & 21.095365759084746 & 21.095365759084746 & 21.24743488652053 & 17.836148513951155 & 17.836148513951155 & 17.744977945926188\\\\\n",
      "\\textbf{rosenbrock} & 21.18886677908843 & 21.095365759084746 & 21.095365759084746 & 21.24743488652053 & 17.836148513951155 & 17.836148513951155 & 17.744977945926188\\\\\n",
      "\\end{tabular}\n"
     ]
    },
    {
     "name": "stderr",
     "output_type": "stream",
     "text": [
      "/Users/maryam/anaconda3/envs/denn/lib/python3.7/site-packages/ipykernel_launcher.py:18: DeprecationWarning: \n",
      ".ix is deprecated. Please use\n",
      ".loc for label based indexing or\n",
      ".iloc for positional indexing\n",
      "\n",
      "See the documentation here:\n",
      "http://pandas.pydata.org/pandas-docs/stable/indexing.html#ix-indexer-is-deprecated\n"
     ]
    }
   ],
   "source": [
    "##to latex\n",
    "def convertToLaTeX(df, alignment=\"c\"):\n",
    "    \"\"\"\n",
    "    Convert a pandas dataframe to a LaTeX tabular.\n",
    "    Prints labels in bold, does not use math mode\n",
    "    \"\"\"\n",
    "    numColumns = df.shape[1]\n",
    "    numRows = df.shape[0]\n",
    "    output = io.StringIO()\n",
    "    colFormat = (\"%s|%s\" % (alignment, alignment * numColumns))\n",
    "    #Write header\n",
    "    output.write(\"\\\\begin{tabular}{%s}\\n\" % colFormat)\n",
    "    columnLabels = [\"\\\\textbf{%s}\" % label for label in df.columns]\n",
    "    output.write(\"& %s\\\\\\\\\\\\hline\\n\" % \" & \".join(columnLabels))\n",
    "    #Write data lines\n",
    "    for i in range(numRows):\n",
    "        output.write(\"\\\\textbf{%s} & %s\\\\\\\\\\n\"\n",
    "                     % (df.index[i], \" & \".join([str(val) for val in df.ix[i]])))\n",
    "    #Write footer\n",
    "    output.write(\"\\\\end{tabular}\")\n",
    "    return output.getvalue()\n",
    "pd.options.display.float_format = '{:,.2f}'.format\n",
    "\n",
    "print(convertToLaTeX(df))"
   ]
  },
  {
   "cell_type": "code",
   "execution_count": 10,
   "metadata": {},
   "outputs": [
    {
     "name": "stdout",
     "output_type": "stream",
     "text": [
      ",NNnorm_Random,NNnorm_Worst,NNnorm_Closest,NNdrop_Random,NNdrop_Worst,NNdrop_Closest\n",
      "sphere,0.14,0.14,0.14,0.15,0.15,0.18\n",
      "rastrigin,0.19,0.19,0.19,0.20,0.20,0.20\n",
      "rosenbrock,0.13,0.13,0.13,0.14,0.14,0.17\n",
      "sphere,0.14,0.14,0.14,0.14,0.14,0.17\n",
      "rastrigin,0.15,0.15,0.15,0.15,0.15,0.18\n",
      "rosenbrock,0.15,0.15,0.15,0.15,0.15,0.18\n",
      "\n"
     ]
    }
   ],
   "source": [
    "#report nn_time\n",
    "measure_name=['mof','sr','arr','nfe','nn_time']\n",
    "index_measure=4\n",
    "total=[]\n",
    "lables = [ 'NNnorm_Random', 'NNnorm_Worst','NNnorm_Closest','NNdrop_Random', 'NNdrop_Worst', 'NNdrop_Closest']\n",
    "\n",
    "for experiment in exp_names:\n",
    "    \n",
    "    for func in Func_names:\n",
    "        path = Path(f'../../data/results/{experiment}/{func}')\n",
    "\n",
    "        NNnorm_Random= pd.read_csv(path/f'NNnorm_Worst_{measure_name[index_measure]}.csv').mean(0).values[0]\n",
    "        NNdrop_Random = pd.read_csv(path/f'NNdrop_Worst_{measure_name[index_measure]}.csv').mean(0).values[0]\n",
    "\n",
    "\n",
    "        NNnorm_Worst= pd.read_csv(path/f'NNnorm_Worst_{measure_name[index_measure]}.csv').mean(0).values[0]\n",
    "        NNdrop_Worst = pd.read_csv(path/f'NNdrop_Worst_{measure_name[index_measure]}.csv').mean(0).values[0]\n",
    "\n",
    "        NNnorm_Closest= pd.read_csv(path/f'NNnorm_Closest_{measure_name[index_measure]}.csv').mean(0).values[0]\n",
    "        NNdrop_Closest = pd.read_csv(path/f'NNdrop_Closest_{measure_name[index_measure]}.csv').mean(0).values[0]\n",
    "        \n",
    "       # x=np.array([noNNReval.mof, NNnorm_Random.mof, NNnorm_Worst.mof, NNnorm_Closest.mof, NNdrop_Random.mof,NNdrop_Worst.mof,NNdrop_Closest.mof])\n",
    "        y=[ NNnorm_Random,NNnorm_Worst,NNnorm_Closest,NNdrop_Random, NNdrop_Worst, NNdrop_Closest]\n",
    "        total.append(y)\n",
    "        #print(total)\n",
    "\n",
    "\n",
    "df=pd.DataFrame(total, columns=lables,index=['sphere','rastrigin','rosenbrock','sphere','rastrigin','rosenbrock'])\n",
    "\n",
    "\n",
    "\n",
    "print(pd.DataFrame.to_csv(df, float_format='%.2f'))\n",
    "#df\n"
   ]
  },
  {
   "cell_type": "code",
   "execution_count": null,
   "metadata": {},
   "outputs": [],
   "source": []
  },
  {
   "cell_type": "code",
   "execution_count": null,
   "metadata": {},
   "outputs": [],
   "source": []
  },
  {
   "cell_type": "code",
   "execution_count": null,
   "metadata": {},
   "outputs": [],
   "source": []
  }
 ],
 "metadata": {
  "kernelspec": {
   "display_name": "Python 3",
   "language": "python",
   "name": "python3"
  },
  "language_info": {
   "codemirror_mode": {
    "name": "ipython",
    "version": 3
   },
   "file_extension": ".py",
   "mimetype": "text/x-python",
   "name": "python",
   "nbconvert_exporter": "python",
   "pygments_lexer": "ipython3",
   "version": "3.7.3"
  }
 },
 "nbformat": 4,
 "nbformat_minor": 2
}
