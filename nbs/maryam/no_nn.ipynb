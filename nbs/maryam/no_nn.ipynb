{
 "cells": [
  {
   "cell_type": "code",
   "execution_count": 1,
   "metadata": {},
   "outputs": [],
   "source": [
    "%reload_ext autoreload\n",
    "%autoreload 2\n",
    "%matplotlib inline\n",
    "from denn import *"
   ]
  },
  {
   "cell_type": "code",
   "execution_count": 2,
   "metadata": {},
   "outputs": [],
   "source": [
    "experiment_name = 'no_nn'\n",
    "path = Path('../../data/results/experiment1')"
   ]
  },
  {
   "cell_type": "code",
   "execution_count": 3,
   "metadata": {},
   "outputs": [],
   "source": [
    "df = pd.read_csv(path/'best_known.csv')\n",
    "best_known_fitness = df['fitness'].values\n",
    "best_known_sumcv = df['sum_constraints'].values"
   ]
  },
  {
   "cell_type": "code",
   "execution_count": 4,
   "metadata": {},
   "outputs": [],
   "source": [
    "D = 30\n",
    "runs = 30\n",
    "nn_window = 5\n",
    "nn_nf = 4\n",
    "frequency = 1_000\n",
    "max_times = 100\n",
    "total_generations = max_times * frequency + 1000"
   ]
  },
  {
   "cell_type": "code",
   "execution_count": 5,
   "metadata": {},
   "outputs": [],
   "source": [
    "experiment=1\n",
    "#create this one as one of the experiments: sine-like movement by applying a separate sine function with random amplitude and frequency to each dimension\n",
    "\n",
    "if experiment==1:\n",
    "    ab = pd.read_csv(path/'dC_01.csv')['b'].values\n",
    "    def fitness_func(indiv, b, t): return (indiv.data**2).sum()\n",
    "    def constraint_func(indiv, b, t): return -b[t] + sum((1/np.sqrt(D))*indiv.data)\n",
    "    \n",
    "elif experiment==2:\n",
    "    ab = pd.read_csv(path/'dC_01.csv')['b'].values\n",
    "    def fitness_func(indiv, b, t): return (indiv.data**2).sum()\n",
    "    def constraint_func(indiv, b, t): return -b[t] + sum((1/np.sqrt(D))*indiv.data)\n",
    "elif experiment==3:\n",
    "    ab=[]\n",
    "    # experiment 3: dynamic fitness function (linear)\n",
    "    def fitness_func(indiv, b, t): return ((indiv.data + 0.1*t)**2).sum()\n",
    "    def constraint_func(indiv, b, t): return 0\n",
    "    \n",
    "else:\n",
    "    ab=pd.read_csv(path/'dC_01.csv')['b'].values\n",
    "# experiment 5: dynamic fitness function (x-sin(pi/2*t))^2 with random changes on peak of sin\n",
    "    def fitness_func(indiv, b, t): return ((indiv.data-b[t]*np.sin(np.pi/2*t))**2).sum()\n",
    "    def constraint_func(indiv, b, t): return 0"
   ]
  },
  {
   "cell_type": "code",
   "execution_count": null,
   "metadata": {
    "scrolled": true
   },
   "outputs": [
    {
     "name": "stdout",
     "output_type": "stream",
     "text": [
      "Total time: 01:24\n",
      "SpeedMetric(success rate): 0.0000\n",
      "ModifiedOfflineError: 5.1285\n",
      "OfflineError: 5.0473\n",
      "AbsoluteRecoverRate: 0.1584\n"
     ]
    },
    {
     "data": {
      "text/html": [
       "\n",
       "    <div>\n",
       "        <style>\n",
       "            /* Turns off some styling */\n",
       "            progress {\n",
       "                /* gets rid of default border in Firefox and Opera. */\n",
       "                border: none;\n",
       "                /* Needs to be in here for Safari polyfill so background images work as expected. */\n",
       "                background-size: auto;\n",
       "            }\n",
       "            .progress-bar-interrupted, .progress-bar-interrupted::-webkit-progress-bar {\n",
       "                background: #F44336;\n",
       "            }\n",
       "        </style>\n",
       "      <progress value='0' class='' max='1', style='width:300px; height:20px; vertical-align: middle;'></progress>\n",
       "      0.00% [0/1 00:00<00:00]\n",
       "    </div>\n",
       "    \n",
       "\n",
       "\n",
       "    <div>\n",
       "        <style>\n",
       "            /* Turns off some styling */\n",
       "            progress {\n",
       "                /* gets rid of default border in Firefox and Opera. */\n",
       "                border: none;\n",
       "                /* Needs to be in here for Safari polyfill so background images work as expected. */\n",
       "                background-size: auto;\n",
       "            }\n",
       "            .progress-bar-interrupted, .progress-bar-interrupted::-webkit-progress-bar {\n",
       "                background: #F44336;\n",
       "            }\n",
       "        </style>\n",
       "      <progress value='1650' class='' max='101000', style='width:300px; height:20px; vertical-align: middle;'></progress>\n",
       "      1.63% [1650/101000 00:32<32:44]\n",
       "    </div>\n",
       "    "
      ],
      "text/plain": [
       "<IPython.core.display.HTML object>"
      ]
     },
     "metadata": {},
     "output_type": "display_data"
    },
    {
     "data": {
      "image/png": "[encoded data removed]",
      "text/plain": [
       "<Figure size 432x288 with 1 Axes>"
      ]
     },
     "metadata": {},
     "output_type": "display_data"
    }
   ],
   "source": [
    "results = {'mof':[], 'sr':[], 'nfe':[], 'fitness':[], 'sumcv':[], 'arr':[]}\n",
    "\n",
    "for run in range(runs):\n",
    "    population = Population.new_random(dimension=D)\n",
    "\n",
    "    speed_metric = partial(SpeedMetric, threadhold=0.2)\n",
    "\n",
    "    opt = Optimization(population, fitness_func, constraint_func, fitness_params=ab, constraint_params=[ab],\n",
    "                       max_times=max_times, frequency=frequency, callbacks=[OnChangeRestartPopulation],\n",
    "                       metrics=[speed_metric, ModifiedOfflineError, OfflineError, AbsoluteRecoverRate],\n",
    "                       optimal_fitness_values=best_known_fitness, optimal_sum_constraints=best_known_sumcv)\n",
    "    # opt.state_dict\n",
    "\n",
    "    opt.run(total_generations)\n",
    "\n",
    "#     df = pd.DataFrame({'fitness':opt.recorder.best_times_fitness, 'sum_constraints':opt.recorder.best_times_constraints})\n",
    "\n",
    "#     opt.recorder.plot()\n",
    "#     plt.plot()\n",
    "\n",
    "#     opt.recorder.plot_metrics()\n",
    "#     plt.plot()\n",
    "\n",
    "    # saving results\n",
    "    results['mof'].append(opt.modified_offline_error.metrics)\n",
    "    results['arr'].append(opt.absolute_recover_rate.metrics)\n",
    "    results['sr'].append(opt.speed_metric.metrics)\n",
    "    results['nfe'].append(opt.speed_metric.speeds)\n",
    "    results['fitness'].append(opt.recorder.best_times_fitness)\n",
    "    results['sumcv'].append(opt.recorder.best_times_constraints)    "
   ]
  },
  {
   "cell_type": "code",
   "execution_count": null,
   "metadata": {},
   "outputs": [],
   "source": [
    "pd.DataFrame({'mof':results['mof']}).to_csv(path/f'{experiment_name}_mof.csv', index=False)\n",
    "pd.DataFrame({'sr':results['sr']}).to_csv(path/f'{experiment_name}_sr.csv', index=False)\n",
    "pd.DataFrame(results['nfe']).to_csv(path/f'{experiment_name}_nfe.csv', index=False)\n",
    "pd.DataFrame(results['fitness']).to_csv(path/f'{experiment_name}_fitness.csv', index=False)\n",
    "pd.DataFrame(results['sumcv']).to_csv(path/f'{experiment_name}_sumcv.csv', index=False)\n",
    "pd.DataFrame(results['arr']).to_csv(path/f'{experiment_name}_arr.csv', index=False)"
   ]
  },
  {
   "cell_type": "code",
   "execution_count": null,
   "metadata": {},
   "outputs": [],
   "source": []
  },
  {
   "cell_type": "code",
   "execution_count": null,
   "metadata": {},
   "outputs": [],
   "source": []
  },
  {
   "cell_type": "code",
   "execution_count": null,
   "metadata": {},
   "outputs": [],
   "source": []
  }
 ],
 "metadata": {
  "kernelspec": {
   "display_name": "Python 3",
   "language": "python",
   "name": "python3"
  },
  "language_info": {
   "codemirror_mode": {
    "name": "ipython",
    "version": 3
   },
   "file_extension": ".py",
   "mimetype": "text/x-python",
   "name": "python",
   "nbconvert_exporter": "python",
   "pygments_lexer": "ipython3",
   "version": "3.7.3"
  },
  "toc": {
   "base_numbering": 1,
   "nav_menu": {},
   "number_sections": true,
   "sideBar": true,
   "skip_h1_title": false,
   "title_cell": "Table of Contents",
   "title_sidebar": "Contents",
   "toc_cell": false,
   "toc_position": {},
   "toc_section_display": true,
   "toc_window_display": false
  }
 },
 "nbformat": 4,
 "nbformat_minor": 2
}
