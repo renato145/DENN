{
 "cells": [
  {
   "cell_type": "code",
   "execution_count": 1,
   "metadata": {},
   "outputs": [],
   "source": [
    "%reload_ext autoreload\n",
    "%autoreload 2\n",
    "%matplotlib inline\n",
    "from denn import *\n",
    "from scipy.stats import kruskal\n",
    "import scikit_posthocs as sp\n",
    "from matplotlib.colors import ListedColormap\n",
    "import seaborn as sns"
   ]
  },
  {
   "cell_type": "code",
   "execution_count": 2,
   "metadata": {},
   "outputs": [],
   "source": [
    "# # pal = sns.diverging_palette(145, 280, s=85, l=25, n=9)\n",
    "# # pal = sns.diverging_palette(315, 280, s=85, l=25, n=9)\n",
    "# pal = sns.color_palette(\"Blues\", 10)\n",
    "# sns.palplot(pal)\n",
    "# kkcolors = ['white'] + [pal[i] for i in [9, 3, 2, 0]]\n",
    "# sns.palplot(kkcolors)"
   ]
  },
  {
   "cell_type": "code",
   "execution_count": 3,
   "metadata": {},
   "outputs": [
    {
     "data": {
      "image/png": "[encoded data removed]",
      "text/plain": [
       "<Figure size 432x72 with 1 Axes>"
      ]
     },
     "metadata": {
      "needs_background": "light"
     },
     "output_type": "display_data"
    },
    {
     "data": {
      "image/png": "[encoded data removed]",
      "text/plain": [
       "<Figure size 360x72 with 1 Axes>"
      ]
     },
     "metadata": {
      "needs_background": "light"
     },
     "output_type": "display_data"
    }
   ],
   "source": [
    "#pal = sns.cubehelix_palette(16, rot=0.4) #cubehelix_palette\n",
    "pal=sns.light_palette((210, 90, 60), input=\"husl\")\n",
    "sns.palplot(pal)\n",
    "kkcolors = ['white'] + [pal[i] for i in [0, 5,4, 2]]\n",
    "sns.palplot(kkcolors)"
   ]
  },
  {
   "cell_type": "code",
   "execution_count": 4,
   "metadata": {
    "code_folding": [
     0
    ]
   },
   "outputs": [
    {
     "name": "stderr",
     "output_type": "stream",
     "text": [
      "/Users/maryam/anaconda3/envs/denn/lib/python3.7/site-packages/ipykernel_launcher.py:47: FutureWarning: Sorting because non-concatenation axis is not aligned. A future version\n",
      "of pandas will change to not sort by default.\n",
      "\n",
      "To accept the future behavior, pass 'sort=False'.\n",
      "\n",
      "To retain the current behavior and silence the warning, pass 'sort=True'.\n",
      "\n"
     ]
    }
   ],
   "source": [
    "# Functions\n",
    "labels_order = ['noNN_RI', 'noNN_HMu', 'noNN_CwN', 'noNN_No', 'noNN_Rst', 'NN_RI',\n",
    "                'NN_HMu', 'NN_CwN', 'NN_No']\n",
    "pat = re.compile('.*/(exp\\d)/(\\w*)/nonn/freq([0-9\\.]+)div(\\w+)/(\\w+)_\\w+.csv')\n",
    "decode_keys = ['experiment','function','freq','div','method']\n",
    "nn_pat = re.compile('.*/(exp\\d)/(\\w*)/nn/freq([0-9\\.]+)\\w+div([A-Za-z]+)/(\\w+)_(\\w+)_\\w+.csv')\n",
    "nn_decode_keys = ['experiment','function','freq','div','method','replace_mech']\n",
    "\n",
    "def get_files(m): return list(path.glob(f'**/nonn/**/*{m}.csv'))\n",
    "def get_nn_files(m): return list(path.glob(f'**/nn/**/*{m}.csv'))\n",
    "\n",
    "def df_mean(df, m):\n",
    "#     for n,d in df.groupby(['experiment', 'function', 'freq', 'method']):\n",
    "#         import pdb;pdb.set_trace()\n",
    "#     cols = df.columns[:100]\n",
    "#     means = df.loc[:,cols].mean(axis=1)\n",
    "#     df[m] = means\n",
    "#     df.rename({'0': m.upper(), m:m.upper()}, axis=1, inplace=True)\n",
    "    return df#.drop(cols, axis=1)\n",
    "\n",
    "def read_csv(f,m):\n",
    "    df = pd.read_csv(f)\n",
    "    for k,v in zip(decode_keys,pat.search(str(f)).groups()): df[k] = v\n",
    "    df['freq'] = df['freq'].astype(float)\n",
    "    df['method'] = df['method'] + '_' + df['div']\n",
    "    df['method'] = df['method'].str.replace('noNNRestart_No', 'noNN_Rst')\n",
    "    df.drop('div', axis=1, inplace=True)\n",
    "    df = df_mean(df, m)\n",
    "    return df\n",
    "\n",
    "def read_nn_csv(f,m):\n",
    "    df = pd.read_csv(f)\n",
    "    for k,v in zip(nn_decode_keys,nn_pat.search(str(f)).groups()): df[k] = v\n",
    "    df['freq'] = df['freq'].astype(float)\n",
    "    #df['method'] = df['method'] + '_' + df['replace_mech']\n",
    "    df['method'] = df['method'] + '_' + df['replace_mech'] + '_' + df['div']\n",
    "    df['method'] = df['method'].str.replace('NNnorm_Worst', 'NN')\n",
    "    df.drop('replace_mech', axis=1, inplace=True)\n",
    "    df = df_mean(df, m)\n",
    "    return df\n",
    "\n",
    "def get_data(m='fitness', normalize=False):\n",
    "#     short_dict = {'NNnorm_Random':'NNR', 'NNnorm_Worst':'NNW', 'noNN_R':'noNN', 'noNN_RI': 'noNN_RI', \n",
    "#                   'noNN_CwN':'noNN_CwN','noNN_No':'noNN_No', 'noNNReval_arr.csv':'noNN', 'noNNReval_mof.csv':'noNN',  'NN_RI': 'NN_RI',  'NN_CwN': 'NN_CwN', 'NN_No':'NN_No', 'noNNRestart_No':'noNN_Rst', 'noNN_HMu':'noNN_HMu', 'NN_HMu':'NN_HMu'}\n",
    "    files = get_files(m)\n",
    "    nn_files = get_nn_files(m)\n",
    "    data = pd.concat([read_csv(f,m) for f in files] + [read_nn_csv(f,m) for f in nn_files])\n",
    "#     data.method = data.method.apply(lambda x: short_dict[x])\n",
    "    if normalize:\n",
    "        data_norm = (data.groupby(['experiment','function','freq','method'])[m.upper()].mean().reset_index()\n",
    "                         .groupby(['experiment','function'])[m.upper()].min().reset_index()\n",
    "                         .rename({m.upper():m.upper()+'_norm'}, axis=1))\n",
    "        data = data.merge(data_norm, 'left')\n",
    "        data[m.upper()+'_norm'] = data[m.upper()] / data[m.upper()+'_norm']\n",
    "    return data.reset_index(drop=True)\n",
    "\n",
    "path = Path(f'../../data/cluster_results')\n",
    "measure_name=['mof','sr','arr','nfe','nn_time']\n",
    "index_measure=0\n",
    "m = measure_name[index_measure]\n",
    "df = get_data(m)\n",
    "\n",
    "def get_kk_data(m, freq):\n",
    "    df = get_data(m).query(f'freq == {freq}')\n",
    "    labels = df['method'].unique()\n",
    "    labels = labels_order\n",
    "    pcs = {}\n",
    "    for exp,df_exp in df.groupby('experiment'):\n",
    "        pcs[exp] = {}\n",
    "        for fun,df_fun in df_exp.groupby('function'):\n",
    "            values = [df_fun.query(f'method=={m!r}').mof for m in labels]\n",
    "            x = np.array(values)\n",
    "            stat,p = kruskal(*values)\n",
    "            pc = sp.posthoc_conover(x, p_adjust='holm', val_col='values', group_col='groups')\n",
    "            pc.columns = labels\n",
    "            pc.index = labels\n",
    "            pcs[exp][fun] = pc\n",
    "\n",
    "    return pcs,labels\n",
    "\n",
    "def plot_heatmap(pc):\n",
    "    heatmap_args = {'linewidths': 0.25, 'linecolor': '0.5', 'clip_on': False, 'square': True,\n",
    "                    'cbar_ax_bbox': [0.80, 0.35, 0.04, 0.3]}\n",
    "    ax,cbar = sp.sign_plot(pc, **heatmap_args)\n",
    "    ax.set_xticklabels(labels, rotation='vertical')\n",
    "    ax.set_yticklabels(labels, rotation='horizontal')\n",
    "    plt.tight_layout()\n",
    "\n",
    "def plot_one(m, freq, legend=False):\n",
    "    pcs,labels = get_kk_data(m, freq)\n",
    "    fig,all_axs = plt.subplots(3, 4, figsize=(7,6))#, sharex=True, sharey=True)#10,14, #7,6\n",
    "\n",
    "    for i,exp in enumerate(['exp1','exp2','exp3','exp4']):\n",
    "        exp_pc = pcs[exp]\n",
    "        heatmap_args = {'linewidths': 0.25, 'linecolor': '0.5', 'clip_on': False, 'square': True,\n",
    "                        'cbar_ax_bbox': [0.92, 0.57, 0.04, 0.3]}#[1.0, 0.6, 0.04, 0.3]\n",
    "        sp.sign_plot(exp_pc['sphere'], cmap=kkcolors, ax=all_axs[0][i], **heatmap_args)\n",
    "#         sp.sign_plot(exp_pc['sphere'], ax=all_axs[0][i], **heatmap_args)\n",
    "        sp.sign_plot(exp_pc['rosenbrock'], cmap=kkcolors, ax=all_axs[1][i], **heatmap_args)\n",
    "        _,cbar = sp.sign_plot(exp_pc['rastrigin'], cmap=kkcolors, ax=all_axs[2][i], **heatmap_args)\n",
    "        if legend==False: cbar.remove()\n",
    "\n",
    "    columns = exp_pc['sphere'].columns.tolist()\n",
    "\n",
    "    for i,ax in enumerate(all_axs[0]): ax.set_title(f'exp{i+1}')    \n",
    "    for ax in all_axs.flatten():\n",
    "        ax.set_xticks(np.arange(len(labels))+0.5)\n",
    "        ax.set_xticklabels(labels)\n",
    "        ax.set_yticks(np.arange(len(labels))+0.5)\n",
    "        ax.set_yticklabels(labels)\n",
    "\n",
    "    for ax in all_axs[:-1].flatten(): ax.set_xticks([])\n",
    "    for axs in all_axs:\n",
    "        for ax in axs[1:]: ax.set_yticks([])\n",
    "        \n",
    "    for ax,t in zip([o[0] for o in all_axs],['Sphere','Rosenbrock','Rastrigin']):\n",
    "        ax.set_ylabel(t)\n",
    "        \n",
    "#     plt.tight_layout()\n",
    "    return fig,all_axs"
   ]
  },
  {
   "cell_type": "code",
   "execution_count": 5,
   "metadata": {
    "code_folding": []
   },
   "outputs": [
    {
     "name": "stderr",
     "output_type": "stream",
     "text": [
      "/Users/maryam/anaconda3/envs/denn/lib/python3.7/site-packages/ipykernel_launcher.py:47: FutureWarning: Sorting because non-concatenation axis is not aligned. A future version\n",
      "of pandas will change to not sort by default.\n",
      "\n",
      "To accept the future behavior, pass 'sort=False'.\n",
      "\n",
      "To retain the current behavior and silence the warning, pass 'sort=True'.\n",
      "\n",
      "/Users/maryam/anaconda3/envs/denn/lib/python3.7/site-packages/scikit_posthocs/_plotting.py:228: MatplotlibDeprecationWarning: Adding an axes using the same arguments as a previous axes currently reuses the earlier instance.  In a future version, a new instance will always be created and returned.  Meanwhile, this warning can be suppressed, and the future behavior ensured, by passing a unique label to each axes instance.\n",
      "  cbar_ax = g.figure.add_axes(cbar_ax_bbox or [0.95, 0.35, 0.04, 0.3])\n"
     ]
    },
    {
     "data": {
      "image/png": "[encoded data removed]",
      "text/plain": [
       "<Figure size 504x432 with 13 Axes>"
      ]
     },
     "metadata": {
      "needs_background": "light"
     },
     "output_type": "display_data"
    }
   ],
   "source": [
    "#for freq,legend in zip([0.5,1,4],[False,True,False]):\n",
    "for freq,legend in zip([1],[True]):\n",
    "    fig,ax = plot_one(m,freq,legend)\n",
    "    plt.show()\n",
    "    freq_lbl = f'{freq*10:02.0f}' if freq<1 else freq\n",
    "    fig.savefig(path/f'kruskal{freq_lbl}.eps', format='eps', dpi=1000, bbox_inches='tight')"
   ]
  },
  {
   "cell_type": "code",
   "execution_count": null,
   "metadata": {},
   "outputs": [],
   "source": []
  },
  {
   "cell_type": "code",
   "execution_count": null,
   "metadata": {},
   "outputs": [],
   "source": []
  },
  {
   "cell_type": "code",
   "execution_count": null,
   "metadata": {},
   "outputs": [],
   "source": []
  }
 ],
 "metadata": {
  "kernelspec": {
   "display_name": "Python 3",
   "language": "python",
   "name": "python3"
  },
  "language_info": {
   "codemirror_mode": {
    "name": "ipython",
    "version": 3
   },
   "file_extension": ".py",
   "mimetype": "text/x-python",
   "name": "python",
   "nbconvert_exporter": "python",
   "pygments_lexer": "ipython3",
   "version": "3.7.3"
  },
  "toc": {
   "base_numbering": 1,
   "nav_menu": {},
   "number_sections": true,
   "sideBar": true,
   "skip_h1_title": false,
   "title_cell": "Table of Contents",
   "title_sidebar": "Contents",
   "toc_cell": false,
   "toc_position": {},
   "toc_section_display": true,
   "toc_window_display": false
  }
 },
 "nbformat": 4,
 "nbformat_minor": 2
}
