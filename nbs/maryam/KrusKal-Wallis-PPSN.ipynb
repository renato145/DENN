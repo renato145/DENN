{
 "cells": [
  {
   "cell_type": "code",
   "execution_count": 1,
   "metadata": {},
   "outputs": [],
   "source": [
    "%reload_ext autoreload\n",
    "%autoreload 2\n",
    "%matplotlib inline\n",
    "from denn import *\n",
    "from scipy.stats import kruskal\n",
    "import scikit_posthocs as sp\n",
    "from matplotlib.colors import ListedColormap"
   ]
  },
  {
   "cell_type": "code",
   "execution_count": 48,
   "metadata": {
    "code_folding": []
   },
   "outputs": [
    {
     "name": "stderr",
     "output_type": "stream",
     "text": [
      "/Users/maryam/anaconda3/envs/denn/lib/python3.7/site-packages/ipykernel_launcher.py:72: FutureWarning: Sorting because non-concatenation axis is not aligned. A future version\n",
      "of pandas will change to not sort by default.\n",
      "\n",
      "To accept the future behavior, pass 'sort=False'.\n",
      "\n",
      "To retain the current behavior and silence the warning, pass 'sort=True'.\n",
      "\n"
     ]
    }
   ],
   "source": [
    "# funcs\n",
    "# pat = re.compile('.*/(exp\\d)/(\\w*)/nonn/freq([0-9\\.]+)div(\\w+)/(\\w+)_\\w+.csv')\n",
    "# decode_keys = ['experiment','function','freq','div','method']\n",
    "# nn_pat = re.compile('.*/(exp\\d)/(\\w*)/nn/freq([0-9\\.]+)\\w+/(\\w+)_(\\w+)_\\w+.csv')\n",
    "# nn_decode_keys = ['experiment','function','freq','method','replace_mech']\n",
    "\n",
    "pat = re.compile('.*/(exp\\d)/(\\w*)/nonn/freq([0-9\\.]+)div(\\w+)/(\\w+)_\\w+.csv')\n",
    "decode_keys = ['experiment','function','freq','div','method']\n",
    "nn_pat = re.compile('.*/(exp\\d)/(\\w*)/nn/freq([0-9\\.]+)\\w+div([A-Za-z]+)/(\\w+)_(\\w+)_\\w+.csv')\n",
    "nn_decode_keys = ['experiment','function','freq','div','method','replace_mech']\n",
    "\n",
    "\n",
    "\n",
    "def get_files(m): return list(path.glob(f'**/nonn/**/*{m}.csv'))\n",
    "def get_nn_files(m): return list(path.glob(f'**/nn/**/*{m}.csv'))\n",
    "\n",
    "def df_mean(df, m):\n",
    "#     for n,d in df.groupby(['experiment', 'function', 'freq', 'method']):\n",
    "#         import pdb;pdb.set_trace()\n",
    "#     cols = df.columns[:100]\n",
    "#     means = df.loc[:,cols].mean(axis=1)\n",
    "#     df[m] = means\n",
    "#     df.rename({'0': m.upper(), m:m.upper()}, axis=1, inplace=True)\n",
    "    return df#.drop(cols, axis=1)\n",
    "\n",
    "def read_csv(f,m):\n",
    "    df = pd.read_csv(f)\n",
    "    for k,v in zip(decode_keys,pat.search(str(f)).groups()): df[k] = v\n",
    "    df['freq'] = df['freq'].astype(float)\n",
    "    df['method'] = df['method'] + '_' + df['div']\n",
    "    df.drop('div', axis=1, inplace=True)\n",
    "    df = df_mean(df, m)\n",
    "    return df\n",
    "\n",
    "# def read_csv(f,m):\n",
    "#     df = pd.read_csv(f)\n",
    "#     for k,v in zip(decode_keys,pat.search(str(f)).groups()): df[k] = v\n",
    "#     df['freq'] = df['freq'].astype(float)\n",
    "#     df['method'] = df['method'] + '_' + df['div']\n",
    "#     df.drop('div', axis=1, inplace=True)\n",
    "#     df.rename({'0':m.upper(), m:m.upper()}, axis=1, inplace=True)\n",
    "#     return df\n",
    "\n",
    "\n",
    "def read_nn_csv(f,m):\n",
    "    df = pd.read_csv(f)\n",
    "    for k,v in zip(nn_decode_keys,nn_pat.search(str(f)).groups()): df[k] = v\n",
    "    df['freq'] = df['freq'].astype(float)\n",
    "    #df['method'] = df['method'] + '_' + df['replace_mech']\n",
    "    df['method'] = df['method'] + '_' + df['replace_mech'] + '_' + df['div']\n",
    "    df['method'] = df['method'].str.replace('NNnorm_Worst', 'NN')\n",
    "    df.drop('replace_mech', axis=1, inplace=True)\n",
    "    df = df_mean(df, m)\n",
    "    return df\n",
    "\n",
    "# def read_nn_csv(f,m):\n",
    "#     df = pd.read_csv(f)\n",
    "#     for k,v in zip(nn_decode_keys,nn_pat.search(str(f)).groups()): df[k] = v\n",
    "#     df['freq'] = df['freq'].astype(float)\n",
    "#     df['method'] = df['method'] + '_' + df['replace_mech'] + '_' + df['div']\n",
    "#     df['method'] = df['method'].str.replace('NNnorm_Worst', 'NN')\n",
    "#     df.drop(['replace_mech','div'], axis=1, inplace=True)\n",
    "#     df.rename({'0':m.upper(), m:m.upper()}, axis=1, inplace=True)\n",
    "#     return df\n",
    "\n",
    "\n",
    "def get_data(m='fitness', normalize=False):\n",
    "    short_dict = {'NNnorm_Random':'NNR', 'NNnorm_Worst':'NNW', 'noNN_R':'noNN', 'noNN_RI': 'noNN_RI', \n",
    "                  'noNN_CwN':'noNN_CwN','noNN_No':'noNN_No', 'noNNReval_arr.csv':'noNN', 'noNNReval_mof.csv':'noNN',  'NN_RI': 'NN_RI',  'NN_CwN': 'NN_CwN', 'NN_No':'NN_No'}\n",
    "    files = get_files(m)\n",
    "    nn_files = get_nn_files(m)\n",
    "    data = pd.concat([read_csv(f,m) for f in files] + [read_nn_csv(f,m) for f in nn_files])\n",
    "    data.method = data.method.apply(lambda x: short_dict[x])\n",
    "    if normalize:\n",
    "        data_norm = (data.groupby(['experiment','function','freq','method'])[m.upper()].mean().reset_index()\n",
    "                         .groupby(['experiment','function'])[m.upper()].min().reset_index()\n",
    "                         .rename({m.upper():m.upper()+'_norm'}, axis=1))\n",
    "        data = data.merge(data_norm, 'left')\n",
    "        data[m.upper()+'_norm'] = data[m.upper()] / data[m.upper()+'_norm']\n",
    "    return data.reset_index(drop=True)\n",
    "\n",
    "\n",
    "\n",
    "path = Path(f'../../data/cluster_results')\n",
    "measure_name=['mof','sr','arr','nfe','nn_time']\n",
    "index_measure=0\n",
    "m = measure_name[index_measure]\n",
    "df = get_data(m)\n",
    "\n",
    "def get_kk_data(m, freq):\n",
    "    df = get_data(m).query(f'freq == {freq}')\n",
    "    labels = df['method'].unique()\n",
    "    pcs = {}\n",
    "    for exp,df_exp in df.groupby('experiment'):\n",
    "        pcs[exp] = {}\n",
    "        for fun,df_fun in df_exp.groupby('function'):\n",
    "            values = [df_fun.query(f'method=={m!r}').mof for m in labels]\n",
    "            x = np.array(values)\n",
    "            stat,p = kruskal(*values)\n",
    "            pc = sp.posthoc_conover(x, p_adjust='holm', val_col='values', group_col='groups')\n",
    "            pc.columns = labels\n",
    "            pc.index = labels\n",
    "            pcs[exp][fun] = pc\n",
    "\n",
    "    return pcs,labels\n",
    "\n",
    "# pcs = get_kk_data(m, 1)\n",
    "\n",
    "def plot_heatmap(pc):\n",
    "    heatmap_args = {'linewidths': 0.25, 'linecolor': '0.5', 'clip_on': False, 'square': True,\n",
    "                    'cbar_ax_bbox': [0.80, 0.35, 0.04, 0.3]}\n",
    "    ax,cbar = sp.sign_plot(pc, **heatmap_args)\n",
    "    ax.set_xticklabels(labels, rotation='vertical')\n",
    "    ax.set_yticklabels(labels, rotation='horizontal')\n",
    "    plt.tight_layout()\n",
    "#exp_pc.keys()\n",
    "#pcs.keys()\n",
    "\n",
    "def plot_one(m, freq, legend=False):\n",
    "    pcs,labels = get_kk_data(m, freq)\n",
    "    fig,all_axs = plt.subplots(3, 4, figsize=(7,6))#, sharex=True, sharey=True)#10,14\n",
    "\n",
    "    for i,exp in enumerate(['exp1','exp2','exp3','exp4']):\n",
    "        exp_pc = pcs[exp]\n",
    "        heatmap_args = {'linewidths': 0.25, 'linecolor': '0.5', 'clip_on': False, 'square': True,\n",
    "                        'cbar_ax_bbox': [1.0, 0.6, 0.04, 0.3]}\n",
    "        sp.sign_plot(exp_pc['sphere'], ax=all_axs[0][i], **heatmap_args)\n",
    "        sp.sign_plot(exp_pc['rosenbrock'], ax=all_axs[1][i], **heatmap_args)\n",
    "        _,cbar = sp.sign_plot(exp_pc['rastrigin'], ax=all_axs[2][i], **heatmap_args)\n",
    "        if legend==False: cbar.remove()\n",
    "\n",
    "    columns = exp_pc['sphere'].columns.tolist()\n",
    "\n",
    "    for i,ax in enumerate(all_axs[0]): ax.set_title(f'exp{i+1}')    \n",
    "    for ax in all_axs.flatten():\n",
    "        ax.set_xticks(np.arange(len(labels))+0.5)\n",
    "        ax.set_xticklabels(labels)\n",
    "        ax.set_yticks(np.arange(len(labels))+0.5)\n",
    "        ax.set_yticklabels(labels)\n",
    "\n",
    "    for ax in all_axs[:-1].flatten(): ax.set_xticks([])\n",
    "    for axs in all_axs:\n",
    "        for ax in axs[1:]: ax.set_yticks([])\n",
    "        \n",
    "    for ax,t in zip([o[0] for o in all_axs],['Sphere','Rosenbrock','Rastrigin']):\n",
    "        ax.set_ylabel(t)\n",
    "        \n",
    "#     plt.tight_layout()\n",
    "    return fig,all_axs"
   ]
  },
  {
   "cell_type": "code",
   "execution_count": 49,
   "metadata": {},
   "outputs": [
    {
     "name": "stderr",
     "output_type": "stream",
     "text": [
      "/Users/maryam/anaconda3/envs/denn/lib/python3.7/site-packages/ipykernel_launcher.py:72: FutureWarning: Sorting because non-concatenation axis is not aligned. A future version\n",
      "of pandas will change to not sort by default.\n",
      "\n",
      "To accept the future behavior, pass 'sort=False'.\n",
      "\n",
      "To retain the current behavior and silence the warning, pass 'sort=True'.\n",
      "\n"
     ]
    },
    {
     "data": {
      "image/png": "[encoded data removed]",
      "text/plain": [
       "<Figure size 504x432 with 12 Axes>"
      ]
     },
     "metadata": {
      "needs_background": "light"
     },
     "output_type": "display_data"
    },
    {
     "data": {
      "image/png": "[encoded data removed]",
      "text/plain": [
       "<Figure size 504x432 with 12 Axes>"
      ]
     },
     "metadata": {
      "needs_background": "light"
     },
     "output_type": "display_data"
    },
    {
     "data": {
      "image/png": "[encoded data removed]",
      "text/plain": [
       "<Figure size 504x432 with 13 Axes>"
      ]
     },
     "metadata": {
      "needs_background": "light"
     },
     "output_type": "display_data"
    }
   ],
   "source": [
    "for freq,legend in zip([0.5,1,4],[False,False,True]):\n",
    "    fig,ax = plot_one(m,freq,legend)\n",
    "    plt.show()\n",
    "    freq_lbl = f'{freq*10:02.0f}' if freq<1 else freq\n",
    "#     fig.savefig(path/f'kruskal{freq_lbl}.eps', format='eps', dpi=1000, bbox_inches='tight')"
   ]
  },
  {
   "cell_type": "code",
   "execution_count": null,
   "metadata": {},
   "outputs": [],
   "source": []
  },
  {
   "cell_type": "code",
   "execution_count": null,
   "metadata": {},
   "outputs": [],
   "source": []
  },
  {
   "cell_type": "code",
   "execution_count": null,
   "metadata": {},
   "outputs": [],
   "source": []
  },
  {
   "cell_type": "markdown",
   "metadata": {},
   "source": [
    "# Old"
   ]
  },
  {
   "cell_type": "code",
   "execution_count": null,
   "metadata": {
    "code_folding": []
   },
   "outputs": [],
   "source": [
    "def read_csv(f):\n",
    "    df = pd.read_csv(f)\n",
    "#     df['std'] = pd.read_csv(f).std().iloc[0] #remove this line to remove std from table\n",
    "\n",
    "    df['experiment'] = f.parent.parent.parent.name\n",
    "    df['function'] = f.parent.parent.name\n",
    "    name = f.parent.name\n",
    "    #print(name)\n",
    "    df['freq'] = name[4:].split('n')[0]\n",
    "    #print(df['freq'])\n",
    "    #df['method'] = f.name.split('_')[0]\n",
    "    name = f.name.split('_')[0]\n",
    "    if name != 'noNNReval': name += '_'+f.name.split('_')[1]\n",
    "    df['method'] = name\n",
    "    df['nn_p']=name[14:].split('n')[0] \n",
    "\n",
    "    return df\n",
    "\n",
    "measure_name=['mof','sr','arr','nfe','nn_time']\n",
    "index_measure=0"
   ]
  },
  {
   "cell_type": "code",
   "execution_count": null,
   "metadata": {},
   "outputs": [],
   "source": [
    "df.query(\"experiment == 'exp1' and function == 'sphere' and method == 'noNN_Cw'\")"
   ]
  },
  {
   "cell_type": "code",
   "execution_count": null,
   "metadata": {
    "code_folding": []
   },
   "outputs": [],
   "source": [
    "def get_data(m, freq):\n",
    "    files = list(f for f in path.glob(f'exp*/*/freq{freq}nn_w5nn_p3nn_s3nn_tw5nn_bs4nn_epoch3/*{m}.csv') if 'NNdrop' not in f.name) #path.glob(f'exp*/*/freq1*nn_s*nn_tw*bs*/*{m}.csv')\n",
    "    #files += [f for f in path.glob(f'exp*/*/freq{freq}*nn_p3nn_s2nn_tw5*bs4*/*{m}.csv') if 'noNN' in f.name] #f'exp*/*/*nn_p3/*{m}.csv'  , \n",
    "    df = pd.concat([read_csv(f) for f in files])    \n",
    "\n",
    "    unique_exp = df.experiment.unique()\n",
    "    unique_fun = df.function.unique()\n",
    "    labels = ['noNNReval', 'NNnorm_Worst', 'NNnorm_Random']\n",
    "    pcs = {}\n",
    "\n",
    "    for exp in unique_exp:\n",
    "        pcs[exp] = {}\n",
    "        for fun in unique_fun:\n",
    "            temp_df = df[(df.experiment==exp) & (df.function==fun)]\n",
    "            noNNReval = temp_df.query(\"method == 'noNNReval'\").mof\n",
    "            NNnorm_Random = temp_df.query(\"method == 'NNnorm_Random'\").mof\n",
    "            NNnorm_Worst = temp_df.query(\"method == 'NNnorm_Worst'\").mof\n",
    "            x=np.array([noNNReval, NNnorm_Worst,NNnorm_Random])\n",
    "            stat, p = kruskal(noNNReval,NNnorm_Worst,NNnorm_Random)\n",
    "            pc = sp.posthoc_conover(x, p_adjust='holm', val_col='values', group_col='groups')\n",
    "            pc.columns = ['noNN','NNW','NNR'] # labels\n",
    "            pc.index = ['noNN','NNW','NNR'] # labels\n",
    "            pcs[exp][fun] = pc\n",
    "            \n",
    "    return pcs"
   ]
  },
  {
   "cell_type": "code",
   "execution_count": null,
   "metadata": {},
   "outputs": [],
   "source": [
    "fig,all_axs = plt.subplots(4, 3, figsize=(4.4,5))#10,14\n",
    "for i,exp in enumerate(['exp1','exp2','exp3','exp4']):\n",
    "    exp_pc = pcs[exp]\n",
    "    axs = all_axs[i]\n",
    "    heatmap_args = {'linewidths': 0.25, 'linecolor': '0.5', 'clip_on': False, 'square': True,\n",
    "                    'cbar_ax_bbox': [1.0, 0.6, 0.04, 0.3]}\n",
    "    sp.sign_plot(exp_pc['sphere'], ax=axs[0], **heatmap_args)\n",
    "    sp.sign_plot(exp_pc['rosenbrock'], ax=axs[1], **heatmap_args)\n",
    "    axs[1].set_yticklabels([])\n",
    "    _,cbar = sp.sign_plot(exp_pc['rastrigin'], ax=axs[2], **heatmap_args)\n",
    "    axs[2].set_yticklabels([])\n",
    "    if i==0:\n",
    "        for ax,t in zip(axs,['sphere','rosenbrock','rastrigin']): ax.set_title(t.title())\n",
    "    for ax in axs:\n",
    "        if i<3: ax.set_xticklabels([])\n",
    "    \n",
    "plt.tight_layout()\n",
    "plt.savefig(path/'kruskal4.eps', format='eps', dpi=1000)"
   ]
  }
 ],
 "metadata": {
  "kernelspec": {
   "display_name": "Python 3",
   "language": "python",
   "name": "python3"
  },
  "language_info": {
   "codemirror_mode": {
    "name": "ipython",
    "version": 3
   },
   "file_extension": ".py",
   "mimetype": "text/x-python",
   "name": "python",
   "nbconvert_exporter": "python",
   "pygments_lexer": "ipython3",
   "version": "3.7.3"
  },
  "toc": {
   "base_numbering": 1,
   "nav_menu": {},
   "number_sections": true,
   "sideBar": true,
   "skip_h1_title": false,
   "title_cell": "Table of Contents",
   "title_sidebar": "Contents",
   "toc_cell": false,
   "toc_position": {},
   "toc_section_display": true,
   "toc_window_display": false
  }
 },
 "nbformat": 4,
 "nbformat_minor": 2
}
