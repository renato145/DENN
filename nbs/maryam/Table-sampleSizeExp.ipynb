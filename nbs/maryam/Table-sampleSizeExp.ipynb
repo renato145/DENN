{
 "cells": [
  {
   "cell_type": "code",
   "execution_count": 1,
   "metadata": {},
   "outputs": [],
   "source": [
    "%reload_ext autoreload\n",
    "%autoreload 2\n",
    "%matplotlib inline\n",
    "from denn import *\n",
    "import pandas as pd\n",
    "import io #Used as buffer"
   ]
  },
  {
   "cell_type": "code",
   "execution_count": 2,
   "metadata": {},
   "outputs": [],
   "source": [
    "path= Path(f'../../data/cluster_results')"
   ]
  },
  {
   "cell_type": "code",
   "execution_count": 3,
   "metadata": {},
   "outputs": [],
   "source": [
    "def read_csv(f):\n",
    "    df = pd.read_csv(f).mean()\n",
    "    df['experiment'] = f.parent.parent.parent.name\n",
    "    df['function'] = f.parent.parent.name\n",
    "    name = f.parent.name\n",
    "    #print(name)\n",
    "    df['freq'] = int(name[4:].split('n')[0])\n",
    "    #print(df['freq'])\n",
    "    df['method'] = f.name.split('_')[0]\n",
    "    if df['freq']==500:\n",
    "        df['ns']=int(name[21:].split('n')[0])\n",
    "        df['tw']=int(name[27:].split('n')[0])\n",
    "    else:\n",
    "        df['ns']=int(name[22:].split('n')[0])\n",
    "        df['tw']=int(name[28:].split('n')[0])  \n",
    "    if len(name)>29:\n",
    "        if df['freq']==500:\n",
    "            df['bs']=int(name[33:].split('n')[0])\n",
    "            df['epochs']=int(name[42:][0]) \n",
    "        else:\n",
    "            df['bs']=int(name[34:].split('n')[0])\n",
    "            df['epochs']=int(name[43:][0])\n",
    "    return df\n",
    "\n",
    "measure_name=['mof','sr','arr','nfe','nn_time']\n",
    "index_measure=4"
   ]
  },
  {
   "cell_type": "code",
   "execution_count": 5,
   "metadata": {},
   "outputs": [
    {
     "ename": "ValueError",
     "evalue": "invalid literal for int() with base 10: '_tw5'",
     "output_type": "error",
     "traceback": [
      "\u001b[0;31m---------------------------------------------------------------------------\u001b[0m",
      "\u001b[0;31mValueError\u001b[0m                                Traceback (most recent call last)",
      "\u001b[0;32m<ipython-input-5-a5ba9700ddbe>\u001b[0m in \u001b[0;36m<module>\u001b[0;34m\u001b[0m\n\u001b[1;32m      3\u001b[0m \u001b[0mfiles\u001b[0m \u001b[0;34m=\u001b[0m \u001b[0mlist\u001b[0m\u001b[0;34m(\u001b[0m\u001b[0mpath\u001b[0m\u001b[0;34m.\u001b[0m\u001b[0mglob\u001b[0m\u001b[0;34m(\u001b[0m\u001b[0;34mf'exp*/*/*nn_s2nn_tw5*bs4*/*{m}.csv'\u001b[0m\u001b[0;34m)\u001b[0m\u001b[0;34m)\u001b[0m\u001b[0;34m\u001b[0m\u001b[0;34m\u001b[0m\u001b[0m\n\u001b[1;32m      4\u001b[0m \u001b[0;31m#print(files)\u001b[0m\u001b[0;34m\u001b[0m\u001b[0;34m\u001b[0m\u001b[0;34m\u001b[0m\u001b[0m\n\u001b[0;32m----> 5\u001b[0;31m \u001b[0mdf\u001b[0m \u001b[0;34m=\u001b[0m \u001b[0mpd\u001b[0m\u001b[0;34m.\u001b[0m\u001b[0mDataFrame\u001b[0m\u001b[0;34m(\u001b[0m\u001b[0;34m[\u001b[0m\u001b[0mread_csv\u001b[0m\u001b[0;34m(\u001b[0m\u001b[0mf\u001b[0m\u001b[0;34m)\u001b[0m \u001b[0;32mfor\u001b[0m \u001b[0mf\u001b[0m \u001b[0;32min\u001b[0m \u001b[0mfiles\u001b[0m\u001b[0;34m]\u001b[0m\u001b[0;34m)\u001b[0m\u001b[0;34m\u001b[0m\u001b[0;34m\u001b[0m\u001b[0m\n\u001b[0m\u001b[1;32m      6\u001b[0m \u001b[0;31m# data = pd.pivot_table(df, index=['experiment','function'], columns='method', values=m) #,'freq' later for adding frequency experiment\u001b[0m\u001b[0;34m\u001b[0m\u001b[0;34m\u001b[0m\u001b[0;34m\u001b[0m\u001b[0m\n\u001b[1;32m      7\u001b[0m \u001b[0mdata\u001b[0m \u001b[0;34m=\u001b[0m \u001b[0mpd\u001b[0m\u001b[0;34m.\u001b[0m\u001b[0mpivot_table\u001b[0m\u001b[0;34m(\u001b[0m\u001b[0mdf\u001b[0m\u001b[0;34m,\u001b[0m \u001b[0mindex\u001b[0m\u001b[0;34m=\u001b[0m\u001b[0;34m[\u001b[0m\u001b[0;34m'experiment'\u001b[0m\u001b[0;34m,\u001b[0m\u001b[0;34m'function'\u001b[0m\u001b[0;34m,\u001b[0m\u001b[0;34m'freq'\u001b[0m\u001b[0;34m,\u001b[0m\u001b[0;34m'ns'\u001b[0m\u001b[0;34m,\u001b[0m\u001b[0;34m'tw'\u001b[0m\u001b[0;34m,\u001b[0m \u001b[0;34m'bs'\u001b[0m\u001b[0;34m,\u001b[0m\u001b[0;34m'epochs'\u001b[0m \u001b[0;34m]\u001b[0m\u001b[0;34m,\u001b[0m\u001b[0mcolumns\u001b[0m\u001b[0;34m=\u001b[0m\u001b[0;34m'method'\u001b[0m \u001b[0;34m)\u001b[0m \u001b[0;31m#,'freq' later for adding frequency experiment, ,values=m 'ns','tw', 'bs','epochs'\u001b[0m\u001b[0;34m\u001b[0m\u001b[0;34m\u001b[0m\u001b[0m\n",
      "\u001b[0;32m<ipython-input-5-a5ba9700ddbe>\u001b[0m in \u001b[0;36m<listcomp>\u001b[0;34m(.0)\u001b[0m\n\u001b[1;32m      3\u001b[0m \u001b[0mfiles\u001b[0m \u001b[0;34m=\u001b[0m \u001b[0mlist\u001b[0m\u001b[0;34m(\u001b[0m\u001b[0mpath\u001b[0m\u001b[0;34m.\u001b[0m\u001b[0mglob\u001b[0m\u001b[0;34m(\u001b[0m\u001b[0;34mf'exp*/*/*nn_s2nn_tw5*bs4*/*{m}.csv'\u001b[0m\u001b[0;34m)\u001b[0m\u001b[0;34m)\u001b[0m\u001b[0;34m\u001b[0m\u001b[0;34m\u001b[0m\u001b[0m\n\u001b[1;32m      4\u001b[0m \u001b[0;31m#print(files)\u001b[0m\u001b[0;34m\u001b[0m\u001b[0;34m\u001b[0m\u001b[0;34m\u001b[0m\u001b[0m\n\u001b[0;32m----> 5\u001b[0;31m \u001b[0mdf\u001b[0m \u001b[0;34m=\u001b[0m \u001b[0mpd\u001b[0m\u001b[0;34m.\u001b[0m\u001b[0mDataFrame\u001b[0m\u001b[0;34m(\u001b[0m\u001b[0;34m[\u001b[0m\u001b[0mread_csv\u001b[0m\u001b[0;34m(\u001b[0m\u001b[0mf\u001b[0m\u001b[0;34m)\u001b[0m \u001b[0;32mfor\u001b[0m \u001b[0mf\u001b[0m \u001b[0;32min\u001b[0m \u001b[0mfiles\u001b[0m\u001b[0;34m]\u001b[0m\u001b[0;34m)\u001b[0m\u001b[0;34m\u001b[0m\u001b[0;34m\u001b[0m\u001b[0m\n\u001b[0m\u001b[1;32m      6\u001b[0m \u001b[0;31m# data = pd.pivot_table(df, index=['experiment','function'], columns='method', values=m) #,'freq' later for adding frequency experiment\u001b[0m\u001b[0;34m\u001b[0m\u001b[0;34m\u001b[0m\u001b[0;34m\u001b[0m\u001b[0m\n\u001b[1;32m      7\u001b[0m \u001b[0mdata\u001b[0m \u001b[0;34m=\u001b[0m \u001b[0mpd\u001b[0m\u001b[0;34m.\u001b[0m\u001b[0mpivot_table\u001b[0m\u001b[0;34m(\u001b[0m\u001b[0mdf\u001b[0m\u001b[0;34m,\u001b[0m \u001b[0mindex\u001b[0m\u001b[0;34m=\u001b[0m\u001b[0;34m[\u001b[0m\u001b[0;34m'experiment'\u001b[0m\u001b[0;34m,\u001b[0m\u001b[0;34m'function'\u001b[0m\u001b[0;34m,\u001b[0m\u001b[0;34m'freq'\u001b[0m\u001b[0;34m,\u001b[0m\u001b[0;34m'ns'\u001b[0m\u001b[0;34m,\u001b[0m\u001b[0;34m'tw'\u001b[0m\u001b[0;34m,\u001b[0m \u001b[0;34m'bs'\u001b[0m\u001b[0;34m,\u001b[0m\u001b[0;34m'epochs'\u001b[0m \u001b[0;34m]\u001b[0m\u001b[0;34m,\u001b[0m\u001b[0mcolumns\u001b[0m\u001b[0;34m=\u001b[0m\u001b[0;34m'method'\u001b[0m \u001b[0;34m)\u001b[0m \u001b[0;31m#,'freq' later for adding frequency experiment, ,values=m 'ns','tw', 'bs','epochs'\u001b[0m\u001b[0;34m\u001b[0m\u001b[0;34m\u001b[0m\u001b[0m\n",
      "\u001b[0;32m<ipython-input-3-997b4713c04f>\u001b[0m in \u001b[0;36mread_csv\u001b[0;34m(f)\u001b[0m\n\u001b[1;32m     12\u001b[0m         \u001b[0mdf\u001b[0m\u001b[0;34m[\u001b[0m\u001b[0;34m'tw'\u001b[0m\u001b[0;34m]\u001b[0m\u001b[0;34m=\u001b[0m\u001b[0mint\u001b[0m\u001b[0;34m(\u001b[0m\u001b[0mname\u001b[0m\u001b[0;34m[\u001b[0m\u001b[0;36m27\u001b[0m\u001b[0;34m:\u001b[0m\u001b[0;34m]\u001b[0m\u001b[0;34m.\u001b[0m\u001b[0msplit\u001b[0m\u001b[0;34m(\u001b[0m\u001b[0;34m'n'\u001b[0m\u001b[0;34m)\u001b[0m\u001b[0;34m[\u001b[0m\u001b[0;36m0\u001b[0m\u001b[0;34m]\u001b[0m\u001b[0;34m)\u001b[0m\u001b[0;34m\u001b[0m\u001b[0;34m\u001b[0m\u001b[0m\n\u001b[1;32m     13\u001b[0m     \u001b[0;32melse\u001b[0m\u001b[0;34m:\u001b[0m\u001b[0;34m\u001b[0m\u001b[0;34m\u001b[0m\u001b[0m\n\u001b[0;32m---> 14\u001b[0;31m         \u001b[0mdf\u001b[0m\u001b[0;34m[\u001b[0m\u001b[0;34m'ns'\u001b[0m\u001b[0;34m]\u001b[0m\u001b[0;34m=\u001b[0m\u001b[0mint\u001b[0m\u001b[0;34m(\u001b[0m\u001b[0mname\u001b[0m\u001b[0;34m[\u001b[0m\u001b[0;36m22\u001b[0m\u001b[0;34m:\u001b[0m\u001b[0;34m]\u001b[0m\u001b[0;34m.\u001b[0m\u001b[0msplit\u001b[0m\u001b[0;34m(\u001b[0m\u001b[0;34m'n'\u001b[0m\u001b[0;34m)\u001b[0m\u001b[0;34m[\u001b[0m\u001b[0;36m0\u001b[0m\u001b[0;34m]\u001b[0m\u001b[0;34m)\u001b[0m\u001b[0;34m\u001b[0m\u001b[0;34m\u001b[0m\u001b[0m\n\u001b[0m\u001b[1;32m     15\u001b[0m         \u001b[0mdf\u001b[0m\u001b[0;34m[\u001b[0m\u001b[0;34m'tw'\u001b[0m\u001b[0;34m]\u001b[0m\u001b[0;34m=\u001b[0m\u001b[0mint\u001b[0m\u001b[0;34m(\u001b[0m\u001b[0mname\u001b[0m\u001b[0;34m[\u001b[0m\u001b[0;36m28\u001b[0m\u001b[0;34m:\u001b[0m\u001b[0;34m]\u001b[0m\u001b[0;34m.\u001b[0m\u001b[0msplit\u001b[0m\u001b[0;34m(\u001b[0m\u001b[0;34m'n'\u001b[0m\u001b[0;34m)\u001b[0m\u001b[0;34m[\u001b[0m\u001b[0;36m0\u001b[0m\u001b[0;34m]\u001b[0m\u001b[0;34m)\u001b[0m\u001b[0;34m\u001b[0m\u001b[0;34m\u001b[0m\u001b[0m\n\u001b[1;32m     16\u001b[0m     \u001b[0;32mif\u001b[0m \u001b[0mlen\u001b[0m\u001b[0;34m(\u001b[0m\u001b[0mname\u001b[0m\u001b[0;34m)\u001b[0m\u001b[0;34m>\u001b[0m\u001b[0;36m29\u001b[0m\u001b[0;34m:\u001b[0m\u001b[0;34m\u001b[0m\u001b[0;34m\u001b[0m\u001b[0m\n",
      "\u001b[0;31mValueError\u001b[0m: invalid literal for int() with base 10: '_tw5'"
     ]
    }
   ],
   "source": [
    "m = measure_name[index_measure]\n",
    "\n",
    "files = list(path.glob(f'exp*/*/*nn_s2nn_tw5*bs4*/*{m}.csv'))\n",
    "#print(files)\n",
    "df = pd.DataFrame([read_csv(f) for f in files])\n",
    "# data = pd.pivot_table(df, index=['experiment','function'], columns='method', values=m) #,'freq' later for adding frequency experiment\n",
    "data = pd.pivot_table(df, index=['experiment','function','freq','ns','tw', 'bs','epochs' ],columns='method' ) #,'freq' later for adding frequency experiment, ,values=m 'ns','tw', 'bs','epochs'\n",
    "data.style.format(\"{:,.2f}\")"
   ]
  },
  {
   "cell_type": "code",
   "execution_count": 7,
   "metadata": {},
   "outputs": [
    {
     "name": "stdout",
     "output_type": "stream",
     "text": [
      "> \u001b[0;32m<ipython-input-3-997b4713c04f>\u001b[0m(14)\u001b[0;36mread_csv\u001b[0;34m()\u001b[0m\n",
      "\u001b[0;32m     12 \u001b[0;31m        \u001b[0mdf\u001b[0m\u001b[0;34m[\u001b[0m\u001b[0;34m'tw'\u001b[0m\u001b[0;34m]\u001b[0m\u001b[0;34m=\u001b[0m\u001b[0mint\u001b[0m\u001b[0;34m(\u001b[0m\u001b[0mname\u001b[0m\u001b[0;34m[\u001b[0m\u001b[0;36m27\u001b[0m\u001b[0;34m:\u001b[0m\u001b[0;34m]\u001b[0m\u001b[0;34m.\u001b[0m\u001b[0msplit\u001b[0m\u001b[0;34m(\u001b[0m\u001b[0;34m'n'\u001b[0m\u001b[0;34m)\u001b[0m\u001b[0;34m[\u001b[0m\u001b[0;36m0\u001b[0m\u001b[0;34m]\u001b[0m\u001b[0;34m)\u001b[0m\u001b[0;34m\u001b[0m\u001b[0;34m\u001b[0m\u001b[0m\n",
      "\u001b[0m\u001b[0;32m     13 \u001b[0;31m    \u001b[0;32melse\u001b[0m\u001b[0;34m:\u001b[0m\u001b[0;34m\u001b[0m\u001b[0;34m\u001b[0m\u001b[0m\n",
      "\u001b[0m\u001b[0;32m---> 14 \u001b[0;31m        \u001b[0mdf\u001b[0m\u001b[0;34m[\u001b[0m\u001b[0;34m'ns'\u001b[0m\u001b[0;34m]\u001b[0m\u001b[0;34m=\u001b[0m\u001b[0mint\u001b[0m\u001b[0;34m(\u001b[0m\u001b[0mname\u001b[0m\u001b[0;34m[\u001b[0m\u001b[0;36m22\u001b[0m\u001b[0;34m:\u001b[0m\u001b[0;34m]\u001b[0m\u001b[0;34m.\u001b[0m\u001b[0msplit\u001b[0m\u001b[0;34m(\u001b[0m\u001b[0;34m'n'\u001b[0m\u001b[0;34m)\u001b[0m\u001b[0;34m[\u001b[0m\u001b[0;36m0\u001b[0m\u001b[0;34m]\u001b[0m\u001b[0;34m)\u001b[0m\u001b[0;34m\u001b[0m\u001b[0;34m\u001b[0m\u001b[0m\n",
      "\u001b[0m\u001b[0;32m     15 \u001b[0;31m        \u001b[0mdf\u001b[0m\u001b[0;34m[\u001b[0m\u001b[0;34m'tw'\u001b[0m\u001b[0;34m]\u001b[0m\u001b[0;34m=\u001b[0m\u001b[0mint\u001b[0m\u001b[0;34m(\u001b[0m\u001b[0mname\u001b[0m\u001b[0;34m[\u001b[0m\u001b[0;36m28\u001b[0m\u001b[0;34m:\u001b[0m\u001b[0;34m]\u001b[0m\u001b[0;34m.\u001b[0m\u001b[0msplit\u001b[0m\u001b[0;34m(\u001b[0m\u001b[0;34m'n'\u001b[0m\u001b[0;34m)\u001b[0m\u001b[0;34m[\u001b[0m\u001b[0;36m0\u001b[0m\u001b[0;34m]\u001b[0m\u001b[0;34m)\u001b[0m\u001b[0;34m\u001b[0m\u001b[0;34m\u001b[0m\u001b[0m\n",
      "\u001b[0m\u001b[0;32m     16 \u001b[0;31m    \u001b[0;32mif\u001b[0m \u001b[0mlen\u001b[0m\u001b[0;34m(\u001b[0m\u001b[0mname\u001b[0m\u001b[0;34m)\u001b[0m\u001b[0;34m>\u001b[0m\u001b[0;36m29\u001b[0m\u001b[0;34m:\u001b[0m\u001b[0;34m\u001b[0m\u001b[0;34m\u001b[0m\u001b[0m\n",
      "\u001b[0m\n",
      "ipdb> name[20:]\n",
      "'nn_tw5nn_bs4nn_epoch3'\n",
      "ipdb> q\n"
     ]
    }
   ],
   "source": [
    "%debug"
   ]
  },
  {
   "cell_type": "code",
   "execution_count": 17,
   "metadata": {},
   "outputs": [
    {
     "data": {
      "text/plain": [
       "'freq0.5'"
      ]
     },
     "execution_count": 17,
     "metadata": {},
     "output_type": "execute_result"
    }
   ],
   "source": [
    "f'freq{0.5:.1f}'"
   ]
  },
  {
   "cell_type": "code",
   "execution_count": null,
   "metadata": {},
   "outputs": [],
   "source": [
    "m = measure_name[0]\n",
    "\n",
    "files = list(path.glob(f'exp*/*/*nn_s2nn_tw5*bs4*/*{m}.csv'))\n",
    "df = pd.DataFrame([read_csv(f) for f in files])\n",
    "# data = pd.pivot_table(df, index=['experiment','function'], columns='method', values=m) #,'freq' later for adding frequency experiment\n",
    "data = pd.pivot_table(df, index=['experiment','function','freq', 'ns', 'tw','bs','epochs'],columns='method' ) #,'freq' later for adding frequency experiment, ,values=m\n",
    "data.style.format(\"{:,.2f}\")"
   ]
  },
  {
   "cell_type": "code",
   "execution_count": null,
   "metadata": {},
   "outputs": [],
   "source": [
    "print(data.to_csv(float_format='%.2f'))"
   ]
  },
  {
   "cell_type": "code",
   "execution_count": 84,
   "metadata": {},
   "outputs": [
    {
     "name": "stdout",
     "output_type": "stream",
     "text": [
      "/Users/maryam/DENN/nbs/maryam\r\n"
     ]
    }
   ],
   "source": [
    "!pwd"
   ]
  },
  {
   "cell_type": "code",
   "execution_count": 100,
   "metadata": {},
   "outputs": [],
   "source": [
    "data.to_csv('tmp.csv', float_format='%.2f')"
   ]
  },
  {
   "cell_type": "code",
   "execution_count": 102,
   "metadata": {},
   "outputs": [],
   "source": [
    "!rm tmp.csv"
   ]
  },
  {
   "cell_type": "code",
   "execution_count": 51,
   "metadata": {},
   "outputs": [],
   "source": [
    "Func_names=['sphere','rastrigin','rosenbrock']\n",
    "exp_names=['exp1','exp2','exp3','exp4']\n",
    "frequency=1000\n",
    "nn_window=5\n"
   ]
  },
  {
   "cell_type": "code",
   "execution_count": 52,
   "metadata": {},
   "outputs": [
    {
     "name": "stdout",
     "output_type": "stream",
     "text": [
      ",noNNReval,NNnorm_Worst,NNdrop_Worst\n",
      "sphere,20.86,5.88,10.26\n",
      "rastrigin,31.97,31.36,30.68\n",
      "rosenbrock,132878.68,95152.01,196130.84\n",
      "sphere,0.49,0.23,0.28\n",
      "rastrigin,2.63,3.09,2.84\n",
      "rosenbrock,477.63,176.78,199.93\n",
      "sphere,0.05,5.19,5.24\n",
      "rastrigin,9.54,6.27,5.16\n",
      "rosenbrock,106.15,3896.32,4206.74\n",
      "sphere,114.51,78.15,90.07\n",
      "rastrigin,180.10,90.70,94.25\n",
      "rosenbrock,36238911.84,21532833.04,24626277.92\n",
      "\n"
     ]
    }
   ],
   "source": [
    "#Experiment = Enum('Experiment', 'exp1 exp2 exp3 exp4')\n",
    "#Method = Enum('Methods', 'noNNRestart noNNReval NNnorm NNdrop')\n",
    "#Mechname:Random, Worst, Closest\n",
    "measure_name=['mof','sr','arr','nfe','nn_time']\n",
    "index_measure=0\n",
    "total=[]\n",
    "#lables = ['noNNReval', 'NNnorm_Random', 'NNnorm_Worst','NNnorm_Closest','NNdrop_Random', 'NNdrop_Worst', 'NNdrop_Closest']\n",
    "lables = ['noNNReval', 'NNnorm_Worst', 'NNdrop_Worst']\n",
    "\n",
    "for experiment in exp_names:\n",
    "    \n",
    "    for func in Func_names:\n",
    "       # path = Path(f'../../data/results/{experiment}/{func}')\n",
    "        path_in = Path(f'../../data/cluster_results/{experiment}/{func}')\n",
    "        path = path_in / f'freq{frequency}nn_w{nn_window}nn_p{3}'\n",
    "        noNNReval= pd.read_csv(path/f'noNNReval_{measure_name[index_measure]}.csv').mean(0).values[0]\n",
    "\n",
    "        #noNNRestart= pd.read_csv(path/'noNNRestart_mof.csv')\n",
    "\n",
    "       # NNnorm_Random= pd.read_csv(path/f'NNnorm_Worst_{measure_name[index_measure]}.csv').mean(0).values[0]\n",
    "       # NNdrop_Random = pd.read_csv(path/f'NNdrop_Worst_{measure_name[index_measure]}.csv').mean(0).values[0]\n",
    "\n",
    "\n",
    "        NNnorm_Worst= pd.read_csv(path/f'NNnorm_Worst_{measure_name[index_measure]}.csv').mean(0).values[0]\n",
    "        NNdrop_Worst = pd.read_csv(path/f'NNdrop_Worst_{measure_name[index_measure]}.csv').mean(0).values[0]\n",
    "\n",
    "\n",
    "       # NNnorm_Closest= pd.read_csv(path/f'NNnorm_Closest_{measure_name[index_measure]}.csv').mean(0).values[0]\n",
    "       # NNdrop_Closest = pd.read_csv(path/f'NNdrop_Closest_{measure_name[index_measure]}.csv').mean(0).values[0]\n",
    "        \n",
    "       # x=np.array([noNNReval.mof, NNnorm_Random.mof, NNnorm_Worst.mof, NNnorm_Closest.mof, NNdrop_Random.mof,NNdrop_Worst.mof,NNdrop_Closest.mof])\n",
    "        #y=[noNNReval, NNnorm_Random,NNnorm_Worst,NNnorm_Closest,NNdrop_Random, NNdrop_Worst, NNdrop_Closest]\n",
    "        y=[noNNReval, NNnorm_Worst,NNdrop_Worst]\n",
    "\n",
    "        total.append(y)\n",
    "        #print(total)\n",
    "\n",
    "    #,  index=[Func_names,Func_names]\n",
    "\n",
    "#df=pd.DataFrame(total, columns=lables,index=['sphere','rastrigin','rosenbrock','sphere','rastrigin','rosenbrock'])\n",
    "df=pd.DataFrame(total, columns=lables,index=['sphere','rastrigin','rosenbrock','sphere','rastrigin','rosenbrock','sphere','rastrigin','rosenbrock', 'sphere','rastrigin','rosenbrock'])\n",
    "\n",
    "#pd.options.display.float_format = '{:,.2f}'.format\n",
    "\n",
    "\n",
    "print(pd.DataFrame.to_csv(df, float_format='%.2f'))\n",
    "\n",
    "\n",
    "#pd.DataFrame.to_latex(df, multirow=True)    #, float_format=\"%%.2f\" ,, , longtable=True,  bold_rows=True,\n"
   ]
  },
  {
   "cell_type": "code",
   "execution_count": 101,
   "metadata": {},
   "outputs": [
    {
     "data": {
      "text/html": [
       "<div>\n",
       "<style scoped>\n",
       "    .dataframe tbody tr th:only-of-type {\n",
       "        vertical-align: middle;\n",
       "    }\n",
       "\n",
       "    .dataframe tbody tr th {\n",
       "        vertical-align: top;\n",
       "    }\n",
       "\n",
       "    .dataframe thead th {\n",
       "        text-align: right;\n",
       "    }\n",
       "</style>\n",
       "<table border=\"1\" class=\"dataframe\">\n",
       "  <thead>\n",
       "    <tr style=\"text-align: right;\">\n",
       "      <th></th>\n",
       "      <th>experiment</th>\n",
       "      <th>function</th>\n",
       "      <th>NNdrop</th>\n",
       "      <th>NNnorm</th>\n",
       "      <th>noNNReval</th>\n",
       "    </tr>\n",
       "  </thead>\n",
       "  <tbody>\n",
       "    <tr>\n",
       "      <th>0</th>\n",
       "      <td>exp1</td>\n",
       "      <td>rastrigin</td>\n",
       "      <td>30.68</td>\n",
       "      <td>31.36</td>\n",
       "      <td>31.97</td>\n",
       "    </tr>\n",
       "    <tr>\n",
       "      <th>1</th>\n",
       "      <td>exp1</td>\n",
       "      <td>rosenbrock</td>\n",
       "      <td>196130.84</td>\n",
       "      <td>95152.01</td>\n",
       "      <td>132878.68</td>\n",
       "    </tr>\n",
       "    <tr>\n",
       "      <th>2</th>\n",
       "      <td>exp1</td>\n",
       "      <td>sphere</td>\n",
       "      <td>10.26</td>\n",
       "      <td>5.88</td>\n",
       "      <td>20.86</td>\n",
       "    </tr>\n",
       "    <tr>\n",
       "      <th>3</th>\n",
       "      <td>exp2</td>\n",
       "      <td>rastrigin</td>\n",
       "      <td>2.84</td>\n",
       "      <td>3.09</td>\n",
       "      <td>2.63</td>\n",
       "    </tr>\n",
       "    <tr>\n",
       "      <th>4</th>\n",
       "      <td>exp2</td>\n",
       "      <td>rosenbrock</td>\n",
       "      <td>199.93</td>\n",
       "      <td>176.78</td>\n",
       "      <td>477.63</td>\n",
       "    </tr>\n",
       "    <tr>\n",
       "      <th>5</th>\n",
       "      <td>exp2</td>\n",
       "      <td>sphere</td>\n",
       "      <td>0.28</td>\n",
       "      <td>0.23</td>\n",
       "      <td>0.49</td>\n",
       "    </tr>\n",
       "    <tr>\n",
       "      <th>6</th>\n",
       "      <td>exp3</td>\n",
       "      <td>rastrigin</td>\n",
       "      <td>5.16</td>\n",
       "      <td>6.27</td>\n",
       "      <td>9.54</td>\n",
       "    </tr>\n",
       "    <tr>\n",
       "      <th>7</th>\n",
       "      <td>exp3</td>\n",
       "      <td>rosenbrock</td>\n",
       "      <td>4206.74</td>\n",
       "      <td>3896.32</td>\n",
       "      <td>106.15</td>\n",
       "    </tr>\n",
       "    <tr>\n",
       "      <th>8</th>\n",
       "      <td>exp3</td>\n",
       "      <td>sphere</td>\n",
       "      <td>5.24</td>\n",
       "      <td>5.19</td>\n",
       "      <td>0.05</td>\n",
       "    </tr>\n",
       "    <tr>\n",
       "      <th>9</th>\n",
       "      <td>exp4</td>\n",
       "      <td>rastrigin</td>\n",
       "      <td>94.25</td>\n",
       "      <td>90.70</td>\n",
       "      <td>180.10</td>\n",
       "    </tr>\n",
       "    <tr>\n",
       "      <th>10</th>\n",
       "      <td>exp4</td>\n",
       "      <td>rosenbrock</td>\n",
       "      <td>24626277.92</td>\n",
       "      <td>21532833.04</td>\n",
       "      <td>36238911.84</td>\n",
       "    </tr>\n",
       "    <tr>\n",
       "      <th>11</th>\n",
       "      <td>exp4</td>\n",
       "      <td>sphere</td>\n",
       "      <td>90.07</td>\n",
       "      <td>78.15</td>\n",
       "      <td>114.51</td>\n",
       "    </tr>\n",
       "  </tbody>\n",
       "</table>\n",
       "</div>"
      ],
      "text/plain": [
       "   experiment    function       NNdrop       NNnorm    noNNReval\n",
       "0        exp1   rastrigin        30.68        31.36        31.97\n",
       "1        exp1  rosenbrock    196130.84     95152.01    132878.68\n",
       "2        exp1      sphere        10.26         5.88        20.86\n",
       "3        exp2   rastrigin         2.84         3.09         2.63\n",
       "4        exp2  rosenbrock       199.93       176.78       477.63\n",
       "5        exp2      sphere         0.28         0.23         0.49\n",
       "6        exp3   rastrigin         5.16         6.27         9.54\n",
       "7        exp3  rosenbrock      4206.74      3896.32       106.15\n",
       "8        exp3      sphere         5.24         5.19         0.05\n",
       "9        exp4   rastrigin        94.25        90.70       180.10\n",
       "10       exp4  rosenbrock  24626277.92  21532833.04  36238911.84\n",
       "11       exp4      sphere        90.07        78.15       114.51"
      ]
     },
     "execution_count": 101,
     "metadata": {},
     "output_type": "execute_result"
    }
   ],
   "source": [
    "pd.read_csv('tmp.csv')"
   ]
  },
  {
   "cell_type": "code",
   "execution_count": 53,
   "metadata": {},
   "outputs": [
    {
     "data": {
      "text/html": [
       "<div>\n",
       "<style scoped>\n",
       "    .dataframe tbody tr th:only-of-type {\n",
       "        vertical-align: middle;\n",
       "    }\n",
       "\n",
       "    .dataframe tbody tr th {\n",
       "        vertical-align: top;\n",
       "    }\n",
       "\n",
       "    .dataframe thead th {\n",
       "        text-align: right;\n",
       "    }\n",
       "</style>\n",
       "<table border=\"1\" class=\"dataframe\">\n",
       "  <thead>\n",
       "    <tr style=\"text-align: right;\">\n",
       "      <th></th>\n",
       "      <th>noNNReval</th>\n",
       "      <th>NNnorm_Worst</th>\n",
       "      <th>NNdrop_Worst</th>\n",
       "    </tr>\n",
       "  </thead>\n",
       "  <tbody>\n",
       "    <tr>\n",
       "      <th>sphere</th>\n",
       "      <td>2.085900e+01</td>\n",
       "      <td>5.882522e+00</td>\n",
       "      <td>1.025944e+01</td>\n",
       "    </tr>\n",
       "    <tr>\n",
       "      <th>rastrigin</th>\n",
       "      <td>3.197001e+01</td>\n",
       "      <td>3.135821e+01</td>\n",
       "      <td>3.068299e+01</td>\n",
       "    </tr>\n",
       "    <tr>\n",
       "      <th>rosenbrock</th>\n",
       "      <td>1.328787e+05</td>\n",
       "      <td>9.515201e+04</td>\n",
       "      <td>1.961308e+05</td>\n",
       "    </tr>\n",
       "    <tr>\n",
       "      <th>sphere</th>\n",
       "      <td>4.901408e-01</td>\n",
       "      <td>2.253121e-01</td>\n",
       "      <td>2.824855e-01</td>\n",
       "    </tr>\n",
       "    <tr>\n",
       "      <th>rastrigin</th>\n",
       "      <td>2.626830e+00</td>\n",
       "      <td>3.090646e+00</td>\n",
       "      <td>2.835697e+00</td>\n",
       "    </tr>\n",
       "    <tr>\n",
       "      <th>rosenbrock</th>\n",
       "      <td>4.776291e+02</td>\n",
       "      <td>1.767826e+02</td>\n",
       "      <td>1.999253e+02</td>\n",
       "    </tr>\n",
       "    <tr>\n",
       "      <th>sphere</th>\n",
       "      <td>4.886981e-02</td>\n",
       "      <td>5.188318e+00</td>\n",
       "      <td>5.242722e+00</td>\n",
       "    </tr>\n",
       "    <tr>\n",
       "      <th>rastrigin</th>\n",
       "      <td>9.542240e+00</td>\n",
       "      <td>6.269999e+00</td>\n",
       "      <td>5.157696e+00</td>\n",
       "    </tr>\n",
       "    <tr>\n",
       "      <th>rosenbrock</th>\n",
       "      <td>1.061483e+02</td>\n",
       "      <td>3.896322e+03</td>\n",
       "      <td>4.206740e+03</td>\n",
       "    </tr>\n",
       "    <tr>\n",
       "      <th>sphere</th>\n",
       "      <td>1.145067e+02</td>\n",
       "      <td>7.815408e+01</td>\n",
       "      <td>9.006552e+01</td>\n",
       "    </tr>\n",
       "    <tr>\n",
       "      <th>rastrigin</th>\n",
       "      <td>1.800961e+02</td>\n",
       "      <td>9.070184e+01</td>\n",
       "      <td>9.424529e+01</td>\n",
       "    </tr>\n",
       "    <tr>\n",
       "      <th>rosenbrock</th>\n",
       "      <td>3.623891e+07</td>\n",
       "      <td>2.153283e+07</td>\n",
       "      <td>2.462628e+07</td>\n",
       "    </tr>\n",
       "  </tbody>\n",
       "</table>\n",
       "</div>"
      ],
      "text/plain": [
       "               noNNReval  NNnorm_Worst  NNdrop_Worst\n",
       "sphere      2.085900e+01  5.882522e+00  1.025944e+01\n",
       "rastrigin   3.197001e+01  3.135821e+01  3.068299e+01\n",
       "rosenbrock  1.328787e+05  9.515201e+04  1.961308e+05\n",
       "sphere      4.901408e-01  2.253121e-01  2.824855e-01\n",
       "rastrigin   2.626830e+00  3.090646e+00  2.835697e+00\n",
       "rosenbrock  4.776291e+02  1.767826e+02  1.999253e+02\n",
       "sphere      4.886981e-02  5.188318e+00  5.242722e+00\n",
       "rastrigin   9.542240e+00  6.269999e+00  5.157696e+00\n",
       "rosenbrock  1.061483e+02  3.896322e+03  4.206740e+03\n",
       "sphere      1.145067e+02  7.815408e+01  9.006552e+01\n",
       "rastrigin   1.800961e+02  9.070184e+01  9.424529e+01\n",
       "rosenbrock  3.623891e+07  2.153283e+07  2.462628e+07"
      ]
     },
     "execution_count": 53,
     "metadata": {},
     "output_type": "execute_result"
    }
   ],
   "source": [
    "df"
   ]
  },
  {
   "cell_type": "code",
   "execution_count": null,
   "metadata": {},
   "outputs": [],
   "source": []
  },
  {
   "cell_type": "code",
   "execution_count": null,
   "metadata": {},
   "outputs": [],
   "source": []
  },
  {
   "cell_type": "code",
   "execution_count": null,
   "metadata": {},
   "outputs": [],
   "source": []
  },
  {
   "cell_type": "code",
   "execution_count": null,
   "metadata": {},
   "outputs": [],
   "source": []
  },
  {
   "cell_type": "code",
   "execution_count": null,
   "metadata": {},
   "outputs": [],
   "source": [
    "#report nn_time\n",
    "measure_name=['mof','sr','arr','nfe','nn_time']\n",
    "index_measure=4\n",
    "total=[]\n",
    "lables = [ 'NNnorm_Random', 'NNnorm_Worst','NNnorm_Closest','NNdrop_Random', 'NNdrop_Worst', 'NNdrop_Closest']\n",
    "\n",
    "for experiment in exp_names:\n",
    "    \n",
    "    for func in Func_names:\n",
    "        path = Path(f'../../data/results/{experiment}/{func}')\n",
    "\n",
    "        NNnorm_Random= pd.read_csv(path/f'NNnorm_Worst_{measure_name[index_measure]}.csv').mean(0).values[0]\n",
    "        NNdrop_Random = pd.read_csv(path/f'NNdrop_Worst_{measure_name[index_measure]}.csv').mean(0).values[0]\n",
    "\n",
    "\n",
    "        NNnorm_Worst= pd.read_csv(path/f'NNnorm_Worst_{measure_name[index_measure]}.csv').mean(0).values[0]\n",
    "        NNdrop_Worst = pd.read_csv(path/f'NNdrop_Worst_{measure_name[index_measure]}.csv').mean(0).values[0]\n",
    "\n",
    "        NNnorm_Closest= pd.read_csv(path/f'NNnorm_Closest_{measure_name[index_measure]}.csv').mean(0).values[0]\n",
    "        NNdrop_Closest = pd.read_csv(path/f'NNdrop_Closest_{measure_name[index_measure]}.csv').mean(0).values[0]\n",
    "        \n",
    "       # x=np.array([noNNReval.mof, NNnorm_Random.mof, NNnorm_Worst.mof, NNnorm_Closest.mof, NNdrop_Random.mof,NNdrop_Worst.mof,NNdrop_Closest.mof])\n",
    "        y=[ NNnorm_Random,NNnorm_Worst,NNnorm_Closest,NNdrop_Random, NNdrop_Worst, NNdrop_Closest]\n",
    "        total.append(y)\n",
    "        #print(total)\n",
    "\n",
    "\n",
    "df=pd.DataFrame(total, columns=lables,index=['sphere','rastrigin','rosenbrock','sphere','rastrigin','rosenbrock'])\n",
    "\n",
    "\n",
    "\n",
    "print(pd.DataFrame.to_csv(df, float_format='%.2f'))\n",
    "#df\n"
   ]
  },
  {
   "cell_type": "code",
   "execution_count": null,
   "metadata": {},
   "outputs": [],
   "source": []
  },
  {
   "cell_type": "code",
   "execution_count": null,
   "metadata": {},
   "outputs": [],
   "source": []
  },
  {
   "cell_type": "code",
   "execution_count": null,
   "metadata": {},
   "outputs": [],
   "source": []
  }
 ],
 "metadata": {
  "kernelspec": {
   "display_name": "Python 3",
   "language": "python",
   "name": "python3"
  },
  "language_info": {
   "codemirror_mode": {
    "name": "ipython",
    "version": 3
   },
   "file_extension": ".py",
   "mimetype": "text/x-python",
   "name": "python",
   "nbconvert_exporter": "python",
   "pygments_lexer": "ipython3",
   "version": "3.7.3"
  }
 },
 "nbformat": 4,
 "nbformat_minor": 2
}
