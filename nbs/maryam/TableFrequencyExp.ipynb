{
 "cells": [
  {
   "cell_type": "code",
   "execution_count": null,
   "metadata": {},
   "outputs": [],
   "source": [
    "%reload_ext autoreload\n",
    "%autoreload 2\n",
    "%matplotlib inline\n",
    "from denn import *\n",
    "import pandas as pd\n",
    "import seaborn as sns\n",
    "import io #Used as buffer"
   ]
  },
  {
   "cell_type": "markdown",
   "metadata": {
    "heading_collapsed": true
   },
   "source": [
    "# Read Data"
   ]
  },
  {
   "cell_type": "code",
   "execution_count": null,
   "metadata": {
    "hidden": true
   },
   "outputs": [],
   "source": [
    "path= Path(f'../../data/cluster_results')"
   ]
  },
  {
   "cell_type": "code",
   "execution_count": null,
   "metadata": {
    "code_folding": [],
    "hidden": true
   },
   "outputs": [],
   "source": [
    "def read_csv(f):\n",
    "    df = pd.read_csv(f).mean()\n",
    "    df['std'] = pd.read_csv(f).std().iloc[0] ##added line for std, remove this will remove std from table\n",
    "    df['experiment'] = f.parent.parent.parent.name\n",
    "    df['function'] = f.parent.parent.name\n",
    "    name = f.parent.name\n",
    "    #print(name)\n",
    "    df['freq'] = float(name[4:].split('n')[0])\n",
    "    #print(df['freq'])\n",
    "    df['method'] = f.name.split('_')[0]+'_'+f.name.split('_')[1]\n",
    "    #df['method'] = f.name.split('_')[0]\n",
    "    #print(df['method'])\n",
    "    return df\n",
    "\n",
    "measure_name=['mof','sr','arr','nfe','nn_time']\n",
    "index_measure=0"
   ]
  },
  {
   "cell_type": "code",
   "execution_count": null,
   "metadata": {
    "hidden": true
   },
   "outputs": [],
   "source": [
    "m = measure_name[index_measure]\n",
    "files  = list(f for f in path.glob(f'exp*/*/freq*nn_p3nn_s3nn_tw5*bs4*/*{m}.csv') if 'NNdrop' not in f.name)\n",
    "# files += list(path.glob(f'exp*/*/*nn_p3/*{m}.csv'))\n",
    "#files += [f for f in path.glob(f'exp*/*/freq*nn_p3nn_s2nn_tw5*bs4*/*{m}.csv') if 'noNN' in f.name] #f'exp*/*/*nn_p3/*{m}.csv'  , \n",
    "#print(files)\n",
    "df = pd.DataFrame([read_csv(f) for f in files])\n",
    "df.rename({'0':m}, axis=1, inplace=True)\n",
    "# data = pd.pivot_table(df, index=['experiment','function'], columns='method', values=m) #,'freq' later for adding frequency experiment\n",
    "data = pd.pivot_table(df, index=['experiment','function','freq'],  columns='method') #,'freq' later for adding frequency experiment, ,values=m\n",
    "data.style.format(\"{:,.2f}\")"
   ]
  },
  {
   "cell_type": "code",
   "execution_count": null,
   "metadata": {
    "hidden": true
   },
   "outputs": [],
   "source": [
    "df.head()"
   ]
  },
  {
   "cell_type": "code",
   "execution_count": null,
   "metadata": {
    "hidden": true
   },
   "outputs": [],
   "source": [
    "def get_table_data(source, index, columns):\n",
    "    lbl_dict = {'NNnorm_Worst' :'NNW',\n",
    "                'NNnorm_Random':'NNR',\n",
    "                'noNNReval'    :'noNN'}\n",
    "    df = source.copy()\n",
    "    df.function = df.function.str.title()\n",
    "    df.method = df.method.apply(lambda x: lbl_dict[x])\n",
    "    data = pd.pivot_table(df, index=index, columns=columns)\n",
    "    m = data.columns.levels[0][0]\n",
    "    # Add std to table\n",
    "    final_data = data[m].copy()\n",
    "    for col in data[m].columns:\n",
    "        final_data[col] = data[m    ][col].apply(lambda x: f'{x:,.2f} (±') +\\\n",
    "                          data['std'][col].apply(lambda x: f'{x:,.2f})'  )\n",
    "    \n",
    "    final_data.sort_index(ascending=False, inplace=True)\n",
    "    data[m].mean(axis=0)\n",
    "    return final_data"
   ]
  },
  {
   "cell_type": "code",
   "execution_count": null,
   "metadata": {
    "hidden": true
   },
   "outputs": [],
   "source": [
    "' & '.join([str(o) for o in ss.to_frame().T.round(2).to_numpy().flatten().tolist()])"
   ]
  },
  {
   "cell_type": "code",
   "execution_count": null,
   "metadata": {
    "hidden": true
   },
   "outputs": [],
   "source": [
    "table1 = get_table_data(df, index=['experiment','function','freq'], columns=['method']).head()\n",
    "table1.head()"
   ]
  },
  {
   "cell_type": "code",
   "execution_count": null,
   "metadata": {
    "hidden": true
   },
   "outputs": [],
   "source": [
    "table2 = get_table_data(df, index=['function','method'], columns=['experiment','freq'])\n",
    "table2.head()"
   ]
  },
  {
   "cell_type": "markdown",
   "metadata": {
    "heading_collapsed": true
   },
   "source": [
    "# Latex"
   ]
  },
  {
   "cell_type": "code",
   "execution_count": null,
   "metadata": {
    "hidden": true
   },
   "outputs": [],
   "source": [
    "print(table2.to_csv(float_format='%.2f'))"
   ]
  },
  {
   "cell_type": "markdown",
   "metadata": {
    "heading_collapsed": true
   },
   "source": [
    "# Plots chartAll"
   ]
  },
  {
   "cell_type": "code",
   "execution_count": null,
   "metadata": {
    "hidden": true
   },
   "outputs": [],
   "source": [
    "import altair as alt\n",
    "alt.renderers.enable('notebook')"
   ]
  },
  {
   "cell_type": "code",
   "execution_count": null,
   "metadata": {
    "hidden": true
   },
   "outputs": [],
   "source": [
    "# DataFrame we use for plots\n",
    "d = data.reset_index()\n",
    "d.columns = ['experiment', 'function', 'freq', 'NNR', 'NNW', 'noNN', 'NNR_std', 'NNW_std', 'noNN_std']\n",
    "d.head(2)"
   ]
  },
  {
   "cell_type": "code",
   "execution_count": null,
   "metadata": {
    "hidden": true
   },
   "outputs": [],
   "source": [
    "d1 = d.melt(['experiment','function','freq'], value_vars=['NNR', 'NNW', 'noNN'],\n",
    "            var_name='method', value_name='mof')\n",
    "d2 = d.melt(['experiment','function','freq'], value_vars=['NNR_std', 'NNW_std', 'noNN_std'],\n",
    "            var_name='method', value_name='mof_std')\n",
    "d2.method = d2.method.str.replace('_std', '')\n",
    "d = d1.merge(d2)\n",
    "#d.head()"
   ]
  },
  {
   "cell_type": "code",
   "execution_count": null,
   "metadata": {
    "hidden": true
   },
   "outputs": [],
   "source": [
    "# test = d.query(\"experiment=='exp1' & freq==1\").copy()\n",
    "# mins = test.groupby('function')['mof'].min()\n",
    "# mins"
   ]
  },
  {
   "cell_type": "markdown",
   "metadata": {
    "hidden": true
   },
   "source": [
    "## Plots 0"
   ]
  },
  {
   "cell_type": "code",
   "execution_count": null,
   "metadata": {
    "hidden": true
   },
   "outputs": [],
   "source": [
    "test = d.query(\"experiment=='exp4'\").copy()  # & freq==1\"\n",
    "mins = test.groupby('function')['mof'].min()\n",
    "test['mof_norm'] = test['mof']\n",
    "for k,v in mins.iteritems():\n",
    "    test.loc[test.function==k,'mof_norm'] = test.loc[test.function==k,'mof']/v\n",
    "#test.head()"
   ]
  },
  {
   "cell_type": "code",
   "execution_count": null,
   "metadata": {
    "code_folding": [
     3,
     8,
     12,
     18,
     20
    ],
    "hidden": true
   },
   "outputs": [],
   "source": [
    "base = alt.Chart(test)\n",
    "selector1 = alt.selection_single(fields=['method'])\n",
    "\n",
    "chart1 = base.mark_bar().encode(\n",
    "    alt.X('method'),\n",
    "    alt.Y('mean(mof_norm)'),\n",
    "    alt.Color('function'),\n",
    "    opacity = alt.condition(selector1, alt.OpacityValue(1.0), alt.OpacityValue(0.1))\n",
    ").properties(\n",
    "    width=300\n",
    ").add_selection(selector1)\n",
    "\n",
    "chart2 = base.mark_point(size=400).encode(\n",
    "    alt.X('mof_norm'),\n",
    "    alt.Y('function'),\n",
    "    alt.Color('method'),#function\n",
    "    alt.Shape('freq:N'),\n",
    "    alt.Tooltip(['mof_norm:Q','mof:Q','freq:Q','function:N'])\n",
    ").transform_filter(\n",
    "    selector1\n",
    ").properties(\n",
    "#     width=200\n",
    "    height=300\n",
    ")\n",
    "\n",
    "chart1|chart2"
   ]
  },
  {
   "cell_type": "code",
   "execution_count": null,
   "metadata": {
    "hidden": true
   },
   "outputs": [],
   "source": [
    "base = alt.Chart(test)\n",
    "selector1 = alt.selection_single(fields=['function'])\n",
    "\n",
    "chart1 = base.mark_bar().encode(\n",
    "    alt.X('function'),\n",
    "    alt.Y('mean(mof_norm)'),\n",
    "    alt.Color('method'),\n",
    "    opacity = alt.condition(selector1, alt.OpacityValue(1.0), alt.OpacityValue(0.1))\n",
    ").properties(\n",
    "    width=300\n",
    ").add_selection(selector1)\n",
    "\n",
    "chart2 = base.mark_point(size=400).encode(\n",
    "    alt.X('mof_norm'),\n",
    "    alt.Y('method'),\n",
    "    alt.Color('function'),\n",
    "    alt.Shape('freq:N'),\n",
    "#     alt.Tooltip(['mof_norm','mof','freq','function'])\n",
    ").transform_filter(\n",
    "    selector1\n",
    ").properties(\n",
    "#     width=200\n",
    "    height=300\n",
    ")\n",
    "\n",
    "chart1|chart2.interactive()"
   ]
  },
  {
   "cell_type": "markdown",
   "metadata": {
    "hidden": true
   },
   "source": [
    "## plot 1"
   ]
  },
  {
   "cell_type": "code",
   "execution_count": null,
   "metadata": {
    "code_folding": [
     0
    ],
    "hidden": true
   },
   "outputs": [],
   "source": [
    "def plot_experiment_onlybars(exp):   \n",
    "    test = d.query(f\"experiment=={exp!r}\").copy()\n",
    "    mins = test.groupby('function')['mof'].min()\n",
    "    test['mof_norm'] = test['mof']\n",
    "    for k,v in mins.iteritems():\n",
    "        test.loc[test.function==k,'mof_norm'] = test.loc[test.function==k,'mof']/v\n",
    "    test['function'] = test['function'].str.title()\n",
    "    base = alt.Chart(test)\n",
    "    chart1 = base.mark_bar().encode(\n",
    "        alt.X('method', title='', sort='descending'),\n",
    "        alt.Y('mean(mof_norm)', title='MOF_norm'),\n",
    "        alt.Color('function', title=''),\n",
    "        alt.Tooltip(['mof:Q','mof_norm:Q','function:N']),\n",
    "#         alt.Column('function', title=''),\n",
    "    ).properties(\n",
    "        width=100, height=200, title=exp\n",
    "    )\n",
    "    return chart1\n",
    "\n",
    "chart = (plot_experiment_onlybars('exp1') |\n",
    "         plot_experiment_onlybars('exp2') |\n",
    "         plot_experiment_onlybars('exp3') |\n",
    "         plot_experiment_onlybars('exp4'))\n",
    "chart.save(str(path/'chartAll.png'), scale_factor=2.0)\n",
    "chart"
   ]
  },
  {
   "cell_type": "code",
   "execution_count": null,
   "metadata": {
    "code_folding": [
     0
    ],
    "hidden": true
   },
   "outputs": [],
   "source": [
    "def plot_experiment(exp):   \n",
    "    test = d.query(f\"experiment=={exp!r}\").copy()\n",
    "    mins = test.groupby('function')['mof'].min()\n",
    "    test['mof_norm'] = test['mof']\n",
    "    for k,v in mins.iteritems():\n",
    "        test.loc[test.function==k,'mof_norm'] = test.loc[test.function==k,'mof']/v\n",
    "    \n",
    "    base = alt.Chart(test)\n",
    "    selector1 = alt.selection_single(fields=['method'])\n",
    "\n",
    "    chart1 = base.mark_bar().encode(\n",
    "        alt.X('method', title=''),\n",
    "        alt.Y('mean(mof_norm)', title=f'{exp} (mof_norm)'),\n",
    "        alt.Color('function'),\n",
    "#         alt.Column('function', title=''),\n",
    "        opacity = alt.condition(selector1, alt.OpacityValue(1.0), alt.OpacityValue(0.1))\n",
    "    ).properties(\n",
    "        width=50, height=200\n",
    "    ).add_selection(selector1)\n",
    "\n",
    "    chart2 = base.mark_point(size=400).encode(\n",
    "        alt.X('mof_norm'),\n",
    "        alt.Y('function', title=''),\n",
    "        alt.Color('method'),#function\n",
    "        alt.Shape('freq:N'),\n",
    "#         alt.Tooltip(['mof_norm','mof','freq','function'])\n",
    "    ).transform_filter(\n",
    "        selector1\n",
    "    ).properties(\n",
    "        width=200, height=200\n",
    "    )\n",
    "\n",
    "    return chart1|chart2\n",
    "    "
   ]
  },
  {
   "cell_type": "code",
   "execution_count": null,
   "metadata": {
    "hidden": true
   },
   "outputs": [],
   "source": [
    "chartworst=(plot_experiment('exp1'))&(plot_experiment('exp3'))\n",
    "chartworst\n",
    "# chartworst.save(str(path/'chartworst.png'), scale_factor=2.0)\n",
    "#|(plot_experiment('exp3'))&(plot_experiment('exp4'))"
   ]
  },
  {
   "cell_type": "code",
   "execution_count": null,
   "metadata": {
    "hidden": true
   },
   "outputs": [],
   "source": [
    "chartbest=(plot_experiment('exp2'))&(plot_experiment('exp4'))\n",
    "chartbest\n",
    "# chartbest.save(str(path/'chartbest.png'), scale_factor=2.0)"
   ]
  },
  {
   "cell_type": "markdown",
   "metadata": {
    "hidden": true
   },
   "source": [
    "## plot 2"
   ]
  },
  {
   "cell_type": "code",
   "execution_count": null,
   "metadata": {
    "hidden": true
   },
   "outputs": [],
   "source": [
    "def plot_exp(exp, axs, colors='method', x_axis='function'):\n",
    "    test = d.query(f\"experiment=={exp!r}\").copy()\n",
    "    mins = test.groupby('function')['mof'].min()\n",
    "    test['mof_norm'] = test['mof']\n",
    "    for k,v in mins.iteritems():\n",
    "        test.loc[test.function==k,'mof_norm'] = test.loc[test.function==k,'mof']/v\n",
    "\n",
    "    for (f,v),ax in zip(test.groupby('freq'),axs):\n",
    "        sns.barplot(x=x_axis, y='mof_norm', data=v, hue=colors, ax=ax) #y='mof_norm'\n",
    "        ax.set_title(f'freq={f}')\n",
    "        ax.get_legend().remove()\n",
    "    ax.legend(loc='best', bbox_to_anchor=(1.05, 0.52, 0.5, 0.5))\n",
    "    for ax in axs[1:]: ax.set_ylabel('')\n",
    "    for ax in axs: ax.set_xlabel('')\n",
    "\n",
    "def plot_all_exp(colors='method', x_axis='function'):\n",
    "    fig,axss = plt.subplots(4, 3, sharey=False, figsize=(10,12))\n",
    "    for exp,axs in zip(['exp1','exp2','exp3','exp4'],axss): plot_exp(exp, axs, colors, x_axis)\n",
    "    for axs in axss[1:]:\n",
    "        for ax in axs: ax.set_title('')\n",
    "    plt.tight_layout()"
   ]
  },
  {
   "cell_type": "code",
   "execution_count": null,
   "metadata": {
    "hidden": true
   },
   "outputs": [],
   "source": [
    "#method versus functions\n",
    "freqMethod = plot_all_exp(colors='method', x_axis='function')\n",
    "freqMethod"
   ]
  },
  {
   "cell_type": "code",
   "execution_count": null,
   "metadata": {
    "hidden": true
   },
   "outputs": [],
   "source": [
    "#freqMethod.save(str(path/'freqMethod.png'), scale_factor=2.0)"
   ]
  },
  {
   "cell_type": "code",
   "execution_count": null,
   "metadata": {
    "hidden": true
   },
   "outputs": [],
   "source": [
    "#functions versus methods\n",
    "plot_all_exp(colors='function', x_axis='method')"
   ]
  },
  {
   "cell_type": "markdown",
   "metadata": {
    "heading_collapsed": true
   },
   "source": [
    "# Arr plot"
   ]
  },
  {
   "cell_type": "markdown",
   "metadata": {
    "heading_collapsed": true,
    "hidden": true
   },
   "source": [
    "## Read Data"
   ]
  },
  {
   "cell_type": "code",
   "execution_count": null,
   "metadata": {
    "hidden": true
   },
   "outputs": [],
   "source": [
    "path= Path(f'../../data/cluster_results')"
   ]
  },
  {
   "cell_type": "code",
   "execution_count": null,
   "metadata": {
    "hidden": true
   },
   "outputs": [],
   "source": [
    "def read_csv(f):\n",
    "    df = pd.read_csv(f).mean()\n",
    "    df['std'] = pd.read_csv(f).std().iloc[0] ##added line for std, remove this will remove std from table\n",
    "    df['experiment'] = f.parent.parent.parent.name\n",
    "    df['function'] = f.parent.parent.name\n",
    "    name = f.parent.name\n",
    "    #print(name)\n",
    "    df['freq'] = float(name[4:].split('n')[0])\n",
    "    #print(df['freq'])\n",
    "    df['method'] = f.name.split('_')[0]+'_'+f.name.split('_')[1]\n",
    "    #df['method'] = f.name.split('_')[0]\n",
    "    #print(df['method'])\n",
    "    return df\n",
    "\n",
    "measure_name=['mof','sr','arr','nfe','nn_time']\n",
    "index_measure=2"
   ]
  },
  {
   "cell_type": "code",
   "execution_count": null,
   "metadata": {
    "hidden": true,
    "scrolled": true
   },
   "outputs": [],
   "source": [
    "m = measure_name[index_measure]\n",
    "files  = list(f for f in path.glob(f'exp*/*/freq*nn_p3nn_s3nn_tw5*bs4*/*{m}.csv') if 'NNnorm' in f.name)\n",
    "# files += list(path.glob(f'exp*/*/*nn_p3/*{m}.csv'))\n",
    "files += [f for f in path.glob(f'exp*/*/freq*nn_p3nn_s2nn_tw5*bs4*/*{m}.csv') if 'noNN' in f.name] #f'exp*/*/*nn_p3/*{m}.csv'  , \n",
    "#print(files)\n",
    "df = pd.DataFrame([read_csv(f) for f in files])\n",
    "df.rename({'0':m}, axis=1, inplace=True)\n",
    "# data = pd.pivot_table(df, index=['experiment','function'], columns='method', values=m) #,'freq' later for adding frequency experiment\n",
    "data = pd.pivot_table(df, index=['experiment','function','freq'],  columns='method') #,'freq' later for adding frequency experiment, ,values=m\n",
    "data.style.format(\"{:,.2f}\")"
   ]
  },
  {
   "cell_type": "code",
   "execution_count": null,
   "metadata": {
    "hidden": true
   },
   "outputs": [],
   "source": []
  },
  {
   "cell_type": "code",
   "execution_count": null,
   "metadata": {
    "hidden": true,
    "scrolled": true
   },
   "outputs": [],
   "source": [
    "#to add std to table\n",
    "final_data = data[m].copy()\n",
    "\n",
    "for col in data[m].columns:\n",
    "    final_data[col] = data[m][col].apply(lambda x: f'{x:,.2f} (±') + data['std'][col].apply(lambda x: f'{x:,.2f})')\n",
    "final_data"
   ]
  },
  {
   "cell_type": "markdown",
   "metadata": {
    "heading_collapsed": true,
    "hidden": true
   },
   "source": [
    "## show plots"
   ]
  },
  {
   "cell_type": "code",
   "execution_count": null,
   "metadata": {
    "hidden": true
   },
   "outputs": [],
   "source": [
    "plot_df = data['arr'].reset_index()\n",
    "plot_df.rename({'NNnorm_Random':'NNR', 'NNnorm_Worst':'NNW', 'noNNReval_sr.csv':'noNN'}, axis=1, inplace=True)\n",
    "#plot_df.head()"
   ]
  },
  {
   "cell_type": "code",
   "execution_count": null,
   "metadata": {
    "hidden": true
   },
   "outputs": [],
   "source": [
    "fig,axss = plt.subplots(4, 3, figsize=(12,16))\n",
    "experiments = ['exp1','exp2','exp3','exp4']\n",
    "functions = ['sphere','rastrigin','rosenbrock']\n",
    "freqs = [0.5, 1.0, 4.0]\n",
    "for exp,axs in zip(experiments,axss):\n",
    "    axs[0].set_ylabel('ARR')#exp\n",
    "    for func,ax in zip(functions,axs):\n",
    "        t = (plot_df[(plot_df.function==func)&(plot_df.experiment==exp)]\n",
    "                    .drop(['experiment','function'], axis=1)\n",
    "                    .set_index('freq'))\n",
    "        for freq,symbol in zip(freqs,['o','v','s']):\n",
    "            ax.plot(t.loc[freq], symbol, markersize=15, alpha=0.65, label=f'freq {freq:0.1f}')\n",
    "            \n",
    "        ax.set_title(f'{exp}_{func}')\n",
    "        ax.set_ylim(0,1)\n",
    "    ax.legend()\n",
    "plt.tight_layout()"
   ]
  },
  {
   "cell_type": "markdown",
   "metadata": {
    "heading_collapsed": true,
    "hidden": true
   },
   "source": [
    "### average based on functions"
   ]
  },
  {
   "cell_type": "code",
   "execution_count": null,
   "metadata": {
    "hidden": true
   },
   "outputs": [],
   "source": [
    "fig,axs = plt.subplots(1, 4, figsize=(14,4))\n",
    "experiments = ['exp1','exp2','exp3','exp4']\n",
    "functions = ['sphere','rastrigin','rosenbrock']\n",
    "freqs = [0.5, 1.0, 4.0]\n",
    "for exp,ax in zip(experiments,axs):\n",
    "#     axs[0].set_ylabel(exp)\n",
    "    t = (plot_df[plot_df.experiment==exp]\n",
    "                .drop(['experiment'], axis=1)\n",
    "                .groupby('freq').mean())\n",
    "    for freq,symbol in zip(freqs,['o','v','s']):\n",
    "        ax.plot(t.loc[freq], symbol, markersize=15, alpha=0.65, label=f'freq {freq:0.1f}')\n",
    "\n",
    "    ax.set_title(f'{`zexp}')\n",
    "    ax.set_ylim(0,1)\n",
    "axs[-1].legend()\n",
    "plt.tight_layout()"
   ]
  },
  {
   "cell_type": "code",
   "execution_count": null,
   "metadata": {
    "hidden": true
   },
   "outputs": [],
   "source": [
    "t = (plot_df[plot_df.experiment=='exp3']\n",
    "                .drop(['experiment'], axis=1)\n",
    "#                 .groupby('freq')\n",
    "    )"
   ]
  },
  {
   "cell_type": "code",
   "execution_count": null,
   "metadata": {
    "hidden": true
   },
   "outputs": [],
   "source": [
    "t"
   ]
  },
  {
   "cell_type": "code",
   "execution_count": null,
   "metadata": {
    "hidden": true
   },
   "outputs": [],
   "source": []
  },
  {
   "cell_type": "markdown",
   "metadata": {},
   "source": [
    "# Final Plot"
   ]
  },
  {
   "cell_type": "markdown",
   "metadata": {
    "heading_collapsed": true
   },
   "source": [
    "## functions"
   ]
  },
  {
   "cell_type": "code",
   "execution_count": null,
   "metadata": {
    "code_folding": [
     8,
     19,
     61
    ],
    "hidden": true
   },
   "outputs": [],
   "source": [
    "col_by_freq = True\n",
    "col_palette = 'Set3'\n",
    "\n",
    "def get_files(m):\n",
    "    files  = list(f for f in path.glob(f'exp*/*/freq*nn_p3nn_s3nn_tw5*bs4*/*{m}.csv') if 'NNdrop' not in f.name)\n",
    "    #files += [f for f in path.glob(f'exp*/*/freq*nn_p3nn_s2nn_tw5*bs4*/*{m}.csv') if 'noNN' in f.name]\n",
    "    return files\n",
    "\n",
    "def read_csv(f,m):\n",
    "    df = pd.read_csv(f)\n",
    "    df['experiment'] = f.parent.parent.parent.name\n",
    "    df['function'] = f.parent.parent.name\n",
    "    name = f.parent.name\n",
    "    df['freq'] = float(name[4:].split('n')[0])\n",
    "    df['method'] = f.name.split('_')[0]+'_'+f.name.split('_')[1]\n",
    "#     df['method'] = f.name.split('_')[0]\n",
    "    df.rename({'0':m.upper(), m:m.upper()}, axis=1, inplace=True)\n",
    "    return df\n",
    "\n",
    "def get_data(m, normalize=False):\n",
    "    short_dict = {'NNnorm_Random':'NNR', 'NNnorm_Worst':'NNW', 'noNNReval_sr.csv':'noNN',\n",
    "                  'noNNReval_arr.csv':'noNN', 'noNNReval_mof.csv':'noNN'}\n",
    "    files = get_files(m)\n",
    "    data = pd.concat([read_csv(f,m) for f in files])\n",
    "    data.method = data.method.apply(lambda x: short_dict[x])\n",
    "    if normalize:\n",
    "        data_norm = (data.groupby(['experiment','function','freq','method'])[m.upper()].mean().reset_index()\n",
    "                         .groupby(['experiment','function'])[m.upper()].min().reset_index()\n",
    "                         .rename({m.upper():m.upper()+'_norm'}, axis=1))\n",
    "        data = data.merge(data_norm, 'left')\n",
    "        data[m.upper()+'_norm'] = data[m.upper()] / data[m.upper()+'_norm']\n",
    "    return data\n",
    "\n",
    "def plot_one(data, m, normalize=False, title='', title_size=14, col_by_freq=col_by_freq, col_palette=col_palette,\n",
    "             legend=False, hide_x=True, hide_y=True, ax=None, do_lim=True, ll=0.2, ul=0.8):\n",
    "    m = m.upper()\n",
    "    if normalize: m = m + '_norm' \n",
    "    if ax is None: fig,ax = plt.subplots(1,1,figsize=(6,4))\n",
    "    sns.boxplot('method' if col_by_freq else 'freq', m, hue='freq' if col_by_freq else 'method',\n",
    "                data=data, palette=col_palette,\n",
    "                # width=2.5,\n",
    "                linewidth=0.5, fliersize=0, ax=ax)\n",
    "    if not legend: ax.get_legend().remove()\n",
    "    if do_lim:\n",
    "        ax.set_ylim(-0.05,1.05)\n",
    "    else:\n",
    "        g = data.groupby(['method','freq'])[m]\n",
    "        q1,q3 = g.quantile(ll),g.quantile(ul)\n",
    "        iqr = q3-q1\n",
    "        lower_lim = (q1 - 1.5*iqr).min()\n",
    "        upper_lim = (q3 + 1.5*iqr).max()\n",
    "        lower_lim = data[m][data[m]>=lower_lim].min()\n",
    "        upper_lim = data[m][data[m]<=upper_lim].max()\n",
    "        ax.set_ylim(lower_lim,upper_lim)\n",
    "        \n",
    "    ax.set_xlabel('')\n",
    "    if hide_x: ax.set_xticklabels([])\n",
    "    if hide_y: ax.set_ylabel('')\n",
    "    ax.set_title(title, size=title_size)\n",
    "    return ax\n",
    "\n",
    "def plot_all_vertical(m, normalize=False, title_size=14, col_by_freq=col_by_freq, col_palette=col_palette, do_lim=True,\n",
    "                      ll=0.2, ul=0.8):\n",
    "    data = get_data(m, normalize=normalize)\n",
    "#     fig,axss = plt.subplots(4, 3, figsize=(14,16), sharex=do_lim, sharey=do_lim)\n",
    "    fig,axss = plt.subplots(4, 3, figsize=(20,16), sharex=False, sharey=False)\n",
    "    for i,(axs,exp) in enumerate(zip(axss,['exp1','exp2','exp3','exp4'])):\n",
    "        first_exp = i==0\n",
    "        for j,(ax,func) in enumerate(zip(axs,['sphere', 'rosenbrock', 'rastrigin'])):\n",
    "            first_func = j==0\n",
    "            test = data.query(f'experiment=={exp!r} and function=={func!r}').sort_values('method', ascending=False)\n",
    "            plot_one(test, m, normalize=normalize, title=f'{exp}-{func.title()}', title_size=title_size, hide_x=False,\n",
    "                     hide_y=not first_func, col_by_freq=col_by_freq, col_palette=col_palette, ax=ax,\n",
    "                     do_lim=do_lim, ll=ll, ul=ul)\n",
    "        ax.legend(loc='upper left', ncol=3)\n",
    "    plt.tight_layout()\n",
    "    return fig,axss\n",
    "\n",
    "def plot_all_horizontal(m, normalize=False, title_size=14, col_by_freq=col_by_freq, col_palette=col_palette, do_lim=True,\n",
    "                        ll=0.2, ul=0.8):\n",
    "    data = get_data(m, normalize=normalize)\n",
    "#     fig,axss = plt.subplots(4, 3, figsize=(14,16), sharex=do_lim, sharey=do_lim)\n",
    "    fig,axss = plt.subplots(3, 4, figsize=(20,12), sharex=False, sharey=False)\n",
    "    for i,exp in enumerate(['exp1','exp2','exp3','exp4']):\n",
    "        first_exp = i==0\n",
    "        axs = axss[:,i]\n",
    "        for j,(ax,func) in enumerate(zip(axs,['sphere', 'rosenbrock', 'rastrigin'])):\n",
    "            first_func = i==0\n",
    "            test = data.query(f'experiment=={exp!r} and function=={func!r}').sort_values('method', ascending=False)\n",
    "            plot_one(test, m, normalize=normalize, title=f'{exp}-{func.title()}', title_size=title_size, hide_x=False,\n",
    "                     hide_y=not first_func, col_by_freq=col_by_freq, col_palette=col_palette, ax=ax,\n",
    "                     do_lim=do_lim, ll=ll, ul=ul)\n",
    "        \n",
    "    for axs in axss: axs[-1].legend(loc='upper right', ncol=3)\n",
    "    plt.tight_layout()\n",
    "    return fig,axss"
   ]
  },
  {
   "cell_type": "markdown",
   "metadata": {
    "heading_collapsed": true
   },
   "source": [
    "## Plots"
   ]
  },
  {
   "cell_type": "code",
   "execution_count": null,
   "metadata": {
    "hidden": true
   },
   "outputs": [],
   "source": [
    "path= Path(f'../../data/cluster_results')"
   ]
  },
  {
   "cell_type": "code",
   "execution_count": null,
   "metadata": {
    "hidden": true
   },
   "outputs": [],
   "source": [
    "fig,axs = plot_all_horizontal('arr', title_size=12, col_by_freq=True, col_palette='Set2')\n",
    "fig.savefig(path/'ARR.eps', dpi=400, format='eps')"
   ]
  },
  {
   "cell_type": "code",
   "execution_count": null,
   "metadata": {
    "hidden": true
   },
   "outputs": [],
   "source": [
    "fig,axs = plot_all_horizontal('sr', title_size=12, col_by_freq=True)#, col_palette='Set3'\n",
    "fig.savefig(path/'SR.eps', dpi=400, format='eps')"
   ]
  },
  {
   "cell_type": "code",
   "execution_count": null,
   "metadata": {
    "hidden": true
   },
   "outputs": [],
   "source": [
    "fig,axs = plot_all_horizontal('mof', title_size=12, col_by_freq=True, col_palette='Set1', do_lim=False, ll=0.2, ul=0.8)\n",
    "for ax in axs.flatten():\n",
    "    ll,ul = ax.get_ylim()\n",
    "    ax.set_ylim(ll*0.95, ul*1.05)\n",
    "    \n",
    "fig.savefig(path/'MOF.eps', dpi=400, format='eps')"
   ]
  },
  {
   "cell_type": "code",
   "execution_count": null,
   "metadata": {
    "hidden": true
   },
   "outputs": [],
   "source": [
    "fig,axs = plot_all('nn_time', title_size=12, col_by_freq=True, col_palette='Set1', do_lim=False, ll=0.2, ul=0.8)\n",
    "for ax in axs.flatten():\n",
    "    ll,ul = ax.get_ylim()\n",
    "    ax.set_ylim(ll*0.95, ul*1.05)\n",
    "    \n",
    "fig.savefig(path/'nntime.eps', dpi=400, format='eps')"
   ]
  },
  {
   "cell_type": "code",
   "execution_count": null,
   "metadata": {
    "hidden": true
   },
   "outputs": [],
   "source": [
    "# This if for normalize MOF values\n",
    "fig,axs = plot_all('mof', normalize=True, title_size=12, col_by_freq=True, col_palette='Set1', do_lim=False,\n",
    "                   ll=0.2, ul=0.8)\n",
    "for ax in axs.flatten():\n",
    "    ll,ul = ax.get_ylim()\n",
    "    ax.set_ylim(ll*0.95, ul*1.05)\n",
    "    \n",
    "fig.savefig(path/'MOFnorm.eps', dpi=400, format='eps')"
   ]
  },
  {
   "cell_type": "code",
   "execution_count": null,
   "metadata": {
    "hidden": true
   },
   "outputs": [],
   "source": [
    "get_data('mof').query(\"experiment == 'exp3' and freq==1\").groupby(['function','freq','method']).mean()"
   ]
  },
  {
   "cell_type": "code",
   "execution_count": null,
   "metadata": {
    "hidden": true
   },
   "outputs": [],
   "source": [
    "get_data('arr').query(\"experiment == 'exp3'\").groupby(['function','freq','method']).mean()"
   ]
  },
  {
   "cell_type": "code",
   "execution_count": null,
   "metadata": {
    "hidden": true
   },
   "outputs": [],
   "source": []
  },
  {
   "cell_type": "code",
   "execution_count": null,
   "metadata": {
    "hidden": true
   },
   "outputs": [],
   "source": []
  },
  {
   "cell_type": "code",
   "execution_count": null,
   "metadata": {
    "hidden": true
   },
   "outputs": [],
   "source": []
  },
  {
   "cell_type": "code",
   "execution_count": null,
   "metadata": {
    "hidden": true
   },
   "outputs": [],
   "source": []
  },
  {
   "cell_type": "code",
   "execution_count": null,
   "metadata": {
    "hidden": true
   },
   "outputs": [],
   "source": []
  },
  {
   "cell_type": "markdown",
   "metadata": {
    "heading_collapsed": true
   },
   "source": [
    "# ----"
   ]
  },
  {
   "cell_type": "code",
   "execution_count": null,
   "metadata": {
    "hidden": true
   },
   "outputs": [],
   "source": []
  }
 ],
 "metadata": {
  "kernelspec": {
   "display_name": "Python 3",
   "language": "python",
   "name": "python3"
  },
  "language_info": {
   "codemirror_mode": {
    "name": "ipython",
    "version": 3
   },
   "file_extension": ".py",
   "mimetype": "text/x-python",
   "name": "python",
   "nbconvert_exporter": "python",
   "pygments_lexer": "ipython3",
   "version": "3.7.3"
  },
  "toc": {
   "base_numbering": 1,
   "nav_menu": {},
   "number_sections": true,
   "sideBar": true,
   "skip_h1_title": false,
   "title_cell": "Table of Contents",
   "title_sidebar": "Contents",
   "toc_cell": false,
   "toc_position": {
    "height": "calc(100% - 180px)",
    "left": "10px",
    "top": "150px",
    "width": "165px"
   },
   "toc_section_display": true,
   "toc_window_display": false
  }
 },
 "nbformat": 4,
 "nbformat_minor": 2
}
