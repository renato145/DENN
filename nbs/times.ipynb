{
 "cells": [
  {
   "cell_type": "code",
   "execution_count": 1,
   "metadata": {},
   "outputs": [],
   "source": [
    "%reload_ext autoreload\n",
    "%autoreload 2\n",
    "%matplotlib inline\n",
    "from denn import *"
   ]
  },
  {
   "cell_type": "code",
   "execution_count": 13,
   "metadata": {},
   "outputs": [
    {
     "data": {
      "text/plain": [
       "Optimization(population=Population(n=20, dimension=10), get_fitness=<function fitness_func at 0x7fd45bcc5b70>, get_constraints=[<function constraint_func at 0x7fd45bcc5bf8>], constraint_params=[3], max_times=None, frequency=None, CR=0.3, beta_min=0.2, beta_max=0.8, max_evals=None, metrics=('fitness',), callbacks=[<denn.callbacks.Recorder object at 0x7fd45bad7d30>])"
      ]
     },
     "execution_count": 13,
     "metadata": {},
     "output_type": "execute_result"
    }
   ],
   "source": [
    "D = 10\n",
    "\n",
    "def fitness_func(indiv): return (indiv.data**2).sum()\n",
    "def constraint_func(indiv, b): return -b + sum((1/np.sqrt(D))*indiv.data)\n",
    "\n",
    "population = Population.new_random(dimension=D)\n",
    "opt = Optimization(population, fitness_func, constraint_func, constraint_params=3)#, max_evals=1000)\n",
    "opt"
   ]
  },
  {
   "cell_type": "code",
   "execution_count": 14,
   "metadata": {},
   "outputs": [
    {
     "data": {
      "text/html": [],
      "text/plain": [
       "<IPython.core.display.HTML object>"
      ]
     },
     "metadata": {},
     "output_type": "display_data"
    },
    {
     "data": {
      "image/png": "[encoded data removed]",
      "text/plain": [
       "<Figure size 432x288 with 1 Axes>"
      ]
     },
     "metadata": {},
     "output_type": "display_data"
    }
   ],
   "source": [
    "opt.run()"
   ]
  },
  {
   "cell_type": "code",
   "execution_count": 15,
   "metadata": {},
   "outputs": [
    {
     "data": {
      "image/png": "[encoded data removed]",
      "text/plain": [
       "<Figure size 576x360 with 1 Axes>"
      ]
     },
     "metadata": {
      "needs_background": "light"
     },
     "output_type": "display_data"
    }
   ],
   "source": [
    "opt.recorder.plot()"
   ]
  },
  {
   "cell_type": "code",
   "execution_count": 17,
   "metadata": {},
   "outputs": [
    {
     "data": {
      "text/plain": [
       "{'gen': 100,\n",
       " 'evals': 2020,\n",
       " 'time': 0,\n",
       " 'best': Individual(dimensions=10, lower_limit=-5, upper_limit=5, idx=10, gen=99, fitness_value=21.499269456917087, constraints=[-3.9143725293824585], constraints_sum=0.0, is_feasible=True),\n",
       " 'run_gens': 100,\n",
       " 'gen_end': 99,\n",
       " 'pbar': <fastprogress.fastprogress.NBMasterBar at 0x7fd45bb67c18>,\n",
       " 'metrics': ('fitness',),\n",
       " 'max_evals': None,\n",
       " 'max_times': None,\n",
       " 'frequency': None,\n",
       " 'show_graph': True,\n",
       " 'update_each': 10,\n",
       " 'is_final_gen': True,\n",
       " 'last_indiv': Individual(dimensions=10, lower_limit=-5, upper_limit=5, idx=19, gen=99, fitness_value=52.54561576123998, constraints=[-1.6501785396426836], constraints_sum=0.0, is_feasible=True),\n",
       " 'last_fitness': 117.10532555100542,\n",
       " 'last_constraint_param': 3,\n",
       " 'last_each_constraint': -5.963667193969208,\n",
       " 'last_constraints': [-5.963667193969208],\n",
       " 'indiv_bkup': Individual(dimensions=10, lower_limit=-5, upper_limit=5, idx=19, gen=99, fitness_value=52.54561576123998, constraints=[-1.6501785396426836], constraints_sum=0.0, is_feasible=True),\n",
       " 'new_indiv': Individual(dimensions=10, lower_limit=-5, upper_limit=5, idx=19, gen=99, fitness_value=52.54561576123998, constraints=[-1.6501785396426836], constraints_sum=0.0, is_feasible=True)}"
      ]
     },
     "execution_count": 17,
     "metadata": {},
     "output_type": "execute_result"
    }
   ],
   "source": [
    "opt.state_dict"
   ]
  },
  {
   "cell_type": "code",
   "execution_count": null,
   "metadata": {},
   "outputs": [],
   "source": []
  },
  {
   "cell_type": "code",
   "execution_count": null,
   "metadata": {},
   "outputs": [],
   "source": []
  },
  {
   "cell_type": "code",
   "execution_count": null,
   "metadata": {},
   "outputs": [],
   "source": []
  },
  {
   "cell_type": "code",
   "execution_count": null,
   "metadata": {},
   "outputs": [],
   "source": []
  }
 ],
 "metadata": {
  "kernelspec": {
   "display_name": "Python 3",
   "language": "python",
   "name": "python3"
  },
  "language_info": {
   "codemirror_mode": {
    "name": "ipython",
    "version": 3
   },
   "file_extension": ".py",
   "mimetype": "text/x-python",
   "name": "python",
   "nbconvert_exporter": "python",
   "pygments_lexer": "ipython3",
   "version": "3.7.3"
  },
  "toc": {
   "base_numbering": 1,
   "nav_menu": {},
   "number_sections": true,
   "sideBar": true,
   "skip_h1_title": false,
   "title_cell": "Table of Contents",
   "title_sidebar": "Contents",
   "toc_cell": false,
   "toc_position": {},
   "toc_section_display": true,
   "toc_window_display": false
  }
 },
 "nbformat": 4,
 "nbformat_minor": 2
}
